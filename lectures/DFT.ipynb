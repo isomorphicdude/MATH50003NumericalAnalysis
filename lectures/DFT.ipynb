{
 "cells": [
  {
   "cell_type": "markdown",
   "id": "e638c829",
   "metadata": {},
   "source": [
    "# Discrete Fourier Transform and Interpolation\n",
    "\n",
    "1. Approximate Fourier series: (assume $n = 2m+1$ is odd)\n",
    "$$\n",
    "f_{-m:m}(θ) = \\sum_{k=-m}^m \\hat f_k^n {\\rm e}^{{\\rm i}kθ}\n",
    "$$\n",
    "2. Approximate Taylor series:\n",
    "$$\n",
    "f_n(θ) = \\sum_{k=0}^{n-1} \\hat f_k^n {\\rm e}^{{\\rm i}kθ}\n",
    "$$"
   ]
  },
  {
   "cell_type": "code",
   "execution_count": 2,
   "id": "f5e97d6d",
   "metadata": {},
   "outputs": [],
   "source": [
    "using LinearAlgebra"
   ]
  },
  {
   "cell_type": "code",
   "execution_count": null,
   "id": "9d94f5f4",
   "metadata": {},
   "outputs": [],
   "source": []
  }
 ],
 "metadata": {
  "kernelspec": {
   "display_name": "Julia 1.7.1",
   "language": "julia",
   "name": "julia-1.7"
  },
  "language_info": {
   "file_extension": ".jl",
   "mimetype": "application/julia",
   "name": "julia",
   "version": "1.7.1"
  }
 },
 "nbformat": 4,
 "nbformat_minor": 5
}
