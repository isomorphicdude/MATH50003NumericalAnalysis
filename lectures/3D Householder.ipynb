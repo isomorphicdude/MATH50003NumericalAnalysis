{
 "cells": [
  {
   "cell_type": "code",
   "execution_count": 47,
   "id": "0e612803",
   "metadata": {},
   "outputs": [
    {
     "data": {
      "application/vnd.webio.node+json": {
       "children": [],
       "instanceArgs": {
        "namespace": "html",
        "tag": "div"
       },
       "nodeType": "DOM",
       "props": {},
       "type": "node"
      },
      "text/html": [
       "<div style=\"padding: 1em; background-color: #f8d6da; border: 1px solid #f5c6cb; font-weight: bold;\">\n",
       "<p>The WebIO Jupyter extension was not detected. See the\n",
       "<a href=\"https://juliagizmos.github.io/WebIO.jl/latest/providers/ijulia/\" target=\"_blank\">\n",
       "    WebIO Jupyter integration documentation\n",
       "</a>\n",
       "for more information.\n",
       "</div>\n"
      ],
      "text/plain": [
       "WebIO._IJuliaInit()"
      ]
     },
     "metadata": {
      "application/vnd.webio.node+json": {
       "kernelId": "ddd8593b-2e8c-4205-94b2-d907480eacc5"
      }
     },
     "output_type": "display_data"
    }
   ],
   "source": [
    "using Plots, LinearAlgebra, Interact"
   ]
  },
  {
   "cell_type": "code",
   "execution_count": 55,
   "id": "6052e008",
   "metadata": {},
   "outputs": [
    {
     "data": {
      "application/vnd.webio.node+json": {
       "children": [
        {
         "children": [
          {
           "children": [
            {
             "children": [
              {
               "children": [
                {
                 "children": [
                  "x"
                 ],
                 "instanceArgs": {
                  "namespace": "html",
                  "tag": "label"
                 },
                 "nodeType": "DOM",
                 "props": {
                  "className": "interact ",
                  "style": {
                   "padding": "5px 10px 0px 10px"
                  }
                 },
                 "type": "node"
                }
               ],
               "instanceArgs": {
                "namespace": "html",
                "tag": "div"
               },
               "nodeType": "DOM",
               "props": {
                "className": "interact-flex-row-left"
               },
               "type": "node"
              },
              {
               "children": [
                {
                 "children": [],
                 "instanceArgs": {
                  "namespace": "html",
                  "tag": "input"
                 },
                 "nodeType": "DOM",
                 "props": {
                  "attributes": {
                   "data-bind": "numericValue: value, valueUpdate: 'input', event: {change: function (){this.changes(this.changes()+1)}}",
                   "type": "number"
                  },
                  "className": "input ",
                  "placeholder": "",
                  "style": {}
                 },
                 "type": "node"
                }
               ],
               "instanceArgs": {
                "namespace": "html",
                "tag": "div"
               },
               "nodeType": "DOM",
               "props": {
                "className": "interact-flex-row-center"
               },
               "type": "node"
              },
              {
               "children": [
                {
                 "children": [],
                 "instanceArgs": {
                  "namespace": "html",
                  "tag": "div"
                 },
                 "nodeType": "DOM",
                 "props": {},
                 "type": "node"
                }
               ],
               "instanceArgs": {
                "namespace": "html",
                "tag": "div"
               },
               "nodeType": "DOM",
               "props": {
                "className": "interact-flex-row-right"
               },
               "type": "node"
              }
             ],
             "instanceArgs": {
              "namespace": "html",
              "tag": "div"
             },
             "nodeType": "DOM",
             "props": {
              "className": "interact-flex-row interact-widget"
             },
             "type": "node"
            }
           ],
           "instanceArgs": {
            "handlers": {
             "changes": [
              "(function (val){return (val!=this.model[\"changes\"]()) ? (this.valueFromJulia[\"changes\"]=true, this.model[\"changes\"](val)) : undefined})"
             ],
             "value": [
              "(function (val){return (val!=this.model[\"value\"]()) ? (this.valueFromJulia[\"value\"]=true, this.model[\"value\"](val)) : undefined})"
             ]
            },
            "id": "3954279244252439636",
            "imports": {
             "data": [
              {
               "name": "knockout",
               "type": "js",
               "url": "/assetserver/fb6ca08aae97daeb80aa99104c4eddfe76bc6766-knockout.js"
              },
              {
               "name": "knockout_punches",
               "type": "js",
               "url": "/assetserver/1759964e1dbcc22fe1a19531f6579c45d2da7d3e-knockout_punches.js"
              },
              {
               "name": null,
               "type": "js",
               "url": "/assetserver/789869448aff3abaf20e8ce1df06db26f65f635b-all.js"
              },
              {
               "name": null,
               "type": "css",
               "url": "/assetserver/798d51a5869c99606bb76f940b7af91e76cb0487-style.css"
              },
              {
               "name": null,
               "type": "css",
               "url": "/assetserver/e2a2c92c154e10beb71b03c08b29cc3ad8175428-bulma_confined.min.css"
              }
             ],
             "type": "async_block"
            },
            "mount_callbacks": [
             "function () {\n    var handler = (function (ko, koPunches) {\n    ko.punches.enableAll();\n    ko.bindingHandlers.numericValue = {\n        init: function(element, valueAccessor, allBindings, data, context) {\n            var stringified = ko.observable(ko.unwrap(valueAccessor()));\n            stringified.subscribe(function(value) {\n                var val = parseFloat(value);\n                if (!isNaN(val)) {\n                    valueAccessor()(val);\n                }\n            });\n            valueAccessor().subscribe(function(value) {\n                var str = JSON.stringify(value);\n                if ((str == \"0\") && ([\"-0\", \"-0.\"].indexOf(stringified()) >= 0))\n                     return;\n                 if ([\"null\", \"\"].indexOf(str) >= 0)\n                     return;\n                stringified(str);\n            });\n            ko.applyBindingsToNode(\n                element,\n                {\n                    value: stringified,\n                    valueUpdate: allBindings.get('valueUpdate'),\n                },\n                context,\n            );\n        }\n    };\n    var json_data = {\"changes\":WebIO.getval({\"name\":\"changes\",\"scope\":\"3954279244252439636\",\"id\":\"1553452950336467292\",\"type\":\"observable\"}),\"value\":WebIO.getval({\"name\":\"value\",\"scope\":\"3954279244252439636\",\"id\":\"18262280088072916417\",\"type\":\"observable\"})};\n    var self = this;\n    function AppViewModel() {\n        for (var key in json_data) {\n            var el = json_data[key];\n            this[key] = Array.isArray(el) ? ko.observableArray(el) : ko.observable(el);\n        }\n        \n        \n        [this[\"changes\"].subscribe((function (val){!(this.valueFromJulia[\"changes\"]) ? (WebIO.setval({\"name\":\"changes\",\"scope\":\"3954279244252439636\",\"id\":\"1553452950336467292\",\"type\":\"observable\"},val)) : undefined; return this.valueFromJulia[\"changes\"]=false}),self),this[\"value\"].subscribe((function (val){!(this.valueFromJulia[\"value\"]) ? (WebIO.setval({\"name\":\"value\",\"scope\":\"3954279244252439636\",\"id\":\"18262280088072916417\",\"type\":\"observable\"},val)) : undefined; return this.valueFromJulia[\"value\"]=false}),self)]\n        \n    }\n    self.model = new AppViewModel();\n    self.valueFromJulia = {};\n    for (var key in json_data) {\n        self.valueFromJulia[key] = false;\n    }\n    ko.applyBindings(self.model, self.dom);\n}\n);\n    (WebIO.importBlock({\"data\":[{\"name\":\"knockout\",\"type\":\"js\",\"url\":\"/assetserver/fb6ca08aae97daeb80aa99104c4eddfe76bc6766-knockout.js\"},{\"name\":\"knockout_punches\",\"type\":\"js\",\"url\":\"/assetserver/1759964e1dbcc22fe1a19531f6579c45d2da7d3e-knockout_punches.js\"}],\"type\":\"async_block\"})).then((imports) => handler.apply(this, imports));\n}\n"
            ],
            "observables": {
             "changes": {
              "id": "1553452950336467292",
              "sync": false,
              "value": 0
             },
             "value": {
              "id": "18262280088072916417",
              "sync": true,
              "value": 1
             }
            },
            "systemjs_options": null
           },
           "nodeType": "Scope",
           "props": {},
           "type": "node"
          }
         ],
         "instanceArgs": {
          "namespace": "html",
          "tag": "div"
         },
         "nodeType": "DOM",
         "props": {
          "className": "field interact-widget"
         },
         "type": "node"
        },
        {
         "children": [
          {
           "children": [
            {
             "children": [
              {
               "children": [
                {
                 "children": [
                  "y"
                 ],
                 "instanceArgs": {
                  "namespace": "html",
                  "tag": "label"
                 },
                 "nodeType": "DOM",
                 "props": {
                  "className": "interact ",
                  "style": {
                   "padding": "5px 10px 0px 10px"
                  }
                 },
                 "type": "node"
                }
               ],
               "instanceArgs": {
                "namespace": "html",
                "tag": "div"
               },
               "nodeType": "DOM",
               "props": {
                "className": "interact-flex-row-left"
               },
               "type": "node"
              },
              {
               "children": [
                {
                 "children": [],
                 "instanceArgs": {
                  "namespace": "html",
                  "tag": "input"
                 },
                 "nodeType": "DOM",
                 "props": {
                  "attributes": {
                   "data-bind": "numericValue: value, valueUpdate: 'input', event: {change: function (){this.changes(this.changes()+1)}}",
                   "type": "number"
                  },
                  "className": "input ",
                  "placeholder": "",
                  "style": {}
                 },
                 "type": "node"
                }
               ],
               "instanceArgs": {
                "namespace": "html",
                "tag": "div"
               },
               "nodeType": "DOM",
               "props": {
                "className": "interact-flex-row-center"
               },
               "type": "node"
              },
              {
               "children": [
                {
                 "children": [],
                 "instanceArgs": {
                  "namespace": "html",
                  "tag": "div"
                 },
                 "nodeType": "DOM",
                 "props": {},
                 "type": "node"
                }
               ],
               "instanceArgs": {
                "namespace": "html",
                "tag": "div"
               },
               "nodeType": "DOM",
               "props": {
                "className": "interact-flex-row-right"
               },
               "type": "node"
              }
             ],
             "instanceArgs": {
              "namespace": "html",
              "tag": "div"
             },
             "nodeType": "DOM",
             "props": {
              "className": "interact-flex-row interact-widget"
             },
             "type": "node"
            }
           ],
           "instanceArgs": {
            "handlers": {
             "changes": [
              "(function (val){return (val!=this.model[\"changes\"]()) ? (this.valueFromJulia[\"changes\"]=true, this.model[\"changes\"](val)) : undefined})"
             ],
             "value": [
              "(function (val){return (val!=this.model[\"value\"]()) ? (this.valueFromJulia[\"value\"]=true, this.model[\"value\"](val)) : undefined})"
             ]
            },
            "id": "14413233572128440926",
            "imports": {
             "data": [
              {
               "name": "knockout",
               "type": "js",
               "url": "/assetserver/fb6ca08aae97daeb80aa99104c4eddfe76bc6766-knockout.js"
              },
              {
               "name": "knockout_punches",
               "type": "js",
               "url": "/assetserver/1759964e1dbcc22fe1a19531f6579c45d2da7d3e-knockout_punches.js"
              },
              {
               "name": null,
               "type": "js",
               "url": "/assetserver/789869448aff3abaf20e8ce1df06db26f65f635b-all.js"
              },
              {
               "name": null,
               "type": "css",
               "url": "/assetserver/798d51a5869c99606bb76f940b7af91e76cb0487-style.css"
              },
              {
               "name": null,
               "type": "css",
               "url": "/assetserver/e2a2c92c154e10beb71b03c08b29cc3ad8175428-bulma_confined.min.css"
              }
             ],
             "type": "async_block"
            },
            "mount_callbacks": [
             "function () {\n    var handler = (function (ko, koPunches) {\n    ko.punches.enableAll();\n    ko.bindingHandlers.numericValue = {\n        init: function(element, valueAccessor, allBindings, data, context) {\n            var stringified = ko.observable(ko.unwrap(valueAccessor()));\n            stringified.subscribe(function(value) {\n                var val = parseFloat(value);\n                if (!isNaN(val)) {\n                    valueAccessor()(val);\n                }\n            });\n            valueAccessor().subscribe(function(value) {\n                var str = JSON.stringify(value);\n                if ((str == \"0\") && ([\"-0\", \"-0.\"].indexOf(stringified()) >= 0))\n                     return;\n                 if ([\"null\", \"\"].indexOf(str) >= 0)\n                     return;\n                stringified(str);\n            });\n            ko.applyBindingsToNode(\n                element,\n                {\n                    value: stringified,\n                    valueUpdate: allBindings.get('valueUpdate'),\n                },\n                context,\n            );\n        }\n    };\n    var json_data = {\"changes\":WebIO.getval({\"name\":\"changes\",\"scope\":\"14413233572128440926\",\"id\":\"10645388237787760462\",\"type\":\"observable\"}),\"value\":WebIO.getval({\"name\":\"value\",\"scope\":\"14413233572128440926\",\"id\":\"3069100301213992262\",\"type\":\"observable\"})};\n    var self = this;\n    function AppViewModel() {\n        for (var key in json_data) {\n            var el = json_data[key];\n            this[key] = Array.isArray(el) ? ko.observableArray(el) : ko.observable(el);\n        }\n        \n        \n        [this[\"changes\"].subscribe((function (val){!(this.valueFromJulia[\"changes\"]) ? (WebIO.setval({\"name\":\"changes\",\"scope\":\"14413233572128440926\",\"id\":\"10645388237787760462\",\"type\":\"observable\"},val)) : undefined; return this.valueFromJulia[\"changes\"]=false}),self),this[\"value\"].subscribe((function (val){!(this.valueFromJulia[\"value\"]) ? (WebIO.setval({\"name\":\"value\",\"scope\":\"14413233572128440926\",\"id\":\"3069100301213992262\",\"type\":\"observable\"},val)) : undefined; return this.valueFromJulia[\"value\"]=false}),self)]\n        \n    }\n    self.model = new AppViewModel();\n    self.valueFromJulia = {};\n    for (var key in json_data) {\n        self.valueFromJulia[key] = false;\n    }\n    ko.applyBindings(self.model, self.dom);\n}\n);\n    (WebIO.importBlock({\"data\":[{\"name\":\"knockout\",\"type\":\"js\",\"url\":\"/assetserver/fb6ca08aae97daeb80aa99104c4eddfe76bc6766-knockout.js\"},{\"name\":\"knockout_punches\",\"type\":\"js\",\"url\":\"/assetserver/1759964e1dbcc22fe1a19531f6579c45d2da7d3e-knockout_punches.js\"}],\"type\":\"async_block\"})).then((imports) => handler.apply(this, imports));\n}\n"
            ],
            "observables": {
             "changes": {
              "id": "10645388237787760462",
              "sync": false,
              "value": 0
             },
             "value": {
              "id": "3069100301213992262",
              "sync": true,
              "value": -1
             }
            },
            "systemjs_options": null
           },
           "nodeType": "Scope",
           "props": {},
           "type": "node"
          }
         ],
         "instanceArgs": {
          "namespace": "html",
          "tag": "div"
         },
         "nodeType": "DOM",
         "props": {
          "className": "field interact-widget"
         },
         "type": "node"
        },
        {
         "children": [
          {
           "children": [
            {
             "children": [
              {
               "children": [
                {
                 "children": [
                  "z"
                 ],
                 "instanceArgs": {
                  "namespace": "html",
                  "tag": "label"
                 },
                 "nodeType": "DOM",
                 "props": {
                  "className": "interact ",
                  "style": {
                   "padding": "5px 10px 0px 10px"
                  }
                 },
                 "type": "node"
                }
               ],
               "instanceArgs": {
                "namespace": "html",
                "tag": "div"
               },
               "nodeType": "DOM",
               "props": {
                "className": "interact-flex-row-left"
               },
               "type": "node"
              },
              {
               "children": [
                {
                 "children": [],
                 "instanceArgs": {
                  "namespace": "html",
                  "tag": "input"
                 },
                 "nodeType": "DOM",
                 "props": {
                  "attributes": {
                   "data-bind": "numericValue: value, valueUpdate: 'input', event: {change: function (){this.changes(this.changes()+1)}}",
                   "type": "number"
                  },
                  "className": "input ",
                  "placeholder": "",
                  "style": {}
                 },
                 "type": "node"
                }
               ],
               "instanceArgs": {
                "namespace": "html",
                "tag": "div"
               },
               "nodeType": "DOM",
               "props": {
                "className": "interact-flex-row-center"
               },
               "type": "node"
              },
              {
               "children": [
                {
                 "children": [],
                 "instanceArgs": {
                  "namespace": "html",
                  "tag": "div"
                 },
                 "nodeType": "DOM",
                 "props": {},
                 "type": "node"
                }
               ],
               "instanceArgs": {
                "namespace": "html",
                "tag": "div"
               },
               "nodeType": "DOM",
               "props": {
                "className": "interact-flex-row-right"
               },
               "type": "node"
              }
             ],
             "instanceArgs": {
              "namespace": "html",
              "tag": "div"
             },
             "nodeType": "DOM",
             "props": {
              "className": "interact-flex-row interact-widget"
             },
             "type": "node"
            }
           ],
           "instanceArgs": {
            "handlers": {
             "changes": [
              "(function (val){return (val!=this.model[\"changes\"]()) ? (this.valueFromJulia[\"changes\"]=true, this.model[\"changes\"](val)) : undefined})"
             ],
             "value": [
              "(function (val){return (val!=this.model[\"value\"]()) ? (this.valueFromJulia[\"value\"]=true, this.model[\"value\"](val)) : undefined})"
             ]
            },
            "id": "6531354137981019964",
            "imports": {
             "data": [
              {
               "name": "knockout",
               "type": "js",
               "url": "/assetserver/fb6ca08aae97daeb80aa99104c4eddfe76bc6766-knockout.js"
              },
              {
               "name": "knockout_punches",
               "type": "js",
               "url": "/assetserver/1759964e1dbcc22fe1a19531f6579c45d2da7d3e-knockout_punches.js"
              },
              {
               "name": null,
               "type": "js",
               "url": "/assetserver/789869448aff3abaf20e8ce1df06db26f65f635b-all.js"
              },
              {
               "name": null,
               "type": "css",
               "url": "/assetserver/798d51a5869c99606bb76f940b7af91e76cb0487-style.css"
              },
              {
               "name": null,
               "type": "css",
               "url": "/assetserver/e2a2c92c154e10beb71b03c08b29cc3ad8175428-bulma_confined.min.css"
              }
             ],
             "type": "async_block"
            },
            "mount_callbacks": [
             "function () {\n    var handler = (function (ko, koPunches) {\n    ko.punches.enableAll();\n    ko.bindingHandlers.numericValue = {\n        init: function(element, valueAccessor, allBindings, data, context) {\n            var stringified = ko.observable(ko.unwrap(valueAccessor()));\n            stringified.subscribe(function(value) {\n                var val = parseFloat(value);\n                if (!isNaN(val)) {\n                    valueAccessor()(val);\n                }\n            });\n            valueAccessor().subscribe(function(value) {\n                var str = JSON.stringify(value);\n                if ((str == \"0\") && ([\"-0\", \"-0.\"].indexOf(stringified()) >= 0))\n                     return;\n                 if ([\"null\", \"\"].indexOf(str) >= 0)\n                     return;\n                stringified(str);\n            });\n            ko.applyBindingsToNode(\n                element,\n                {\n                    value: stringified,\n                    valueUpdate: allBindings.get('valueUpdate'),\n                },\n                context,\n            );\n        }\n    };\n    var json_data = {\"changes\":WebIO.getval({\"name\":\"changes\",\"scope\":\"6531354137981019964\",\"id\":\"7932059719771571884\",\"type\":\"observable\"}),\"value\":WebIO.getval({\"name\":\"value\",\"scope\":\"6531354137981019964\",\"id\":\"10862193655980173664\",\"type\":\"observable\"})};\n    var self = this;\n    function AppViewModel() {\n        for (var key in json_data) {\n            var el = json_data[key];\n            this[key] = Array.isArray(el) ? ko.observableArray(el) : ko.observable(el);\n        }\n        \n        \n        [this[\"changes\"].subscribe((function (val){!(this.valueFromJulia[\"changes\"]) ? (WebIO.setval({\"name\":\"changes\",\"scope\":\"6531354137981019964\",\"id\":\"7932059719771571884\",\"type\":\"observable\"},val)) : undefined; return this.valueFromJulia[\"changes\"]=false}),self),this[\"value\"].subscribe((function (val){!(this.valueFromJulia[\"value\"]) ? (WebIO.setval({\"name\":\"value\",\"scope\":\"6531354137981019964\",\"id\":\"10862193655980173664\",\"type\":\"observable\"},val)) : undefined; return this.valueFromJulia[\"value\"]=false}),self)]\n        \n    }\n    self.model = new AppViewModel();\n    self.valueFromJulia = {};\n    for (var key in json_data) {\n        self.valueFromJulia[key] = false;\n    }\n    ko.applyBindings(self.model, self.dom);\n}\n);\n    (WebIO.importBlock({\"data\":[{\"name\":\"knockout\",\"type\":\"js\",\"url\":\"/assetserver/fb6ca08aae97daeb80aa99104c4eddfe76bc6766-knockout.js\"},{\"name\":\"knockout_punches\",\"type\":\"js\",\"url\":\"/assetserver/1759964e1dbcc22fe1a19531f6579c45d2da7d3e-knockout_punches.js\"}],\"type\":\"async_block\"})).then((imports) => handler.apply(this, imports));\n}\n"
            ],
            "observables": {
             "changes": {
              "id": "7932059719771571884",
              "sync": false,
              "value": 0
             },
             "value": {
              "id": "10862193655980173664",
              "sync": true,
              "value": 1
             }
            },
            "systemjs_options": null
           },
           "nodeType": "Scope",
           "props": {},
           "type": "node"
          }
         ],
         "instanceArgs": {
          "namespace": "html",
          "tag": "div"
         },
         "nodeType": "DOM",
         "props": {
          "className": "field interact-widget"
         },
         "type": "node"
        },
        {
         "children": [
          {
           "children": [],
           "instanceArgs": {
            "id": "12313355842612035868",
            "name": "obs-node"
           },
           "nodeType": "ObservableNode",
           "props": {},
           "type": "node"
          }
         ],
         "instanceArgs": {
          "handlers": {},
          "id": "15089520408981854633",
          "imports": {
           "data": [],
           "type": "async_block"
          },
          "mount_callbacks": [],
          "observables": {
           "obs-node": {
            "id": "12313355842612035868",
            "sync": false,
            "value": {
             "children": [
              {
               "children": [],
               "instanceArgs": {
                "namespace": "html",
                "tag": "div"
               },
               "nodeType": "DOM",
               "props": {
                "setInnerHtml": "<?xml version=\"1.0\" encoding=\"utf-8\"?>\n<svg xmlns=\"http://www.w3.org/2000/svg\" xmlns:xlink=\"http://www.w3.org/1999/xlink\" width=\"600\" height=\"400\" viewBox=\"0 0 2400 1600\">\n<defs>\n  <clipPath id=\"clip150\">\n    <rect x=\"0\" y=\"0\" width=\"2400\" height=\"1600\"/>\n  </clipPath>\n</defs>\n<path clip-path=\"url(#clip150)\" d=\"\nM0 1600 L2400 1600 L2400 0 L0 0  Z\n  \" fill=\"#ffffff\" fill-rule=\"evenodd\" fill-opacity=\"1\"/>\n<defs>\n  <clipPath id=\"clip151\">\n    <rect x=\"480\" y=\"0\" width=\"1681\" height=\"1600\"/>\n  </clipPath>\n</defs>\n<defs>\n  <clipPath id=\"clip152\">\n    <rect x=\"148\" y=\"47\" width=\"1846\" height=\"1440\"/>\n  </clipPath>\n</defs>\n<path clip-path=\"url(#clip152)\" d=\"\nM148.057 1401.43 L148.057 302.298 L823.263 47.2441 L1992.76 132.262 L1992.76 1231.39 L1317.55 1486.45 L148.057 1401.43  Z\n  \" fill=\"#ffffff\" fill-rule=\"evenodd\" fill-opacity=\"1\"/>\n<polyline clip-path=\"url(#clip152)\" style=\"stroke:#000000; stroke-linecap:butt; stroke-linejoin:round; stroke-width:2; stroke-opacity:0.1; fill:none\" points=\"\n  181.155,1403.84 856.362,1148.78 \n  \"/>\n<polyline clip-path=\"url(#clip152)\" style=\"stroke:#000000; stroke-linecap:butt; stroke-linejoin:round; stroke-width:2; stroke-opacity:0.1; fill:none\" points=\"\n  856.362,1148.78 856.362,49.6503 \n  \"/>\n<polyline clip-path=\"url(#clip152)\" style=\"stroke:#000000; stroke-linecap:butt; stroke-linejoin:round; stroke-width:2; stroke-opacity:0.1; fill:none\" points=\"\n  456.979,1423.89 1132.19,1168.83 \n  \"/>\n<polyline clip-path=\"url(#clip152)\" style=\"stroke:#000000; stroke-linecap:butt; stroke-linejoin:round; stroke-width:2; stroke-opacity:0.1; fill:none\" points=\"\n  1132.19,1168.83 1132.19,69.7017 \n  \"/>\n<polyline clip-path=\"url(#clip152)\" style=\"stroke:#000000; stroke-linecap:butt; stroke-linejoin:round; stroke-width:2; stroke-opacity:0.1; fill:none\" points=\"\n  732.803,1443.94 1408.01,1188.88 \n  \"/>\n<polyline clip-path=\"url(#clip152)\" style=\"stroke:#000000; stroke-linecap:butt; stroke-linejoin:round; stroke-width:2; stroke-opacity:0.1; fill:none\" points=\"\n  1408.01,1188.88 1408.01,89.7531 \n  \"/>\n<polyline clip-path=\"url(#clip152)\" style=\"stroke:#000000; stroke-linecap:butt; stroke-linejoin:round; stroke-width:2; stroke-opacity:0.1; fill:none\" points=\"\n  1008.63,1463.99 1683.83,1208.94 \n  \"/>\n<polyline clip-path=\"url(#clip152)\" style=\"stroke:#000000; stroke-linecap:butt; stroke-linejoin:round; stroke-width:2; stroke-opacity:0.1; fill:none\" points=\"\n  1683.83,1208.94 1683.83,109.805 \n  \"/>\n<polyline clip-path=\"url(#clip152)\" style=\"stroke:#000000; stroke-linecap:butt; stroke-linejoin:round; stroke-width:2; stroke-opacity:0.1; fill:none\" points=\"\n  1284.45,1484.04 1959.66,1228.99 \n  \"/>\n<polyline clip-path=\"url(#clip152)\" style=\"stroke:#000000; stroke-linecap:butt; stroke-linejoin:round; stroke-width:2; stroke-opacity:0.1; fill:none\" points=\"\n  1959.66,1228.99 1959.66,129.856 \n  \"/>\n<polyline clip-path=\"url(#clip150)\" style=\"stroke:#000000; stroke-linecap:butt; stroke-linejoin:round; stroke-width:4; stroke-opacity:1; fill:none\" points=\"\n  148.057,1401.43 1317.55,1486.45 \n  \"/>\n<polyline clip-path=\"url(#clip150)\" style=\"stroke:#000000; stroke-linecap:butt; stroke-linejoin:round; stroke-width:4; stroke-opacity:1; fill:none\" points=\"\n  181.155,1403.84 189.258,1400.78 \n  \"/>\n<polyline clip-path=\"url(#clip150)\" style=\"stroke:#000000; stroke-linecap:butt; stroke-linejoin:round; stroke-width:4; stroke-opacity:1; fill:none\" points=\"\n  456.979,1423.89 465.082,1420.83 \n  \"/>\n<polyline clip-path=\"url(#clip150)\" style=\"stroke:#000000; stroke-linecap:butt; stroke-linejoin:round; stroke-width:4; stroke-opacity:1; fill:none\" points=\"\n  732.803,1443.94 740.905,1440.88 \n  \"/>\n<polyline clip-path=\"url(#clip150)\" style=\"stroke:#000000; stroke-linecap:butt; stroke-linejoin:round; stroke-width:4; stroke-opacity:1; fill:none\" points=\"\n  1008.63,1463.99 1016.73,1460.93 \n  \"/>\n<polyline clip-path=\"url(#clip150)\" style=\"stroke:#000000; stroke-linecap:butt; stroke-linejoin:round; stroke-width:4; stroke-opacity:1; fill:none\" points=\"\n  1284.45,1484.04 1292.55,1480.98 \n  \"/>\n<path clip-path=\"url(#clip150)\" d=\"M118.952 1433.01 L148.628 1433.01 L148.628 1436.95 L118.952 1436.95 L118.952 1433.01 Z\" fill=\"#000000\" fill-rule=\"evenodd\" fill-opacity=\"1\" /><path clip-path=\"url(#clip150)\" d=\"M162.748 1445.9 L179.067 1445.9 L179.067 1449.84 L157.123 1449.84 L157.123 1445.9 Q159.785 1443.15 164.368 1438.52 Q168.975 1433.87 170.155 1432.53 Q172.401 1430 173.28 1428.27 Q174.183 1426.51 174.183 1424.82 Q174.183 1422.06 172.239 1420.33 Q170.317 1418.59 167.216 1418.59 Q165.016 1418.59 162.563 1419.35 Q160.132 1420.12 157.354 1421.67 L157.354 1416.95 Q160.179 1415.81 162.632 1415.23 Q165.086 1414.66 167.123 1414.66 Q172.493 1414.66 175.688 1417.34 Q178.882 1420.03 178.882 1424.52 Q178.882 1426.65 178.072 1428.57 Q177.285 1430.47 175.178 1433.06 Q174.6 1433.73 171.498 1436.95 Q168.396 1440.14 162.748 1445.9 Z\" fill=\"#000000\" fill-rule=\"evenodd\" fill-opacity=\"1\" /><path clip-path=\"url(#clip150)\" d=\"M394.405 1453.06 L424.081 1453.06 L424.081 1457 L394.405 1457 L394.405 1453.06 Z\" fill=\"#000000\" fill-rule=\"evenodd\" fill-opacity=\"1\" /><path clip-path=\"url(#clip150)\" d=\"M434.984 1465.96 L442.623 1465.96 L442.623 1439.59 L434.312 1441.26 L434.312 1437 L442.576 1435.33 L447.252 1435.33 L447.252 1465.96 L454.891 1465.96 L454.891 1469.89 L434.984 1469.89 L434.984 1465.96 Z\" fill=\"#000000\" fill-rule=\"evenodd\" fill-opacity=\"1\" /><path clip-path=\"url(#clip150)\" d=\"M718.77 1458.46 Q715.159 1458.46 713.331 1462.03 Q711.525 1465.57 711.525 1472.7 Q711.525 1479.8 713.331 1483.37 Q715.159 1486.91 718.77 1486.91 Q722.405 1486.91 724.21 1483.37 Q726.039 1479.8 726.039 1472.7 Q726.039 1465.57 724.21 1462.03 Q722.405 1458.46 718.77 1458.46 M718.77 1454.76 Q724.58 1454.76 727.636 1459.36 Q730.715 1463.95 730.715 1472.7 Q730.715 1481.42 727.636 1486.03 Q724.58 1490.61 718.77 1490.61 Q712.96 1490.61 709.881 1486.03 Q706.826 1481.42 706.826 1472.7 Q706.826 1463.95 709.881 1459.36 Q712.96 1454.76 718.77 1454.76 Z\" fill=\"#000000\" fill-rule=\"evenodd\" fill-opacity=\"1\" /><path clip-path=\"url(#clip150)\" d=\"M986.631 1506.06 L994.27 1506.06 L994.27 1479.69 L985.96 1481.36 L985.96 1477.1 L994.224 1475.43 L998.9 1475.43 L998.9 1506.06 L1006.54 1506.06 L1006.54 1509.99 L986.631 1509.99 L986.631 1506.06 Z\" fill=\"#000000\" fill-rule=\"evenodd\" fill-opacity=\"1\" /><path clip-path=\"url(#clip150)\" d=\"M1266.04 1526.11 L1282.36 1526.11 L1282.36 1530.05 L1260.42 1530.05 L1260.42 1526.11 Q1263.08 1523.36 1267.66 1518.73 Q1272.27 1514.07 1273.45 1512.73 Q1275.7 1510.21 1276.58 1508.47 Q1277.48 1506.71 1277.48 1505.02 Q1277.48 1502.27 1275.53 1500.53 Q1273.61 1498.8 1270.51 1498.8 Q1268.31 1498.8 1265.86 1499.56 Q1263.43 1500.32 1260.65 1501.87 L1260.65 1497.15 Q1263.47 1496.02 1265.93 1495.44 Q1268.38 1494.86 1270.42 1494.86 Q1275.79 1494.86 1278.98 1497.55 Q1282.18 1500.23 1282.18 1504.72 Q1282.18 1506.85 1281.37 1508.77 Q1280.58 1510.67 1278.47 1513.26 Q1277.89 1513.93 1274.79 1517.15 Q1271.69 1520.35 1266.04 1526.11 Z\" fill=\"#000000\" fill-rule=\"evenodd\" fill-opacity=\"1\" /><polyline clip-path=\"url(#clip152)\" style=\"stroke:#000000; stroke-linecap:butt; stroke-linejoin:round; stroke-width:2; stroke-opacity:0.1; fill:none\" points=\"\n  1336.66,1479.23 167.166,1394.21 \n  \"/>\n<polyline clip-path=\"url(#clip152)\" style=\"stroke:#000000; stroke-linecap:butt; stroke-linejoin:round; stroke-width:2; stroke-opacity:0.1; fill:none\" points=\"\n  167.166,1394.21 167.166,295.08 \n  \"/>\n<polyline clip-path=\"url(#clip152)\" style=\"stroke:#000000; stroke-linecap:butt; stroke-linejoin:round; stroke-width:2; stroke-opacity:0.1; fill:none\" points=\"\n  1495.91,1419.08 326.413,1334.06 \n  \"/>\n<polyline clip-path=\"url(#clip152)\" style=\"stroke:#000000; stroke-linecap:butt; stroke-linejoin:round; stroke-width:2; stroke-opacity:0.1; fill:none\" points=\"\n  326.413,1334.06 326.413,234.926 \n  \"/>\n<polyline clip-path=\"url(#clip152)\" style=\"stroke:#000000; stroke-linecap:butt; stroke-linejoin:round; stroke-width:2; stroke-opacity:0.1; fill:none\" points=\"\n  1655.15,1358.92 485.66,1273.9 \n  \"/>\n<polyline clip-path=\"url(#clip152)\" style=\"stroke:#000000; stroke-linecap:butt; stroke-linejoin:round; stroke-width:2; stroke-opacity:0.1; fill:none\" points=\"\n  485.66,1273.9 485.66,174.771 \n  \"/>\n<polyline clip-path=\"url(#clip152)\" style=\"stroke:#000000; stroke-linecap:butt; stroke-linejoin:round; stroke-width:2; stroke-opacity:0.1; fill:none\" points=\"\n  1814.4,1298.77 644.907,1213.75 \n  \"/>\n<polyline clip-path=\"url(#clip152)\" style=\"stroke:#000000; stroke-linecap:butt; stroke-linejoin:round; stroke-width:2; stroke-opacity:0.1; fill:none\" points=\"\n  644.907,1213.75 644.907,114.617 \n  \"/>\n<polyline clip-path=\"url(#clip152)\" style=\"stroke:#000000; stroke-linecap:butt; stroke-linejoin:round; stroke-width:2; stroke-opacity:0.1; fill:none\" points=\"\n  1973.65,1238.61 804.154,1153.59 \n  \"/>\n<polyline clip-path=\"url(#clip152)\" style=\"stroke:#000000; stroke-linecap:butt; stroke-linejoin:round; stroke-width:2; stroke-opacity:0.1; fill:none\" points=\"\n  804.154,1153.59 804.154,54.4626 \n  \"/>\n<polyline clip-path=\"url(#clip150)\" style=\"stroke:#000000; stroke-linecap:butt; stroke-linejoin:round; stroke-width:4; stroke-opacity:1; fill:none\" points=\"\n  1317.55,1486.45 1992.76,1231.39 \n  \"/>\n<polyline clip-path=\"url(#clip150)\" style=\"stroke:#000000; stroke-linecap:butt; stroke-linejoin:round; stroke-width:4; stroke-opacity:1; fill:none\" points=\"\n  1336.66,1479.23 1322.62,1478.21 \n  \"/>\n<polyline clip-path=\"url(#clip150)\" style=\"stroke:#000000; stroke-linecap:butt; stroke-linejoin:round; stroke-width:4; stroke-opacity:1; fill:none\" points=\"\n  1495.91,1419.08 1481.87,1418.05 \n  \"/>\n<polyline clip-path=\"url(#clip150)\" style=\"stroke:#000000; stroke-linecap:butt; stroke-linejoin:round; stroke-width:4; stroke-opacity:1; fill:none\" points=\"\n  1655.15,1358.92 1641.12,1357.9 \n  \"/>\n<polyline clip-path=\"url(#clip150)\" style=\"stroke:#000000; stroke-linecap:butt; stroke-linejoin:round; stroke-width:4; stroke-opacity:1; fill:none\" points=\"\n  1814.4,1298.77 1800.37,1297.75 \n  \"/>\n<polyline clip-path=\"url(#clip150)\" style=\"stroke:#000000; stroke-linecap:butt; stroke-linejoin:round; stroke-width:4; stroke-opacity:1; fill:none\" points=\"\n  1973.65,1238.61 1959.61,1237.59 \n  \"/>\n<path clip-path=\"url(#clip150)\" d=\"M1346.84 1506.62 L1376.51 1506.62 L1376.51 1510.56 L1346.84 1510.56 L1346.84 1506.62 Z\" fill=\"#000000\" fill-rule=\"evenodd\" fill-opacity=\"1\" /><path clip-path=\"url(#clip150)\" d=\"M1390.63 1519.52 L1406.95 1519.52 L1406.95 1523.45 L1385.01 1523.45 L1385.01 1519.52 Q1387.67 1516.76 1392.25 1512.13 Q1396.86 1507.48 1398.04 1506.14 Q1400.28 1503.61 1401.16 1501.88 Q1402.07 1500.12 1402.07 1498.43 Q1402.07 1495.67 1400.12 1493.94 Q1398.2 1492.2 1395.1 1492.2 Q1392.9 1492.2 1390.45 1492.97 Q1388.02 1493.73 1385.24 1495.28 L1385.24 1490.56 Q1388.06 1489.42 1390.52 1488.84 Q1392.97 1488.27 1395.01 1488.27 Q1400.38 1488.27 1403.57 1490.95 Q1406.77 1493.64 1406.77 1498.13 Q1406.77 1500.26 1405.96 1502.18 Q1405.17 1504.08 1403.06 1506.67 Q1402.48 1507.34 1399.38 1510.56 Q1396.28 1513.75 1390.63 1519.52 Z\" fill=\"#000000\" fill-rule=\"evenodd\" fill-opacity=\"1\" /><path clip-path=\"url(#clip150)\" d=\"M1506.08 1446.47 L1535.76 1446.47 L1535.76 1450.4 L1506.08 1450.4 L1506.08 1446.47 Z\" fill=\"#000000\" fill-rule=\"evenodd\" fill-opacity=\"1\" /><path clip-path=\"url(#clip150)\" d=\"M1546.66 1459.36 L1554.3 1459.36 L1554.3 1433 L1545.99 1434.66 L1545.99 1430.4 L1554.25 1428.74 L1558.93 1428.74 L1558.93 1459.36 L1566.57 1459.36 L1566.57 1463.3 L1546.66 1463.3 L1546.66 1459.36 Z\" fill=\"#000000\" fill-rule=\"evenodd\" fill-opacity=\"1\" /><path clip-path=\"url(#clip150)\" d=\"M1677.27 1371.66 Q1673.66 1371.66 1671.83 1375.23 Q1670.03 1378.77 1670.03 1385.9 Q1670.03 1393 1671.83 1396.57 Q1673.66 1400.11 1677.27 1400.11 Q1680.91 1400.11 1682.71 1396.57 Q1684.54 1393 1684.54 1385.9 Q1684.54 1378.77 1682.71 1375.23 Q1680.91 1371.66 1677.27 1371.66 M1677.27 1367.96 Q1683.08 1367.96 1686.14 1372.56 Q1689.22 1377.15 1689.22 1385.9 Q1689.22 1394.62 1686.14 1399.23 Q1683.08 1403.81 1677.27 1403.81 Q1671.46 1403.81 1668.39 1399.23 Q1665.33 1394.62 1665.33 1385.9 Q1665.33 1377.15 1668.39 1372.56 Q1671.46 1367.96 1677.27 1367.96 Z\" fill=\"#000000\" fill-rule=\"evenodd\" fill-opacity=\"1\" /><path clip-path=\"url(#clip150)\" d=\"M1825.25 1339.05 L1832.89 1339.05 L1832.89 1312.69 L1824.58 1314.35 L1824.58 1310.09 L1832.84 1308.43 L1837.52 1308.43 L1837.52 1339.05 L1845.16 1339.05 L1845.16 1342.99 L1825.25 1342.99 L1825.25 1339.05 Z\" fill=\"#000000\" fill-rule=\"evenodd\" fill-opacity=\"1\" /><path clip-path=\"url(#clip150)\" d=\"M1989.45 1278.9 L2005.77 1278.9 L2005.77 1282.83 L1983.82 1282.83 L1983.82 1278.9 Q1986.49 1276.14 1991.07 1271.51 Q1995.68 1266.86 1996.86 1265.52 Q1999.1 1263 1999.98 1261.26 Q2000.88 1259.5 2000.88 1257.81 Q2000.88 1255.06 1998.94 1253.32 Q1997.02 1251.58 1993.92 1251.58 Q1991.72 1251.58 1989.26 1252.35 Q1986.83 1253.11 1984.05 1254.66 L1984.05 1249.94 Q1986.88 1248.81 1989.33 1248.23 Q1991.79 1247.65 1993.82 1247.65 Q1999.19 1247.65 2002.39 1250.33 Q2005.58 1253.02 2005.58 1257.51 Q2005.58 1259.64 2004.77 1261.56 Q2003.99 1263.46 2001.88 1266.05 Q2001.3 1266.72 1998.2 1269.94 Q1995.1 1273.13 1989.45 1278.9 Z\" fill=\"#000000\" fill-rule=\"evenodd\" fill-opacity=\"1\" /><polyline clip-path=\"url(#clip152)\" style=\"stroke:#000000; stroke-linecap:butt; stroke-linejoin:round; stroke-width:2; stroke-opacity:0.1; fill:none\" points=\"\n  148.057,1300.86 823.263,1045.81 \n  \"/>\n<polyline clip-path=\"url(#clip152)\" style=\"stroke:#000000; stroke-linecap:butt; stroke-linejoin:round; stroke-width:2; stroke-opacity:0.1; fill:none\" points=\"\n  823.263,1045.81 1992.76,1130.83 \n  \"/>\n<polyline clip-path=\"url(#clip152)\" style=\"stroke:#000000; stroke-linecap:butt; stroke-linejoin:round; stroke-width:2; stroke-opacity:0.1; fill:none\" points=\"\n  148.057,1151.2 823.263,896.142 \n  \"/>\n<polyline clip-path=\"url(#clip152)\" style=\"stroke:#000000; stroke-linecap:butt; stroke-linejoin:round; stroke-width:2; stroke-opacity:0.1; fill:none\" points=\"\n  823.263,896.142 1992.76,981.16 \n  \"/>\n<polyline clip-path=\"url(#clip152)\" style=\"stroke:#000000; stroke-linecap:butt; stroke-linejoin:round; stroke-width:2; stroke-opacity:0.1; fill:none\" points=\"\n  148.057,1001.53 823.263,746.476 \n  \"/>\n<polyline clip-path=\"url(#clip152)\" style=\"stroke:#000000; stroke-linecap:butt; stroke-linejoin:round; stroke-width:2; stroke-opacity:0.1; fill:none\" points=\"\n  823.263,746.476 1992.76,831.494 \n  \"/>\n<polyline clip-path=\"url(#clip152)\" style=\"stroke:#000000; stroke-linecap:butt; stroke-linejoin:round; stroke-width:2; stroke-opacity:0.1; fill:none\" points=\"\n  148.057,851.864 823.263,596.81 \n  \"/>\n<polyline clip-path=\"url(#clip152)\" style=\"stroke:#000000; stroke-linecap:butt; stroke-linejoin:round; stroke-width:2; stroke-opacity:0.1; fill:none\" points=\"\n  823.263,596.81 1992.76,681.828 \n  \"/>\n<polyline clip-path=\"url(#clip152)\" style=\"stroke:#000000; stroke-linecap:butt; stroke-linejoin:round; stroke-width:2; stroke-opacity:0.1; fill:none\" points=\"\n  148.057,702.198 823.263,447.144 \n  \"/>\n<polyline clip-path=\"url(#clip152)\" style=\"stroke:#000000; stroke-linecap:butt; stroke-linejoin:round; stroke-width:2; stroke-opacity:0.1; fill:none\" points=\"\n  823.263,447.144 1992.76,532.162 \n  \"/>\n<polyline clip-path=\"url(#clip152)\" style=\"stroke:#000000; stroke-linecap:butt; stroke-linejoin:round; stroke-width:2; stroke-opacity:0.1; fill:none\" points=\"\n  148.057,552.532 823.263,297.478 \n  \"/>\n<polyline clip-path=\"url(#clip152)\" style=\"stroke:#000000; stroke-linecap:butt; stroke-linejoin:round; stroke-width:2; stroke-opacity:0.1; fill:none\" points=\"\n  823.263,297.478 1992.76,382.496 \n  \"/>\n<polyline clip-path=\"url(#clip152)\" style=\"stroke:#000000; stroke-linecap:butt; stroke-linejoin:round; stroke-width:2; stroke-opacity:0.1; fill:none\" points=\"\n  148.057,402.866 823.263,147.812 \n  \"/>\n<polyline clip-path=\"url(#clip152)\" style=\"stroke:#000000; stroke-linecap:butt; stroke-linejoin:round; stroke-width:2; stroke-opacity:0.1; fill:none\" points=\"\n  823.263,147.812 1992.76,232.83 \n  \"/>\n<polyline clip-path=\"url(#clip150)\" style=\"stroke:#000000; stroke-linecap:butt; stroke-linejoin:round; stroke-width:4; stroke-opacity:1; fill:none\" points=\"\n  148.057,1401.43 148.057,302.298 \n  \"/>\n<polyline clip-path=\"url(#clip150)\" style=\"stroke:#000000; stroke-linecap:butt; stroke-linejoin:round; stroke-width:4; stroke-opacity:1; fill:none\" points=\"\n  148.057,1300.86 156.159,1297.8 \n  \"/>\n<polyline clip-path=\"url(#clip150)\" style=\"stroke:#000000; stroke-linecap:butt; stroke-linejoin:round; stroke-width:4; stroke-opacity:1; fill:none\" points=\"\n  148.057,1151.2 156.159,1148.14 \n  \"/>\n<polyline clip-path=\"url(#clip150)\" style=\"stroke:#000000; stroke-linecap:butt; stroke-linejoin:round; stroke-width:4; stroke-opacity:1; fill:none\" points=\"\n  148.057,1001.53 156.159,998.469 \n  \"/>\n<polyline clip-path=\"url(#clip150)\" style=\"stroke:#000000; stroke-linecap:butt; stroke-linejoin:round; stroke-width:4; stroke-opacity:1; fill:none\" points=\"\n  148.057,851.864 156.159,848.803 \n  \"/>\n<polyline clip-path=\"url(#clip150)\" style=\"stroke:#000000; stroke-linecap:butt; stroke-linejoin:round; stroke-width:4; stroke-opacity:1; fill:none\" points=\"\n  148.057,702.198 156.159,699.137 \n  \"/>\n<polyline clip-path=\"url(#clip150)\" style=\"stroke:#000000; stroke-linecap:butt; stroke-linejoin:round; stroke-width:4; stroke-opacity:1; fill:none\" points=\"\n  148.057,552.532 156.159,549.471 \n  \"/>\n<polyline clip-path=\"url(#clip150)\" style=\"stroke:#000000; stroke-linecap:butt; stroke-linejoin:round; stroke-width:4; stroke-opacity:1; fill:none\" points=\"\n  148.057,402.866 156.159,399.805 \n  \"/>\n<path clip-path=\"url(#clip150)\" d=\"M58.1921 1301.31 L87.8679 1301.31 L87.8679 1305.25 L58.1921 1305.25 L58.1921 1301.31 Z\" fill=\"#000000\" fill-rule=\"evenodd\" fill-opacity=\"1\" /><path clip-path=\"url(#clip150)\" d=\"M112.127 1299.51 Q115.483 1300.23 117.358 1302.49 Q119.257 1304.76 119.257 1308.1 Q119.257 1313.21 115.738 1316.01 Q112.22 1318.81 105.738 1318.81 Q103.562 1318.81 101.247 1318.37 Q98.9558 1317.96 96.5021 1317.1 L96.5021 1312.59 Q98.4465 1313.72 100.761 1314.3 Q103.076 1314.88 105.599 1314.88 Q109.997 1314.88 112.289 1313.14 Q114.604 1311.41 114.604 1308.1 Q114.604 1305.04 112.451 1303.33 Q110.321 1301.59 106.502 1301.59 L102.474 1301.59 L102.474 1297.75 L106.687 1297.75 Q110.136 1297.75 111.965 1296.38 Q113.794 1294.99 113.794 1292.4 Q113.794 1289.74 111.896 1288.33 Q110.021 1286.89 106.502 1286.89 Q104.581 1286.89 102.382 1287.31 Q100.183 1287.73 97.5438 1288.61 L97.5438 1284.44 Q100.206 1283.7 102.521 1283.33 Q104.859 1282.96 106.919 1282.96 Q112.243 1282.96 115.345 1285.39 Q118.446 1287.79 118.446 1291.92 Q118.446 1294.79 116.803 1296.78 Q115.159 1298.74 112.127 1299.51 Z\" fill=\"#000000\" fill-rule=\"evenodd\" fill-opacity=\"1\" /><path clip-path=\"url(#clip150)\" d=\"M59.1412 1151.65 L88.817 1151.65 L88.817 1155.58 L59.1412 1155.58 L59.1412 1151.65 Z\" fill=\"#000000\" fill-rule=\"evenodd\" fill-opacity=\"1\" /><path clip-path=\"url(#clip150)\" d=\"M102.937 1164.54 L119.257 1164.54 L119.257 1168.48 L97.3123 1168.48 L97.3123 1164.54 Q99.9743 1161.79 104.558 1157.16 Q109.164 1152.5 110.345 1151.16 Q112.59 1148.64 113.47 1146.9 Q114.372 1145.14 114.372 1143.45 Q114.372 1140.7 112.428 1138.96 Q110.507 1137.23 107.405 1137.23 Q105.206 1137.23 102.752 1137.99 Q100.322 1138.75 97.5438 1140.3 L97.5438 1135.58 Q100.368 1134.45 102.822 1133.87 Q105.275 1133.29 107.312 1133.29 Q112.683 1133.29 115.877 1135.98 Q119.071 1138.66 119.071 1143.15 Q119.071 1145.28 118.261 1147.2 Q117.474 1149.1 115.368 1151.69 Q114.789 1152.37 111.687 1155.58 Q108.585 1158.78 102.937 1164.54 Z\" fill=\"#000000\" fill-rule=\"evenodd\" fill-opacity=\"1\" /><path clip-path=\"url(#clip150)\" d=\"M58.7708 1001.98 L88.4466 1001.98 L88.4466 1005.92 L58.7708 1005.92 L58.7708 1001.98 Z\" fill=\"#000000\" fill-rule=\"evenodd\" fill-opacity=\"1\" /><path clip-path=\"url(#clip150)\" d=\"M99.3493 1014.87 L106.988 1014.87 L106.988 988.509 L98.678 990.176 L98.678 985.917 L106.942 984.25 L111.618 984.25 L111.618 1014.87 L119.257 1014.87 L119.257 1018.81 L99.3493 1018.81 L99.3493 1014.87 Z\" fill=\"#000000\" fill-rule=\"evenodd\" fill-opacity=\"1\" /><path clip-path=\"url(#clip150)\" d=\"M107.312 837.663 Q103.701 837.663 101.872 841.228 Q100.067 844.769 100.067 851.899 Q100.067 859.005 101.872 862.57 Q103.701 866.112 107.312 866.112 Q110.946 866.112 112.752 862.57 Q114.581 859.005 114.581 851.899 Q114.581 844.769 112.752 841.228 Q110.946 837.663 107.312 837.663 M107.312 833.959 Q113.122 833.959 116.178 838.566 Q119.257 843.149 119.257 851.899 Q119.257 860.626 116.178 865.232 Q113.122 869.815 107.312 869.815 Q101.502 869.815 98.4234 865.232 Q95.3679 860.626 95.3679 851.899 Q95.3679 843.149 98.4234 838.566 Q101.502 833.959 107.312 833.959 Z\" fill=\"#000000\" fill-rule=\"evenodd\" fill-opacity=\"1\" /><path clip-path=\"url(#clip150)\" d=\"M99.3493 715.543 L106.988 715.543 L106.988 689.177 L98.678 690.844 L98.678 686.585 L106.942 684.918 L111.618 684.918 L111.618 715.543 L119.257 715.543 L119.257 719.478 L99.3493 719.478 L99.3493 715.543 Z\" fill=\"#000000\" fill-rule=\"evenodd\" fill-opacity=\"1\" /><path clip-path=\"url(#clip150)\" d=\"M102.937 565.877 L119.257 565.877 L119.257 569.812 L97.3123 569.812 L97.3123 565.877 Q99.9743 563.122 104.558 558.493 Q109.164 553.84 110.345 552.497 Q112.59 549.974 113.47 548.238 Q114.372 546.479 114.372 544.789 Q114.372 542.034 112.428 540.298 Q110.507 538.562 107.405 538.562 Q105.206 538.562 102.752 539.326 Q100.322 540.09 97.5438 541.641 L97.5438 536.919 Q100.368 535.785 102.822 535.206 Q105.275 534.627 107.312 534.627 Q112.683 534.627 115.877 537.312 Q119.071 539.997 119.071 544.488 Q119.071 546.618 118.261 548.539 Q117.474 550.437 115.368 553.03 Q114.789 553.701 111.687 556.919 Q108.585 560.113 102.937 565.877 Z\" fill=\"#000000\" fill-rule=\"evenodd\" fill-opacity=\"1\" /><path clip-path=\"url(#clip150)\" d=\"M112.127 401.512 Q115.483 402.23 117.358 404.498 Q119.257 406.767 119.257 410.1 Q119.257 415.216 115.738 418.017 Q112.22 420.817 105.738 420.817 Q103.562 420.817 101.247 420.378 Q98.9558 419.961 96.5021 419.104 L96.5021 414.591 Q98.4465 415.725 100.761 416.304 Q103.076 416.882 105.599 416.882 Q109.997 416.882 112.289 415.146 Q114.604 413.41 114.604 410.1 Q114.604 407.044 112.451 405.331 Q110.321 403.595 106.502 403.595 L102.474 403.595 L102.474 399.753 L106.687 399.753 Q110.136 399.753 111.965 398.387 Q113.794 396.998 113.794 394.406 Q113.794 391.744 111.896 390.331 Q110.021 388.896 106.502 388.896 Q104.581 388.896 102.382 389.313 Q100.183 389.73 97.5438 390.609 L97.5438 386.443 Q100.206 385.702 102.521 385.332 Q104.859 384.961 106.919 384.961 Q112.243 384.961 115.345 387.392 Q118.446 389.799 118.446 393.919 Q118.446 396.79 116.803 398.781 Q115.159 400.748 112.127 401.512 Z\" fill=\"#000000\" fill-rule=\"evenodd\" fill-opacity=\"1\" /><circle clip-path=\"url(#clip152)\" cx=\"1186.98\" cy=\"697.386\" r=\"14\" fill=\"#009af9\" fill-rule=\"evenodd\" fill-opacity=\"1\" stroke=\"#000000\" stroke-opacity=\"1\" stroke-width=\"3.2\"/>\n<circle clip-path=\"url(#clip152)\" cx=\"709.242\" cy=\"662.656\" r=\"14\" fill=\"#e26f46\" fill-rule=\"evenodd\" fill-opacity=\"1\" stroke=\"#000000\" stroke-opacity=\"1\" stroke-width=\"3.2\"/>\n<polyline clip-path=\"url(#clip152)\" style=\"stroke:#0000ff; stroke-linecap:butt; stroke-linejoin:round; stroke-width:4; stroke-opacity:1; fill:none\" points=\"\n  1070.41,766.846 1186.98,697.386 \n  \"/>\n<polyline clip-path=\"url(#clip152)\" style=\"stroke:#ff0000; stroke-linecap:butt; stroke-linejoin:round; stroke-width:4; stroke-opacity:1; fill:none\" points=\"\n  1070.41,766.846 709.242,662.656 \n  \"/>\n<path clip-path=\"url(#clip152)\" d=\"\nM837.253 526.229 L200.265 1365.51 L1303.56 1007.46 L1940.55 168.182  Z\n  \" fill=\"#bb3754\" fill-rule=\"evenodd\" fill-opacity=\"0.5\"/>\n<defs>\n  <clipPath id=\"clip153\">\n    <rect x=\"2160\" y=\"47\" width=\"73\" height=\"1440\"/>\n  </clipPath>\n</defs>\n<g clip-path=\"url(#clip153)\">\n<image width=\"72\" height=\"1439\" xlink:href=\"data:image/png;base64,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\nBYGCQOE/LrLuTX/wFc8AAAAASUVORK5CYII=\n\" transform=\"translate(2161, 47)\"/>\n</g>\n<path clip-path=\"url(#clip150)\" d=\"M2268.76 1386.86 L2298.43 1386.86 L2298.43 1390.8 L2268.76 1390.8 L2268.76 1386.86 Z\" fill=\"#000000\" fill-rule=\"evenodd\" fill-opacity=\"1\" /><path clip-path=\"url(#clip150)\" d=\"M2322.69 1385.06 Q2326.05 1385.77 2327.92 1388.04 Q2329.82 1390.31 2329.82 1393.64 Q2329.82 1398.76 2326.3 1401.56 Q2322.78 1404.36 2316.3 1404.36 Q2314.13 1404.36 2311.81 1403.92 Q2309.52 1403.51 2307.07 1402.65 L2307.07 1398.14 Q2309.01 1399.27 2311.33 1399.85 Q2313.64 1400.43 2316.16 1400.43 Q2320.56 1400.43 2322.85 1398.69 Q2325.17 1396.95 2325.17 1393.64 Q2325.17 1390.59 2323.01 1388.88 Q2320.89 1387.14 2317.07 1387.14 L2313.04 1387.14 L2313.04 1383.3 L2317.25 1383.3 Q2320.7 1383.3 2322.53 1381.93 Q2324.36 1380.54 2324.36 1377.95 Q2324.36 1375.29 2322.46 1373.88 Q2320.58 1372.44 2317.07 1372.44 Q2315.14 1372.44 2312.95 1372.86 Q2310.75 1373.27 2308.11 1374.15 L2308.11 1369.99 Q2310.77 1369.25 2313.08 1368.88 Q2315.42 1368.51 2317.48 1368.51 Q2322.81 1368.51 2325.91 1370.94 Q2329.01 1373.34 2329.01 1377.46 Q2329.01 1380.33 2327.37 1382.33 Q2325.72 1384.29 2322.69 1385.06 Z\" fill=\"#000000\" fill-rule=\"evenodd\" fill-opacity=\"1\" /><path clip-path=\"url(#clip150)\" d=\"M2268.76 1179.13 L2298.43 1179.13 L2298.43 1183.07 L2268.76 1183.07 L2268.76 1179.13 Z\" fill=\"#000000\" fill-rule=\"evenodd\" fill-opacity=\"1\" /><path clip-path=\"url(#clip150)\" d=\"M2312.55 1192.02 L2328.87 1192.02 L2328.87 1195.96 L2306.93 1195.96 L2306.93 1192.02 Q2309.59 1189.27 2314.17 1184.64 Q2318.78 1179.99 2319.96 1178.64 Q2322.2 1176.12 2323.08 1174.39 Q2323.99 1172.63 2323.99 1170.94 Q2323.99 1168.18 2322.04 1166.45 Q2320.12 1164.71 2317.02 1164.71 Q2314.82 1164.71 2312.37 1165.47 Q2309.94 1166.24 2307.16 1167.79 L2307.16 1163.07 Q2309.98 1161.93 2312.44 1161.35 Q2314.89 1160.77 2316.93 1160.77 Q2322.3 1160.77 2325.49 1163.46 Q2328.69 1166.14 2328.69 1170.64 Q2328.69 1172.77 2327.88 1174.69 Q2327.09 1176.58 2324.98 1179.18 Q2324.4 1179.85 2321.3 1183.07 Q2318.2 1186.26 2312.55 1192.02 Z\" fill=\"#000000\" fill-rule=\"evenodd\" fill-opacity=\"1\" /><path clip-path=\"url(#clip150)\" d=\"M2268.76 971.4 L2298.43 971.4 L2298.43 975.335 L2268.76 975.335 L2268.76 971.4 Z\" fill=\"#000000\" fill-rule=\"evenodd\" fill-opacity=\"1\" /><path clip-path=\"url(#clip150)\" d=\"M2309.33 984.293 L2316.97 984.293 L2316.97 957.928 L2308.66 959.594 L2308.66 955.335 L2316.93 953.668 L2321.6 953.668 L2321.6 984.293 L2329.24 984.293 L2329.24 988.228 L2309.33 988.228 L2309.33 984.293 Z\" fill=\"#000000\" fill-rule=\"evenodd\" fill-opacity=\"1\" /><path clip-path=\"url(#clip150)\" d=\"M2280.7 749.016 Q2277.09 749.016 2275.26 752.581 Q2273.45 756.122 2273.45 763.252 Q2273.45 770.358 2275.26 773.923 Q2277.09 777.465 2280.7 777.465 Q2284.33 777.465 2286.14 773.923 Q2287.97 770.358 2287.97 763.252 Q2287.97 756.122 2286.14 752.581 Q2284.33 749.016 2280.7 749.016 M2280.7 745.312 Q2286.51 745.312 2289.57 749.919 Q2292.64 754.502 2292.64 763.252 Q2292.64 771.979 2289.57 776.585 Q2286.51 781.168 2280.7 781.168 Q2274.89 781.168 2271.81 776.585 Q2268.76 771.979 2268.76 763.252 Q2268.76 754.502 2271.81 749.919 Q2274.89 745.312 2280.7 745.312 Z\" fill=\"#000000\" fill-rule=\"evenodd\" fill-opacity=\"1\" /><path clip-path=\"url(#clip150)\" d=\"M2269.43 568.831 L2277.07 568.831 L2277.07 542.465 L2268.76 544.132 L2268.76 539.873 L2277.02 538.206 L2281.7 538.206 L2281.7 568.831 L2289.33 568.831 L2289.33 572.766 L2269.43 572.766 L2269.43 568.831 Z\" fill=\"#000000\" fill-rule=\"evenodd\" fill-opacity=\"1\" /><path clip-path=\"url(#clip150)\" d=\"M2274.38 361.1 L2290.7 361.1 L2290.7 365.035 L2268.76 365.035 L2268.76 361.1 Q2271.42 358.345 2276 353.715 Q2280.61 349.063 2281.79 347.72 Q2284.03 345.197 2284.91 343.461 Q2285.82 341.702 2285.82 340.012 Q2285.82 337.257 2283.87 335.521 Q2281.95 333.785 2278.85 333.785 Q2276.65 333.785 2274.2 334.549 Q2271.77 335.313 2268.99 336.864 L2268.99 332.141 Q2271.81 331.007 2274.27 330.429 Q2276.72 329.85 2278.76 329.85 Q2284.13 329.85 2287.32 332.535 Q2290.52 335.22 2290.52 339.711 Q2290.52 341.841 2289.7 343.762 Q2288.92 345.66 2286.81 348.253 Q2286.23 348.924 2283.13 352.141 Q2280.03 355.336 2274.38 361.1 Z\" fill=\"#000000\" fill-rule=\"evenodd\" fill-opacity=\"1\" /><path clip-path=\"url(#clip150)\" d=\"M2284.38 138.67 Q2287.74 139.387 2289.61 141.656 Q2291.51 143.924 2291.51 147.257 Q2291.51 152.373 2287.99 155.174 Q2284.47 157.975 2277.99 157.975 Q2275.82 157.975 2273.5 157.535 Q2271.21 157.118 2268.76 156.262 L2268.76 151.748 Q2270.7 152.882 2273.02 153.461 Q2275.33 154.04 2277.85 154.04 Q2282.25 154.04 2284.54 152.304 Q2286.86 150.568 2286.86 147.257 Q2286.86 144.202 2284.7 142.489 Q2282.58 140.753 2278.76 140.753 L2274.73 140.753 L2274.73 136.91 L2278.94 136.91 Q2282.39 136.91 2284.22 135.545 Q2286.05 134.156 2286.05 131.563 Q2286.05 128.901 2284.15 127.489 Q2282.27 126.054 2278.76 126.054 Q2276.83 126.054 2274.64 126.47 Q2272.44 126.887 2269.8 127.767 L2269.8 123.6 Q2272.46 122.859 2274.77 122.489 Q2277.11 122.119 2279.17 122.119 Q2284.5 122.119 2287.6 124.549 Q2290.7 126.957 2290.7 131.077 Q2290.7 133.947 2289.06 135.938 Q2287.41 137.906 2284.38 138.67 Z\" fill=\"#000000\" fill-rule=\"evenodd\" fill-opacity=\"1\" /><polyline clip-path=\"url(#clip150)\" style=\"stroke:#000000; stroke-linecap:butt; stroke-linejoin:round; stroke-width:4; stroke-opacity:1; fill:none\" points=\"\n  2232.76,1486.45 2232.76,1390.04 2256.76,1390.04 2232.76,1390.04 2232.76,1182.31 2256.76,1182.31 2232.76,1182.31 2232.76,974.577 2256.76,974.577 2232.76,974.577 \n  2232.76,766.846 2256.76,766.846 2232.76,766.846 2232.76,559.115 2256.76,559.115 2232.76,559.115 2232.76,351.384 2256.76,351.384 2232.76,351.384 2232.76,143.652 \n  2256.76,143.652 2232.76,143.652 2232.76,47.2441 \n  \"/>\n<path clip-path=\"url(#clip150)\" d=\"\nM209.547 1438.47 L439.745 1438.47 L439.745 1282.95 L209.547 1282.95  Z\n  \" fill=\"#ffffff\" fill-rule=\"evenodd\" fill-opacity=\"1\"/>\n<polyline clip-path=\"url(#clip150)\" style=\"stroke:#000000; stroke-linecap:butt; stroke-linejoin:round; stroke-width:4; stroke-opacity:1; fill:none\" points=\"\n  209.547,1438.47 439.745,1438.47 439.745,1282.95 209.547,1282.95 209.547,1438.47 \n  \"/>\n<circle clip-path=\"url(#clip150)\" cx=\"291.533\" cy=\"1334.79\" r=\"23\" fill=\"#009af9\" fill-rule=\"evenodd\" fill-opacity=\"1\" stroke=\"#000000\" stroke-opacity=\"1\" stroke-width=\"5.12\"/>\n<path clip-path=\"url(#clip150)\" d=\"M398.173 1326.15 L388.798 1338.76 L398.659 1352.07 L393.635 1352.07 L386.089 1341.89 L378.543 1352.07 L373.52 1352.07 L383.589 1338.51 L374.376 1326.15 L379.399 1326.15 L386.274 1335.38 L393.149 1326.15 L398.173 1326.15 Z\" fill=\"#000000\" fill-rule=\"evenodd\" fill-opacity=\"1\" /><circle clip-path=\"url(#clip150)\" cx=\"291.533\" cy=\"1386.63\" r=\"23\" fill=\"#e26f46\" fill-rule=\"evenodd\" fill-opacity=\"1\" stroke=\"#000000\" stroke-opacity=\"1\" stroke-width=\"5.12\"/>\n<path clip-path=\"url(#clip150)\" d=\"M387.362 1406.32 Q385.557 1410.95 383.844 1412.36 Q382.131 1413.78 379.261 1413.78 L375.858 1413.78 L375.858 1410.21 L378.358 1410.21 Q380.117 1410.21 381.089 1409.38 Q382.061 1408.54 383.242 1405.44 L384.006 1403.5 L373.52 1377.99 L378.034 1377.99 L386.136 1398.27 L394.237 1377.99 L398.751 1377.99 L387.362 1406.32 Z\" fill=\"#000000\" fill-rule=\"evenodd\" fill-opacity=\"1\" /></svg>\n"
               },
               "type": "node"
              }
             ],
             "instanceArgs": {
              "namespace": "html",
              "tag": "div"
             },
             "nodeType": "DOM",
             "props": {
              "className": "interact-flex-row interact-widget"
             },
             "type": "node"
            }
           }
          },
          "systemjs_options": null
         },
         "nodeType": "Scope",
         "props": {},
         "type": "node"
        }
       ],
       "instanceArgs": {
        "namespace": "html",
        "tag": "div"
       },
       "nodeType": "DOM",
       "props": {},
       "type": "node"
      },
      "text/html": [
       "<div\n",
       "    class=\"webio-mountpoint\"\n",
       "    data-webio-mountpoint=\"11960651987350326107\"\n",
       ">\n",
       "    <script>\n",
       "    (function(){\n",
       "    // Some integrations (namely, IJulia/Jupyter) use an alternate render pathway than\n",
       "    // just putting the html on the page. If WebIO isn't defined, then it's pretty likely\n",
       "    // that we're in one of those situations and the integration just isn't installed\n",
       "    // correctly.\n",
       "    if (typeof window.WebIO === \"undefined\") {\n",
       "        document\n",
       "            .querySelector('[data-webio-mountpoint=\"11960651987350326107\"]')\n",
       "            .innerHTML = (\n",
       "                '<div style=\"padding: 1em; background-color: #f8d6da; border: 1px solid #f5c6cb; font-weight: bold;\">' +\n",
       "                '<p><strong>WebIO not detected.</strong></p>' +\n",
       "                '<p>Please read ' +\n",
       "                '<a href=\"https://juliagizmos.github.io/WebIO.jl/latest/troubleshooting/not-detected/\" target=\"_blank\">the troubleshooting guide</a> ' +\n",
       "                'for more information on how to resolve this issue.</p>' +\n",
       "                '<p><a href=\"https://juliagizmos.github.io/WebIO.jl/latest/troubleshooting/not-detected/\" target=\"_blank\">https://juliagizmos.github.io/WebIO.jl/latest/troubleshooting/not-detected/</a></p>' +\n",
       "                '</div>'\n",
       "            );\n",
       "        return;\n",
       "    }\n",
       "    WebIO.mount(\n",
       "        document.querySelector('[data-webio-mountpoint=\"11960651987350326107\"]'),\n",
       "        {\"props\":{},\"nodeType\":\"DOM\",\"type\":\"node\",\"instanceArgs\":{\"namespace\":\"html\",\"tag\":\"div\"},\"children\":[{\"props\":{\"className\":\"field interact-widget\"},\"nodeType\":\"DOM\",\"type\":\"node\",\"instanceArgs\":{\"namespace\":\"html\",\"tag\":\"div\"},\"children\":[{\"props\":{},\"nodeType\":\"Scope\",\"type\":\"node\",\"instanceArgs\":{\"imports\":{\"data\":[{\"name\":\"knockout\",\"type\":\"js\",\"url\":\"\\/assetserver\\/fb6ca08aae97daeb80aa99104c4eddfe76bc6766-knockout.js\"},{\"name\":\"knockout_punches\",\"type\":\"js\",\"url\":\"\\/assetserver\\/1759964e1dbcc22fe1a19531f6579c45d2da7d3e-knockout_punches.js\"},{\"name\":null,\"type\":\"js\",\"url\":\"\\/assetserver\\/789869448aff3abaf20e8ce1df06db26f65f635b-all.js\"},{\"name\":null,\"type\":\"css\",\"url\":\"\\/assetserver\\/798d51a5869c99606bb76f940b7af91e76cb0487-style.css\"},{\"name\":null,\"type\":\"css\",\"url\":\"\\/assetserver\\/e2a2c92c154e10beb71b03c08b29cc3ad8175428-bulma_confined.min.css\"}],\"type\":\"async_block\"},\"id\":\"3954279244252439636\",\"handlers\":{\"changes\":[\"(function (val){return (val!=this.model[\\\"changes\\\"]()) ? (this.valueFromJulia[\\\"changes\\\"]=true, this.model[\\\"changes\\\"](val)) : undefined})\"],\"value\":[\"(function (val){return (val!=this.model[\\\"value\\\"]()) ? (this.valueFromJulia[\\\"value\\\"]=true, this.model[\\\"value\\\"](val)) : undefined})\"]},\"systemjs_options\":null,\"mount_callbacks\":[\"function () {\\n    var handler = (function (ko, koPunches) {\\n    ko.punches.enableAll();\\n    ko.bindingHandlers.numericValue = {\\n        init: function(element, valueAccessor, allBindings, data, context) {\\n            var stringified = ko.observable(ko.unwrap(valueAccessor()));\\n            stringified.subscribe(function(value) {\\n                var val = parseFloat(value);\\n                if (!isNaN(val)) {\\n                    valueAccessor()(val);\\n                }\\n            });\\n            valueAccessor().subscribe(function(value) {\\n                var str = JSON.stringify(value);\\n                if ((str == \\\"0\\\") && ([\\\"-0\\\", \\\"-0.\\\"].indexOf(stringified()) >= 0))\\n                     return;\\n                 if ([\\\"null\\\", \\\"\\\"].indexOf(str) >= 0)\\n                     return;\\n                stringified(str);\\n            });\\n            ko.applyBindingsToNode(\\n                element,\\n                {\\n                    value: stringified,\\n                    valueUpdate: allBindings.get('valueUpdate'),\\n                },\\n                context,\\n            );\\n        }\\n    };\\n    var json_data = {\\\"changes\\\":WebIO.getval({\\\"name\\\":\\\"changes\\\",\\\"scope\\\":\\\"3954279244252439636\\\",\\\"id\\\":\\\"1553452950336467292\\\",\\\"type\\\":\\\"observable\\\"}),\\\"value\\\":WebIO.getval({\\\"name\\\":\\\"value\\\",\\\"scope\\\":\\\"3954279244252439636\\\",\\\"id\\\":\\\"18262280088072916417\\\",\\\"type\\\":\\\"observable\\\"})};\\n    var self = this;\\n    function AppViewModel() {\\n        for (var key in json_data) {\\n            var el = json_data[key];\\n            this[key] = Array.isArray(el) ? ko.observableArray(el) : ko.observable(el);\\n        }\\n        \\n        \\n        [this[\\\"changes\\\"].subscribe((function (val){!(this.valueFromJulia[\\\"changes\\\"]) ? (WebIO.setval({\\\"name\\\":\\\"changes\\\",\\\"scope\\\":\\\"3954279244252439636\\\",\\\"id\\\":\\\"1553452950336467292\\\",\\\"type\\\":\\\"observable\\\"},val)) : undefined; return this.valueFromJulia[\\\"changes\\\"]=false}),self),this[\\\"value\\\"].subscribe((function (val){!(this.valueFromJulia[\\\"value\\\"]) ? (WebIO.setval({\\\"name\\\":\\\"value\\\",\\\"scope\\\":\\\"3954279244252439636\\\",\\\"id\\\":\\\"18262280088072916417\\\",\\\"type\\\":\\\"observable\\\"},val)) : undefined; return this.valueFromJulia[\\\"value\\\"]=false}),self)]\\n        \\n    }\\n    self.model = new AppViewModel();\\n    self.valueFromJulia = {};\\n    for (var key in json_data) {\\n        self.valueFromJulia[key] = false;\\n    }\\n    ko.applyBindings(self.model, self.dom);\\n}\\n);\\n    (WebIO.importBlock({\\\"data\\\":[{\\\"name\\\":\\\"knockout\\\",\\\"type\\\":\\\"js\\\",\\\"url\\\":\\\"\\/assetserver\\/fb6ca08aae97daeb80aa99104c4eddfe76bc6766-knockout.js\\\"},{\\\"name\\\":\\\"knockout_punches\\\",\\\"type\\\":\\\"js\\\",\\\"url\\\":\\\"\\/assetserver\\/1759964e1dbcc22fe1a19531f6579c45d2da7d3e-knockout_punches.js\\\"}],\\\"type\\\":\\\"async_block\\\"})).then((imports) => handler.apply(this, imports));\\n}\\n\"],\"observables\":{\"changes\":{\"sync\":false,\"id\":\"1553452950336467292\",\"value\":0},\"value\":{\"sync\":true,\"id\":\"18262280088072916417\",\"value\":1}}},\"children\":[{\"props\":{\"className\":\"interact-flex-row interact-widget\"},\"nodeType\":\"DOM\",\"type\":\"node\",\"instanceArgs\":{\"namespace\":\"html\",\"tag\":\"div\"},\"children\":[{\"props\":{\"className\":\"interact-flex-row-left\"},\"nodeType\":\"DOM\",\"type\":\"node\",\"instanceArgs\":{\"namespace\":\"html\",\"tag\":\"div\"},\"children\":[{\"props\":{\"className\":\"interact \",\"style\":{\"padding\":\"5px 10px 0px 10px\"}},\"nodeType\":\"DOM\",\"type\":\"node\",\"instanceArgs\":{\"namespace\":\"html\",\"tag\":\"label\"},\"children\":[\"x\"]}]},{\"props\":{\"className\":\"interact-flex-row-center\"},\"nodeType\":\"DOM\",\"type\":\"node\",\"instanceArgs\":{\"namespace\":\"html\",\"tag\":\"div\"},\"children\":[{\"props\":{\"attributes\":{\"type\":\"number\",\"data-bind\":\"numericValue: value, valueUpdate: 'input', event: {change: function (){this.changes(this.changes()+1)}}\"},\"placeholder\":\"\",\"className\":\"input \",\"style\":{}},\"nodeType\":\"DOM\",\"type\":\"node\",\"instanceArgs\":{\"namespace\":\"html\",\"tag\":\"input\"},\"children\":[]}]},{\"props\":{\"className\":\"interact-flex-row-right\"},\"nodeType\":\"DOM\",\"type\":\"node\",\"instanceArgs\":{\"namespace\":\"html\",\"tag\":\"div\"},\"children\":[{\"props\":{},\"nodeType\":\"DOM\",\"type\":\"node\",\"instanceArgs\":{\"namespace\":\"html\",\"tag\":\"div\"},\"children\":[]}]}]}]}]},{\"props\":{\"className\":\"field interact-widget\"},\"nodeType\":\"DOM\",\"type\":\"node\",\"instanceArgs\":{\"namespace\":\"html\",\"tag\":\"div\"},\"children\":[{\"props\":{},\"nodeType\":\"Scope\",\"type\":\"node\",\"instanceArgs\":{\"imports\":{\"data\":[{\"name\":\"knockout\",\"type\":\"js\",\"url\":\"\\/assetserver\\/fb6ca08aae97daeb80aa99104c4eddfe76bc6766-knockout.js\"},{\"name\":\"knockout_punches\",\"type\":\"js\",\"url\":\"\\/assetserver\\/1759964e1dbcc22fe1a19531f6579c45d2da7d3e-knockout_punches.js\"},{\"name\":null,\"type\":\"js\",\"url\":\"\\/assetserver\\/789869448aff3abaf20e8ce1df06db26f65f635b-all.js\"},{\"name\":null,\"type\":\"css\",\"url\":\"\\/assetserver\\/798d51a5869c99606bb76f940b7af91e76cb0487-style.css\"},{\"name\":null,\"type\":\"css\",\"url\":\"\\/assetserver\\/e2a2c92c154e10beb71b03c08b29cc3ad8175428-bulma_confined.min.css\"}],\"type\":\"async_block\"},\"id\":\"14413233572128440926\",\"handlers\":{\"changes\":[\"(function (val){return (val!=this.model[\\\"changes\\\"]()) ? (this.valueFromJulia[\\\"changes\\\"]=true, this.model[\\\"changes\\\"](val)) : undefined})\"],\"value\":[\"(function (val){return (val!=this.model[\\\"value\\\"]()) ? (this.valueFromJulia[\\\"value\\\"]=true, this.model[\\\"value\\\"](val)) : undefined})\"]},\"systemjs_options\":null,\"mount_callbacks\":[\"function () {\\n    var handler = (function (ko, koPunches) {\\n    ko.punches.enableAll();\\n    ko.bindingHandlers.numericValue = {\\n        init: function(element, valueAccessor, allBindings, data, context) {\\n            var stringified = ko.observable(ko.unwrap(valueAccessor()));\\n            stringified.subscribe(function(value) {\\n                var val = parseFloat(value);\\n                if (!isNaN(val)) {\\n                    valueAccessor()(val);\\n                }\\n            });\\n            valueAccessor().subscribe(function(value) {\\n                var str = JSON.stringify(value);\\n                if ((str == \\\"0\\\") && ([\\\"-0\\\", \\\"-0.\\\"].indexOf(stringified()) >= 0))\\n                     return;\\n                 if ([\\\"null\\\", \\\"\\\"].indexOf(str) >= 0)\\n                     return;\\n                stringified(str);\\n            });\\n            ko.applyBindingsToNode(\\n                element,\\n                {\\n                    value: stringified,\\n                    valueUpdate: allBindings.get('valueUpdate'),\\n                },\\n                context,\\n            );\\n        }\\n    };\\n    var json_data = {\\\"changes\\\":WebIO.getval({\\\"name\\\":\\\"changes\\\",\\\"scope\\\":\\\"14413233572128440926\\\",\\\"id\\\":\\\"10645388237787760462\\\",\\\"type\\\":\\\"observable\\\"}),\\\"value\\\":WebIO.getval({\\\"name\\\":\\\"value\\\",\\\"scope\\\":\\\"14413233572128440926\\\",\\\"id\\\":\\\"3069100301213992262\\\",\\\"type\\\":\\\"observable\\\"})};\\n    var self = this;\\n    function AppViewModel() {\\n        for (var key in json_data) {\\n            var el = json_data[key];\\n            this[key] = Array.isArray(el) ? ko.observableArray(el) : ko.observable(el);\\n        }\\n        \\n        \\n        [this[\\\"changes\\\"].subscribe((function (val){!(this.valueFromJulia[\\\"changes\\\"]) ? (WebIO.setval({\\\"name\\\":\\\"changes\\\",\\\"scope\\\":\\\"14413233572128440926\\\",\\\"id\\\":\\\"10645388237787760462\\\",\\\"type\\\":\\\"observable\\\"},val)) : undefined; return this.valueFromJulia[\\\"changes\\\"]=false}),self),this[\\\"value\\\"].subscribe((function (val){!(this.valueFromJulia[\\\"value\\\"]) ? (WebIO.setval({\\\"name\\\":\\\"value\\\",\\\"scope\\\":\\\"14413233572128440926\\\",\\\"id\\\":\\\"3069100301213992262\\\",\\\"type\\\":\\\"observable\\\"},val)) : undefined; return this.valueFromJulia[\\\"value\\\"]=false}),self)]\\n        \\n    }\\n    self.model = new AppViewModel();\\n    self.valueFromJulia = {};\\n    for (var key in json_data) {\\n        self.valueFromJulia[key] = false;\\n    }\\n    ko.applyBindings(self.model, self.dom);\\n}\\n);\\n    (WebIO.importBlock({\\\"data\\\":[{\\\"name\\\":\\\"knockout\\\",\\\"type\\\":\\\"js\\\",\\\"url\\\":\\\"\\/assetserver\\/fb6ca08aae97daeb80aa99104c4eddfe76bc6766-knockout.js\\\"},{\\\"name\\\":\\\"knockout_punches\\\",\\\"type\\\":\\\"js\\\",\\\"url\\\":\\\"\\/assetserver\\/1759964e1dbcc22fe1a19531f6579c45d2da7d3e-knockout_punches.js\\\"}],\\\"type\\\":\\\"async_block\\\"})).then((imports) => handler.apply(this, imports));\\n}\\n\"],\"observables\":{\"changes\":{\"sync\":false,\"id\":\"10645388237787760462\",\"value\":0},\"value\":{\"sync\":true,\"id\":\"3069100301213992262\",\"value\":-1}}},\"children\":[{\"props\":{\"className\":\"interact-flex-row interact-widget\"},\"nodeType\":\"DOM\",\"type\":\"node\",\"instanceArgs\":{\"namespace\":\"html\",\"tag\":\"div\"},\"children\":[{\"props\":{\"className\":\"interact-flex-row-left\"},\"nodeType\":\"DOM\",\"type\":\"node\",\"instanceArgs\":{\"namespace\":\"html\",\"tag\":\"div\"},\"children\":[{\"props\":{\"className\":\"interact \",\"style\":{\"padding\":\"5px 10px 0px 10px\"}},\"nodeType\":\"DOM\",\"type\":\"node\",\"instanceArgs\":{\"namespace\":\"html\",\"tag\":\"label\"},\"children\":[\"y\"]}]},{\"props\":{\"className\":\"interact-flex-row-center\"},\"nodeType\":\"DOM\",\"type\":\"node\",\"instanceArgs\":{\"namespace\":\"html\",\"tag\":\"div\"},\"children\":[{\"props\":{\"attributes\":{\"type\":\"number\",\"data-bind\":\"numericValue: value, valueUpdate: 'input', event: {change: function (){this.changes(this.changes()+1)}}\"},\"placeholder\":\"\",\"className\":\"input \",\"style\":{}},\"nodeType\":\"DOM\",\"type\":\"node\",\"instanceArgs\":{\"namespace\":\"html\",\"tag\":\"input\"},\"children\":[]}]},{\"props\":{\"className\":\"interact-flex-row-right\"},\"nodeType\":\"DOM\",\"type\":\"node\",\"instanceArgs\":{\"namespace\":\"html\",\"tag\":\"div\"},\"children\":[{\"props\":{},\"nodeType\":\"DOM\",\"type\":\"node\",\"instanceArgs\":{\"namespace\":\"html\",\"tag\":\"div\"},\"children\":[]}]}]}]}]},{\"props\":{\"className\":\"field interact-widget\"},\"nodeType\":\"DOM\",\"type\":\"node\",\"instanceArgs\":{\"namespace\":\"html\",\"tag\":\"div\"},\"children\":[{\"props\":{},\"nodeType\":\"Scope\",\"type\":\"node\",\"instanceArgs\":{\"imports\":{\"data\":[{\"name\":\"knockout\",\"type\":\"js\",\"url\":\"\\/assetserver\\/fb6ca08aae97daeb80aa99104c4eddfe76bc6766-knockout.js\"},{\"name\":\"knockout_punches\",\"type\":\"js\",\"url\":\"\\/assetserver\\/1759964e1dbcc22fe1a19531f6579c45d2da7d3e-knockout_punches.js\"},{\"name\":null,\"type\":\"js\",\"url\":\"\\/assetserver\\/789869448aff3abaf20e8ce1df06db26f65f635b-all.js\"},{\"name\":null,\"type\":\"css\",\"url\":\"\\/assetserver\\/798d51a5869c99606bb76f940b7af91e76cb0487-style.css\"},{\"name\":null,\"type\":\"css\",\"url\":\"\\/assetserver\\/e2a2c92c154e10beb71b03c08b29cc3ad8175428-bulma_confined.min.css\"}],\"type\":\"async_block\"},\"id\":\"6531354137981019964\",\"handlers\":{\"changes\":[\"(function (val){return (val!=this.model[\\\"changes\\\"]()) ? (this.valueFromJulia[\\\"changes\\\"]=true, this.model[\\\"changes\\\"](val)) : undefined})\"],\"value\":[\"(function (val){return (val!=this.model[\\\"value\\\"]()) ? (this.valueFromJulia[\\\"value\\\"]=true, this.model[\\\"value\\\"](val)) : undefined})\"]},\"systemjs_options\":null,\"mount_callbacks\":[\"function () {\\n    var handler = (function (ko, koPunches) {\\n    ko.punches.enableAll();\\n    ko.bindingHandlers.numericValue = {\\n        init: function(element, valueAccessor, allBindings, data, context) {\\n            var stringified = ko.observable(ko.unwrap(valueAccessor()));\\n            stringified.subscribe(function(value) {\\n                var val = parseFloat(value);\\n                if (!isNaN(val)) {\\n                    valueAccessor()(val);\\n                }\\n            });\\n            valueAccessor().subscribe(function(value) {\\n                var str = JSON.stringify(value);\\n                if ((str == \\\"0\\\") && ([\\\"-0\\\", \\\"-0.\\\"].indexOf(stringified()) >= 0))\\n                     return;\\n                 if ([\\\"null\\\", \\\"\\\"].indexOf(str) >= 0)\\n                     return;\\n                stringified(str);\\n            });\\n            ko.applyBindingsToNode(\\n                element,\\n                {\\n                    value: stringified,\\n                    valueUpdate: allBindings.get('valueUpdate'),\\n                },\\n                context,\\n            );\\n        }\\n    };\\n    var json_data = {\\\"changes\\\":WebIO.getval({\\\"name\\\":\\\"changes\\\",\\\"scope\\\":\\\"6531354137981019964\\\",\\\"id\\\":\\\"7932059719771571884\\\",\\\"type\\\":\\\"observable\\\"}),\\\"value\\\":WebIO.getval({\\\"name\\\":\\\"value\\\",\\\"scope\\\":\\\"6531354137981019964\\\",\\\"id\\\":\\\"10862193655980173664\\\",\\\"type\\\":\\\"observable\\\"})};\\n    var self = this;\\n    function AppViewModel() {\\n        for (var key in json_data) {\\n            var el = json_data[key];\\n            this[key] = Array.isArray(el) ? ko.observableArray(el) : ko.observable(el);\\n        }\\n        \\n        \\n        [this[\\\"changes\\\"].subscribe((function (val){!(this.valueFromJulia[\\\"changes\\\"]) ? (WebIO.setval({\\\"name\\\":\\\"changes\\\",\\\"scope\\\":\\\"6531354137981019964\\\",\\\"id\\\":\\\"7932059719771571884\\\",\\\"type\\\":\\\"observable\\\"},val)) : undefined; return this.valueFromJulia[\\\"changes\\\"]=false}),self),this[\\\"value\\\"].subscribe((function (val){!(this.valueFromJulia[\\\"value\\\"]) ? (WebIO.setval({\\\"name\\\":\\\"value\\\",\\\"scope\\\":\\\"6531354137981019964\\\",\\\"id\\\":\\\"10862193655980173664\\\",\\\"type\\\":\\\"observable\\\"},val)) : undefined; return this.valueFromJulia[\\\"value\\\"]=false}),self)]\\n        \\n    }\\n    self.model = new AppViewModel();\\n    self.valueFromJulia = {};\\n    for (var key in json_data) {\\n        self.valueFromJulia[key] = false;\\n    }\\n    ko.applyBindings(self.model, self.dom);\\n}\\n);\\n    (WebIO.importBlock({\\\"data\\\":[{\\\"name\\\":\\\"knockout\\\",\\\"type\\\":\\\"js\\\",\\\"url\\\":\\\"\\/assetserver\\/fb6ca08aae97daeb80aa99104c4eddfe76bc6766-knockout.js\\\"},{\\\"name\\\":\\\"knockout_punches\\\",\\\"type\\\":\\\"js\\\",\\\"url\\\":\\\"\\/assetserver\\/1759964e1dbcc22fe1a19531f6579c45d2da7d3e-knockout_punches.js\\\"}],\\\"type\\\":\\\"async_block\\\"})).then((imports) => handler.apply(this, imports));\\n}\\n\"],\"observables\":{\"changes\":{\"sync\":false,\"id\":\"7932059719771571884\",\"value\":0},\"value\":{\"sync\":true,\"id\":\"10862193655980173664\",\"value\":1}}},\"children\":[{\"props\":{\"className\":\"interact-flex-row interact-widget\"},\"nodeType\":\"DOM\",\"type\":\"node\",\"instanceArgs\":{\"namespace\":\"html\",\"tag\":\"div\"},\"children\":[{\"props\":{\"className\":\"interact-flex-row-left\"},\"nodeType\":\"DOM\",\"type\":\"node\",\"instanceArgs\":{\"namespace\":\"html\",\"tag\":\"div\"},\"children\":[{\"props\":{\"className\":\"interact \",\"style\":{\"padding\":\"5px 10px 0px 10px\"}},\"nodeType\":\"DOM\",\"type\":\"node\",\"instanceArgs\":{\"namespace\":\"html\",\"tag\":\"label\"},\"children\":[\"z\"]}]},{\"props\":{\"className\":\"interact-flex-row-center\"},\"nodeType\":\"DOM\",\"type\":\"node\",\"instanceArgs\":{\"namespace\":\"html\",\"tag\":\"div\"},\"children\":[{\"props\":{\"attributes\":{\"type\":\"number\",\"data-bind\":\"numericValue: value, valueUpdate: 'input', event: {change: function (){this.changes(this.changes()+1)}}\"},\"placeholder\":\"\",\"className\":\"input \",\"style\":{}},\"nodeType\":\"DOM\",\"type\":\"node\",\"instanceArgs\":{\"namespace\":\"html\",\"tag\":\"input\"},\"children\":[]}]},{\"props\":{\"className\":\"interact-flex-row-right\"},\"nodeType\":\"DOM\",\"type\":\"node\",\"instanceArgs\":{\"namespace\":\"html\",\"tag\":\"div\"},\"children\":[{\"props\":{},\"nodeType\":\"DOM\",\"type\":\"node\",\"instanceArgs\":{\"namespace\":\"html\",\"tag\":\"div\"},\"children\":[]}]}]}]}]},{\"props\":{},\"nodeType\":\"Scope\",\"type\":\"node\",\"instanceArgs\":{\"imports\":{\"data\":[],\"type\":\"async_block\"},\"id\":\"769777308475662166\",\"handlers\":{},\"systemjs_options\":null,\"mount_callbacks\":[],\"observables\":{\"obs-node\":{\"sync\":false,\"id\":\"5540434793713582815\",\"value\":{\"props\":{\"className\":\"interact-flex-row interact-widget\"},\"nodeType\":\"DOM\",\"type\":\"node\",\"instanceArgs\":{\"namespace\":\"html\",\"tag\":\"div\"},\"children\":[{\"props\":{\"setInnerHtml\":\"<?xml version=\\\"1.0\\\" encoding=\\\"utf-8\\\"?>\\n<svg xmlns=\\\"http:\\/\\/www.w3.org\\/2000\\/svg\\\" xmlns:xlink=\\\"http:\\/\\/www.w3.org\\/1999\\/xlink\\\" width=\\\"600\\\" height=\\\"400\\\" viewBox=\\\"0 0 2400 1600\\\">\\n<defs>\\n  <clipPath id=\\\"clip110\\\">\\n    <rect x=\\\"0\\\" y=\\\"0\\\" width=\\\"2400\\\" height=\\\"1600\\\"\\/>\\n  <\\/clipPath>\\n<\\/defs>\\n<path clip-path=\\\"url(#clip110)\\\" d=\\\"\\nM0 1600 L2400 1600 L2400 0 L0 0  Z\\n  \\\" fill=\\\"#ffffff\\\" fill-rule=\\\"evenodd\\\" fill-opacity=\\\"1\\\"\\/>\\n<defs>\\n  <clipPath id=\\\"clip111\\\">\\n    <rect x=\\\"480\\\" y=\\\"0\\\" width=\\\"1681\\\" height=\\\"1600\\\"\\/>\\n  <\\/clipPath>\\n<\\/defs>\\n<defs>\\n  <clipPath id=\\\"clip112\\\">\\n    <rect x=\\\"148\\\" y=\\\"47\\\" width=\\\"1846\\\" height=\\\"1440\\\"\\/>\\n  <\\/clipPath>\\n<\\/defs>\\n<path clip-path=\\\"url(#clip112)\\\" d=\\\"\\nM148.057 1401.43 L148.057 302.298 L823.263 47.2441 L1992.76 132.262 L1992.76 1231.39 L1317.55 1486.45 L148.057 1401.43  Z\\n  \\\" fill=\\\"#ffffff\\\" fill-rule=\\\"evenodd\\\" fill-opacity=\\\"1\\\"\\/>\\n<polyline clip-path=\\\"url(#clip112)\\\" style=\\\"stroke:#000000; stroke-linecap:butt; stroke-linejoin:round; stroke-width:2; stroke-opacity:0.1; fill:none\\\" points=\\\"\\n  181.155,1403.84 856.362,1148.78 \\n  \\\"\\/>\\n<polyline clip-path=\\\"url(#clip112)\\\" style=\\\"stroke:#000000; stroke-linecap:butt; stroke-linejoin:round; stroke-width:2; stroke-opacity:0.1; fill:none\\\" points=\\\"\\n  856.362,1148.78 856.362,49.6503 \\n  \\\"\\/>\\n<polyline clip-path=\\\"url(#clip112)\\\" style=\\\"stroke:#000000; stroke-linecap:butt; stroke-linejoin:round; stroke-width:2; stroke-opacity:0.1; fill:none\\\" points=\\\"\\n  456.979,1423.89 1132.19,1168.83 \\n  \\\"\\/>\\n<polyline clip-path=\\\"url(#clip112)\\\" style=\\\"stroke:#000000; stroke-linecap:butt; stroke-linejoin:round; stroke-width:2; stroke-opacity:0.1; fill:none\\\" points=\\\"\\n  1132.19,1168.83 1132.19,69.7017 \\n  \\\"\\/>\\n<polyline clip-path=\\\"url(#clip112)\\\" style=\\\"stroke:#000000; stroke-linecap:butt; stroke-linejoin:round; stroke-width:2; stroke-opacity:0.1; fill:none\\\" points=\\\"\\n  732.803,1443.94 1408.01,1188.88 \\n  \\\"\\/>\\n<polyline clip-path=\\\"url(#clip112)\\\" style=\\\"stroke:#000000; stroke-linecap:butt; stroke-linejoin:round; stroke-width:2; stroke-opacity:0.1; fill:none\\\" points=\\\"\\n  1408.01,1188.88 1408.01,89.7531 \\n  \\\"\\/>\\n<polyline clip-path=\\\"url(#clip112)\\\" style=\\\"stroke:#000000; stroke-linecap:butt; stroke-linejoin:round; stroke-width:2; stroke-opacity:0.1; fill:none\\\" points=\\\"\\n  1008.63,1463.99 1683.83,1208.94 \\n  \\\"\\/>\\n<polyline clip-path=\\\"url(#clip112)\\\" style=\\\"stroke:#000000; stroke-linecap:butt; stroke-linejoin:round; stroke-width:2; stroke-opacity:0.1; fill:none\\\" points=\\\"\\n  1683.83,1208.94 1683.83,109.805 \\n  \\\"\\/>\\n<polyline clip-path=\\\"url(#clip112)\\\" style=\\\"stroke:#000000; stroke-linecap:butt; stroke-linejoin:round; stroke-width:2; stroke-opacity:0.1; fill:none\\\" points=\\\"\\n  1284.45,1484.04 1959.66,1228.99 \\n  \\\"\\/>\\n<polyline clip-path=\\\"url(#clip112)\\\" style=\\\"stroke:#000000; stroke-linecap:butt; stroke-linejoin:round; stroke-width:2; stroke-opacity:0.1; fill:none\\\" points=\\\"\\n  1959.66,1228.99 1959.66,129.856 \\n  \\\"\\/>\\n<polyline clip-path=\\\"url(#clip110)\\\" style=\\\"stroke:#000000; stroke-linecap:butt; stroke-linejoin:round; stroke-width:4; stroke-opacity:1; fill:none\\\" points=\\\"\\n  148.057,1401.43 1317.55,1486.45 \\n  \\\"\\/>\\n<polyline clip-path=\\\"url(#clip110)\\\" style=\\\"stroke:#000000; stroke-linecap:butt; stroke-linejoin:round; stroke-width:4; stroke-opacity:1; fill:none\\\" points=\\\"\\n  181.155,1403.84 189.258,1400.78 \\n  \\\"\\/>\\n<polyline clip-path=\\\"url(#clip110)\\\" style=\\\"stroke:#000000; stroke-linecap:butt; stroke-linejoin:round; stroke-width:4; stroke-opacity:1; fill:none\\\" points=\\\"\\n  456.979,1423.89 465.082,1420.83 \\n  \\\"\\/>\\n<polyline clip-path=\\\"url(#clip110)\\\" style=\\\"stroke:#000000; stroke-linecap:butt; stroke-linejoin:round; stroke-width:4; stroke-opacity:1; fill:none\\\" points=\\\"\\n  732.803,1443.94 740.905,1440.88 \\n  \\\"\\/>\\n<polyline clip-path=\\\"url(#clip110)\\\" style=\\\"stroke:#000000; stroke-linecap:butt; stroke-linejoin:round; stroke-width:4; stroke-opacity:1; fill:none\\\" points=\\\"\\n  1008.63,1463.99 1016.73,1460.93 \\n  \\\"\\/>\\n<polyline clip-path=\\\"url(#clip110)\\\" style=\\\"stroke:#000000; stroke-linecap:butt; stroke-linejoin:round; stroke-width:4; stroke-opacity:1; fill:none\\\" points=\\\"\\n  1284.45,1484.04 1292.55,1480.98 \\n  \\\"\\/>\\n<path clip-path=\\\"url(#clip110)\\\" d=\\\"M118.952 1433.01 L148.628 1433.01 L148.628 1436.95 L118.952 1436.95 L118.952 1433.01 Z\\\" fill=\\\"#000000\\\" fill-rule=\\\"evenodd\\\" fill-opacity=\\\"1\\\" \\/><path clip-path=\\\"url(#clip110)\\\" d=\\\"M162.748 1445.9 L179.067 1445.9 L179.067 1449.84 L157.123 1449.84 L157.123 1445.9 Q159.785 1443.15 164.368 1438.52 Q168.975 1433.87 170.155 1432.53 Q172.401 1430 173.28 1428.27 Q174.183 1426.51 174.183 1424.82 Q174.183 1422.06 172.239 1420.33 Q170.317 1418.59 167.216 1418.59 Q165.016 1418.59 162.563 1419.35 Q160.132 1420.12 157.354 1421.67 L157.354 1416.95 Q160.179 1415.81 162.632 1415.23 Q165.086 1414.66 167.123 1414.66 Q172.493 1414.66 175.688 1417.34 Q178.882 1420.03 178.882 1424.52 Q178.882 1426.65 178.072 1428.57 Q177.285 1430.47 175.178 1433.06 Q174.6 1433.73 171.498 1436.95 Q168.396 1440.14 162.748 1445.9 Z\\\" fill=\\\"#000000\\\" fill-rule=\\\"evenodd\\\" fill-opacity=\\\"1\\\" \\/><path clip-path=\\\"url(#clip110)\\\" d=\\\"M394.405 1453.06 L424.081 1453.06 L424.081 1457 L394.405 1457 L394.405 1453.06 Z\\\" fill=\\\"#000000\\\" fill-rule=\\\"evenodd\\\" fill-opacity=\\\"1\\\" \\/><path clip-path=\\\"url(#clip110)\\\" d=\\\"M434.984 1465.96 L442.623 1465.96 L442.623 1439.59 L434.312 1441.26 L434.312 1437 L442.576 1435.33 L447.252 1435.33 L447.252 1465.96 L454.891 1465.96 L454.891 1469.89 L434.984 1469.89 L434.984 1465.96 Z\\\" fill=\\\"#000000\\\" fill-rule=\\\"evenodd\\\" fill-opacity=\\\"1\\\" \\/><path clip-path=\\\"url(#clip110)\\\" d=\\\"M718.77 1458.46 Q715.159 1458.46 713.331 1462.03 Q711.525 1465.57 711.525 1472.7 Q711.525 1479.8 713.331 1483.37 Q715.159 1486.91 718.77 1486.91 Q722.405 1486.91 724.21 1483.37 Q726.039 1479.8 726.039 1472.7 Q726.039 1465.57 724.21 1462.03 Q722.405 1458.46 718.77 1458.46 M718.77 1454.76 Q724.58 1454.76 727.636 1459.36 Q730.715 1463.95 730.715 1472.7 Q730.715 1481.42 727.636 1486.03 Q724.58 1490.61 718.77 1490.61 Q712.96 1490.61 709.881 1486.03 Q706.826 1481.42 706.826 1472.7 Q706.826 1463.95 709.881 1459.36 Q712.96 1454.76 718.77 1454.76 Z\\\" fill=\\\"#000000\\\" fill-rule=\\\"evenodd\\\" fill-opacity=\\\"1\\\" \\/><path clip-path=\\\"url(#clip110)\\\" d=\\\"M986.631 1506.06 L994.27 1506.06 L994.27 1479.69 L985.96 1481.36 L985.96 1477.1 L994.224 1475.43 L998.9 1475.43 L998.9 1506.06 L1006.54 1506.06 L1006.54 1509.99 L986.631 1509.99 L986.631 1506.06 Z\\\" fill=\\\"#000000\\\" fill-rule=\\\"evenodd\\\" fill-opacity=\\\"1\\\" \\/><path clip-path=\\\"url(#clip110)\\\" d=\\\"M1266.04 1526.11 L1282.36 1526.11 L1282.36 1530.05 L1260.42 1530.05 L1260.42 1526.11 Q1263.08 1523.36 1267.66 1518.73 Q1272.27 1514.07 1273.45 1512.73 Q1275.7 1510.21 1276.58 1508.47 Q1277.48 1506.71 1277.48 1505.02 Q1277.48 1502.27 1275.53 1500.53 Q1273.61 1498.8 1270.51 1498.8 Q1268.31 1498.8 1265.86 1499.56 Q1263.43 1500.32 1260.65 1501.87 L1260.65 1497.15 Q1263.47 1496.02 1265.93 1495.44 Q1268.38 1494.86 1270.42 1494.86 Q1275.79 1494.86 1278.98 1497.55 Q1282.18 1500.23 1282.18 1504.72 Q1282.18 1506.85 1281.37 1508.77 Q1280.58 1510.67 1278.47 1513.26 Q1277.89 1513.93 1274.79 1517.15 Q1271.69 1520.35 1266.04 1526.11 Z\\\" fill=\\\"#000000\\\" fill-rule=\\\"evenodd\\\" fill-opacity=\\\"1\\\" \\/><polyline clip-path=\\\"url(#clip112)\\\" style=\\\"stroke:#000000; stroke-linecap:butt; stroke-linejoin:round; stroke-width:2; stroke-opacity:0.1; fill:none\\\" points=\\\"\\n  1336.66,1479.23 167.166,1394.21 \\n  \\\"\\/>\\n<polyline clip-path=\\\"url(#clip112)\\\" style=\\\"stroke:#000000; stroke-linecap:butt; stroke-linejoin:round; stroke-width:2; stroke-opacity:0.1; fill:none\\\" points=\\\"\\n  167.166,1394.21 167.166,295.08 \\n  \\\"\\/>\\n<polyline clip-path=\\\"url(#clip112)\\\" style=\\\"stroke:#000000; stroke-linecap:butt; stroke-linejoin:round; stroke-width:2; stroke-opacity:0.1; fill:none\\\" points=\\\"\\n  1495.91,1419.08 326.413,1334.06 \\n  \\\"\\/>\\n<polyline clip-path=\\\"url(#clip112)\\\" style=\\\"stroke:#000000; stroke-linecap:butt; stroke-linejoin:round; stroke-width:2; stroke-opacity:0.1; fill:none\\\" points=\\\"\\n  326.413,1334.06 326.413,234.926 \\n  \\\"\\/>\\n<polyline clip-path=\\\"url(#clip112)\\\" style=\\\"stroke:#000000; stroke-linecap:butt; stroke-linejoin:round; stroke-width:2; stroke-opacity:0.1; fill:none\\\" points=\\\"\\n  1655.15,1358.92 485.66,1273.9 \\n  \\\"\\/>\\n<polyline clip-path=\\\"url(#clip112)\\\" style=\\\"stroke:#000000; stroke-linecap:butt; stroke-linejoin:round; stroke-width:2; stroke-opacity:0.1; fill:none\\\" points=\\\"\\n  485.66,1273.9 485.66,174.771 \\n  \\\"\\/>\\n<polyline clip-path=\\\"url(#clip112)\\\" style=\\\"stroke:#000000; stroke-linecap:butt; stroke-linejoin:round; stroke-width:2; stroke-opacity:0.1; fill:none\\\" points=\\\"\\n  1814.4,1298.77 644.907,1213.75 \\n  \\\"\\/>\\n<polyline clip-path=\\\"url(#clip112)\\\" style=\\\"stroke:#000000; stroke-linecap:butt; stroke-linejoin:round; stroke-width:2; stroke-opacity:0.1; fill:none\\\" points=\\\"\\n  644.907,1213.75 644.907,114.617 \\n  \\\"\\/>\\n<polyline clip-path=\\\"url(#clip112)\\\" style=\\\"stroke:#000000; stroke-linecap:butt; stroke-linejoin:round; stroke-width:2; stroke-opacity:0.1; fill:none\\\" points=\\\"\\n  1973.65,1238.61 804.154,1153.59 \\n  \\\"\\/>\\n<polyline clip-path=\\\"url(#clip112)\\\" style=\\\"stroke:#000000; stroke-linecap:butt; stroke-linejoin:round; stroke-width:2; stroke-opacity:0.1; fill:none\\\" points=\\\"\\n  804.154,1153.59 804.154,54.4626 \\n  \\\"\\/>\\n<polyline clip-path=\\\"url(#clip110)\\\" style=\\\"stroke:#000000; stroke-linecap:butt; stroke-linejoin:round; stroke-width:4; stroke-opacity:1; fill:none\\\" points=\\\"\\n  1317.55,1486.45 1992.76,1231.39 \\n  \\\"\\/>\\n<polyline clip-path=\\\"url(#clip110)\\\" style=\\\"stroke:#000000; stroke-linecap:butt; stroke-linejoin:round; stroke-width:4; stroke-opacity:1; fill:none\\\" points=\\\"\\n  1336.66,1479.23 1322.62,1478.21 \\n  \\\"\\/>\\n<polyline clip-path=\\\"url(#clip110)\\\" style=\\\"stroke:#000000; stroke-linecap:butt; stroke-linejoin:round; stroke-width:4; stroke-opacity:1; fill:none\\\" points=\\\"\\n  1495.91,1419.08 1481.87,1418.05 \\n  \\\"\\/>\\n<polyline clip-path=\\\"url(#clip110)\\\" style=\\\"stroke:#000000; stroke-linecap:butt; stroke-linejoin:round; stroke-width:4; stroke-opacity:1; fill:none\\\" points=\\\"\\n  1655.15,1358.92 1641.12,1357.9 \\n  \\\"\\/>\\n<polyline clip-path=\\\"url(#clip110)\\\" style=\\\"stroke:#000000; stroke-linecap:butt; stroke-linejoin:round; stroke-width:4; stroke-opacity:1; fill:none\\\" points=\\\"\\n  1814.4,1298.77 1800.37,1297.75 \\n  \\\"\\/>\\n<polyline clip-path=\\\"url(#clip110)\\\" style=\\\"stroke:#000000; stroke-linecap:butt; stroke-linejoin:round; stroke-width:4; stroke-opacity:1; fill:none\\\" points=\\\"\\n  1973.65,1238.61 1959.61,1237.59 \\n  \\\"\\/>\\n<path clip-path=\\\"url(#clip110)\\\" d=\\\"M1346.84 1506.62 L1376.51 1506.62 L1376.51 1510.56 L1346.84 1510.56 L1346.84 1506.62 Z\\\" fill=\\\"#000000\\\" fill-rule=\\\"evenodd\\\" fill-opacity=\\\"1\\\" \\/><path clip-path=\\\"url(#clip110)\\\" d=\\\"M1390.63 1519.52 L1406.95 1519.52 L1406.95 1523.45 L1385.01 1523.45 L1385.01 1519.52 Q1387.67 1516.76 1392.25 1512.13 Q1396.86 1507.48 1398.04 1506.14 Q1400.28 1503.61 1401.16 1501.88 Q1402.07 1500.12 1402.07 1498.43 Q1402.07 1495.67 1400.12 1493.94 Q1398.2 1492.2 1395.1 1492.2 Q1392.9 1492.2 1390.45 1492.97 Q1388.02 1493.73 1385.24 1495.28 L1385.24 1490.56 Q1388.06 1489.42 1390.52 1488.84 Q1392.97 1488.27 1395.01 1488.27 Q1400.38 1488.27 1403.57 1490.95 Q1406.77 1493.64 1406.77 1498.13 Q1406.77 1500.26 1405.96 1502.18 Q1405.17 1504.08 1403.06 1506.67 Q1402.48 1507.34 1399.38 1510.56 Q1396.28 1513.75 1390.63 1519.52 Z\\\" fill=\\\"#000000\\\" fill-rule=\\\"evenodd\\\" fill-opacity=\\\"1\\\" \\/><path clip-path=\\\"url(#clip110)\\\" d=\\\"M1506.08 1446.47 L1535.76 1446.47 L1535.76 1450.4 L1506.08 1450.4 L1506.08 1446.47 Z\\\" fill=\\\"#000000\\\" fill-rule=\\\"evenodd\\\" fill-opacity=\\\"1\\\" \\/><path clip-path=\\\"url(#clip110)\\\" d=\\\"M1546.66 1459.36 L1554.3 1459.36 L1554.3 1433 L1545.99 1434.66 L1545.99 1430.4 L1554.25 1428.74 L1558.93 1428.74 L1558.93 1459.36 L1566.57 1459.36 L1566.57 1463.3 L1546.66 1463.3 L1546.66 1459.36 Z\\\" fill=\\\"#000000\\\" fill-rule=\\\"evenodd\\\" fill-opacity=\\\"1\\\" \\/><path clip-path=\\\"url(#clip110)\\\" d=\\\"M1677.27 1371.66 Q1673.66 1371.66 1671.83 1375.23 Q1670.03 1378.77 1670.03 1385.9 Q1670.03 1393 1671.83 1396.57 Q1673.66 1400.11 1677.27 1400.11 Q1680.91 1400.11 1682.71 1396.57 Q1684.54 1393 1684.54 1385.9 Q1684.54 1378.77 1682.71 1375.23 Q1680.91 1371.66 1677.27 1371.66 M1677.27 1367.96 Q1683.08 1367.96 1686.14 1372.56 Q1689.22 1377.15 1689.22 1385.9 Q1689.22 1394.62 1686.14 1399.23 Q1683.08 1403.81 1677.27 1403.81 Q1671.46 1403.81 1668.39 1399.23 Q1665.33 1394.62 1665.33 1385.9 Q1665.33 1377.15 1668.39 1372.56 Q1671.46 1367.96 1677.27 1367.96 Z\\\" fill=\\\"#000000\\\" fill-rule=\\\"evenodd\\\" fill-opacity=\\\"1\\\" \\/><path clip-path=\\\"url(#clip110)\\\" d=\\\"M1825.25 1339.05 L1832.89 1339.05 L1832.89 1312.69 L1824.58 1314.35 L1824.58 1310.09 L1832.84 1308.43 L1837.52 1308.43 L1837.52 1339.05 L1845.16 1339.05 L1845.16 1342.99 L1825.25 1342.99 L1825.25 1339.05 Z\\\" fill=\\\"#000000\\\" fill-rule=\\\"evenodd\\\" fill-opacity=\\\"1\\\" \\/><path clip-path=\\\"url(#clip110)\\\" d=\\\"M1989.45 1278.9 L2005.77 1278.9 L2005.77 1282.83 L1983.82 1282.83 L1983.82 1278.9 Q1986.49 1276.14 1991.07 1271.51 Q1995.68 1266.86 1996.86 1265.52 Q1999.1 1263 1999.98 1261.26 Q2000.88 1259.5 2000.88 1257.81 Q2000.88 1255.06 1998.94 1253.32 Q1997.02 1251.58 1993.92 1251.58 Q1991.72 1251.58 1989.26 1252.35 Q1986.83 1253.11 1984.05 1254.66 L1984.05 1249.94 Q1986.88 1248.81 1989.33 1248.23 Q1991.79 1247.65 1993.82 1247.65 Q1999.19 1247.65 2002.39 1250.33 Q2005.58 1253.02 2005.58 1257.51 Q2005.58 1259.64 2004.77 1261.56 Q2003.99 1263.46 2001.88 1266.05 Q2001.3 1266.72 1998.2 1269.94 Q1995.1 1273.13 1989.45 1278.9 Z\\\" fill=\\\"#000000\\\" fill-rule=\\\"evenodd\\\" fill-opacity=\\\"1\\\" \\/><polyline clip-path=\\\"url(#clip112)\\\" style=\\\"stroke:#000000; stroke-linecap:butt; stroke-linejoin:round; stroke-width:2; stroke-opacity:0.1; fill:none\\\" points=\\\"\\n  148.057,1300.86 823.263,1045.81 \\n  \\\"\\/>\\n<polyline clip-path=\\\"url(#clip112)\\\" style=\\\"stroke:#000000; stroke-linecap:butt; stroke-linejoin:round; stroke-width:2; stroke-opacity:0.1; fill:none\\\" points=\\\"\\n  823.263,1045.81 1992.76,1130.83 \\n  \\\"\\/>\\n<polyline clip-path=\\\"url(#clip112)\\\" style=\\\"stroke:#000000; stroke-linecap:butt; stroke-linejoin:round; stroke-width:2; stroke-opacity:0.1; fill:none\\\" points=\\\"\\n  148.057,1151.2 823.263,896.142 \\n  \\\"\\/>\\n<polyline clip-path=\\\"url(#clip112)\\\" style=\\\"stroke:#000000; stroke-linecap:butt; stroke-linejoin:round; stroke-width:2; stroke-opacity:0.1; fill:none\\\" points=\\\"\\n  823.263,896.142 1992.76,981.16 \\n  \\\"\\/>\\n<polyline clip-path=\\\"url(#clip112)\\\" style=\\\"stroke:#000000; stroke-linecap:butt; stroke-linejoin:round; stroke-width:2; stroke-opacity:0.1; fill:none\\\" points=\\\"\\n  148.057,1001.53 823.263,746.476 \\n  \\\"\\/>\\n<polyline clip-path=\\\"url(#clip112)\\\" style=\\\"stroke:#000000; stroke-linecap:butt; stroke-linejoin:round; stroke-width:2; stroke-opacity:0.1; fill:none\\\" points=\\\"\\n  823.263,746.476 1992.76,831.494 \\n  \\\"\\/>\\n<polyline clip-path=\\\"url(#clip112)\\\" style=\\\"stroke:#000000; stroke-linecap:butt; stroke-linejoin:round; stroke-width:2; stroke-opacity:0.1; fill:none\\\" points=\\\"\\n  148.057,851.864 823.263,596.81 \\n  \\\"\\/>\\n<polyline clip-path=\\\"url(#clip112)\\\" style=\\\"stroke:#000000; stroke-linecap:butt; stroke-linejoin:round; stroke-width:2; stroke-opacity:0.1; fill:none\\\" points=\\\"\\n  823.263,596.81 1992.76,681.828 \\n  \\\"\\/>\\n<polyline clip-path=\\\"url(#clip112)\\\" style=\\\"stroke:#000000; stroke-linecap:butt; stroke-linejoin:round; stroke-width:2; stroke-opacity:0.1; fill:none\\\" points=\\\"\\n  148.057,702.198 823.263,447.144 \\n  \\\"\\/>\\n<polyline clip-path=\\\"url(#clip112)\\\" style=\\\"stroke:#000000; stroke-linecap:butt; stroke-linejoin:round; stroke-width:2; stroke-opacity:0.1; fill:none\\\" points=\\\"\\n  823.263,447.144 1992.76,532.162 \\n  \\\"\\/>\\n<polyline clip-path=\\\"url(#clip112)\\\" style=\\\"stroke:#000000; stroke-linecap:butt; stroke-linejoin:round; stroke-width:2; stroke-opacity:0.1; fill:none\\\" points=\\\"\\n  148.057,552.532 823.263,297.478 \\n  \\\"\\/>\\n<polyline clip-path=\\\"url(#clip112)\\\" style=\\\"stroke:#000000; stroke-linecap:butt; stroke-linejoin:round; stroke-width:2; stroke-opacity:0.1; fill:none\\\" points=\\\"\\n  823.263,297.478 1992.76,382.496 \\n  \\\"\\/>\\n<polyline clip-path=\\\"url(#clip112)\\\" style=\\\"stroke:#000000; stroke-linecap:butt; stroke-linejoin:round; stroke-width:2; stroke-opacity:0.1; fill:none\\\" points=\\\"\\n  148.057,402.866 823.263,147.812 \\n  \\\"\\/>\\n<polyline clip-path=\\\"url(#clip112)\\\" style=\\\"stroke:#000000; stroke-linecap:butt; stroke-linejoin:round; stroke-width:2; stroke-opacity:0.1; fill:none\\\" points=\\\"\\n  823.263,147.812 1992.76,232.83 \\n  \\\"\\/>\\n<polyline clip-path=\\\"url(#clip110)\\\" style=\\\"stroke:#000000; stroke-linecap:butt; stroke-linejoin:round; stroke-width:4; stroke-opacity:1; fill:none\\\" points=\\\"\\n  148.057,1401.43 148.057,302.298 \\n  \\\"\\/>\\n<polyline clip-path=\\\"url(#clip110)\\\" style=\\\"stroke:#000000; stroke-linecap:butt; stroke-linejoin:round; stroke-width:4; stroke-opacity:1; fill:none\\\" points=\\\"\\n  148.057,1300.86 156.159,1297.8 \\n  \\\"\\/>\\n<polyline clip-path=\\\"url(#clip110)\\\" style=\\\"stroke:#000000; stroke-linecap:butt; stroke-linejoin:round; stroke-width:4; stroke-opacity:1; fill:none\\\" points=\\\"\\n  148.057,1151.2 156.159,1148.14 \\n  \\\"\\/>\\n<polyline clip-path=\\\"url(#clip110)\\\" style=\\\"stroke:#000000; stroke-linecap:butt; stroke-linejoin:round; stroke-width:4; stroke-opacity:1; fill:none\\\" points=\\\"\\n  148.057,1001.53 156.159,998.469 \\n  \\\"\\/>\\n<polyline clip-path=\\\"url(#clip110)\\\" style=\\\"stroke:#000000; stroke-linecap:butt; stroke-linejoin:round; stroke-width:4; stroke-opacity:1; fill:none\\\" points=\\\"\\n  148.057,851.864 156.159,848.803 \\n  \\\"\\/>\\n<polyline clip-path=\\\"url(#clip110)\\\" style=\\\"stroke:#000000; stroke-linecap:butt; stroke-linejoin:round; stroke-width:4; stroke-opacity:1; fill:none\\\" points=\\\"\\n  148.057,702.198 156.159,699.137 \\n  \\\"\\/>\\n<polyline clip-path=\\\"url(#clip110)\\\" style=\\\"stroke:#000000; stroke-linecap:butt; stroke-linejoin:round; stroke-width:4; stroke-opacity:1; fill:none\\\" points=\\\"\\n  148.057,552.532 156.159,549.471 \\n  \\\"\\/>\\n<polyline clip-path=\\\"url(#clip110)\\\" style=\\\"stroke:#000000; stroke-linecap:butt; stroke-linejoin:round; stroke-width:4; stroke-opacity:1; fill:none\\\" points=\\\"\\n  148.057,402.866 156.159,399.805 \\n  \\\"\\/>\\n<path clip-path=\\\"url(#clip110)\\\" d=\\\"M58.1921 1301.31 L87.8679 1301.31 L87.8679 1305.25 L58.1921 1305.25 L58.1921 1301.31 Z\\\" fill=\\\"#000000\\\" fill-rule=\\\"evenodd\\\" fill-opacity=\\\"1\\\" \\/><path clip-path=\\\"url(#clip110)\\\" d=\\\"M112.127 1299.51 Q115.483 1300.23 117.358 1302.49 Q119.257 1304.76 119.257 1308.1 Q119.257 1313.21 115.738 1316.01 Q112.22 1318.81 105.738 1318.81 Q103.562 1318.81 101.247 1318.37 Q98.9558 1317.96 96.5021 1317.1 L96.5021 1312.59 Q98.4465 1313.72 100.761 1314.3 Q103.076 1314.88 105.599 1314.88 Q109.997 1314.88 112.289 1313.14 Q114.604 1311.41 114.604 1308.1 Q114.604 1305.04 112.451 1303.33 Q110.321 1301.59 106.502 1301.59 L102.474 1301.59 L102.474 1297.75 L106.687 1297.75 Q110.136 1297.75 111.965 1296.38 Q113.794 1294.99 113.794 1292.4 Q113.794 1289.74 111.896 1288.33 Q110.021 1286.89 106.502 1286.89 Q104.581 1286.89 102.382 1287.31 Q100.183 1287.73 97.5438 1288.61 L97.5438 1284.44 Q100.206 1283.7 102.521 1283.33 Q104.859 1282.96 106.919 1282.96 Q112.243 1282.96 115.345 1285.39 Q118.446 1287.79 118.446 1291.92 Q118.446 1294.79 116.803 1296.78 Q115.159 1298.74 112.127 1299.51 Z\\\" fill=\\\"#000000\\\" fill-rule=\\\"evenodd\\\" fill-opacity=\\\"1\\\" \\/><path clip-path=\\\"url(#clip110)\\\" d=\\\"M59.1412 1151.65 L88.817 1151.65 L88.817 1155.58 L59.1412 1155.58 L59.1412 1151.65 Z\\\" fill=\\\"#000000\\\" fill-rule=\\\"evenodd\\\" fill-opacity=\\\"1\\\" \\/><path clip-path=\\\"url(#clip110)\\\" d=\\\"M102.937 1164.54 L119.257 1164.54 L119.257 1168.48 L97.3123 1168.48 L97.3123 1164.54 Q99.9743 1161.79 104.558 1157.16 Q109.164 1152.5 110.345 1151.16 Q112.59 1148.64 113.47 1146.9 Q114.372 1145.14 114.372 1143.45 Q114.372 1140.7 112.428 1138.96 Q110.507 1137.23 107.405 1137.23 Q105.206 1137.23 102.752 1137.99 Q100.322 1138.75 97.5438 1140.3 L97.5438 1135.58 Q100.368 1134.45 102.822 1133.87 Q105.275 1133.29 107.312 1133.29 Q112.683 1133.29 115.877 1135.98 Q119.071 1138.66 119.071 1143.15 Q119.071 1145.28 118.261 1147.2 Q117.474 1149.1 115.368 1151.69 Q114.789 1152.37 111.687 1155.58 Q108.585 1158.78 102.937 1164.54 Z\\\" fill=\\\"#000000\\\" fill-rule=\\\"evenodd\\\" fill-opacity=\\\"1\\\" \\/><path clip-path=\\\"url(#clip110)\\\" d=\\\"M58.7708 1001.98 L88.4466 1001.98 L88.4466 1005.92 L58.7708 1005.92 L58.7708 1001.98 Z\\\" fill=\\\"#000000\\\" fill-rule=\\\"evenodd\\\" fill-opacity=\\\"1\\\" \\/><path clip-path=\\\"url(#clip110)\\\" d=\\\"M99.3493 1014.87 L106.988 1014.87 L106.988 988.509 L98.678 990.176 L98.678 985.917 L106.942 984.25 L111.618 984.25 L111.618 1014.87 L119.257 1014.87 L119.257 1018.81 L99.3493 1018.81 L99.3493 1014.87 Z\\\" fill=\\\"#000000\\\" fill-rule=\\\"evenodd\\\" fill-opacity=\\\"1\\\" \\/><path clip-path=\\\"url(#clip110)\\\" d=\\\"M107.312 837.663 Q103.701 837.663 101.872 841.228 Q100.067 844.769 100.067 851.899 Q100.067 859.005 101.872 862.57 Q103.701 866.112 107.312 866.112 Q110.946 866.112 112.752 862.57 Q114.581 859.005 114.581 851.899 Q114.581 844.769 112.752 841.228 Q110.946 837.663 107.312 837.663 M107.312 833.959 Q113.122 833.959 116.178 838.566 Q119.257 843.149 119.257 851.899 Q119.257 860.626 116.178 865.232 Q113.122 869.815 107.312 869.815 Q101.502 869.815 98.4234 865.232 Q95.3679 860.626 95.3679 851.899 Q95.3679 843.149 98.4234 838.566 Q101.502 833.959 107.312 833.959 Z\\\" fill=\\\"#000000\\\" fill-rule=\\\"evenodd\\\" fill-opacity=\\\"1\\\" \\/><path clip-path=\\\"url(#clip110)\\\" d=\\\"M99.3493 715.543 L106.988 715.543 L106.988 689.177 L98.678 690.844 L98.678 686.585 L106.942 684.918 L111.618 684.918 L111.618 715.543 L119.257 715.543 L119.257 719.478 L99.3493 719.478 L99.3493 715.543 Z\\\" fill=\\\"#000000\\\" fill-rule=\\\"evenodd\\\" fill-opacity=\\\"1\\\" \\/><path clip-path=\\\"url(#clip110)\\\" d=\\\"M102.937 565.877 L119.257 565.877 L119.257 569.812 L97.3123 569.812 L97.3123 565.877 Q99.9743 563.122 104.558 558.493 Q109.164 553.84 110.345 552.497 Q112.59 549.974 113.47 548.238 Q114.372 546.479 114.372 544.789 Q114.372 542.034 112.428 540.298 Q110.507 538.562 107.405 538.562 Q105.206 538.562 102.752 539.326 Q100.322 540.09 97.5438 541.641 L97.5438 536.919 Q100.368 535.785 102.822 535.206 Q105.275 534.627 107.312 534.627 Q112.683 534.627 115.877 537.312 Q119.071 539.997 119.071 544.488 Q119.071 546.618 118.261 548.539 Q117.474 550.437 115.368 553.03 Q114.789 553.701 111.687 556.919 Q108.585 560.113 102.937 565.877 Z\\\" fill=\\\"#000000\\\" fill-rule=\\\"evenodd\\\" fill-opacity=\\\"1\\\" \\/><path clip-path=\\\"url(#clip110)\\\" d=\\\"M112.127 401.512 Q115.483 402.23 117.358 404.498 Q119.257 406.767 119.257 410.1 Q119.257 415.216 115.738 418.017 Q112.22 420.817 105.738 420.817 Q103.562 420.817 101.247 420.378 Q98.9558 419.961 96.5021 419.104 L96.5021 414.591 Q98.4465 415.725 100.761 416.304 Q103.076 416.882 105.599 416.882 Q109.997 416.882 112.289 415.146 Q114.604 413.41 114.604 410.1 Q114.604 407.044 112.451 405.331 Q110.321 403.595 106.502 403.595 L102.474 403.595 L102.474 399.753 L106.687 399.753 Q110.136 399.753 111.965 398.387 Q113.794 396.998 113.794 394.406 Q113.794 391.744 111.896 390.331 Q110.021 388.896 106.502 388.896 Q104.581 388.896 102.382 389.313 Q100.183 389.73 97.5438 390.609 L97.5438 386.443 Q100.206 385.702 102.521 385.332 Q104.859 384.961 106.919 384.961 Q112.243 384.961 115.345 387.392 Q118.446 389.799 118.446 393.919 Q118.446 396.79 116.803 398.781 Q115.159 400.748 112.127 401.512 Z\\\" fill=\\\"#000000\\\" fill-rule=\\\"evenodd\\\" fill-opacity=\\\"1\\\" \\/><circle clip-path=\\\"url(#clip112)\\\" cx=\\\"1186.98\\\" cy=\\\"697.386\\\" r=\\\"14\\\" fill=\\\"#009af9\\\" fill-rule=\\\"evenodd\\\" fill-opacity=\\\"1\\\" stroke=\\\"#000000\\\" stroke-opacity=\\\"1\\\" stroke-width=\\\"3.2\\\"\\/>\\n<circle clip-path=\\\"url(#clip112)\\\" cx=\\\"709.242\\\" cy=\\\"662.656\\\" r=\\\"14\\\" fill=\\\"#e26f46\\\" fill-rule=\\\"evenodd\\\" fill-opacity=\\\"1\\\" stroke=\\\"#000000\\\" stroke-opacity=\\\"1\\\" stroke-width=\\\"3.2\\\"\\/>\\n<polyline clip-path=\\\"url(#clip112)\\\" style=\\\"stroke:#0000ff; stroke-linecap:butt; stroke-linejoin:round; stroke-width:4; stroke-opacity:1; fill:none\\\" points=\\\"\\n  1070.41,766.846 1186.98,697.386 \\n  \\\"\\/>\\n<polyline clip-path=\\\"url(#clip112)\\\" style=\\\"stroke:#ff0000; stroke-linecap:butt; stroke-linejoin:round; stroke-width:4; stroke-opacity:1; fill:none\\\" points=\\\"\\n  1070.41,766.846 709.242,662.656 \\n  \\\"\\/>\\n<path clip-path=\\\"url(#clip112)\\\" d=\\\"\\nM837.253 526.229 L200.265 1365.51 L1303.56 1007.46 L1940.55 168.182  Z\\n  \\\" fill=\\\"#bb3754\\\" fill-rule=\\\"evenodd\\\" fill-opacity=\\\"0.5\\\"\\/>\\n<defs>\\n  <clipPath id=\\\"clip113\\\">\\n    <rect x=\\\"2160\\\" y=\\\"47\\\" width=\\\"73\\\" height=\\\"1440\\\"\\/>\\n  <\\/clipPath>\\n<\\/defs>\\n<g clip-path=\\\"url(#clip113)\\\">\\n<image width=\\\"72\\\" height=\\\"1439\\\" xlink:href=\\\"data:image\\/png;base64,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\\nBYGCQOE\\/LrLuTX\\/wFc8AAAAASUVORK5CYII=\\n\\\" transform=\\\"translate(2161, 47)\\\"\\/>\\n<\\/g>\\n<path clip-path=\\\"url(#clip110)\\\" d=\\\"M2268.76 1386.86 L2298.43 1386.86 L2298.43 1390.8 L2268.76 1390.8 L2268.76 1386.86 Z\\\" fill=\\\"#000000\\\" fill-rule=\\\"evenodd\\\" fill-opacity=\\\"1\\\" \\/><path clip-path=\\\"url(#clip110)\\\" d=\\\"M2322.69 1385.06 Q2326.05 1385.77 2327.92 1388.04 Q2329.82 1390.31 2329.82 1393.64 Q2329.82 1398.76 2326.3 1401.56 Q2322.78 1404.36 2316.3 1404.36 Q2314.13 1404.36 2311.81 1403.92 Q2309.52 1403.51 2307.07 1402.65 L2307.07 1398.14 Q2309.01 1399.27 2311.33 1399.85 Q2313.64 1400.43 2316.16 1400.43 Q2320.56 1400.43 2322.85 1398.69 Q2325.17 1396.95 2325.17 1393.64 Q2325.17 1390.59 2323.01 1388.88 Q2320.89 1387.14 2317.07 1387.14 L2313.04 1387.14 L2313.04 1383.3 L2317.25 1383.3 Q2320.7 1383.3 2322.53 1381.93 Q2324.36 1380.54 2324.36 1377.95 Q2324.36 1375.29 2322.46 1373.88 Q2320.58 1372.44 2317.07 1372.44 Q2315.14 1372.44 2312.95 1372.86 Q2310.75 1373.27 2308.11 1374.15 L2308.11 1369.99 Q2310.77 1369.25 2313.08 1368.88 Q2315.42 1368.51 2317.48 1368.51 Q2322.81 1368.51 2325.91 1370.94 Q2329.01 1373.34 2329.01 1377.46 Q2329.01 1380.33 2327.37 1382.33 Q2325.72 1384.29 2322.69 1385.06 Z\\\" fill=\\\"#000000\\\" fill-rule=\\\"evenodd\\\" fill-opacity=\\\"1\\\" \\/><path clip-path=\\\"url(#clip110)\\\" d=\\\"M2268.76 1179.13 L2298.43 1179.13 L2298.43 1183.07 L2268.76 1183.07 L2268.76 1179.13 Z\\\" fill=\\\"#000000\\\" fill-rule=\\\"evenodd\\\" fill-opacity=\\\"1\\\" \\/><path clip-path=\\\"url(#clip110)\\\" d=\\\"M2312.55 1192.02 L2328.87 1192.02 L2328.87 1195.96 L2306.93 1195.96 L2306.93 1192.02 Q2309.59 1189.27 2314.17 1184.64 Q2318.78 1179.99 2319.96 1178.64 Q2322.2 1176.12 2323.08 1174.39 Q2323.99 1172.63 2323.99 1170.94 Q2323.99 1168.18 2322.04 1166.45 Q2320.12 1164.71 2317.02 1164.71 Q2314.82 1164.71 2312.37 1165.47 Q2309.94 1166.24 2307.16 1167.79 L2307.16 1163.07 Q2309.98 1161.93 2312.44 1161.35 Q2314.89 1160.77 2316.93 1160.77 Q2322.3 1160.77 2325.49 1163.46 Q2328.69 1166.14 2328.69 1170.64 Q2328.69 1172.77 2327.88 1174.69 Q2327.09 1176.58 2324.98 1179.18 Q2324.4 1179.85 2321.3 1183.07 Q2318.2 1186.26 2312.55 1192.02 Z\\\" fill=\\\"#000000\\\" fill-rule=\\\"evenodd\\\" fill-opacity=\\\"1\\\" \\/><path clip-path=\\\"url(#clip110)\\\" d=\\\"M2268.76 971.4 L2298.43 971.4 L2298.43 975.335 L2268.76 975.335 L2268.76 971.4 Z\\\" fill=\\\"#000000\\\" fill-rule=\\\"evenodd\\\" fill-opacity=\\\"1\\\" \\/><path clip-path=\\\"url(#clip110)\\\" d=\\\"M2309.33 984.293 L2316.97 984.293 L2316.97 957.928 L2308.66 959.594 L2308.66 955.335 L2316.93 953.668 L2321.6 953.668 L2321.6 984.293 L2329.24 984.293 L2329.24 988.228 L2309.33 988.228 L2309.33 984.293 Z\\\" fill=\\\"#000000\\\" fill-rule=\\\"evenodd\\\" fill-opacity=\\\"1\\\" \\/><path clip-path=\\\"url(#clip110)\\\" d=\\\"M2280.7 749.016 Q2277.09 749.016 2275.26 752.581 Q2273.45 756.122 2273.45 763.252 Q2273.45 770.358 2275.26 773.923 Q2277.09 777.465 2280.7 777.465 Q2284.33 777.465 2286.14 773.923 Q2287.97 770.358 2287.97 763.252 Q2287.97 756.122 2286.14 752.581 Q2284.33 749.016 2280.7 749.016 M2280.7 745.312 Q2286.51 745.312 2289.57 749.919 Q2292.64 754.502 2292.64 763.252 Q2292.64 771.979 2289.57 776.585 Q2286.51 781.168 2280.7 781.168 Q2274.89 781.168 2271.81 776.585 Q2268.76 771.979 2268.76 763.252 Q2268.76 754.502 2271.81 749.919 Q2274.89 745.312 2280.7 745.312 Z\\\" fill=\\\"#000000\\\" fill-rule=\\\"evenodd\\\" fill-opacity=\\\"1\\\" \\/><path clip-path=\\\"url(#clip110)\\\" d=\\\"M2269.43 568.831 L2277.07 568.831 L2277.07 542.465 L2268.76 544.132 L2268.76 539.873 L2277.02 538.206 L2281.7 538.206 L2281.7 568.831 L2289.33 568.831 L2289.33 572.766 L2269.43 572.766 L2269.43 568.831 Z\\\" fill=\\\"#000000\\\" fill-rule=\\\"evenodd\\\" fill-opacity=\\\"1\\\" \\/><path clip-path=\\\"url(#clip110)\\\" d=\\\"M2274.38 361.1 L2290.7 361.1 L2290.7 365.035 L2268.76 365.035 L2268.76 361.1 Q2271.42 358.345 2276 353.715 Q2280.61 349.063 2281.79 347.72 Q2284.03 345.197 2284.91 343.461 Q2285.82 341.702 2285.82 340.012 Q2285.82 337.257 2283.87 335.521 Q2281.95 333.785 2278.85 333.785 Q2276.65 333.785 2274.2 334.549 Q2271.77 335.313 2268.99 336.864 L2268.99 332.141 Q2271.81 331.007 2274.27 330.429 Q2276.72 329.85 2278.76 329.85 Q2284.13 329.85 2287.32 332.535 Q2290.52 335.22 2290.52 339.711 Q2290.52 341.841 2289.7 343.762 Q2288.92 345.66 2286.81 348.253 Q2286.23 348.924 2283.13 352.141 Q2280.03 355.336 2274.38 361.1 Z\\\" fill=\\\"#000000\\\" fill-rule=\\\"evenodd\\\" fill-opacity=\\\"1\\\" \\/><path clip-path=\\\"url(#clip110)\\\" d=\\\"M2284.38 138.67 Q2287.74 139.387 2289.61 141.656 Q2291.51 143.924 2291.51 147.257 Q2291.51 152.373 2287.99 155.174 Q2284.47 157.975 2277.99 157.975 Q2275.82 157.975 2273.5 157.535 Q2271.21 157.118 2268.76 156.262 L2268.76 151.748 Q2270.7 152.882 2273.02 153.461 Q2275.33 154.04 2277.85 154.04 Q2282.25 154.04 2284.54 152.304 Q2286.86 150.568 2286.86 147.257 Q2286.86 144.202 2284.7 142.489 Q2282.58 140.753 2278.76 140.753 L2274.73 140.753 L2274.73 136.91 L2278.94 136.91 Q2282.39 136.91 2284.22 135.545 Q2286.05 134.156 2286.05 131.563 Q2286.05 128.901 2284.15 127.489 Q2282.27 126.054 2278.76 126.054 Q2276.83 126.054 2274.64 126.47 Q2272.44 126.887 2269.8 127.767 L2269.8 123.6 Q2272.46 122.859 2274.77 122.489 Q2277.11 122.119 2279.17 122.119 Q2284.5 122.119 2287.6 124.549 Q2290.7 126.957 2290.7 131.077 Q2290.7 133.947 2289.06 135.938 Q2287.41 137.906 2284.38 138.67 Z\\\" fill=\\\"#000000\\\" fill-rule=\\\"evenodd\\\" fill-opacity=\\\"1\\\" \\/><polyline clip-path=\\\"url(#clip110)\\\" style=\\\"stroke:#000000; stroke-linecap:butt; stroke-linejoin:round; stroke-width:4; stroke-opacity:1; fill:none\\\" points=\\\"\\n  2232.76,1486.45 2232.76,1390.04 2256.76,1390.04 2232.76,1390.04 2232.76,1182.31 2256.76,1182.31 2232.76,1182.31 2232.76,974.577 2256.76,974.577 2232.76,974.577 \\n  2232.76,766.846 2256.76,766.846 2232.76,766.846 2232.76,559.115 2256.76,559.115 2232.76,559.115 2232.76,351.384 2256.76,351.384 2232.76,351.384 2232.76,143.652 \\n  2256.76,143.652 2232.76,143.652 2232.76,47.2441 \\n  \\\"\\/>\\n<path clip-path=\\\"url(#clip110)\\\" d=\\\"\\nM209.547 1438.47 L439.745 1438.47 L439.745 1282.95 L209.547 1282.95  Z\\n  \\\" fill=\\\"#ffffff\\\" fill-rule=\\\"evenodd\\\" fill-opacity=\\\"1\\\"\\/>\\n<polyline clip-path=\\\"url(#clip110)\\\" style=\\\"stroke:#000000; stroke-linecap:butt; stroke-linejoin:round; stroke-width:4; stroke-opacity:1; fill:none\\\" points=\\\"\\n  209.547,1438.47 439.745,1438.47 439.745,1282.95 209.547,1282.95 209.547,1438.47 \\n  \\\"\\/>\\n<circle clip-path=\\\"url(#clip110)\\\" cx=\\\"291.533\\\" cy=\\\"1334.79\\\" r=\\\"23\\\" fill=\\\"#009af9\\\" fill-rule=\\\"evenodd\\\" fill-opacity=\\\"1\\\" stroke=\\\"#000000\\\" stroke-opacity=\\\"1\\\" stroke-width=\\\"5.12\\\"\\/>\\n<path clip-path=\\\"url(#clip110)\\\" d=\\\"M398.173 1326.15 L388.798 1338.76 L398.659 1352.07 L393.635 1352.07 L386.089 1341.89 L378.543 1352.07 L373.52 1352.07 L383.589 1338.51 L374.376 1326.15 L379.399 1326.15 L386.274 1335.38 L393.149 1326.15 L398.173 1326.15 Z\\\" fill=\\\"#000000\\\" fill-rule=\\\"evenodd\\\" fill-opacity=\\\"1\\\" \\/><circle clip-path=\\\"url(#clip110)\\\" cx=\\\"291.533\\\" cy=\\\"1386.63\\\" r=\\\"23\\\" fill=\\\"#e26f46\\\" fill-rule=\\\"evenodd\\\" fill-opacity=\\\"1\\\" stroke=\\\"#000000\\\" stroke-opacity=\\\"1\\\" stroke-width=\\\"5.12\\\"\\/>\\n<path clip-path=\\\"url(#clip110)\\\" d=\\\"M387.362 1406.32 Q385.557 1410.95 383.844 1412.36 Q382.131 1413.78 379.261 1413.78 L375.858 1413.78 L375.858 1410.21 L378.358 1410.21 Q380.117 1410.21 381.089 1409.38 Q382.061 1408.54 383.242 1405.44 L384.006 1403.5 L373.52 1377.99 L378.034 1377.99 L386.136 1398.27 L394.237 1377.99 L398.751 1377.99 L387.362 1406.32 Z\\\" fill=\\\"#000000\\\" fill-rule=\\\"evenodd\\\" fill-opacity=\\\"1\\\" \\/><\\/svg>\\n\"},\"nodeType\":\"DOM\",\"type\":\"node\",\"instanceArgs\":{\"namespace\":\"html\",\"tag\":\"div\"},\"children\":[]}]}}}},\"children\":[{\"props\":{},\"nodeType\":\"ObservableNode\",\"type\":\"node\",\"instanceArgs\":{\"id\":\"5540434793713582815\",\"name\":\"obs-node\"},\"children\":[]}]}]},\n",
       "        window,\n",
       "    );\n",
       "    })()\n",
       "    </script>\n",
       "</div>\n"
      ],
      "text/plain": [
       "Node{WebIO.DOM}(WebIO.DOM(:html, :div), Any[Node{WebIO.DOM}(WebIO.DOM(:html, :div), Any[Scope(Node{WebIO.DOM}(WebIO.DOM(:html, :div), Any[Node{WebIO.DOM}(WebIO.DOM(:html, :div), Any[Node{WebIO.DOM}(WebIO.DOM(:html, :label), Any[\"x\"], Dict{Symbol, Any}(:className => \"interact \", :style => Dict{Any, Any}(:padding => \"5px 10px 0px 10px\")))], Dict{Symbol, Any}(:className => \"interact-flex-row-left\")), Node{WebIO.DOM}(WebIO.DOM(:html, :div), Any[Node{WebIO.DOM}(WebIO.DOM(:html, :input), Any[], Dict{Symbol, Any}(:attributes => Dict{Any, Any}(:type => \"number\", Symbol(\"data-bind\") => \"numericValue: value, valueUpdate: 'input', event: {change: function (){this.changes(this.changes()+1)}}\"), :placeholder => \"\", :className => \"input \", :style => Dict{Any, Any}()))], Dict{Symbol, Any}(:className => \"interact-flex-row-center\")), Node{WebIO.DOM}(WebIO.DOM(:html, :div), Any[Node{WebIO.DOM}(WebIO.DOM(:html, :div), Any[], Dict{Symbol, Any}())], Dict{Symbol, Any}(:className => \"interact-flex-row-right\"))], Dict{Symbol, Any}(:className => \"interact-flex-row interact-widget\")), Dict{String, Tuple{Observables.AbstractObservable, Union{Nothing, Bool}}}(\"changes\" => (Observable{Int64} with 1 listeners. Value:\n",
       "0, nothing), \"value\" => (Observable{Union{Nothing, Int64}} with 2 listeners. Value:\n",
       "1, nothing)), Set{String}(), nothing, Asset[Asset(\"js\", \"knockout\", \"/Users/sheehanolver/.julia/packages/Knockout/3gjS1/src/../assets/knockout.js\"), Asset(\"js\", \"knockout_punches\", \"/Users/sheehanolver/.julia/packages/Knockout/3gjS1/src/../assets/knockout_punches.js\"), Asset(\"js\", nothing, \"/Users/sheehanolver/.julia/packages/InteractBase/o1I6G/src/../assets/all.js\"), Asset(\"css\", nothing, \"/Users/sheehanolver/.julia/packages/InteractBase/o1I6G/src/../assets/style.css\"), Asset(\"css\", nothing, \"/Users/sheehanolver/.julia/packages/Interact/pVyN2/src/../assets/bulma_confined.min.css\")], Dict{Any, Any}(\"changes\" => Any[WebIO.JSString(\"(function (val){return (val!=this.model[\\\"changes\\\"]()) ? (this.valueFromJulia[\\\"changes\\\"]=true, this.model[\\\"changes\\\"](val)) : undefined})\")], \"value\" => Any[WebIO.JSString(\"(function (val){return (val!=this.model[\\\"value\\\"]()) ? (this.valueFromJulia[\\\"value\\\"]=true, this.model[\\\"value\\\"](val)) : undefined})\")]), WebIO.ConnectionPool(Channel{Any}(32), Set{AbstractConnection}(), Condition(Base.InvasiveLinkedList{Task}(Task (runnable) @0x000000014126b5e0, Task (runnable) @0x000000014126b5e0), Base.AlwaysLockedST(1))), WebIO.JSString[WebIO.JSString(\"function () {\\n    var handler = (function (ko, koPunches) {\\n    ko.punches.enableAll();\\n    ko.bindingHandlers.numericValue = {\\n        init: function(element, valueAccessor, allBindings, data, context) {\\n            var stringified = ko.observable(ko.unwrap(valueAccessor()));\\n            stringified.subscribe(function(value) {\\n                var val = parseFloat(value);\\n                if (!isNaN(val)) {\\n                    valueAccessor()(val);\\n                }\\n            });\\n            valueAccessor().subscribe(function(value) {\\n                var str = JSON.stringify(value);\\n                if ((str == \\\"0\\\") && ([\\\"-0\\\", \\\"-0.\\\"].indexOf(stringified()) >= 0))\\n                     return;\\n                 if ([\\\"null\\\", \\\"\\\"].indexOf(str) >= 0)\\n                     return;\\n                stringified(str);\\n            });\\n            ko.applyBindingsToNode(\\n                element,\\n                {\\n                    value: stringified,\\n                    valueUpdate: allBindings.get('valueUpdate'),\\n                },\\n                context,\\n            );\\n        }\\n    };\\n    var json_data = {\\\"changes\\\":WebIO.getval({\\\"name\\\":\\\"changes\\\",\\\"scope\\\":\\\"3954279244252439636\\\",\\\"id\\\":\\\"1553452950336467292\\\",\\\"type\\\":\\\"observable\\\"}),\\\"value\\\":WebIO.getval({\\\"name\\\":\\\"value\\\",\\\"scope\\\":\\\"3954279244252439636\\\",\\\"id\\\":\\\"18262280088072916417\\\",\\\"type\\\":\\\"observable\\\"})};\\n    var self = this;\\n    function AppViewModel() {\\n        for (var key in json_data) {\\n            var el = json_data[key];\\n            this[key] = Array.isArray(el) ? ko.observableArray(el) : ko.observable(el);\\n        }\\n        \\n        \\n        [this[\\\"changes\\\"].subscribe((function (val){!(this.valueFromJulia[\\\"changes\\\"]) ? (WebIO.setval({\\\"name\\\":\\\"changes\\\",\\\"scope\\\":\\\"3954279244252439636\\\",\\\"id\\\":\\\"1553452950336467292\\\",\\\"type\\\":\\\"observable\\\"},val)) : undefined; return this.valueFromJulia[\\\"changes\\\"]=false}),self),this[\\\"value\\\"].subscribe((function (val){!(this.valueFromJulia[\\\"value\\\"]) ? (WebIO.setval({\\\"name\\\":\\\"value\\\",\\\"scope\\\":\\\"3954279244252439636\\\",\\\"id\\\":\\\"18262280088072916417\\\",\\\"type\\\":\\\"observable\\\"},val)) : undefined; return this.valueFromJulia[\\\"value\\\"]=false}),self)]\\n        \\n    }\\n    self.model = new AppViewModel();\\n    self.valueFromJulia = {};\\n    for (var key in json_data) {\\n        self.valueFromJulia[key] = false;\\n    }\\n    ko.applyBindings(self.model, self.dom);\\n}\\n);\\n    (WebIO.importBlock({\\\"data\\\":[{\\\"name\\\":\\\"knockout\\\",\\\"type\\\":\\\"js\\\",\\\"url\\\":\\\"/assetserver/fb6ca08aae97daeb80aa99104c4eddfe76bc6766-knockout.js\\\"},{\\\"name\\\":\\\"knockout_punches\\\",\\\"type\\\":\\\"js\\\",\\\"url\\\":\\\"/assetserver/1759964e1dbcc22fe1a19531f6579c45d2da7d3e-knockout_punches.js\\\"}],\\\"type\\\":\\\"async_block\\\"})).then((imports) => handler.apply(this, imports));\\n}\\n\")])], Dict{Symbol, Any}(:className => \"field interact-widget\")), Node{WebIO.DOM}(WebIO.DOM(:html, :div), Any[Scope(Node{WebIO.DOM}(WebIO.DOM(:html, :div), Any[Node{WebIO.DOM}(WebIO.DOM(:html, :div), Any[Node{WebIO.DOM}(WebIO.DOM(:html, :label), Any[\"y\"], Dict{Symbol, Any}(:className => \"interact \", :style => Dict{Any, Any}(:padding => \"5px 10px 0px 10px\")))], Dict{Symbol, Any}(:className => \"interact-flex-row-left\")), Node{WebIO.DOM}(WebIO.DOM(:html, :div), Any[Node{WebIO.DOM}(WebIO.DOM(:html, :input), Any[], Dict{Symbol, Any}(:attributes => Dict{Any, Any}(:type => \"number\", Symbol(\"data-bind\") => \"numericValue: value, valueUpdate: 'input', event: {change: function (){this.changes(this.changes()+1)}}\"), :placeholder => \"\", :className => \"input \", :style => Dict{Any, Any}()))], Dict{Symbol, Any}(:className => \"interact-flex-row-center\")), Node{WebIO.DOM}(WebIO.DOM(:html, :div), Any[Node{WebIO.DOM}(WebIO.DOM(:html, :div), Any[], Dict{Symbol, Any}())], Dict{Symbol, Any}(:className => \"interact-flex-row-right\"))], Dict{Symbol, Any}(:className => \"interact-flex-row interact-widget\")), Dict{String, Tuple{Observables.AbstractObservable, Union{Nothing, Bool}}}(\"changes\" => (Observable{Int64} with 1 listeners. Value:\n",
       "0, nothing), \"value\" => (Observable{Union{Nothing, Int64}} with 2 listeners. Value:\n",
       "-1, nothing)), Set{String}(), nothing, Asset[Asset(\"js\", \"knockout\", \"/Users/sheehanolver/.julia/packages/Knockout/3gjS1/src/../assets/knockout.js\"), Asset(\"js\", \"knockout_punches\", \"/Users/sheehanolver/.julia/packages/Knockout/3gjS1/src/../assets/knockout_punches.js\"), Asset(\"js\", nothing, \"/Users/sheehanolver/.julia/packages/InteractBase/o1I6G/src/../assets/all.js\"), Asset(\"css\", nothing, \"/Users/sheehanolver/.julia/packages/InteractBase/o1I6G/src/../assets/style.css\"), Asset(\"css\", nothing, \"/Users/sheehanolver/.julia/packages/Interact/pVyN2/src/../assets/bulma_confined.min.css\")], Dict{Any, Any}(\"changes\" => Any[WebIO.JSString(\"(function (val){return (val!=this.model[\\\"changes\\\"]()) ? (this.valueFromJulia[\\\"changes\\\"]=true, this.model[\\\"changes\\\"](val)) : undefined})\")], \"value\" => Any[WebIO.JSString(\"(function (val){return (val!=this.model[\\\"value\\\"]()) ? (this.valueFromJulia[\\\"value\\\"]=true, this.model[\\\"value\\\"](val)) : undefined})\")]), WebIO.ConnectionPool(Channel{Any}(32), Set{AbstractConnection}(), Condition(Base.InvasiveLinkedList{Task}(Task (runnable) @0x000000014166bb20, Task (runnable) @0x000000014166bb20), Base.AlwaysLockedST(1))), WebIO.JSString[WebIO.JSString(\"function () {\\n    var handler = (function (ko, koPunches) {\\n    ko.punches.enableAll();\\n    ko.bindingHandlers.numericValue = {\\n        init: function(element, valueAccessor, allBindings, data, context) {\\n            var stringified = ko.observable(ko.unwrap(valueAccessor()));\\n            stringified.subscribe(function(value) {\\n                var val = parseFloat(value);\\n                if (!isNaN(val)) {\\n                    valueAccessor()(val);\\n                }\\n            });\\n            valueAccessor().subscribe(function(value) {\\n                var str = JSON.stringify(value);\\n                if ((str == \\\"0\\\") && ([\\\"-0\\\", \\\"-0.\\\"].indexOf(stringified()) >= 0))\\n                     return;\\n                 if ([\\\"null\\\", \\\"\\\"].indexOf(str) >= 0)\\n                     return;\\n                stringified(str);\\n            });\\n            ko.applyBindingsToNode(\\n                element,\\n                {\\n                    value: stringified,\\n                    valueUpdate: allBindings.get('valueUpdate'),\\n                },\\n                context,\\n            );\\n        }\\n    };\\n    var json_data = {\\\"changes\\\":WebIO.getval({\\\"name\\\":\\\"changes\\\",\\\"scope\\\":\\\"14413233572128440926\\\",\\\"id\\\":\\\"10645388237787760462\\\",\\\"type\\\":\\\"observable\\\"}),\\\"value\\\":WebIO.getval({\\\"name\\\":\\\"value\\\",\\\"scope\\\":\\\"14413233572128440926\\\",\\\"id\\\":\\\"3069100301213992262\\\",\\\"type\\\":\\\"observable\\\"})};\\n    var self = this;\\n    function AppViewModel() {\\n        for (var key in json_data) {\\n            var el = json_data[key];\\n            this[key] = Array.isArray(el) ? ko.observableArray(el) : ko.observable(el);\\n        }\\n        \\n        \\n        [this[\\\"changes\\\"].subscribe((function (val){!(this.valueFromJulia[\\\"changes\\\"]) ? (WebIO.setval({\\\"name\\\":\\\"changes\\\",\\\"scope\\\":\\\"14413233572128440926\\\",\\\"id\\\":\\\"10645388237787760462\\\",\\\"type\\\":\\\"observable\\\"},val)) : undefined; return this.valueFromJulia[\\\"changes\\\"]=false}),self),this[\\\"value\\\"].subscribe((function (val){!(this.valueFromJulia[\\\"value\\\"]) ? (WebIO.setval({\\\"name\\\":\\\"value\\\",\\\"scope\\\":\\\"14413233572128440926\\\",\\\"id\\\":\\\"3069100301213992262\\\",\\\"type\\\":\\\"observable\\\"},val)) : undefined; return this.valueFromJulia[\\\"value\\\"]=false}),self)]\\n        \\n    }\\n    self.model = new AppViewModel();\\n    self.valueFromJulia = {};\\n    for (var key in json_data) {\\n        self.valueFromJulia[key] = false;\\n    }\\n    ko.applyBindings(self.model, self.dom);\\n}\\n);\\n    (WebIO.importBlock({\\\"data\\\":[{\\\"name\\\":\\\"knockout\\\",\\\"type\\\":\\\"js\\\",\\\"url\\\":\\\"/assetserver/fb6ca08aae97daeb80aa99104c4eddfe76bc6766-knockout.js\\\"},{\\\"name\\\":\\\"knockout_punches\\\",\\\"type\\\":\\\"js\\\",\\\"url\\\":\\\"/assetserver/1759964e1dbcc22fe1a19531f6579c45d2da7d3e-knockout_punches.js\\\"}],\\\"type\\\":\\\"async_block\\\"})).then((imports) => handler.apply(this, imports));\\n}\\n\")])], Dict{Symbol, Any}(:className => \"field interact-widget\")), Node{WebIO.DOM}(WebIO.DOM(:html, :div), Any[Scope(Node{WebIO.DOM}(WebIO.DOM(:html, :div), Any[Node{WebIO.DOM}(WebIO.DOM(:html, :div), Any[Node{WebIO.DOM}(WebIO.DOM(:html, :label), Any[\"z\"], Dict{Symbol, Any}(:className => \"interact \", :style => Dict{Any, Any}(:padding => \"5px 10px 0px 10px\")))], Dict{Symbol, Any}(:className => \"interact-flex-row-left\")), Node{WebIO.DOM}(WebIO.DOM(:html, :div), Any[Node{WebIO.DOM}(WebIO.DOM(:html, :input), Any[], Dict{Symbol, Any}(:attributes => Dict{Any, Any}(:type => \"number\", Symbol(\"data-bind\") => \"numericValue: value, valueUpdate: 'input', event: {change: function (){this.changes(this.changes()+1)}}\"), :placeholder => \"\", :className => \"input \", :style => Dict{Any, Any}()))], Dict{Symbol, Any}(:className => \"interact-flex-row-center\")), Node{WebIO.DOM}(WebIO.DOM(:html, :div), Any[Node{WebIO.DOM}(WebIO.DOM(:html, :div), Any[], Dict{Symbol, Any}())], Dict{Symbol, Any}(:className => \"interact-flex-row-right\"))], Dict{Symbol, Any}(:className => \"interact-flex-row interact-widget\")), Dict{String, Tuple{Observables.AbstractObservable, Union{Nothing, Bool}}}(\"changes\" => (Observable{Int64} with 1 listeners. Value:\n",
       "0, nothing), \"value\" => (Observable{Union{Nothing, Int64}} with 2 listeners. Value:\n",
       "1, nothing)), Set{String}(), nothing, Asset[Asset(\"js\", \"knockout\", \"/Users/sheehanolver/.julia/packages/Knockout/3gjS1/src/../assets/knockout.js\"), Asset(\"js\", \"knockout_punches\", \"/Users/sheehanolver/.julia/packages/Knockout/3gjS1/src/../assets/knockout_punches.js\"), Asset(\"js\", nothing, \"/Users/sheehanolver/.julia/packages/InteractBase/o1I6G/src/../assets/all.js\"), Asset(\"css\", nothing, \"/Users/sheehanolver/.julia/packages/InteractBase/o1I6G/src/../assets/style.css\"), Asset(\"css\", nothing, \"/Users/sheehanolver/.julia/packages/Interact/pVyN2/src/../assets/bulma_confined.min.css\")], Dict{Any, Any}(\"changes\" => Any[WebIO.JSString(\"(function (val){return (val!=this.model[\\\"changes\\\"]()) ? (this.valueFromJulia[\\\"changes\\\"]=true, this.model[\\\"changes\\\"](val)) : undefined})\")], \"value\" => Any[WebIO.JSString(\"(function (val){return (val!=this.model[\\\"value\\\"]()) ? (this.valueFromJulia[\\\"value\\\"]=true, this.model[\\\"value\\\"](val)) : undefined})\")]), WebIO.ConnectionPool(Channel{Any}(32), Set{AbstractConnection}(), Condition(Base.InvasiveLinkedList{Task}(Task (runnable) @0x00000001416782b0, Task (runnable) @0x00000001416782b0), Base.AlwaysLockedST(1))), WebIO.JSString[WebIO.JSString(\"function () {\\n    var handler = (function (ko, koPunches) {\\n    ko.punches.enableAll();\\n    ko.bindingHandlers.numericValue = {\\n        init: function(element, valueAccessor, allBindings, data, context) {\\n            var stringified = ko.observable(ko.unwrap(valueAccessor()));\\n            stringified.subscribe(function(value) {\\n                var val = parseFloat(value);\\n                if (!isNaN(val)) {\\n                    valueAccessor()(val);\\n                }\\n            });\\n            valueAccessor().subscribe(function(value) {\\n                var str = JSON.stringify(value);\\n                if ((str == \\\"0\\\") && ([\\\"-0\\\", \\\"-0.\\\"].indexOf(stringified()) >= 0))\\n                     return;\\n                 if ([\\\"null\\\", \\\"\\\"].indexOf(str) >= 0)\\n                     return;\\n                stringified(str);\\n            });\\n            ko.applyBindingsToNode(\\n                element,\\n                {\\n                    value: stringified,\\n                    valueUpdate: allBindings.get('valueUpdate'),\\n                },\\n                context,\\n            );\\n        }\\n    };\\n    var json_data = {\\\"changes\\\":WebIO.getval({\\\"name\\\":\\\"changes\\\",\\\"scope\\\":\\\"6531354137981019964\\\",\\\"id\\\":\\\"7932059719771571884\\\",\\\"type\\\":\\\"observable\\\"}),\\\"value\\\":WebIO.getval({\\\"name\\\":\\\"value\\\",\\\"scope\\\":\\\"6531354137981019964\\\",\\\"id\\\":\\\"10862193655980173664\\\",\\\"type\\\":\\\"observable\\\"})};\\n    var self = this;\\n    function AppViewModel() {\\n        for (var key in json_data) {\\n            var el = json_data[key];\\n            this[key] = Array.isArray(el) ? ko.observableArray(el) : ko.observable(el);\\n        }\\n        \\n        \\n        [this[\\\"changes\\\"].subscribe((function (val){!(this.valueFromJulia[\\\"changes\\\"]) ? (WebIO.setval({\\\"name\\\":\\\"changes\\\",\\\"scope\\\":\\\"6531354137981019964\\\",\\\"id\\\":\\\"7932059719771571884\\\",\\\"type\\\":\\\"observable\\\"},val)) : undefined; return this.valueFromJulia[\\\"changes\\\"]=false}),self),this[\\\"value\\\"].subscribe((function (val){!(this.valueFromJulia[\\\"value\\\"]) ? (WebIO.setval({\\\"name\\\":\\\"value\\\",\\\"scope\\\":\\\"6531354137981019964\\\",\\\"id\\\":\\\"10862193655980173664\\\",\\\"type\\\":\\\"observable\\\"},val)) : undefined; return this.valueFromJulia[\\\"value\\\"]=false}),self)]\\n        \\n    }\\n    self.model = new AppViewModel();\\n    self.valueFromJulia = {};\\n    for (var key in json_data) {\\n        self.valueFromJulia[key] = false;\\n    }\\n    ko.applyBindings(self.model, self.dom);\\n}\\n);\\n    (WebIO.importBlock({\\\"data\\\":[{\\\"name\\\":\\\"knockout\\\",\\\"type\\\":\\\"js\\\",\\\"url\\\":\\\"/assetserver/fb6ca08aae97daeb80aa99104c4eddfe76bc6766-knockout.js\\\"},{\\\"name\\\":\\\"knockout_punches\\\",\\\"type\\\":\\\"js\\\",\\\"url\\\":\\\"/assetserver/1759964e1dbcc22fe1a19531f6579c45d2da7d3e-knockout_punches.js\\\"}],\\\"type\\\":\\\"async_block\\\"})).then((imports) => handler.apply(this, imports));\\n}\\n\")])], Dict{Symbol, Any}(:className => \"field interact-widget\")), Observable{Node{WebIO.DOM}} with 0 listeners. Value:\n",
       "Node{WebIO.DOM}(WebIO.DOM(:html, :div), Any[Plot{Plots.GRBackend() n=5}], Dict{Symbol, Any}(:className => \"interact-flex-row interact-widget\"))], Dict{Symbol, Any}())"
      ]
     },
     "execution_count": 55,
     "metadata": {
      "application/vnd.webio.node+json": {
       "kernelId": "ddd8593b-2e8c-4205-94b2-d907480eacc5"
      }
     },
     "output_type": "execute_result"
    }
   ],
   "source": [
    "@manipulate for x=1, y=-1, z=1\n",
    "    𝐱 = [x,y,z]\n",
    "    𝐲 = -norm(𝐱)*[1,0,0] + 𝐱\n",
    "\n",
    "    scatter3d([𝐱[1]], [𝐱[2]], [𝐱[3]]; label=\"x\", legend=:bottomleft)\n",
    "    scatter3d!([𝐲[1]], [𝐲[2]], [𝐲[3]]; label=\"y\")\n",
    "    plot!([0,𝐱[1x]], [0,𝐱[2]], [0,𝐱[3]]; arrow=true, label=nothing, linecolor=:blue)\n",
    "    plot!([0,𝐲[1]], [0,𝐲[2]], [0,𝐲[3]]; arrow=true, label=nothing, linecolor=:red)\n",
    "\n",
    "    xs, ys = [-2,2], [-2,2]\n",
    "\n",
    "    Q = nullspace(𝐲')\n",
    "    a,b = Q[1:2,:]' \\ Q[3,:]\n",
    "    p = (x,y) -> a*x + b*y\n",
    "\n",
    "    surface!(xs, ys, p.(xs', ys); alpha=0.5)\n",
    "end"
   ]
  },
  {
   "cell_type": "code",
   "execution_count": 35,
   "id": "82fb8808",
   "metadata": {},
   "outputs": [
    {
     "data": {
      "text/plain": [
       "-0.1821763643692654"
      ]
     },
     "execution_count": 35,
     "metadata": {},
     "output_type": "execute_result"
    }
   ],
   "source": [
    "Q[3,1]"
   ]
  },
  {
   "cell_type": "code",
   "execution_count": null,
   "id": "e0c5c4ca",
   "metadata": {},
   "outputs": [],
   "source": []
  }
 ],
 "metadata": {
  "@webio": {
   "lastCommId": "4c00a08f02ca469b8b09b2969699dbbf",
   "lastKernelId": "ddd8593b-2e8c-4205-94b2-d907480eacc5"
  },
  "kernelspec": {
   "display_name": "Julia 1.7.1",
   "language": "julia",
   "name": "julia-1.7"
  },
  "language_info": {
   "file_extension": ".jl",
   "mimetype": "application/julia",
   "name": "julia",
   "version": "1.7.1"
  }
 },
 "nbformat": 4,
 "nbformat_minor": 5
}
