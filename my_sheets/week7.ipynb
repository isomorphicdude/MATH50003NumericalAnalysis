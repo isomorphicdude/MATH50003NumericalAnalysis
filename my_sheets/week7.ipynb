{
 "cells": [
  {
   "cell_type": "markdown",
   "metadata": {},
   "source": [
    "# MATH50003 Numerical Analysis: Problem Sheet 6\n",
    "\n",
    "This problem sheet explores condition numbers, indefinite integration,\n",
    "and Euler's method.\n",
    "\n",
    "Questions marked with a ⋆ are meant to be completed without using a computer.\n",
    "Problems are denoted A/B/C to indicate their difficulty."
   ]
  },
  {
   "cell_type": "code",
   "execution_count": 2,
   "metadata": {
    "execution": {
     "iopub.execute_input": "2022-02-24T20:07:25.051113Z",
     "iopub.status.busy": "2022-02-24T20:07:24.621084Z",
     "iopub.status.idle": "2022-02-24T20:07:30.402961Z",
     "shell.execute_reply": "2022-02-24T20:07:30.402227Z"
    }
   },
   "outputs": [],
   "source": [
    "using LinearAlgebra, Plots, Test"
   ]
  },
  {
   "cell_type": "markdown",
   "metadata": {},
   "source": [
    "## 1. Two-point boundary value problems\n",
    "\n",
    "**Problem 1.1 (C)** Construct a finite-difference approximation to the\n",
    "forced Helmholtz equation\n",
    "$$\n",
    "\\begin{align*}\n",
    "u(0) &= 0 \\\\\n",
    "u(1) &= 0 \\\\\n",
    "u'' + k^2 u &= {\\rm e}^x\n",
    "\\end{align*}\n",
    "$$\n",
    "and find an $n$ such  the error is less than $10^{-4}$ when compared\n",
    "with the true solution for $k=10$:\n",
    "$$\n",
    "u(x) = (-\\cos(k x) + {\\rm e}^x \\cos(k x)^2 + \\cot(k) \\sin(k x) - {\\rm e} \\cos(k) \\cot(k) \\sin(k x) - {\\rm e} \\sin(k) \\sin(k x) + {\\rm e}^x \\sin(k x)^2)/(1 + k^2)\n",
    "$$"
   ]
  },
  {
   "cell_type": "code",
   "execution_count": 3,
   "metadata": {
    "execution": {
     "iopub.execute_input": "2022-02-24T20:07:31.809645Z",
     "iopub.status.busy": "2022-02-24T20:07:30.426198Z",
     "iopub.status.idle": "2022-02-24T20:07:35.629453Z",
     "shell.execute_reply": "2022-02-24T20:07:35.628852Z"
    }
   },
   "outputs": [
    {
     "data": {
      "text/plain": [
       "\u001b[32m\u001b[1mTest Passed\u001b[22m\u001b[39m\n",
       "  Expression: norm(helm(k, n) - u.(x)) ≤ 0.0001\n",
       "   Evaluated: 9.983960283422423e-5 ≤ 0.0001"
      ]
     },
     "metadata": {},
     "output_type": "display_data"
    }
   ],
   "source": [
    "function helm(k, n)\n",
    "    x = range(0, 1; length = n)\n",
    "    h = step(x)\n",
    "    # TODO: Create a SymTridiagonal discretisation\n",
    "    T = SymTridiagonal(fill(k^2 - 2/h^2, n-2), fill(1/h^2, n-3))\n",
    "    [0; T \\ exp.(x[2:end-1]); 0]\n",
    "end\n",
    "\n",
    "k = 10\n",
    "u = x -> (-cos(k*x) + exp(x)cos(k*x)^2 + cot(k)sin(k*x) - ℯ*cos(k)cot(k)sin(k*x) - ℯ*sin(k)sin(k*x) + exp(x)sin(k*x)^2)/(1 + k^2)\n",
    "\n",
    "n = 1026 # TODO: choose n to get convergence\n",
    "x = range(0, 1; length=n)\n",
    "@test norm(helm(k, n) - u.(x)) ≤ 1E-4"
   ]
  },
  {
   "cell_type": "markdown",
   "metadata": {},
   "source": [
    "**Problem 1.2 (B)** Discretisations can also be used to solve eigenvalue equations.\n",
    "Consider the Schrödinger equation with quadratic oscillator:\n",
    "$$\n",
    "u(-L) = u(L) = 0, -u'' + x^2 u = λ u\n",
    "$$\n",
    "Approximate the eigenvalues using `eigvals(A)` (which returns the eigenvalues of a\n",
    "matrix `A`) with $L = 10$.\n",
    "Can you conjecture their exact value if $L = ∞$? (Hint: they are integers and the eigenvalues\n",
    "closest to zero are most accurate.)"
   ]
  },
  {
   "cell_type": "code",
   "execution_count": 3,
   "metadata": {},
   "outputs": [
    {
     "data": {
      "text/plain": [
       "99998-element Vector{Float64}:\n",
       "  0.9999749989635802\n",
       "  2.9998749918578698\n",
       "  4.999674971605432\n",
       "  6.999374930478926\n",
       "  8.998974861407143\n",
       " 10.998474756266933\n",
       " 12.997874607796689\n",
       " 14.997174408974644\n",
       " 16.996374151372056\n",
       " 18.99547382819695\n",
       "  ⋮\n",
       "  1.0087497895115652e6\n",
       "  1.0089305090014825e6\n",
       "  1.0089305090014833e6\n",
       "  1.0091287601220842e6\n",
       "  1.009128760122085e6\n",
       "  1.0093537681304112e6\n",
       "  1.0093537681304116e6\n",
       "  1.0096295862794751e6\n",
       "  1.0096295862794771e6"
      ]
     },
     "metadata": {},
     "output_type": "display_data"
    }
   ],
   "source": [
    "function schrödinger!(L)\n",
    "    n = L*100\n",
    "    t = range(-L, L; length = n)\n",
    "    h = step(t)\n",
    "    t = collect(t)\n",
    "    # find λ\n",
    "    T = SymTridiagonal(t[2:end-1] .^2 .+ 2/h^2, fill(-1/h^2, n-3)) # n-2 and n-3\n",
    "    λ = eigvals(T)\n",
    "end\n",
    "schrödinger!(1000) # could be the odd numbers"
   ]
  },
  {
   "cell_type": "markdown",
   "metadata": {},
   "source": [
    "**Problem 1.3⋆ (A)** Consider Helmholtz with Neumann conditions:\n",
    "$$\n",
    "u'(0) = c_0 \\\\\n",
    "u'(1) = c_1 \\\\\n",
    "u_{xx} + k^2 u = f(x)\n",
    "$$\n",
    "Write down the finite difference approximation approximating\n",
    "$u(x_k) ≈ u_k$ on\n",
    " an evenly spaced grid $x_k = (k-1)/(n-1)$ for $k=1,…,n$\n",
    "using the first order derivative approximation conditions:\n",
    "$$\n",
    "\\begin{align*}\n",
    "u'(0) &≈ (u_2-u_1)/h = c_0 \\\\\n",
    "u'(1) &≈ (u_n-u_{n-1})/h  = c_1\n",
    "\\end{align*}\n",
    "$$\n",
    "Use pivoting to reduce the equation to one involving a\n",
    "symmetric tridiagonal matrix.  \n"
   ]
  },
  {
   "cell_type": "markdown",
   "metadata": {},
   "source": [
    "## 2. Convergence  \n",
    "\n",
    "**Problem 2.1⋆ (B)** For the equation\n",
    "$$\n",
    "\\begin{align*}\n",
    "u(0) &= c_0 \\\\\n",
    "u' + au &= f(x)\n",
    "\\end{align*}\n",
    "$$\n",
    "where $a ∈ ℝ$ and $0 ≤ x ≤ 1$,\n",
    "prove convergence as $n → ∞$ for the method constructed in PS6 using the approximation\n",
    "where we take the average of the two grid points:\n",
    "$$\n",
    "{u'(x_{k+1}) + u'(x_k) \\over 2} ≈ {u_{k+1} - u_k \\over h}.\n",
    "$$\n",
    "\n",
    "**Problem 2.2⋆ (A)** Consider the matrices\n",
    "$$\n",
    "L = \\begin{bmatrix} 1 \\\\\n",
    "    -a_1 & 1 \\\\\n",
    "        & -a_2 & 1\\\\\n",
    "        && ⋱ & ⋱ \\\\\n",
    "        &&& -a_{n-1} & 1\n",
    "\\end{bmatrix}, \\qquad T = \\begin{bmatrix} 1 \\\\\n",
    "    -a & 1 \\\\\n",
    "        & -a & 1\\\\\n",
    "        && ⋱ & ⋱ \\\\\n",
    "        &&& -a & 1\n",
    "\\end{bmatrix}.\n",
    "$$\n",
    "By writing down the inverse explicitly prove that if $|a_k| ≤ a$ then\n",
    "$$\n",
    "\\|L^{-1}\\|_{1 → ∞} ≤ \\|T^{-1}\\|_{1 → ∞}.\n",
    "$$\n",
    "Use this to prove convergence as $n → ∞$ of forward Euler for\n",
    "$$\n",
    "\\begin{align*}\n",
    "u(0) &= c_0 \\\\\n",
    "u'(x) - a(x)u(x) &= f(x)\n",
    "\\end{align*}\n",
    "$$\n",
    "\n",
    "\n",
    "\n",
    "\n",
    "\n",
    "## 3. Fourier series\n",
    "\n",
    "**Problem 3.1⋆ (C)** Give explicit formulae for $f̂_k$ and $f̂_k^n$ for the following functions:\n",
    "$$\n",
    "\\cos θ, \\cos 4θ, \\sin^4θ, {3 \\over 3 - {\\rm e}^{\\rm i θ}}, {1 \\over 1 - 2{\\rm e}^{\\rm i θ}}\n",
    "$$\n",
    "Hint: You may wish to try the change of variables $z = {\\rm e}^{-{\\rm i}θ}$.\n",
    "\n",
    "**Problem 3.2⋆ (B)** Prove that if the first $λ-1$ derivatives $f(θ), f'(θ), …, f^{(λ-1)}(θ)$ \n",
    "are 2π-periodic and $f^{(λ)}$ is uniformly bounded  that\n",
    "$$\n",
    "|f̂_k| = O(|k|^{-λ})\\qquad \\hbox{as $|k| → ∞$}\n",
    "$$\n",
    "Use this to show for the Taylor case ($0 = f̂_{-1} = f̂_{-2} = ⋯$) that\n",
    "$$\n",
    "|f(θ) - ∑_{k=0}^{n-1} f̂_k {\\rm e}^{{\\rm i}kθ}| = O(n^{1-λ})\n",
    "$$\n",
    "\n",
    "\n",
    "**Problem 3.3⋆ (C)**\n",
    "If $f$ is a trigonometric polynomial  ($f̂_k = 0$ for $|k| > m$) show\n",
    "for $n ≥ 2m+1$ we can exactly recover $f$:\n",
    "$$\n",
    "f(θ) = \\sum_{k=-m}^m f̂_k^n {\\rm e}^{{\\rm i} k θ}\n",
    "$$\n",
    "\n",
    "\n",
    "\n",
    "**Problem 3.4⋆ (B)** For the general (non-Taylor) case and $n = 2m+1$, prove convergence for\n",
    "$$\n",
    "f_{-m:m}(θ) := ∑_{k=-m}^m f̂_k^n {\\rm e}^{{\\rm i} k θ}\n",
    "$$\n",
    "to $f(θ)$ as $n \\rightarrow ∞$.\n",
    "What is the rate of convergence if the first $λ-1$ derivatives $f(θ), f'(θ), …, f^{(λ-1)}(θ)$ \n",
    "are 2π-periodic and $f^{(λ)}$ is uniformly bounded?"
   ]
  },
  {
   "cell_type": "markdown",
   "metadata": {},
   "source": []
  }
 ],
 "metadata": {
  "kernelspec": {
   "display_name": "Julia 1.7.1",
   "language": "julia",
   "name": "julia-1.7"
  },
  "language_info": {
   "file_extension": ".jl",
   "mimetype": "application/julia",
   "name": "julia",
   "version": "1.7.1"
  }
 },
 "nbformat": 4,
 "nbformat_minor": 2
}
