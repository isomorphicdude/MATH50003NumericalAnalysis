{
 "cells": [
  {
   "cell_type": "markdown",
   "metadata": {},
   "source": [
    "# Structured Matrices\n",
    "\n",
    "We have seen how algebraic operations (`+`, `-`, `*`, `/`) are\n",
    "well-defined for floating point numbers. Now we see how this allows us\n",
    "to do (approximate) linear algebra operations on structured matrices. That is,\n",
    "we consider the following structures:\n",
    "\n",
    "\n",
    "1. _Dense_: this can be considered unstructured, where we need to store all entries in a\n",
    "vector or matrix. Matrix multiplication reduces directly to standard algebraic operations. \n",
    "Solving linear systems with dense matrices will be discussed later.\n",
    "2. _Triangular_: If a matrix is upper or lower triangular, we can immediately invert using\n",
    "back-substitution. In practice we store a dense matrix and ignore the upper/lower entries.\n",
    "3. _Banded_: If a matrix is zero apart from entries a fixed distance from  the diagonal it is\n",
    "called banded and this allows for more efficient algorithms. We discuss diagonal, \n",
    "tridiagonal and bidiagonal\n",
    "matrices.\n",
    "4. _Orthogonal_: An orthogonal matrix $Q$ satisfies $Q^⊤ Q = I$, in other words, they are\n",
    "very easy to invert. We discuss special cases includion permutations, rotations and reflections.\n",
    "\n",
    "\n",
    "## 1. Dense vectors and matrices\n",
    "\n",
    "A `Vector` of a primitive type (like `Int` or `Float64`) is stored\n",
    "consecutively in memory. E.g. if we have a `Vector{Int8}` of length\n",
    "`n` then it is stored as `8n` bits (`n` bytes) in a row.\n",
    "A  `Matrix` is stored consecutively in memory, going down column-by-\n",
    "column. That is,"
   ]
  },
  {
   "cell_type": "code",
   "execution_count": 1,
   "metadata": {
    "execution": {
     "iopub.execute_input": "2022-01-12T08:43:16.855287Z",
     "iopub.status.busy": "2022-01-12T08:43:16.407033Z",
     "iopub.status.idle": "2022-01-12T08:43:18.182930Z",
     "shell.execute_reply": "2022-01-12T08:43:18.182363Z"
    }
   },
   "outputs": [
    {
     "data": {
      "text/plain": [
       "3×2 Matrix{Int64}:\n",
       " 1  2\n",
       " 3  4\n",
       " 5  6"
      ]
     },
     "execution_count": 1,
     "metadata": {},
     "output_type": "execute_result"
    }
   ],
   "source": [
    "A = [1 2; 3 4; 5 6]"
   ]
  },
  {
   "cell_type": "markdown",
   "metadata": {},
   "source": [
    "Is actually stored equivalently to a length `6` vector:"
   ]
  },
  {
   "cell_type": "code",
   "execution_count": 2,
   "metadata": {
    "execution": {
     "iopub.execute_input": "2022-01-12T08:43:18.184968Z",
     "iopub.status.busy": "2022-01-12T08:43:18.184420Z",
     "iopub.status.idle": "2022-01-12T08:43:18.606603Z",
     "shell.execute_reply": "2022-01-12T08:43:18.606177Z"
    }
   },
   "outputs": [
    {
     "data": {
      "text/plain": [
       "6-element Vector{Int64}:\n",
       " 1\n",
       " 3\n",
       " 5\n",
       " 2\n",
       " 4\n",
       " 6"
      ]
     },
     "execution_count": 2,
     "metadata": {},
     "output_type": "execute_result"
    }
   ],
   "source": [
    "vec(A)"
   ]
  },
  {
   "cell_type": "markdown",
   "metadata": {},
   "source": [
    "This is known as _column-major_ format.\n",
    "\n",
    "**Remark** Note that transposing `A` is done lazyily and so `A'`\n",
    "stores the entries by row. That is, `A'` is stored in \n",
    "_row-major_ format.\n",
    "\n",
    "\n",
    "Matrix-vector multiplication works as expected:"
   ]
  },
  {
   "cell_type": "code",
   "execution_count": 3,
   "metadata": {
    "execution": {
     "iopub.execute_input": "2022-01-12T08:43:18.608615Z",
     "iopub.status.busy": "2022-01-12T08:43:18.608074Z",
     "iopub.status.idle": "2022-01-12T08:43:18.681579Z",
     "shell.execute_reply": "2022-01-12T08:43:18.681131Z"
    }
   },
   "outputs": [
    {
     "data": {
      "text/plain": [
       "3-element Vector{Int64}:\n",
       " 23\n",
       " 53\n",
       " 83"
      ]
     },
     "execution_count": 3,
     "metadata": {},
     "output_type": "execute_result"
    }
   ],
   "source": [
    "x = [7, 8]\n",
    "A*x"
   ]
  },
  {
   "cell_type": "markdown",
   "metadata": {},
   "source": [
    "It is easy to implement matrix-multiplication in terms of the algebraic operations \n",
    "we have learned, in this case just using integer arithmetic:"
   ]
  },
  {
   "cell_type": "code",
   "execution_count": 4,
   "metadata": {
    "execution": {
     "iopub.execute_input": "2022-01-12T08:43:18.683858Z",
     "iopub.status.busy": "2022-01-12T08:43:18.683137Z",
     "iopub.status.idle": "2022-01-12T08:43:18.706090Z",
     "shell.execute_reply": "2022-01-12T08:43:18.705615Z"
    }
   },
   "outputs": [
    {
     "data": {
      "text/plain": [
       "3-element Vector{Int64}:\n",
       " 23\n",
       " 53\n",
       " 83"
      ]
     },
     "execution_count": 4,
     "metadata": {},
     "output_type": "execute_result"
    }
   ],
   "source": [
    "function mul(A, x)\n",
    "    m,n = size(A)\n",
    "    c = zeros(eltype(x), m) # eltype is the type of the elements of a vector/matrix\n",
    "    for j = 1:n, k = 1:m\n",
    "        c[k] += A[k, j] * x[j]\n",
    "    end\n",
    "    c\n",
    "end\n",
    "mul(A, x)"
   ]
  },
  {
   "cell_type": "markdown",
   "metadata": {},
   "source": [
    "**Remark (advanced)** \n",
    "This accesses the entries of `A` going down the column,\n",
    "which happens to be _significantly faster_ than accessing by row due to the\n",
    "way computers access memory, but this is beyond the scope of this module.\n",
    "\n",
    "\n",
    "\n",
    "\n",
    "Note that the rules of arithmetic apply here: matrix multiplication with floats\n",
    "will incur round-off error (the precise details of which are subject to the implementation):"
   ]
  },
  {
   "cell_type": "code",
   "execution_count": 5,
   "metadata": {
    "execution": {
     "iopub.execute_input": "2022-01-12T08:43:18.708115Z",
     "iopub.status.busy": "2022-01-12T08:43:18.707573Z",
     "iopub.status.idle": "2022-01-12T08:43:19.336827Z",
     "shell.execute_reply": "2022-01-12T08:43:19.336398Z"
    }
   },
   "outputs": [
    {
     "data": {
      "text/plain": [
       "2-element Vector{Float64}:\n",
       " 0.9999999999999999\n",
       " 1.5"
      ]
     },
     "execution_count": 5,
     "metadata": {},
     "output_type": "execute_result"
    }
   ],
   "source": [
    "A = [1.4 0.4;\n",
    "     2.0 1/2]\n",
    "A * [1, -1] # First entry has round-off error, but 2nd entry is exact"
   ]
  },
  {
   "cell_type": "markdown",
   "metadata": {},
   "source": [
    "And integer arithmetic will be prone to overflow:"
   ]
  },
  {
   "cell_type": "code",
   "execution_count": 6,
   "metadata": {
    "execution": {
     "iopub.execute_input": "2022-01-12T08:43:19.338907Z",
     "iopub.status.busy": "2022-01-12T08:43:19.338354Z",
     "iopub.status.idle": "2022-01-12T08:43:19.914733Z",
     "shell.execute_reply": "2022-01-12T08:43:19.914285Z"
    }
   },
   "outputs": [
    {
     "data": {
      "text/plain": [
       "2-element Vector{Int8}:\n",
       " -128\n",
       " -128"
      ]
     },
     "execution_count": 6,
     "metadata": {},
     "output_type": "execute_result"
    }
   ],
   "source": [
    "A = fill(Int8(2^6), 2, 2) # make a matrix whose entries are all equal to 2^6\n",
    "A * Int8[1,1] # we have overflowed and get a negative number -2^7"
   ]
  },
  {
   "cell_type": "markdown",
   "metadata": {},
   "source": [
    "**Remark (advanced)** For floating point types, `A*x` is implemented in BLAS which is generally multi-threaded\n",
    "and is not identical to `mul(A,x)`, that is, some inputs will differ in how the computations\n",
    "are rounded.\n",
    "\n",
    "Solving a linear system is done using `\\`:"
   ]
  },
  {
   "cell_type": "code",
   "execution_count": 7,
   "metadata": {
    "execution": {
     "iopub.execute_input": "2022-01-12T08:43:19.916818Z",
     "iopub.status.busy": "2022-01-12T08:43:19.916276Z",
     "iopub.status.idle": "2022-01-12T08:43:20.926723Z",
     "shell.execute_reply": "2022-01-12T08:43:20.926273Z"
    }
   },
   "outputs": [
    {
     "data": {
      "text/plain": [
       "3-element Vector{Float64}:\n",
       "  41.000000000000036\n",
       " -17.000000000000014\n",
       "   1.0"
      ]
     },
     "execution_count": 7,
     "metadata": {},
     "output_type": "execute_result"
    }
   ],
   "source": [
    "A = [1 2 3;\n",
    "     1 2 4;\n",
    "     3 7 8]\n",
    "b = [10; 11; 12]\n",
    "A \\ b"
   ]
  },
  {
   "cell_type": "markdown",
   "metadata": {},
   "source": [
    "Despite the answer being integer-valued, \n",
    "here we see that it resorted to using floating point arithmetic,\n",
    "incurring rounding error. \n",
    "But it is \"accurate to (roughly) 16-digits\".\n",
    "As we shall see, the way solving a linear system works is we first write `A` as a\n",
    "product of simpler matrices, e.g., a product of triangular matrices.\n",
    "\n",
    "**Remark (advanced)** For floating point types, `A \\ x` is implemented in LAPACK, which\n",
    "like BLAS is generally multi-threaded and in fact different machines may round differently.\n",
    "\n",
    "\n",
    "## 2. Triangular matrices\n",
    "\n",
    "Triangular matrices are represented by dense square matrices where the entries below the\n",
    "diagonal\n",
    "are ignored:"
   ]
  },
  {
   "cell_type": "code",
   "execution_count": 8,
   "metadata": {
    "execution": {
     "iopub.execute_input": "2022-01-12T08:43:20.928924Z",
     "iopub.status.busy": "2022-01-12T08:43:20.928186Z",
     "iopub.status.idle": "2022-01-12T08:43:21.341932Z",
     "shell.execute_reply": "2022-01-12T08:43:21.341503Z"
    }
   },
   "outputs": [
    {
     "data": {
      "text/plain": [
       "3×3 UpperTriangular{Int64, Matrix{Int64}}:\n",
       " 1  2  3\n",
       " ⋅  5  6\n",
       " ⋅  ⋅  9"
      ]
     },
     "execution_count": 8,
     "metadata": {},
     "output_type": "execute_result"
    }
   ],
   "source": [
    "A = [1 2 3;\n",
    "     4 5 6;\n",
    "     7 8 9]\n",
    "U = UpperTriangular(A)"
   ]
  },
  {
   "cell_type": "markdown",
   "metadata": {},
   "source": [
    "We can see that `U` is storing all the entries of `A`:"
   ]
  },
  {
   "cell_type": "code",
   "execution_count": 9,
   "metadata": {
    "execution": {
     "iopub.execute_input": "2022-01-12T08:43:21.344014Z",
     "iopub.status.busy": "2022-01-12T08:43:21.343466Z",
     "iopub.status.idle": "2022-01-12T08:43:21.350798Z",
     "shell.execute_reply": "2022-01-12T08:43:21.350348Z"
    }
   },
   "outputs": [
    {
     "data": {
      "text/plain": [
       "3×3 Matrix{Int64}:\n",
       " 1  2  3\n",
       " 4  5  6\n",
       " 7  8  9"
      ]
     },
     "execution_count": 9,
     "metadata": {},
     "output_type": "execute_result"
    }
   ],
   "source": [
    "U.data"
   ]
  },
  {
   "cell_type": "markdown",
   "metadata": {},
   "source": [
    "Similarly we can create a lower triangular matrix by ignoring the entries above the diagonal:"
   ]
  },
  {
   "cell_type": "code",
   "execution_count": 10,
   "metadata": {
    "execution": {
     "iopub.execute_input": "2022-01-12T08:43:21.352880Z",
     "iopub.status.busy": "2022-01-12T08:43:21.352301Z",
     "iopub.status.idle": "2022-01-12T08:43:21.744570Z",
     "shell.execute_reply": "2022-01-12T08:43:21.744137Z"
    }
   },
   "outputs": [
    {
     "data": {
      "text/plain": [
       "3×3 LowerTriangular{Int64, Matrix{Int64}}:\n",
       " 1  ⋅  ⋅\n",
       " 4  5  ⋅\n",
       " 7  8  9"
      ]
     },
     "execution_count": 10,
     "metadata": {},
     "output_type": "execute_result"
    }
   ],
   "source": [
    "L = LowerTriangular(A)"
   ]
  },
  {
   "cell_type": "markdown",
   "metadata": {},
   "source": [
    "If we know a matrix is triangular we can do matrix-vector multiplication in half\n",
    "the number of operations. \n",
    "Moreover, we can easily invert matrices. \n",
    "Consider a simple 3×3 example, which can be solved with `\\`:"
   ]
  },
  {
   "cell_type": "code",
   "execution_count": 11,
   "metadata": {
    "execution": {
     "iopub.execute_input": "2022-01-12T08:43:21.747004Z",
     "iopub.status.busy": "2022-01-12T08:43:21.746349Z",
     "iopub.status.idle": "2022-01-12T08:43:21.749959Z",
     "shell.execute_reply": "2022-01-12T08:43:21.749520Z"
    }
   },
   "outputs": [
    {
     "data": {
      "text/plain": [
       "3-element Vector{Float64}:\n",
       " 2.1333333333333333\n",
       " 0.2666666666666666\n",
       " 0.7777777777777778"
      ]
     },
     "execution_count": 11,
     "metadata": {},
     "output_type": "execute_result"
    }
   ],
   "source": [
    "b = [5,6,7]\n",
    "x = U \\ b"
   ]
  },
  {
   "cell_type": "markdown",
   "metadata": {},
   "source": [
    "Behind the seens, `\\` is doing back-substitution: considering the last row, we have all\n",
    "zeros apart from the last column so we know that `x[3]` must be equal to:"
   ]
  },
  {
   "cell_type": "code",
   "execution_count": 12,
   "metadata": {
    "execution": {
     "iopub.execute_input": "2022-01-12T08:43:21.752105Z",
     "iopub.status.busy": "2022-01-12T08:43:21.751549Z",
     "iopub.status.idle": "2022-01-12T08:43:21.969530Z",
     "shell.execute_reply": "2022-01-12T08:43:21.969095Z"
    }
   },
   "outputs": [
    {
     "data": {
      "text/plain": [
       "0.7777777777777778"
      ]
     },
     "execution_count": 12,
     "metadata": {},
     "output_type": "execute_result"
    }
   ],
   "source": [
    "b[3] / U[3,3]"
   ]
  },
  {
   "cell_type": "markdown",
   "metadata": {},
   "source": [
    "Once we know `x[3]`, the second row states `U[2,2]*x[2] + U[2,3]*x[3] == b[2]`, rearranging\n",
    "we get that `x[2]` must be:"
   ]
  },
  {
   "cell_type": "code",
   "execution_count": 13,
   "metadata": {
    "execution": {
     "iopub.execute_input": "2022-01-12T08:43:21.971748Z",
     "iopub.status.busy": "2022-01-12T08:43:21.971196Z",
     "iopub.status.idle": "2022-01-12T08:43:21.985115Z",
     "shell.execute_reply": "2022-01-12T08:43:21.984677Z"
    }
   },
   "outputs": [
    {
     "data": {
      "text/plain": [
       "0.2666666666666666"
      ]
     },
     "execution_count": 13,
     "metadata": {},
     "output_type": "execute_result"
    }
   ],
   "source": [
    "(b[2] - U[2,3]*x[3])/U[2,2]"
   ]
  },
  {
   "cell_type": "markdown",
   "metadata": {},
   "source": [
    "Finally, the first row states `U[1,1]*x[1] + U[1,2]*x[2] + U[1,3]*x[3] == b[1]` i.e.\n",
    "`x[1]` is equal to"
   ]
  },
  {
   "cell_type": "code",
   "execution_count": 14,
   "metadata": {
    "execution": {
     "iopub.execute_input": "2022-01-12T08:43:21.987390Z",
     "iopub.status.busy": "2022-01-12T08:43:21.986744Z",
     "iopub.status.idle": "2022-01-12T08:43:21.989340Z",
     "shell.execute_reply": "2022-01-12T08:43:21.988912Z"
    }
   },
   "outputs": [
    {
     "data": {
      "text/plain": [
       "2.1333333333333333"
      ]
     },
     "execution_count": 14,
     "metadata": {},
     "output_type": "execute_result"
    }
   ],
   "source": [
    "(b[1] - U[1,2]*x[2] - U[1,3]*x[3])/U[1,1]"
   ]
  },
  {
   "cell_type": "markdown",
   "metadata": {},
   "source": [
    "The problem sheet will explore implementing this for general triangular matrices, as well\n",
    "as forward substitution for inverting lower triangular matrices.\n",
    "\n",
    "\n",
    "## 3. Banded matrices\n",
    "\n",
    "A _banded matrix_ is zero off a prescribed number of diagonals. \n",
    "We call the number of (potentially) non-zero diagonals the _bandwidths_:\n",
    "\n",
    "\n",
    "**Definition (bandwidths)** A matrix $A$ has _lower-bandwidth_ $l$ if \n",
    "$A[k,j] = 0$ for all $k > j+l$ and _upper-bandwidth_ $u$ if\n",
    "$A[k,j] = 0$ for all $j > k+u$. We say that it has _strictly lower-bandwidth_ $l$\n",
    "if it has lower-bandwidth $l$ and there exists a $j$ such that $A[j+l,j] \\neq 0$.\n",
    "We say that it has _strictly upper-bandwidth_ $u$\n",
    "if it has upper-bandwidth $u$ and there exists a $k$ such that $A[k,k+u] \\neq 0$.\n",
    "\n",
    "\n",
    "### Diagonal\n",
    "\n",
    "**Definition (Diagonal)** _Diagonal matrices_ are square matrices with bandwidths $l = u = 0$.\n",
    "\n",
    "\n",
    "Diagonal matrices in Julia are stored as a vector containing the diagonal entries:"
   ]
  },
  {
   "cell_type": "code",
   "execution_count": 15,
   "metadata": {
    "execution": {
     "iopub.execute_input": "2022-01-12T08:43:21.991299Z",
     "iopub.status.busy": "2022-01-12T08:43:21.990755Z",
     "iopub.status.idle": "2022-01-12T08:43:22.396371Z",
     "shell.execute_reply": "2022-01-12T08:43:22.395937Z"
    }
   },
   "outputs": [
    {
     "data": {
      "text/plain": [
       "3×3 Diagonal{Int64, Vector{Int64}}:\n",
       " 1  ⋅  ⋅\n",
       " ⋅  2  ⋅\n",
       " ⋅  ⋅  3"
      ]
     },
     "execution_count": 15,
     "metadata": {},
     "output_type": "execute_result"
    }
   ],
   "source": [
    "x = [1,2,3]\n",
    "D = Diagonal(x)"
   ]
  },
  {
   "cell_type": "markdown",
   "metadata": {},
   "source": [
    "It is clear that they can multiply and efficiently (in $O(n)$ operations).\n",
    "\n",
    "### Bidiagonal\n",
    "\n",
    "**Definition (Bidiagonal)** If a square matrix has bandwidths $(l,u) = (1,0)$ it is _lower-bidiagonal_ and\n",
    "if it has bandwidths $(l,u) = (0,1)$ it is _upper-bidiagonal_."
   ]
  },
  {
   "cell_type": "code",
   "execution_count": null,
   "metadata": {},
   "outputs": [],
   "source": []
  },
  {
   "cell_type": "markdown",
   "metadata": {},
   "source": [
    "### Tridiagonal\n",
    "\n",
    "**Definition (Tridiagonal)** If a square matrix has bandwidths $l = u = 1$ it is _tridiagonal_.\n",
    "\n",
    "Julia has \n",
    "\n",
    "Tridiagonal matrices will come up in second-order differential equations and orthogonal polynomials.\n",
    "In this case the matrices are symmetric, and Julia has a special type `SymTridiagonal` for representing\n",
    "symmetric-tridiagonal matrices:"
   ]
  },
  {
   "cell_type": "code",
   "execution_count": null,
   "metadata": {},
   "outputs": [],
   "source": []
  },
  {
   "cell_type": "markdown",
   "metadata": {},
   "source": [
    "## 4. Orthogonal matrices\n",
    "\n",
    "**Definition (orthogonal matrix)** A square matrix is _orthogonal_ if its inverse is its transpose:\n",
    "$$\n",
    "Q^⊤ Q = QQ^⊤ = I.\n",
    "$$\n",
    "\n",
    "**Proposition (norm-preserving)** Orthogonal matrices preserve the 2-norm of vectors:\n",
    "$$\n",
    "\\|Q 𝐯\\|^2 = \\|𝐯\\|.\n",
    "$$\n",
    "\n",
    "**Proof**\n",
    "$$\n",
    "\\|Q 𝐯\\|^2 = (Q 𝐯)^⊤ Q 𝐯 = 𝐯^⊤ Q^⊤ Q 𝐯 = 𝐯^⊤  𝐯 = \\|𝐯\\|^2\n",
    "$$\n",
    "∎\n",
    "\n",
    "Here we discuss three important cases: permutations, simple rotations and reflections.\n",
    "\n",
    "### Permutation Matrices\n",
    "\n",
    "Permutation matrices are matrices that represent the action of permuting the entries of a vector,\n",
    "that is, matrix representations of the symmetric group $S_n$, acting on $ℝ^n$.\n",
    "Recall every $σ \\in S_n$ is a bisection between $\\{1,2,\\ldots,n\\}$.\n",
    "We can write a permutation $σ$ in _Cauchy notation_:\n",
    "$$\n",
    "\\begin{pmatrix}\n",
    " 1 & 2 & 3 & \\cdots & n \\cr\n",
    " σ_1 & σ_2 & σ_3 & \\cdots & σ_n\n",
    " \\end{pmatrix}\n",
    "$$\n",
    "where $\\{σ_1,\\ldots,σ_n\\} = \\{1,2,\\ldots,n\\}$ (that is, each integer appears precisely once).\n",
    "We denote the _inverse permutation_ by $σ^{-1}$, which can be constructed by swapping the rows of\n",
    "the Cauchy notation and reordering.\n",
    "\n",
    "We can encode a permutation in vector $\\mathbf σ = [σ_1,\\ldots,σ_n]^⊤$. \n",
    "This induces an action on a vector (using indexing notation)\n",
    "$$\n",
    "𝐯[\\mathbf σ] = \\begin{pmatrix}v_{σ_1}\\\\ \\vdots \\\\ v_{σ_n} \\end{pmatrix}\n",
    "$$\n",
    "\n",
    "\n",
    "**Example (permutation of a vector)** \n",
    "Consider the permutation $σ$ given by\n",
    "$$\n",
    "\\begin{pmatrix}\n",
    " 1 & 2 & 3 & 4 & 5 \\cr\n",
    " 1 & 4 & 2 & 5 & 3\n",
    " \\end{pmatrix}\n",
    "$$\n",
    "We can apply it to a vector of the first 5 letter:"
   ]
  },
  {
   "cell_type": "code",
   "execution_count": 16,
   "metadata": {
    "execution": {
     "iopub.execute_input": "2022-01-12T08:43:22.398770Z",
     "iopub.status.busy": "2022-01-12T08:43:22.398223Z",
     "iopub.status.idle": "2022-01-12T08:43:22.412469Z",
     "shell.execute_reply": "2022-01-12T08:43:22.411999Z"
    }
   },
   "outputs": [
    {
     "data": {
      "text/plain": [
       "5-element Vector{Int64}:\n",
       "  6\n",
       "  9\n",
       "  7\n",
       " 10\n",
       "  8"
      ]
     },
     "execution_count": 16,
     "metadata": {},
     "output_type": "execute_result"
    }
   ],
   "source": [
    "σ = [1, 4, 2, 5, 3]\n",
    "v = [6, 7, 8, 9, 10]\n",
    "v[σ] # we permutate entries of v"
   ]
  },
  {
   "cell_type": "markdown",
   "metadata": {},
   "source": [
    "Its inverse permutation $σ^{-1}$ has Cauchy notation coming from swapping the rows of\n",
    "the Cauchy notation of $σ$ and sorting:\n",
    "$$\n",
    "\\begin{pmatrix}\n",
    " 1 & 4 & 2 & 5 & 3 \\cr\n",
    " 1 & 2 & 3 & 4 & 5\n",
    " \\end{pmatrix} \\rightarrow \\begin{pmatrix}\n",
    " 1 & 2 & 4 & 3 & 5 \\cr\n",
    " 1 & 3 & 2 & 5 & 4\n",
    " \\end{pmatrix} \n",
    "$$\n",
    "Julia has the function `invperm` for computing the vector that encodes\n",
    "the inverse permutation:\n",
    "And indeed:"
   ]
  },
  {
   "cell_type": "code",
   "execution_count": 17,
   "metadata": {
    "execution": {
     "iopub.execute_input": "2022-01-12T08:43:22.415046Z",
     "iopub.status.busy": "2022-01-12T08:43:22.414428Z",
     "iopub.status.idle": "2022-01-12T08:43:22.417681Z",
     "shell.execute_reply": "2022-01-12T08:43:22.417252Z"
    }
   },
   "outputs": [
    {
     "data": {
      "text/plain": [
       "5-element Vector{Int64}:\n",
       " 1\n",
       " 3\n",
       " 5\n",
       " 2\n",
       " 4"
      ]
     },
     "execution_count": 17,
     "metadata": {},
     "output_type": "execute_result"
    }
   ],
   "source": [
    "σ⁻¹ = invperm(σ) # note that ⁻¹ are just unicode characters in the variable name"
   ]
  },
  {
   "cell_type": "markdown",
   "metadata": {},
   "source": [
    "And indeed permuting the entries by `σ` and then by `σ⁻¹` returns us\n",
    "to our original vector:"
   ]
  },
  {
   "cell_type": "code",
   "execution_count": 18,
   "metadata": {
    "execution": {
     "iopub.execute_input": "2022-01-12T08:43:22.420232Z",
     "iopub.status.busy": "2022-01-12T08:43:22.419680Z",
     "iopub.status.idle": "2022-01-12T08:43:22.422835Z",
     "shell.execute_reply": "2022-01-12T08:43:22.422433Z"
    }
   },
   "outputs": [
    {
     "data": {
      "text/plain": [
       "5-element Vector{Int64}:\n",
       "  6\n",
       "  7\n",
       "  8\n",
       "  9\n",
       " 10"
      ]
     },
     "execution_count": 18,
     "metadata": {},
     "output_type": "execute_result"
    }
   ],
   "source": [
    "v[σ][σ⁻¹] # permuting by σ and then σⁱ gets us back"
   ]
  },
  {
   "cell_type": "markdown",
   "metadata": {},
   "source": [
    "Note that the operator\n",
    "$$\n",
    "P_σ(𝐯) = 𝐯[\\mathbf σ]\n",
    "$$\n",
    "is linear in $𝐯$, therefore, we can identify it with a matrix whose action is:\n",
    "$$\n",
    "P_σ \\begin{pmatrix} v_1\\\\ \\vdots \\\\ v_n \\end{pmatrix} = \\begin{pmatrix}v_{σ_1} \\\\ \\vdots \\\\ v_{σ_n}  \\end{pmatrix}.\n",
    "$$\n",
    "The entries of this matrix are\n",
    "$$\n",
    "P_σ[k,j] = 𝐞_k^⊤ P_σ 𝐞_j = 𝐞_k^⊤ 𝐞_{σ^{-1}_j} = δ_{k,σ^{-1}_j} = δ_{σ_k,j}\n",
    "$$\n",
    "where $δ_{k,j}$ is the _Kronecker delta_:\n",
    "$$\n",
    "δ_{k,j} := \\begin{cases} 1 & k = j \\\\\n",
    "                        0 & \\hbox{otherwise}\n",
    "                        \\end{cases}.\n",
    "$$\n",
    "\n",
    "\n",
    "This construction motivates the following definition:\n",
    "\n",
    "**Definition (permutation matrix)** $P \\in ℝ^{n × n}$ is a permutation matrix if it is equal to\n",
    "the identity matrix with its rows permuted.\n",
    "\n",
    "**Example (5×5 permutation matrix)**\n",
    "We can construct the permutation representation for $σ$ as above as follows:"
   ]
  },
  {
   "cell_type": "code",
   "execution_count": 19,
   "metadata": {
    "execution": {
     "iopub.execute_input": "2022-01-12T08:43:22.425057Z",
     "iopub.status.busy": "2022-01-12T08:43:22.424440Z",
     "iopub.status.idle": "2022-01-12T08:43:23.297701Z",
     "shell.execute_reply": "2022-01-12T08:43:23.297266Z"
    }
   },
   "outputs": [
    {
     "data": {
      "text/plain": [
       "5×5 SparseMatrixCSC{Bool, Int64} with 5 stored entries:\n",
       " 1  ⋅  ⋅  ⋅  ⋅\n",
       " ⋅  ⋅  ⋅  1  ⋅\n",
       " ⋅  1  ⋅  ⋅  ⋅\n",
       " ⋅  ⋅  ⋅  ⋅  1\n",
       " ⋅  ⋅  1  ⋅  ⋅"
      ]
     },
     "execution_count": 19,
     "metadata": {},
     "output_type": "execute_result"
    }
   ],
   "source": [
    "P = I(5)[σ,:]"
   ]
  },
  {
   "cell_type": "markdown",
   "metadata": {},
   "source": [
    "And indeed, we see its action is as expected:"
   ]
  },
  {
   "cell_type": "code",
   "execution_count": 20,
   "metadata": {
    "execution": {
     "iopub.execute_input": "2022-01-12T08:43:23.299717Z",
     "iopub.status.busy": "2022-01-12T08:43:23.299178Z",
     "iopub.status.idle": "2022-01-12T08:43:23.348211Z",
     "shell.execute_reply": "2022-01-12T08:43:23.347777Z"
    }
   },
   "outputs": [
    {
     "data": {
      "text/plain": [
       "5-element Vector{Int64}:\n",
       "  6\n",
       "  9\n",
       "  7\n",
       " 10\n",
       "  8"
      ]
     },
     "execution_count": 20,
     "metadata": {},
     "output_type": "execute_result"
    }
   ],
   "source": [
    "P * v"
   ]
  },
  {
   "cell_type": "markdown",
   "metadata": {},
   "source": [
    "**Remark (advanced)** Note that `P` is a special type `SparseMatrixCSC`. This is used\n",
    "to represent a matrix by storing only the non-zero entries as well as their location.\n",
    "This is an important data type in high-performance scientific computing, but we will not\n",
    "be using general sparse matrices in this module.\n",
    "\n",
    "**Proposition (permutation matrix inverse)** \n",
    "Let $P_σ$ be a permutation matrix corresponding to the permutation $σ$. Then\n",
    "$$\n",
    "P_σ^⊤ = P_{σ^{-1}} = P_σ^{-1}\n",
    "$$\n",
    "That is, $P_σ$ is _orthogonal_:\n",
    "$$\n",
    "P_σ^⊤ P_σ = P_σ P_σ^⊤ = I.\n",
    "$$\n",
    "\n",
    "**Proof**\n",
    "\n",
    "We prove orthogonality via:\n",
    "$$\n",
    "𝐞_k^⊤ P_σ^⊤ P_σ 𝐞_j = (P_σ 𝐞_k)^⊤ P_σ 𝐞_j = 𝐞_{σ^{-1}_k}^⊤ 𝐞_{σ^{-1}_j} = δ_{k,j}\n",
    "$$\n",
    "This shows $P_σ^⊤ P_σ = I$ and hence $P_σ^{-1} = P_σ^⊤$. \n",
    "\n",
    "∎\n",
    "\n",
    "\n",
    "Permutation matrices are examples of sparse matrices that can be very easily inverted. \n",
    "\n",
    "\n",
    "### Simple rotations\n",
    "\n",
    "\n",
    "**Definition (simple rotation)**\n",
    "A 2×2 _rotation matrix_ through angle $θ$ is\n",
    "$$\n",
    "Q_θ := \\begin{pmatrix} \\cos \\theta & -\\sin \\theta \\cr \\sin \\theta & \\cos \\theta \\end{pmatrix}\n",
    "$$\n",
    "\n",
    "In what follows we use the following for writing the angle of a vector:\n",
    "\n",
    "**Definition (two-arg arctan)** The two-argument arctan function gives the angle `θ` through the point\n",
    "$[a,b]^\\top$, i.e., \n",
    "$$\n",
    "\\sqrt{a^2 + b^2} \\begin{pmatrix} \\cos θ \\\\ \\sin θ \\end{pmatrix} =  \\begin{pmatrix} a \\\\ b \\end{pmatrix}\n",
    "$$\n",
    "It can be defined in terms of the standard arctan as follows:\n",
    "$$\n",
    "{\\rm atan}(b,a) := \\begin{cases} {\\rm atan}{b \\over a} & a > 0 \\\\\n",
    "                            {\\rm atan}{b \\over a} + π & a < 0\\hbox{ and }b >0 \\\\\n",
    "                            {\\rm atan}{b \\over a} + π & a < 0\\hbox{ and }b < 0 \\\\\n",
    "                            π/2 & a = 0\\hbox{ and }b >0 \\\\\n",
    "                            -π/2 & a = 0\\hbox{ and }b < 0 \n",
    "                            \\end{cases}\n",
    "$$ \n",
    "\n",
    "This is available in Julia:"
   ]
  },
  {
   "cell_type": "code",
   "execution_count": 21,
   "metadata": {
    "execution": {
     "iopub.execute_input": "2022-01-12T08:43:23.350272Z",
     "iopub.status.busy": "2022-01-12T08:43:23.349730Z",
     "iopub.status.idle": "2022-01-12T08:43:23.392076Z",
     "shell.execute_reply": "2022-01-12T08:43:23.391636Z"
    }
   },
   "outputs": [
    {
     "data": {
      "text/plain": [
       "-2.677945044588987"
      ]
     },
     "execution_count": 21,
     "metadata": {},
     "output_type": "execute_result"
    }
   ],
   "source": [
    "atan(-1,-2) # angle through [-2,-1]"
   ]
  },
  {
   "cell_type": "markdown",
   "metadata": {},
   "source": [
    "We can rotate an arbitrary vector to the unit axis. Interestingly it only requires\n",
    "basic algebraic functions (no trigonometric functions):\n",
    "\n",
    "\n",
    "\n",
    "**Proposition (rotation of vector)** \n",
    "The matrix\n",
    "$$Q = {1 \\over \\sqrt{a^2 + b^2}}\\begin{pmatrix}\n",
    " a & b \\cr -b & a\n",
    "\\end{pmatrix}\n",
    "$$\n",
    "is a rotation matrix satisfying\n",
    "$$\n",
    "Q \\begin{pmatrix} a \\\\ b \\end{pmatrix} = \\sqrt{a^2 + b^2} \\begin{pmatrix} 1 \\\\ 0 \\end{pmatrix}\n",
    "$$\n",
    "\n",
    "**Proof** \n",
    "\n",
    "The last equation is trivial so the only question is that is a a rotation matrix.\n",
    "Define $θ = -{\\rm atan}(b, a)$. By definition of the two-arg arctan we have\n",
    "$$\n",
    "\\begin{pmatrix}\n",
    "\\cos θ & -\\sin θ \\\\\n",
    "\\sin θ &\\cos θ\n",
    "\\end{pmatrix} = \\begin{pmatrix}\n",
    "\\cos(-θ) & \\sin(-θ) \\\\\n",
    "-\\sin(-θ) & \\cos(-θ)\n",
    "\\end{pmatrix} = {1\\over \\sqrt{a^2 + b^2}} \\begin{pmatrix} a  & b \\\\ -b &a \\end{pmatrix}.\n",
    "$$\n",
    "\n",
    "∎\n",
    "\n",
    "\n",
    " We can visualize this using Plots.jl, seeing that the 2-norm is preserved:"
   ]
  },
  {
   "cell_type": "code",
   "execution_count": 22,
   "metadata": {
    "execution": {
     "iopub.execute_input": "2022-01-12T08:43:23.394331Z",
     "iopub.status.busy": "2022-01-12T08:43:23.393766Z",
     "iopub.status.idle": "2022-01-12T08:43:36.865356Z",
     "shell.execute_reply": "2022-01-12T08:43:36.863330Z"
    }
   },
   "outputs": [
    {
     "data": {
      "image/svg+xml": [
       "<?xml version=\"1.0\" encoding=\"utf-8\"?>\n",
       "<svg xmlns=\"http://www.w3.org/2000/svg\" xmlns:xlink=\"http://www.w3.org/1999/xlink\" width=\"600\" height=\"400\" viewBox=\"0 0 2400 1600\">\n",
       "<defs>\n",
       "  <clipPath id=\"clip430\">\n",
       "    <rect x=\"0\" y=\"0\" width=\"2400\" height=\"1600\"/>\n",
       "  </clipPath>\n",
       "</defs>\n",
       "<path clip-path=\"url(#clip430)\" d=\"\n",
       "M0 1600 L2400 1600 L2400 0 L0 0  Z\n",
       "  \" fill=\"#ffffff\" fill-rule=\"evenodd\" fill-opacity=\"1\"/>\n",
       "<defs>\n",
       "  <clipPath id=\"clip431\">\n",
       "    <rect x=\"480\" y=\"0\" width=\"1681\" height=\"1600\"/>\n",
       "  </clipPath>\n",
       "</defs>\n",
       "<path clip-path=\"url(#clip430)\" d=\"\n",
       "M193.936 1486.45 L2352.76 1486.45 L2352.76 47.2441 L193.936 47.2441  Z\n",
       "  \" fill=\"#ffffff\" fill-rule=\"evenodd\" fill-opacity=\"1\"/>\n",
       "<defs>\n",
       "  <clipPath id=\"clip432\">\n",
       "    <rect x=\"193\" y=\"47\" width=\"2160\" height=\"1440\"/>\n",
       "  </clipPath>\n",
       "</defs>\n",
       "<polyline clip-path=\"url(#clip432)\" style=\"stroke:#000000; stroke-linecap:butt; stroke-linejoin:round; stroke-width:2; stroke-opacity:0.1; fill:none\" points=\"\n",
       "  254.522,1486.45 254.522,47.2441 \n",
       "  \"/>\n",
       "<polyline clip-path=\"url(#clip432)\" style=\"stroke:#000000; stroke-linecap:butt; stroke-linejoin:round; stroke-width:2; stroke-opacity:0.1; fill:none\" points=\"\n",
       "  763.806,1486.45 763.806,47.2441 \n",
       "  \"/>\n",
       "<polyline clip-path=\"url(#clip432)\" style=\"stroke:#000000; stroke-linecap:butt; stroke-linejoin:round; stroke-width:2; stroke-opacity:0.1; fill:none\" points=\"\n",
       "  1273.09,1486.45 1273.09,47.2441 \n",
       "  \"/>\n",
       "<polyline clip-path=\"url(#clip432)\" style=\"stroke:#000000; stroke-linecap:butt; stroke-linejoin:round; stroke-width:2; stroke-opacity:0.1; fill:none\" points=\"\n",
       "  1782.37,1486.45 1782.37,47.2441 \n",
       "  \"/>\n",
       "<polyline clip-path=\"url(#clip432)\" style=\"stroke:#000000; stroke-linecap:butt; stroke-linejoin:round; stroke-width:2; stroke-opacity:0.1; fill:none\" points=\"\n",
       "  2291.66,1486.45 2291.66,47.2441 \n",
       "  \"/>\n",
       "<polyline clip-path=\"url(#clip430)\" style=\"stroke:#000000; stroke-linecap:butt; stroke-linejoin:round; stroke-width:4; stroke-opacity:1; fill:none\" points=\"\n",
       "  193.936,1486.45 2352.76,1486.45 \n",
       "  \"/>\n",
       "<polyline clip-path=\"url(#clip430)\" style=\"stroke:#000000; stroke-linecap:butt; stroke-linejoin:round; stroke-width:4; stroke-opacity:1; fill:none\" points=\"\n",
       "  254.522,1486.45 254.522,1467.55 \n",
       "  \"/>\n",
       "<polyline clip-path=\"url(#clip430)\" style=\"stroke:#000000; stroke-linecap:butt; stroke-linejoin:round; stroke-width:4; stroke-opacity:1; fill:none\" points=\"\n",
       "  763.806,1486.45 763.806,1467.55 \n",
       "  \"/>\n",
       "<polyline clip-path=\"url(#clip430)\" style=\"stroke:#000000; stroke-linecap:butt; stroke-linejoin:round; stroke-width:4; stroke-opacity:1; fill:none\" points=\"\n",
       "  1273.09,1486.45 1273.09,1467.55 \n",
       "  \"/>\n",
       "<polyline clip-path=\"url(#clip430)\" style=\"stroke:#000000; stroke-linecap:butt; stroke-linejoin:round; stroke-width:4; stroke-opacity:1; fill:none\" points=\"\n",
       "  1782.37,1486.45 1782.37,1467.55 \n",
       "  \"/>\n",
       "<polyline clip-path=\"url(#clip430)\" style=\"stroke:#000000; stroke-linecap:butt; stroke-linejoin:round; stroke-width:4; stroke-opacity:1; fill:none\" points=\"\n",
       "  2291.66,1486.45 2291.66,1467.55 \n",
       "  \"/>\n",
       "<path clip-path=\"url(#clip430)\" d=\"M201.05 1532.02 L230.726 1532.02 L230.726 1535.95 L201.05 1535.95 L201.05 1532.02 Z\" fill=\"#000000\" fill-rule=\"evenodd\" fill-opacity=\"1\" /><path clip-path=\"url(#clip430)\" d=\"M241.628 1544.91 L249.267 1544.91 L249.267 1518.55 L240.957 1520.21 L240.957 1515.95 L249.221 1514.29 L253.897 1514.29 L253.897 1544.91 L261.536 1544.91 L261.536 1548.85 L241.628 1548.85 L241.628 1544.91 Z\" fill=\"#000000\" fill-rule=\"evenodd\" fill-opacity=\"1\" /><path clip-path=\"url(#clip430)\" d=\"M270.98 1542.97 L275.864 1542.97 L275.864 1548.85 L270.98 1548.85 L270.98 1542.97 Z\" fill=\"#000000\" fill-rule=\"evenodd\" fill-opacity=\"1\" /><path clip-path=\"url(#clip430)\" d=\"M296.049 1517.37 Q292.438 1517.37 290.61 1520.93 Q288.804 1524.47 288.804 1531.6 Q288.804 1538.71 290.61 1542.27 Q292.438 1545.82 296.049 1545.82 Q299.684 1545.82 301.489 1542.27 Q303.318 1538.71 303.318 1531.6 Q303.318 1524.47 301.489 1520.93 Q299.684 1517.37 296.049 1517.37 M296.049 1513.66 Q301.86 1513.66 304.915 1518.27 Q307.994 1522.85 307.994 1531.6 Q307.994 1540.33 304.915 1544.94 Q301.86 1549.52 296.049 1549.52 Q290.239 1549.52 287.161 1544.94 Q284.105 1540.33 284.105 1531.6 Q284.105 1522.85 287.161 1518.27 Q290.239 1513.66 296.049 1513.66 Z\" fill=\"#000000\" fill-rule=\"evenodd\" fill-opacity=\"1\" /><path clip-path=\"url(#clip430)\" d=\"M710.831 1532.02 L740.507 1532.02 L740.507 1535.95 L710.831 1535.95 L710.831 1532.02 Z\" fill=\"#000000\" fill-rule=\"evenodd\" fill-opacity=\"1\" /><path clip-path=\"url(#clip430)\" d=\"M760.6 1517.37 Q756.989 1517.37 755.16 1520.93 Q753.354 1524.47 753.354 1531.6 Q753.354 1538.71 755.16 1542.27 Q756.989 1545.82 760.6 1545.82 Q764.234 1545.82 766.039 1542.27 Q767.868 1538.71 767.868 1531.6 Q767.868 1524.47 766.039 1520.93 Q764.234 1517.37 760.6 1517.37 M760.6 1513.66 Q766.41 1513.66 769.465 1518.27 Q772.544 1522.85 772.544 1531.6 Q772.544 1540.33 769.465 1544.94 Q766.41 1549.52 760.6 1549.52 Q754.79 1549.52 751.711 1544.94 Q748.655 1540.33 748.655 1531.6 Q748.655 1522.85 751.711 1518.27 Q754.79 1513.66 760.6 1513.66 Z\" fill=\"#000000\" fill-rule=\"evenodd\" fill-opacity=\"1\" /><path clip-path=\"url(#clip430)\" d=\"M780.762 1542.97 L785.646 1542.97 L785.646 1548.85 L780.762 1548.85 L780.762 1542.97 Z\" fill=\"#000000\" fill-rule=\"evenodd\" fill-opacity=\"1\" /><path clip-path=\"url(#clip430)\" d=\"M795.877 1514.29 L814.234 1514.29 L814.234 1518.22 L800.16 1518.22 L800.16 1526.7 Q801.178 1526.35 802.197 1526.19 Q803.215 1526 804.234 1526 Q810.021 1526 813.4 1529.17 Q816.78 1532.34 816.78 1537.76 Q816.78 1543.34 813.308 1546.44 Q809.836 1549.52 803.516 1549.52 Q801.34 1549.52 799.072 1549.15 Q796.826 1548.78 794.419 1548.04 L794.419 1543.34 Q796.502 1544.47 798.725 1545.03 Q800.947 1545.58 803.424 1545.58 Q807.428 1545.58 809.766 1543.48 Q812.104 1541.37 812.104 1537.76 Q812.104 1534.15 809.766 1532.04 Q807.428 1529.94 803.424 1529.94 Q801.549 1529.94 799.674 1530.35 Q797.822 1530.77 795.877 1531.65 L795.877 1514.29 Z\" fill=\"#000000\" fill-rule=\"evenodd\" fill-opacity=\"1\" /><path clip-path=\"url(#clip430)\" d=\"M1250.47 1517.37 Q1246.86 1517.37 1245.03 1520.93 Q1243.23 1524.47 1243.23 1531.6 Q1243.23 1538.71 1245.03 1542.27 Q1246.86 1545.82 1250.47 1545.82 Q1254.11 1545.82 1255.91 1542.27 Q1257.74 1538.71 1257.74 1531.6 Q1257.74 1524.47 1255.91 1520.93 Q1254.11 1517.37 1250.47 1517.37 M1250.47 1513.66 Q1256.28 1513.66 1259.34 1518.27 Q1262.42 1522.85 1262.42 1531.6 Q1262.42 1540.33 1259.34 1544.94 Q1256.28 1549.52 1250.47 1549.52 Q1244.66 1549.52 1241.59 1544.94 Q1238.53 1540.33 1238.53 1531.6 Q1238.53 1522.85 1241.59 1518.27 Q1244.66 1513.66 1250.47 1513.66 Z\" fill=\"#000000\" fill-rule=\"evenodd\" fill-opacity=\"1\" /><path clip-path=\"url(#clip430)\" d=\"M1270.64 1542.97 L1275.52 1542.97 L1275.52 1548.85 L1270.64 1548.85 L1270.64 1542.97 Z\" fill=\"#000000\" fill-rule=\"evenodd\" fill-opacity=\"1\" /><path clip-path=\"url(#clip430)\" d=\"M1295.71 1517.37 Q1292.09 1517.37 1290.27 1520.93 Q1288.46 1524.47 1288.46 1531.6 Q1288.46 1538.71 1290.27 1542.27 Q1292.09 1545.82 1295.71 1545.82 Q1299.34 1545.82 1301.14 1542.27 Q1302.97 1538.71 1302.97 1531.6 Q1302.97 1524.47 1301.14 1520.93 Q1299.34 1517.37 1295.71 1517.37 M1295.71 1513.66 Q1301.52 1513.66 1304.57 1518.27 Q1307.65 1522.85 1307.65 1531.6 Q1307.65 1540.33 1304.57 1544.94 Q1301.52 1549.52 1295.71 1549.52 Q1289.9 1549.52 1286.82 1544.94 Q1283.76 1540.33 1283.76 1531.6 Q1283.76 1522.85 1286.82 1518.27 Q1289.9 1513.66 1295.71 1513.66 Z\" fill=\"#000000\" fill-rule=\"evenodd\" fill-opacity=\"1\" /><path clip-path=\"url(#clip430)\" d=\"M1760.26 1517.37 Q1756.64 1517.37 1754.82 1520.93 Q1753.01 1524.47 1753.01 1531.6 Q1753.01 1538.71 1754.82 1542.27 Q1756.64 1545.82 1760.26 1545.82 Q1763.89 1545.82 1765.7 1542.27 Q1767.52 1538.71 1767.52 1531.6 Q1767.52 1524.47 1765.7 1520.93 Q1763.89 1517.37 1760.26 1517.37 M1760.26 1513.66 Q1766.07 1513.66 1769.12 1518.27 Q1772.2 1522.85 1772.2 1531.6 Q1772.2 1540.33 1769.12 1544.94 Q1766.07 1549.52 1760.26 1549.52 Q1754.45 1549.52 1751.37 1544.94 Q1748.31 1540.33 1748.31 1531.6 Q1748.31 1522.85 1751.37 1518.27 Q1754.45 1513.66 1760.26 1513.66 Z\" fill=\"#000000\" fill-rule=\"evenodd\" fill-opacity=\"1\" /><path clip-path=\"url(#clip430)\" d=\"M1780.42 1542.97 L1785.3 1542.97 L1785.3 1548.85 L1780.42 1548.85 L1780.42 1542.97 Z\" fill=\"#000000\" fill-rule=\"evenodd\" fill-opacity=\"1\" /><path clip-path=\"url(#clip430)\" d=\"M1795.53 1514.29 L1813.89 1514.29 L1813.89 1518.22 L1799.82 1518.22 L1799.82 1526.7 Q1800.83 1526.35 1801.85 1526.19 Q1802.87 1526 1803.89 1526 Q1809.68 1526 1813.06 1529.17 Q1816.44 1532.34 1816.44 1537.76 Q1816.44 1543.34 1812.96 1546.44 Q1809.49 1549.52 1803.17 1549.52 Q1801 1549.52 1798.73 1549.15 Q1796.48 1548.78 1794.07 1548.04 L1794.07 1543.34 Q1796.16 1544.47 1798.38 1545.03 Q1800.6 1545.58 1803.08 1545.58 Q1807.08 1545.58 1809.42 1543.48 Q1811.76 1541.37 1811.76 1537.76 Q1811.76 1534.15 1809.42 1532.04 Q1807.08 1529.94 1803.08 1529.94 Q1801.2 1529.94 1799.33 1530.35 Q1797.48 1530.77 1795.53 1531.65 L1795.53 1514.29 Z\" fill=\"#000000\" fill-rule=\"evenodd\" fill-opacity=\"1\" /><path clip-path=\"url(#clip430)\" d=\"M2258.81 1544.91 L2266.45 1544.91 L2266.45 1518.55 L2258.14 1520.21 L2258.14 1515.95 L2266.4 1514.29 L2271.08 1514.29 L2271.08 1544.91 L2278.72 1544.91 L2278.72 1548.85 L2258.81 1548.85 L2258.81 1544.91 Z\" fill=\"#000000\" fill-rule=\"evenodd\" fill-opacity=\"1\" /><path clip-path=\"url(#clip430)\" d=\"M2288.16 1542.97 L2293.05 1542.97 L2293.05 1548.85 L2288.16 1548.85 L2288.16 1542.97 Z\" fill=\"#000000\" fill-rule=\"evenodd\" fill-opacity=\"1\" /><path clip-path=\"url(#clip430)\" d=\"M2313.23 1517.37 Q2309.62 1517.37 2307.79 1520.93 Q2305.99 1524.47 2305.99 1531.6 Q2305.99 1538.71 2307.79 1542.27 Q2309.62 1545.82 2313.23 1545.82 Q2316.87 1545.82 2318.67 1542.27 Q2320.5 1538.71 2320.5 1531.6 Q2320.5 1524.47 2318.67 1520.93 Q2316.87 1517.37 2313.23 1517.37 M2313.23 1513.66 Q2319.04 1513.66 2322.1 1518.27 Q2325.18 1522.85 2325.18 1531.6 Q2325.18 1540.33 2322.1 1544.94 Q2319.04 1549.52 2313.23 1549.52 Q2307.42 1549.52 2304.34 1544.94 Q2301.29 1540.33 2301.29 1531.6 Q2301.29 1522.85 2304.34 1518.27 Q2307.42 1513.66 2313.23 1513.66 Z\" fill=\"#000000\" fill-rule=\"evenodd\" fill-opacity=\"1\" /><polyline clip-path=\"url(#clip432)\" style=\"stroke:#000000; stroke-linecap:butt; stroke-linejoin:round; stroke-width:2; stroke-opacity:0.1; fill:none\" points=\"\n",
       "  193.936,1445.8 2352.76,1445.8 \n",
       "  \"/>\n",
       "<polyline clip-path=\"url(#clip432)\" style=\"stroke:#000000; stroke-linecap:butt; stroke-linejoin:round; stroke-width:2; stroke-opacity:0.1; fill:none\" points=\"\n",
       "  193.936,1106.32 2352.76,1106.32 \n",
       "  \"/>\n",
       "<polyline clip-path=\"url(#clip432)\" style=\"stroke:#000000; stroke-linecap:butt; stroke-linejoin:round; stroke-width:2; stroke-opacity:0.1; fill:none\" points=\"\n",
       "  193.936,766.846 2352.76,766.846 \n",
       "  \"/>\n",
       "<polyline clip-path=\"url(#clip432)\" style=\"stroke:#000000; stroke-linecap:butt; stroke-linejoin:round; stroke-width:2; stroke-opacity:0.1; fill:none\" points=\"\n",
       "  193.936,427.368 2352.76,427.368 \n",
       "  \"/>\n",
       "<polyline clip-path=\"url(#clip432)\" style=\"stroke:#000000; stroke-linecap:butt; stroke-linejoin:round; stroke-width:2; stroke-opacity:0.1; fill:none\" points=\"\n",
       "  193.936,87.8908 2352.76,87.8908 \n",
       "  \"/>\n",
       "<polyline clip-path=\"url(#clip430)\" style=\"stroke:#000000; stroke-linecap:butt; stroke-linejoin:round; stroke-width:4; stroke-opacity:1; fill:none\" points=\"\n",
       "  193.936,1486.45 193.936,47.2441 \n",
       "  \"/>\n",
       "<polyline clip-path=\"url(#clip430)\" style=\"stroke:#000000; stroke-linecap:butt; stroke-linejoin:round; stroke-width:4; stroke-opacity:1; fill:none\" points=\"\n",
       "  193.936,1445.8 212.834,1445.8 \n",
       "  \"/>\n",
       "<polyline clip-path=\"url(#clip430)\" style=\"stroke:#000000; stroke-linecap:butt; stroke-linejoin:round; stroke-width:4; stroke-opacity:1; fill:none\" points=\"\n",
       "  193.936,1106.32 212.834,1106.32 \n",
       "  \"/>\n",
       "<polyline clip-path=\"url(#clip430)\" style=\"stroke:#000000; stroke-linecap:butt; stroke-linejoin:round; stroke-width:4; stroke-opacity:1; fill:none\" points=\"\n",
       "  193.936,766.846 212.834,766.846 \n",
       "  \"/>\n",
       "<polyline clip-path=\"url(#clip430)\" style=\"stroke:#000000; stroke-linecap:butt; stroke-linejoin:round; stroke-width:4; stroke-opacity:1; fill:none\" points=\"\n",
       "  193.936,427.368 212.834,427.368 \n",
       "  \"/>\n",
       "<polyline clip-path=\"url(#clip430)\" style=\"stroke:#000000; stroke-linecap:butt; stroke-linejoin:round; stroke-width:4; stroke-opacity:1; fill:none\" points=\"\n",
       "  193.936,87.8908 212.834,87.8908 \n",
       "  \"/>\n",
       "<path clip-path=\"url(#clip430)\" d=\"M50.9921 1446.25 L80.6679 1446.25 L80.6679 1450.19 L50.9921 1450.19 L50.9921 1446.25 Z\" fill=\"#000000\" fill-rule=\"evenodd\" fill-opacity=\"1\" /><path clip-path=\"url(#clip430)\" d=\"M91.5706 1459.15 L99.2095 1459.15 L99.2095 1432.78 L90.8993 1434.45 L90.8993 1430.19 L99.1632 1428.52 L103.839 1428.52 L103.839 1459.15 L111.478 1459.15 L111.478 1463.08 L91.5706 1463.08 L91.5706 1459.15 Z\" fill=\"#000000\" fill-rule=\"evenodd\" fill-opacity=\"1\" /><path clip-path=\"url(#clip430)\" d=\"M120.922 1457.2 L125.807 1457.2 L125.807 1463.08 L120.922 1463.08 L120.922 1457.2 Z\" fill=\"#000000\" fill-rule=\"evenodd\" fill-opacity=\"1\" /><path clip-path=\"url(#clip430)\" d=\"M145.992 1431.6 Q142.381 1431.6 140.552 1435.16 Q138.746 1438.71 138.746 1445.84 Q138.746 1452.94 140.552 1456.51 Q142.381 1460.05 145.992 1460.05 Q149.626 1460.05 151.431 1456.51 Q153.26 1452.94 153.26 1445.84 Q153.26 1438.71 151.431 1435.16 Q149.626 1431.6 145.992 1431.6 M145.992 1427.9 Q151.802 1427.9 154.857 1432.5 Q157.936 1437.09 157.936 1445.84 Q157.936 1454.56 154.857 1459.17 Q151.802 1463.75 145.992 1463.75 Q140.181 1463.75 137.103 1459.17 Q134.047 1454.56 134.047 1445.84 Q134.047 1437.09 137.103 1432.5 Q140.181 1427.9 145.992 1427.9 Z\" fill=\"#000000\" fill-rule=\"evenodd\" fill-opacity=\"1\" /><path clip-path=\"url(#clip430)\" d=\"M51.9875 1106.77 L81.6633 1106.77 L81.6633 1110.71 L51.9875 1110.71 L51.9875 1106.77 Z\" fill=\"#000000\" fill-rule=\"evenodd\" fill-opacity=\"1\" /><path clip-path=\"url(#clip430)\" d=\"M101.756 1092.12 Q98.1447 1092.12 96.316 1095.69 Q94.5104 1099.23 94.5104 1106.36 Q94.5104 1113.46 96.316 1117.03 Q98.1447 1120.57 101.756 1120.57 Q105.39 1120.57 107.196 1117.03 Q109.024 1113.46 109.024 1106.36 Q109.024 1099.23 107.196 1095.69 Q105.39 1092.12 101.756 1092.12 M101.756 1088.42 Q107.566 1088.42 110.621 1093.03 Q113.7 1097.61 113.7 1106.36 Q113.7 1115.09 110.621 1119.69 Q107.566 1124.27 101.756 1124.27 Q95.9456 1124.27 92.8669 1119.69 Q89.8114 1115.09 89.8114 1106.36 Q89.8114 1097.61 92.8669 1093.03 Q95.9456 1088.42 101.756 1088.42 Z\" fill=\"#000000\" fill-rule=\"evenodd\" fill-opacity=\"1\" /><path clip-path=\"url(#clip430)\" d=\"M121.918 1117.72 L126.802 1117.72 L126.802 1123.6 L121.918 1123.6 L121.918 1117.72 Z\" fill=\"#000000\" fill-rule=\"evenodd\" fill-opacity=\"1\" /><path clip-path=\"url(#clip430)\" d=\"M137.033 1089.04 L155.39 1089.04 L155.39 1092.98 L141.316 1092.98 L141.316 1101.45 Q142.334 1101.1 143.353 1100.94 Q144.371 1100.76 145.39 1100.76 Q151.177 1100.76 154.556 1103.93 Q157.936 1107.1 157.936 1112.52 Q157.936 1118.09 154.464 1121.2 Q150.992 1124.27 144.672 1124.27 Q142.496 1124.27 140.228 1123.9 Q137.982 1123.53 135.575 1122.79 L135.575 1118.09 Q137.658 1119.23 139.881 1119.78 Q142.103 1120.34 144.58 1120.34 Q148.584 1120.34 150.922 1118.23 Q153.26 1116.13 153.26 1112.52 Q153.26 1108.9 150.922 1106.8 Q148.584 1104.69 144.58 1104.69 Q142.705 1104.69 140.83 1105.11 Q138.978 1105.52 137.033 1106.4 L137.033 1089.04 Z\" fill=\"#000000\" fill-rule=\"evenodd\" fill-opacity=\"1\" /><path clip-path=\"url(#clip430)\" d=\"M100.76 752.645 Q97.1493 752.645 95.3206 756.209 Q93.515 759.751 93.515 766.881 Q93.515 773.987 95.3206 777.552 Q97.1493 781.094 100.76 781.094 Q104.395 781.094 106.2 777.552 Q108.029 773.987 108.029 766.881 Q108.029 759.751 106.2 756.209 Q104.395 752.645 100.76 752.645 M100.76 748.941 Q106.571 748.941 109.626 753.547 Q112.705 758.131 112.705 766.881 Q112.705 775.608 109.626 780.214 Q106.571 784.797 100.76 784.797 Q94.9502 784.797 91.8715 780.214 Q88.816 775.608 88.816 766.881 Q88.816 758.131 91.8715 753.547 Q94.9502 748.941 100.76 748.941 Z\" fill=\"#000000\" fill-rule=\"evenodd\" fill-opacity=\"1\" /><path clip-path=\"url(#clip430)\" d=\"M120.922 778.246 L125.807 778.246 L125.807 784.126 L120.922 784.126 L120.922 778.246 Z\" fill=\"#000000\" fill-rule=\"evenodd\" fill-opacity=\"1\" /><path clip-path=\"url(#clip430)\" d=\"M145.992 752.645 Q142.381 752.645 140.552 756.209 Q138.746 759.751 138.746 766.881 Q138.746 773.987 140.552 777.552 Q142.381 781.094 145.992 781.094 Q149.626 781.094 151.431 777.552 Q153.26 773.987 153.26 766.881 Q153.26 759.751 151.431 756.209 Q149.626 752.645 145.992 752.645 M145.992 748.941 Q151.802 748.941 154.857 753.547 Q157.936 758.131 157.936 766.881 Q157.936 775.608 154.857 780.214 Q151.802 784.797 145.992 784.797 Q140.181 784.797 137.103 780.214 Q134.047 775.608 134.047 766.881 Q134.047 758.131 137.103 753.547 Q140.181 748.941 145.992 748.941 Z\" fill=\"#000000\" fill-rule=\"evenodd\" fill-opacity=\"1\" /><path clip-path=\"url(#clip430)\" d=\"M101.756 413.167 Q98.1447 413.167 96.316 416.732 Q94.5104 420.274 94.5104 427.403 Q94.5104 434.51 96.316 438.074 Q98.1447 441.616 101.756 441.616 Q105.39 441.616 107.196 438.074 Q109.024 434.51 109.024 427.403 Q109.024 420.274 107.196 416.732 Q105.39 413.167 101.756 413.167 M101.756 409.463 Q107.566 409.463 110.621 414.07 Q113.7 418.653 113.7 427.403 Q113.7 436.13 110.621 440.736 Q107.566 445.32 101.756 445.32 Q95.9456 445.32 92.8669 440.736 Q89.8114 436.13 89.8114 427.403 Q89.8114 418.653 92.8669 414.07 Q95.9456 409.463 101.756 409.463 Z\" fill=\"#000000\" fill-rule=\"evenodd\" fill-opacity=\"1\" /><path clip-path=\"url(#clip430)\" d=\"M121.918 438.769 L126.802 438.769 L126.802 444.648 L121.918 444.648 L121.918 438.769 Z\" fill=\"#000000\" fill-rule=\"evenodd\" fill-opacity=\"1\" /><path clip-path=\"url(#clip430)\" d=\"M137.033 410.088 L155.39 410.088 L155.39 414.024 L141.316 414.024 L141.316 422.496 Q142.334 422.149 143.353 421.986 Q144.371 421.801 145.39 421.801 Q151.177 421.801 154.556 424.973 Q157.936 428.144 157.936 433.56 Q157.936 439.139 154.464 442.241 Q150.992 445.32 144.672 445.32 Q142.496 445.32 140.228 444.949 Q137.982 444.579 135.575 443.838 L135.575 439.139 Q137.658 440.273 139.881 440.829 Q142.103 441.385 144.58 441.385 Q148.584 441.385 150.922 439.278 Q153.26 437.172 153.26 433.56 Q153.26 429.949 150.922 427.843 Q148.584 425.736 144.58 425.736 Q142.705 425.736 140.83 426.153 Q138.978 426.57 137.033 427.449 L137.033 410.088 Z\" fill=\"#000000\" fill-rule=\"evenodd\" fill-opacity=\"1\" /><path clip-path=\"url(#clip430)\" d=\"M91.5706 101.236 L99.2095 101.236 L99.2095 74.8701 L90.8993 76.5367 L90.8993 72.2775 L99.1632 70.6108 L103.839 70.6108 L103.839 101.236 L111.478 101.236 L111.478 105.171 L91.5706 105.171 L91.5706 101.236 Z\" fill=\"#000000\" fill-rule=\"evenodd\" fill-opacity=\"1\" /><path clip-path=\"url(#clip430)\" d=\"M120.922 99.2912 L125.807 99.2912 L125.807 105.171 L120.922 105.171 L120.922 99.2912 Z\" fill=\"#000000\" fill-rule=\"evenodd\" fill-opacity=\"1\" /><path clip-path=\"url(#clip430)\" d=\"M145.992 73.6895 Q142.381 73.6895 140.552 77.2543 Q138.746 80.7959 138.746 87.9255 Q138.746 95.032 140.552 98.5968 Q142.381 102.138 145.992 102.138 Q149.626 102.138 151.431 98.5968 Q153.26 95.032 153.26 87.9255 Q153.26 80.7959 151.431 77.2543 Q149.626 73.6895 145.992 73.6895 M145.992 69.9858 Q151.802 69.9858 154.857 74.5923 Q157.936 79.1756 157.936 87.9255 Q157.936 96.6523 154.857 101.259 Q151.802 105.842 145.992 105.842 Q140.181 105.842 137.103 101.259 Q134.047 96.6523 134.047 87.9255 Q134.047 79.1756 137.103 74.5923 Q140.181 69.9858 145.992 69.9858 Z\" fill=\"#000000\" fill-rule=\"evenodd\" fill-opacity=\"1\" /><circle clip-path=\"url(#clip432)\" cx=\"1993.33\" cy=\"286.752\" r=\"14\" fill=\"#009af9\" fill-rule=\"evenodd\" fill-opacity=\"1\" stroke=\"#000000\" stroke-opacity=\"1\" stroke-width=\"3.2\"/>\n",
       "<circle clip-path=\"url(#clip432)\" cx=\"1056.18\" cy=\"103.465\" r=\"14\" fill=\"#e26f46\" fill-rule=\"evenodd\" fill-opacity=\"1\" stroke=\"#000000\" stroke-opacity=\"1\" stroke-width=\"3.2\"/>\n",
       "<polyline clip-path=\"url(#clip432)\" style=\"stroke:#3da44d; stroke-linecap:butt; stroke-linejoin:round; stroke-width:4; stroke-opacity:1; fill:none\" points=\"\n",
       "  2291.66,766.846 2289.61,723.784 2283.46,680.895 2273.25,638.353 2259.01,596.328 2240.8,554.989 2218.7,514.504 2192.78,475.035 2163.16,436.74 2129.96,399.775 \n",
       "  2093.31,364.288 2053.36,330.422 2010.26,298.313 1964.2,268.091 1915.35,239.877 1863.92,213.785 1810.1,189.921 1754.13,168.379 1696.22,149.247 1636.6,132.601 \n",
       "  1575.52,118.51 1513.23,107.029 1449.96,98.2057 1385.99,92.0742 1321.55,88.6598 1256.93,87.9763 1192.37,90.0263 1128.13,94.8016 1064.48,102.283 1001.67,112.44 \n",
       "  939.949,125.233 879.571,140.609 820.778,158.506 763.806,178.854 708.884,201.568 656.235,226.559 606.07,253.726 558.59,282.959 513.987,314.14 472.441,347.144 \n",
       "  434.119,381.838 399.175,418.082 367.75,455.731 339.971,494.632 315.949,534.63 295.781,575.562 279.548,617.265 267.316,659.57 259.134,702.307 255.035,745.304 \n",
       "  255.035,788.388 259.134,831.385 267.316,874.122 279.548,916.427 295.781,958.13 315.949,999.062 339.971,1039.06 367.75,1077.96 399.175,1115.61 434.119,1151.85 \n",
       "  472.441,1186.55 513.987,1219.55 558.59,1250.73 606.07,1279.97 656.235,1307.13 708.884,1332.12 763.806,1354.84 820.778,1375.19 879.571,1393.08 939.949,1408.46 \n",
       "  1001.67,1421.25 1064.48,1431.41 1128.13,1438.89 1192.37,1443.67 1256.93,1445.72 1321.55,1445.03 1385.99,1441.62 1449.96,1435.49 1513.23,1426.66 1575.52,1415.18 \n",
       "  1636.6,1401.09 1696.22,1384.45 1754.13,1365.31 1810.1,1343.77 1863.92,1319.91 1915.35,1293.81 1964.2,1265.6 2010.26,1235.38 2053.36,1203.27 2093.31,1169.4 \n",
       "  2129.96,1133.92 2163.16,1096.95 2192.78,1058.66 2218.7,1019.19 2240.8,978.703 2259.01,937.364 2273.25,895.339 2283.46,852.797 2289.61,809.908 2291.66,766.846 \n",
       "  \n",
       "  \"/>\n",
       "<path clip-path=\"url(#clip430)\" d=\"\n",
       "M265.897 1438.47 L815.185 1438.47 L815.185 1231.11 L265.897 1231.11  Z\n",
       "  \" fill=\"#ffffff\" fill-rule=\"evenodd\" fill-opacity=\"1\"/>\n",
       "<polyline clip-path=\"url(#clip430)\" style=\"stroke:#000000; stroke-linecap:butt; stroke-linejoin:round; stroke-width:4; stroke-opacity:1; fill:none\" points=\"\n",
       "  265.897,1438.47 815.185,1438.47 815.185,1231.11 265.897,1231.11 265.897,1438.47 \n",
       "  \"/>\n",
       "<circle clip-path=\"url(#clip430)\" cx=\"361.844\" cy=\"1282.95\" r=\"23\" fill=\"#009af9\" fill-rule=\"evenodd\" fill-opacity=\"1\" stroke=\"#000000\" stroke-opacity=\"1\" stroke-width=\"5.12\"/>\n",
       "<path clip-path=\"url(#clip430)\" d=\"M469.69 1277.29 Q466.264 1277.29 464.273 1279.98 Q462.282 1282.64 462.282 1287.29 Q462.282 1291.95 464.25 1294.63 Q466.241 1297.29 469.69 1297.29 Q473.093 1297.29 475.083 1294.61 Q477.074 1291.92 477.074 1287.29 Q477.074 1282.69 475.083 1280 Q473.093 1277.29 469.69 1277.29 M469.69 1273.68 Q475.245 1273.68 478.417 1277.29 Q481.588 1280.91 481.588 1287.29 Q481.588 1293.66 478.417 1297.29 Q475.245 1300.91 469.69 1300.91 Q464.111 1300.91 460.94 1297.29 Q457.792 1293.66 457.792 1287.29 Q457.792 1280.91 460.94 1277.29 Q464.111 1273.68 469.69 1273.68 Z\" fill=\"#000000\" fill-rule=\"evenodd\" fill-opacity=\"1\" /><path clip-path=\"url(#clip430)\" d=\"M503.671 1278.29 Q502.954 1277.87 502.097 1277.69 Q501.264 1277.48 500.245 1277.48 Q496.634 1277.48 494.69 1279.84 Q492.768 1282.18 492.768 1286.58 L492.768 1300.23 L488.486 1300.23 L488.486 1274.31 L492.768 1274.31 L492.768 1278.34 Q494.111 1275.98 496.264 1274.84 Q498.417 1273.68 501.495 1273.68 Q501.935 1273.68 502.467 1273.75 Q503 1273.8 503.648 1273.92 L503.671 1278.29 Z\" fill=\"#000000\" fill-rule=\"evenodd\" fill-opacity=\"1\" /><path clip-path=\"url(#clip430)\" d=\"M508.139 1274.31 L512.398 1274.31 L512.398 1300.23 L508.139 1300.23 L508.139 1274.31 M508.139 1264.22 L512.398 1264.22 L512.398 1269.61 L508.139 1269.61 L508.139 1264.22 Z\" fill=\"#000000\" fill-rule=\"evenodd\" fill-opacity=\"1\" /><path clip-path=\"url(#clip430)\" d=\"M538.37 1286.97 Q538.37 1282.34 536.449 1279.79 Q534.551 1277.25 531.102 1277.25 Q527.676 1277.25 525.754 1279.79 Q523.856 1282.34 523.856 1286.97 Q523.856 1291.58 525.754 1294.12 Q527.676 1296.67 531.102 1296.67 Q534.551 1296.67 536.449 1294.12 Q538.37 1291.58 538.37 1286.97 M542.629 1297.02 Q542.629 1303.64 539.689 1306.85 Q536.75 1310.1 530.685 1310.1 Q528.44 1310.1 526.449 1309.75 Q524.458 1309.42 522.583 1308.73 L522.583 1304.59 Q524.458 1305.6 526.287 1306.09 Q528.115 1306.58 530.014 1306.58 Q534.203 1306.58 536.287 1304.38 Q538.37 1302.2 538.37 1297.78 L538.37 1295.67 Q537.051 1297.97 534.99 1299.1 Q532.93 1300.23 530.06 1300.23 Q525.291 1300.23 522.375 1296.6 Q519.458 1292.97 519.458 1286.97 Q519.458 1280.95 522.375 1277.32 Q525.291 1273.68 530.06 1273.68 Q532.93 1273.68 534.99 1274.82 Q537.051 1275.95 538.37 1278.24 L538.37 1274.31 L542.629 1274.31 L542.629 1297.02 Z\" fill=\"#000000\" fill-rule=\"evenodd\" fill-opacity=\"1\" /><path clip-path=\"url(#clip430)\" d=\"M551.402 1274.31 L555.662 1274.31 L555.662 1300.23 L551.402 1300.23 L551.402 1274.31 M551.402 1264.22 L555.662 1264.22 L555.662 1269.61 L551.402 1269.61 L551.402 1264.22 Z\" fill=\"#000000\" fill-rule=\"evenodd\" fill-opacity=\"1\" /><path clip-path=\"url(#clip430)\" d=\"M586.124 1284.59 L586.124 1300.23 L581.865 1300.23 L581.865 1284.73 Q581.865 1281.04 580.43 1279.22 Q578.995 1277.39 576.124 1277.39 Q572.675 1277.39 570.685 1279.59 Q568.694 1281.79 568.694 1285.58 L568.694 1300.23 L564.412 1300.23 L564.412 1274.31 L568.694 1274.31 L568.694 1278.34 Q570.222 1276 572.282 1274.84 Q574.365 1273.68 577.074 1273.68 Q581.541 1273.68 583.833 1276.46 Q586.124 1279.22 586.124 1284.59 Z\" fill=\"#000000\" fill-rule=\"evenodd\" fill-opacity=\"1\" /><path clip-path=\"url(#clip430)\" d=\"M606.402 1287.2 Q601.24 1287.2 599.249 1288.38 Q597.259 1289.56 597.259 1292.41 Q597.259 1294.68 598.74 1296.02 Q600.245 1297.34 602.814 1297.34 Q606.356 1297.34 608.485 1294.84 Q610.638 1292.32 610.638 1288.15 L610.638 1287.2 L606.402 1287.2 M614.897 1285.44 L614.897 1300.23 L610.638 1300.23 L610.638 1296.3 Q609.18 1298.66 607.004 1299.79 Q604.828 1300.91 601.68 1300.91 Q597.698 1300.91 595.337 1298.68 Q592.999 1296.44 592.999 1292.69 Q592.999 1288.31 595.916 1286.09 Q598.856 1283.87 604.666 1283.87 L610.638 1283.87 L610.638 1283.45 Q610.638 1280.51 608.694 1278.92 Q606.772 1277.29 603.277 1277.29 Q601.055 1277.29 598.948 1277.83 Q596.842 1278.36 594.898 1279.42 L594.898 1275.49 Q597.235 1274.59 599.435 1274.15 Q601.634 1273.68 603.717 1273.68 Q609.342 1273.68 612.12 1276.6 Q614.897 1279.52 614.897 1285.44 Z\" fill=\"#000000\" fill-rule=\"evenodd\" fill-opacity=\"1\" /><path clip-path=\"url(#clip430)\" d=\"M623.671 1264.22 L627.93 1264.22 L627.93 1300.23 L623.671 1300.23 L623.671 1264.22 Z\" fill=\"#000000\" fill-rule=\"evenodd\" fill-opacity=\"1\" /><path clip-path=\"url(#clip430)\" d=\"M656.031 1296.35 L656.031 1310.1 L651.749 1310.1 L651.749 1274.31 L656.031 1274.31 L656.031 1278.24 Q657.374 1275.93 659.411 1274.82 Q661.471 1273.68 664.318 1273.68 Q669.041 1273.68 671.98 1277.43 Q674.943 1281.18 674.943 1287.29 Q674.943 1293.41 671.98 1297.16 Q669.041 1300.91 664.318 1300.91 Q661.471 1300.91 659.411 1299.79 Q657.374 1298.66 656.031 1296.35 M670.522 1287.29 Q670.522 1282.6 668.578 1279.93 Q666.656 1277.25 663.277 1277.25 Q659.897 1277.25 657.953 1279.93 Q656.031 1282.6 656.031 1287.29 Q656.031 1291.99 657.953 1294.68 Q659.897 1297.34 663.277 1297.34 Q666.656 1297.34 668.578 1294.68 Q670.522 1291.99 670.522 1287.29 Z\" fill=\"#000000\" fill-rule=\"evenodd\" fill-opacity=\"1\" /><path clip-path=\"url(#clip430)\" d=\"M692.05 1277.29 Q688.624 1277.29 686.633 1279.98 Q684.642 1282.64 684.642 1287.29 Q684.642 1291.95 686.61 1294.63 Q688.601 1297.29 692.05 1297.29 Q695.453 1297.29 697.443 1294.61 Q699.434 1291.92 699.434 1287.29 Q699.434 1282.69 697.443 1280 Q695.453 1277.29 692.05 1277.29 M692.05 1273.68 Q697.605 1273.68 700.777 1277.29 Q703.948 1280.91 703.948 1287.29 Q703.948 1293.66 700.777 1297.29 Q697.605 1300.91 692.05 1300.91 Q686.471 1300.91 683.3 1297.29 Q680.152 1293.66 680.152 1287.29 Q680.152 1280.91 683.3 1277.29 Q686.471 1273.68 692.05 1273.68 Z\" fill=\"#000000\" fill-rule=\"evenodd\" fill-opacity=\"1\" /><path clip-path=\"url(#clip430)\" d=\"M711.008 1274.31 L715.267 1274.31 L715.267 1300.23 L711.008 1300.23 L711.008 1274.31 M711.008 1264.22 L715.267 1264.22 L715.267 1269.61 L711.008 1269.61 L711.008 1264.22 Z\" fill=\"#000000\" fill-rule=\"evenodd\" fill-opacity=\"1\" /><path clip-path=\"url(#clip430)\" d=\"M745.73 1284.59 L745.73 1300.23 L741.471 1300.23 L741.471 1284.73 Q741.471 1281.04 740.036 1279.22 Q738.6 1277.39 735.73 1277.39 Q732.281 1277.39 730.29 1279.59 Q728.3 1281.79 728.3 1285.58 L728.3 1300.23 L724.017 1300.23 L724.017 1274.31 L728.3 1274.31 L728.3 1278.34 Q729.827 1276 731.888 1274.84 Q733.971 1273.68 736.679 1273.68 Q741.147 1273.68 743.438 1276.46 Q745.73 1279.22 745.73 1284.59 Z\" fill=\"#000000\" fill-rule=\"evenodd\" fill-opacity=\"1\" /><path clip-path=\"url(#clip430)\" d=\"M758.438 1266.95 L758.438 1274.31 L767.211 1274.31 L767.211 1277.62 L758.438 1277.62 L758.438 1291.69 Q758.438 1294.86 759.295 1295.77 Q760.174 1296.67 762.836 1296.67 L767.211 1296.67 L767.211 1300.23 L762.836 1300.23 Q757.906 1300.23 756.031 1298.41 Q754.156 1296.55 754.156 1291.69 L754.156 1277.62 L751.031 1277.62 L751.031 1274.31 L754.156 1274.31 L754.156 1266.95 L758.438 1266.95 Z\" fill=\"#000000\" fill-rule=\"evenodd\" fill-opacity=\"1\" /><circle clip-path=\"url(#clip430)\" cx=\"361.844\" cy=\"1334.79\" r=\"23\" fill=\"#e26f46\" fill-rule=\"evenodd\" fill-opacity=\"1\" stroke=\"#000000\" stroke-opacity=\"1\" stroke-width=\"5.12\"/>\n",
       "<path clip-path=\"url(#clip430)\" d=\"M472.977 1330.13 Q472.259 1329.71 471.403 1329.53 Q470.569 1329.32 469.551 1329.32 Q465.94 1329.32 463.995 1331.68 Q462.074 1334.02 462.074 1338.42 L462.074 1352.07 L457.792 1352.07 L457.792 1326.15 L462.074 1326.15 L462.074 1330.18 Q463.417 1327.82 465.57 1326.68 Q467.722 1325.52 470.801 1325.52 Q471.241 1325.52 471.773 1325.59 Q472.306 1325.64 472.954 1325.76 L472.977 1330.13 Z\" fill=\"#000000\" fill-rule=\"evenodd\" fill-opacity=\"1\" /><path clip-path=\"url(#clip430)\" d=\"M486.449 1329.13 Q483.023 1329.13 481.032 1331.82 Q479.042 1334.48 479.042 1339.13 Q479.042 1343.79 481.009 1346.47 Q483 1349.13 486.449 1349.13 Q489.852 1349.13 491.843 1346.45 Q493.833 1343.76 493.833 1339.13 Q493.833 1334.53 491.843 1331.84 Q489.852 1329.13 486.449 1329.13 M486.449 1325.52 Q492.005 1325.52 495.176 1329.13 Q498.347 1332.75 498.347 1339.13 Q498.347 1345.5 495.176 1349.13 Q492.005 1352.75 486.449 1352.75 Q480.87 1352.75 477.699 1349.13 Q474.551 1345.5 474.551 1339.13 Q474.551 1332.75 477.699 1329.13 Q480.87 1325.52 486.449 1325.52 Z\" fill=\"#000000\" fill-rule=\"evenodd\" fill-opacity=\"1\" /><path clip-path=\"url(#clip430)\" d=\"M509.62 1318.79 L509.62 1326.15 L518.393 1326.15 L518.393 1329.46 L509.62 1329.46 L509.62 1343.53 Q509.62 1346.7 510.477 1347.61 Q511.356 1348.51 514.018 1348.51 L518.393 1348.51 L518.393 1352.07 L514.018 1352.07 Q509.088 1352.07 507.213 1350.25 Q505.338 1348.39 505.338 1343.53 L505.338 1329.46 L502.213 1329.46 L502.213 1326.15 L505.338 1326.15 L505.338 1318.79 L509.62 1318.79 Z\" fill=\"#000000\" fill-rule=\"evenodd\" fill-opacity=\"1\" /><path clip-path=\"url(#clip430)\" d=\"M535.777 1339.04 Q530.615 1339.04 528.625 1340.22 Q526.634 1341.4 526.634 1344.25 Q526.634 1346.52 528.115 1347.86 Q529.62 1349.18 532.19 1349.18 Q535.731 1349.18 537.861 1346.68 Q540.014 1344.16 540.014 1339.99 L540.014 1339.04 L535.777 1339.04 M544.273 1337.28 L544.273 1352.07 L540.014 1352.07 L540.014 1348.14 Q538.555 1350.5 536.379 1351.63 Q534.203 1352.75 531.055 1352.75 Q527.074 1352.75 524.713 1350.52 Q522.375 1348.28 522.375 1344.53 Q522.375 1340.15 525.291 1337.93 Q528.231 1335.71 534.041 1335.71 L540.014 1335.71 L540.014 1335.29 Q540.014 1332.35 538.069 1330.76 Q536.148 1329.13 532.652 1329.13 Q530.43 1329.13 528.324 1329.67 Q526.217 1330.2 524.273 1331.26 L524.273 1327.33 Q526.611 1326.43 528.81 1325.99 Q531.009 1325.52 533.092 1325.52 Q538.717 1325.52 541.495 1328.44 Q544.273 1331.36 544.273 1337.28 Z\" fill=\"#000000\" fill-rule=\"evenodd\" fill-opacity=\"1\" /><path clip-path=\"url(#clip430)\" d=\"M557.259 1318.79 L557.259 1326.15 L566.032 1326.15 L566.032 1329.46 L557.259 1329.46 L557.259 1343.53 Q557.259 1346.7 558.115 1347.61 Q558.995 1348.51 561.657 1348.51 L566.032 1348.51 L566.032 1352.07 L561.657 1352.07 Q556.726 1352.07 554.851 1350.25 Q552.976 1348.39 552.976 1343.53 L552.976 1329.46 L549.851 1329.46 L549.851 1326.15 L552.976 1326.15 L552.976 1318.79 L557.259 1318.79 Z\" fill=\"#000000\" fill-rule=\"evenodd\" fill-opacity=\"1\" /><path clip-path=\"url(#clip430)\" d=\"M593.81 1338.05 L593.81 1340.13 L574.226 1340.13 Q574.504 1344.53 576.865 1346.84 Q579.249 1349.13 583.486 1349.13 Q585.939 1349.13 588.231 1348.53 Q590.546 1347.93 592.814 1346.73 L592.814 1350.75 Q590.523 1351.73 588.115 1352.24 Q585.708 1352.75 583.231 1352.75 Q577.027 1352.75 573.393 1349.13 Q569.782 1345.52 569.782 1339.37 Q569.782 1333 573.208 1329.27 Q576.657 1325.52 582.49 1325.52 Q587.722 1325.52 590.754 1328.9 Q593.81 1332.26 593.81 1338.05 M589.55 1336.8 Q589.504 1333.3 587.583 1331.22 Q585.685 1329.13 582.536 1329.13 Q578.972 1329.13 576.819 1331.15 Q574.689 1333.16 574.365 1336.82 L589.55 1336.8 Z\" fill=\"#000000\" fill-rule=\"evenodd\" fill-opacity=\"1\" /><path clip-path=\"url(#clip430)\" d=\"M617.86 1330.08 L617.86 1316.06 L622.12 1316.06 L622.12 1352.07 L617.86 1352.07 L617.86 1348.19 Q616.518 1350.5 614.458 1351.63 Q612.421 1352.75 609.55 1352.75 Q604.851 1352.75 601.888 1349 Q598.948 1345.25 598.948 1339.13 Q598.948 1333.02 601.888 1329.27 Q604.851 1325.52 609.55 1325.52 Q612.421 1325.52 614.458 1326.66 Q616.518 1327.77 617.86 1330.08 M603.347 1339.13 Q603.347 1343.83 605.268 1346.52 Q607.212 1349.18 610.592 1349.18 Q613.971 1349.18 615.916 1346.52 Q617.86 1343.83 617.86 1339.13 Q617.86 1334.44 615.916 1331.77 Q613.971 1329.09 610.592 1329.09 Q607.212 1329.09 605.268 1331.77 Q603.347 1334.44 603.347 1339.13 Z\" fill=\"#000000\" fill-rule=\"evenodd\" fill-opacity=\"1\" /><path clip-path=\"url(#clip430)\" d=\"M650.082 1348.19 L650.082 1361.94 L645.8 1361.94 L645.8 1326.15 L650.082 1326.15 L650.082 1330.08 Q651.425 1327.77 653.462 1326.66 Q655.522 1325.52 658.369 1325.52 Q663.092 1325.52 666.031 1329.27 Q668.994 1333.02 668.994 1339.13 Q668.994 1345.25 666.031 1349 Q663.092 1352.75 658.369 1352.75 Q655.522 1352.75 653.462 1351.63 Q651.425 1350.5 650.082 1348.19 M664.573 1339.13 Q664.573 1334.44 662.629 1331.77 Q660.707 1329.09 657.328 1329.09 Q653.948 1329.09 652.004 1331.77 Q650.082 1334.44 650.082 1339.13 Q650.082 1343.83 652.004 1346.52 Q653.948 1349.18 657.328 1349.18 Q660.707 1349.18 662.629 1346.52 Q664.573 1343.83 664.573 1339.13 Z\" fill=\"#000000\" fill-rule=\"evenodd\" fill-opacity=\"1\" /><path clip-path=\"url(#clip430)\" d=\"M686.101 1329.13 Q682.675 1329.13 680.684 1331.82 Q678.693 1334.48 678.693 1339.13 Q678.693 1343.79 680.661 1346.47 Q682.652 1349.13 686.101 1349.13 Q689.503 1349.13 691.494 1346.45 Q693.485 1343.76 693.485 1339.13 Q693.485 1334.53 691.494 1331.84 Q689.503 1329.13 686.101 1329.13 M686.101 1325.52 Q691.656 1325.52 694.828 1329.13 Q697.999 1332.75 697.999 1339.13 Q697.999 1345.5 694.828 1349.13 Q691.656 1352.75 686.101 1352.75 Q680.522 1352.75 677.351 1349.13 Q674.203 1345.5 674.203 1339.13 Q674.203 1332.75 677.351 1329.13 Q680.522 1325.52 686.101 1325.52 Z\" fill=\"#000000\" fill-rule=\"evenodd\" fill-opacity=\"1\" /><path clip-path=\"url(#clip430)\" d=\"M705.059 1326.15 L709.318 1326.15 L709.318 1352.07 L705.059 1352.07 L705.059 1326.15 M705.059 1316.06 L709.318 1316.06 L709.318 1321.45 L705.059 1321.45 L705.059 1316.06 Z\" fill=\"#000000\" fill-rule=\"evenodd\" fill-opacity=\"1\" /><path clip-path=\"url(#clip430)\" d=\"M739.781 1336.43 L739.781 1352.07 L735.522 1352.07 L735.522 1336.57 Q735.522 1332.88 734.087 1331.06 Q732.651 1329.23 729.781 1329.23 Q726.332 1329.23 724.341 1331.43 Q722.351 1333.63 722.351 1337.42 L722.351 1352.07 L718.068 1352.07 L718.068 1326.15 L722.351 1326.15 L722.351 1330.18 Q723.878 1327.84 725.938 1326.68 Q728.022 1325.52 730.73 1325.52 Q735.198 1325.52 737.489 1328.3 Q739.781 1331.06 739.781 1336.43 Z\" fill=\"#000000\" fill-rule=\"evenodd\" fill-opacity=\"1\" /><path clip-path=\"url(#clip430)\" d=\"M752.489 1318.79 L752.489 1326.15 L761.262 1326.15 L761.262 1329.46 L752.489 1329.46 L752.489 1343.53 Q752.489 1346.7 753.346 1347.61 Q754.225 1348.51 756.887 1348.51 L761.262 1348.51 L761.262 1352.07 L756.887 1352.07 Q751.957 1352.07 750.082 1350.25 Q748.207 1348.39 748.207 1343.53 L748.207 1329.46 L745.082 1329.46 L745.082 1326.15 L748.207 1326.15 L748.207 1318.79 L752.489 1318.79 Z\" fill=\"#000000\" fill-rule=\"evenodd\" fill-opacity=\"1\" /><polyline clip-path=\"url(#clip430)\" style=\"stroke:#3da44d; stroke-linecap:butt; stroke-linejoin:round; stroke-width:4; stroke-opacity:1; fill:none\" points=\"\n",
       "  289.884,1386.63 433.805,1386.63 \n",
       "  \"/>\n",
       "<path clip-path=\"url(#clip430)\" d=\"M479.505 1388.27 L479.505 1403.91 L475.245 1403.91 L475.245 1388.41 Q475.245 1384.72 473.81 1382.9 Q472.375 1381.07 469.505 1381.07 Q466.056 1381.07 464.065 1383.27 Q462.074 1385.47 462.074 1389.26 L462.074 1403.91 L457.792 1403.91 L457.792 1377.99 L462.074 1377.99 L462.074 1382.02 Q463.602 1379.68 465.662 1378.52 Q467.745 1377.36 470.454 1377.36 Q474.921 1377.36 477.213 1380.14 Q479.505 1382.9 479.505 1388.27 Z\" fill=\"#000000\" fill-rule=\"evenodd\" fill-opacity=\"1\" /><path clip-path=\"url(#clip430)\" d=\"M498.046 1380.97 Q494.62 1380.97 492.63 1383.66 Q490.639 1386.32 490.639 1390.97 Q490.639 1395.63 492.606 1398.31 Q494.597 1400.97 498.046 1400.97 Q501.449 1400.97 503.44 1398.29 Q505.43 1395.6 505.43 1390.97 Q505.43 1386.37 503.44 1383.68 Q501.449 1380.97 498.046 1380.97 M498.046 1377.36 Q503.602 1377.36 506.773 1380.97 Q509.944 1384.59 509.944 1390.97 Q509.944 1397.34 506.773 1400.97 Q503.602 1404.59 498.046 1404.59 Q492.468 1404.59 489.296 1400.97 Q486.148 1397.34 486.148 1390.97 Q486.148 1384.59 489.296 1380.97 Q492.468 1377.36 498.046 1377.36 Z\" fill=\"#000000\" fill-rule=\"evenodd\" fill-opacity=\"1\" /><path clip-path=\"url(#clip430)\" d=\"M532.027 1381.97 Q531.31 1381.55 530.453 1381.37 Q529.62 1381.16 528.602 1381.16 Q524.99 1381.16 523.046 1383.52 Q521.125 1385.86 521.125 1390.26 L521.125 1403.91 L516.842 1403.91 L516.842 1377.99 L521.125 1377.99 L521.125 1382.02 Q522.467 1379.66 524.62 1378.52 Q526.773 1377.36 529.852 1377.36 Q530.291 1377.36 530.824 1377.43 Q531.356 1377.48 532.004 1377.6 L532.027 1381.97 Z\" fill=\"#000000\" fill-rule=\"evenodd\" fill-opacity=\"1\" /><path clip-path=\"url(#clip430)\" d=\"M555.847 1382.97 Q557.444 1380.1 559.666 1378.73 Q561.888 1377.36 564.898 1377.36 Q568.949 1377.36 571.148 1380.21 Q573.347 1383.03 573.347 1388.27 L573.347 1403.91 L569.064 1403.91 L569.064 1388.41 Q569.064 1384.68 567.745 1382.87 Q566.425 1381.07 563.717 1381.07 Q560.407 1381.07 558.486 1383.27 Q556.564 1385.47 556.564 1389.26 L556.564 1403.91 L552.282 1403.91 L552.282 1388.41 Q552.282 1384.66 550.963 1382.87 Q549.643 1381.07 546.889 1381.07 Q543.625 1381.07 541.703 1383.29 Q539.782 1385.49 539.782 1389.26 L539.782 1403.91 L535.5 1403.91 L535.5 1377.99 L539.782 1377.99 L539.782 1382.02 Q541.24 1379.63 543.277 1378.5 Q545.314 1377.36 548.115 1377.36 Q550.939 1377.36 552.907 1378.8 Q554.898 1380.23 555.847 1382.97 Z\" fill=\"#000000\" fill-rule=\"evenodd\" fill-opacity=\"1\" /><path clip-path=\"url(#clip430)\" d=\"M598.323 1399.98 L605.962 1399.98 L605.962 1373.61 L597.652 1375.28 L597.652 1371.02 L605.916 1369.35 L610.592 1369.35 L610.592 1399.98 L618.231 1399.98 L618.231 1403.91 L598.323 1403.91 L598.323 1399.98 Z\" fill=\"#000000\" fill-rule=\"evenodd\" fill-opacity=\"1\" /></svg>\n"
      ]
     },
     "execution_count": 22,
     "metadata": {},
     "output_type": "execute_result"
    }
   ],
   "source": [
    "using Plots\n",
    "\n",
    "θ = 1.     # rotation angle\n",
    "Q = [cos(θ) -sin(θ);\n",
    "    sin(θ) cos(θ)]    # rotation matrix\n",
    "\n",
    "v = [1,1]/sqrt(2)      # point on the circle\n",
    "Qv = Q*v               # rotated vector\n",
    "x = Qv[1]     # x coordinate of the rotated vector\n",
    "y = Qv[2]     # y coordinate of the rotated vector\n",
    "\n",
    "scatter([v[1]], [v[2]]; label=\"original point\", legend=:bottomleft)\n",
    "scatter!([x], [y]; label=\"rotated point\")\n",
    "\n",
    "# now plot the circle\n",
    "grid = range(0, 2π; length=100)       # plotting grid for the circle\n",
    "plot!(cos.(grid), sin.(grid); label=\"norm 1\")     # plot circle in red"
   ]
  },
  {
   "cell_type": "markdown",
   "metadata": {},
   "source": [
    "### Rotations versus lower triangular matrices\n",
    "\n",
    "On a computer, a point may have a small $\\epsilon$ of error due to rounding.\n",
    "Thus to understand the robustness of an algorithm, we need to understand what happens to balls of radius \n",
    "$\\epsilon$ around where we think of the point. (We will make this more precise later.)\n",
    "In the next lectures we will have a choice between using orthogonal and triangular matrices In\n",
    "matrix decompositions. In terms of _stability_ (robustness to noise/round-off errors) \n",
    "decompositions built using orthogonal matrices are generally preferred, as we will now explain visually. \n",
    "\n",
    "We shall demonstrate why rotations are preferred to lower triangular operations.\n",
    "In the following, we design a function that plots a circle around a point `[a,b]` of size `ε`, both before and after a matrix `L` is applied.\n",
    "Here we demonstrate that the effect of `L` is to stretch the circles: our error can be amplified:"
   ]
  },
  {
   "cell_type": "code",
   "execution_count": 23,
   "metadata": {
    "execution": {
     "iopub.execute_input": "2022-01-12T08:43:37.687265Z",
     "iopub.status.busy": "2022-01-12T08:43:36.866894Z",
     "iopub.status.idle": "2022-01-12T08:43:38.022791Z",
     "shell.execute_reply": "2022-01-12T08:43:38.020772Z"
    }
   },
   "outputs": [
    {
     "data": {
      "image/svg+xml": [
       "<?xml version=\"1.0\" encoding=\"utf-8\"?>\n",
       "<svg xmlns=\"http://www.w3.org/2000/svg\" xmlns:xlink=\"http://www.w3.org/1999/xlink\" width=\"600\" height=\"400\" viewBox=\"0 0 2400 1600\">\n",
       "<defs>\n",
       "  <clipPath id=\"clip470\">\n",
       "    <rect x=\"0\" y=\"0\" width=\"2400\" height=\"1600\"/>\n",
       "  </clipPath>\n",
       "</defs>\n",
       "<path clip-path=\"url(#clip470)\" d=\"\n",
       "M0 1600 L2400 1600 L2400 0 L0 0  Z\n",
       "  \" fill=\"#ffffff\" fill-rule=\"evenodd\" fill-opacity=\"1\"/>\n",
       "<defs>\n",
       "  <clipPath id=\"clip471\">\n",
       "    <rect x=\"480\" y=\"0\" width=\"1681\" height=\"1600\"/>\n",
       "  </clipPath>\n",
       "</defs>\n",
       "<path clip-path=\"url(#clip470)\" d=\"\n",
       "M156.598 1486.45 L2352.76 1486.45 L2352.76 47.2441 L156.598 47.2441  Z\n",
       "  \" fill=\"#ffffff\" fill-rule=\"evenodd\" fill-opacity=\"1\"/>\n",
       "<defs>\n",
       "  <clipPath id=\"clip472\">\n",
       "    <rect x=\"156\" y=\"47\" width=\"2197\" height=\"1440\"/>\n",
       "  </clipPath>\n",
       "</defs>\n",
       "<polyline clip-path=\"url(#clip472)\" style=\"stroke:#000000; stroke-linecap:butt; stroke-linejoin:round; stroke-width:2; stroke-opacity:0.1; fill:none\" points=\"\n",
       "  218.232,1486.45 218.232,47.2441 \n",
       "  \"/>\n",
       "<polyline clip-path=\"url(#clip472)\" style=\"stroke:#000000; stroke-linecap:butt; stroke-linejoin:round; stroke-width:2; stroke-opacity:0.1; fill:none\" points=\"\n",
       "  736.324,1486.45 736.324,47.2441 \n",
       "  \"/>\n",
       "<polyline clip-path=\"url(#clip472)\" style=\"stroke:#000000; stroke-linecap:butt; stroke-linejoin:round; stroke-width:2; stroke-opacity:0.1; fill:none\" points=\"\n",
       "  1254.42,1486.45 1254.42,47.2441 \n",
       "  \"/>\n",
       "<polyline clip-path=\"url(#clip472)\" style=\"stroke:#000000; stroke-linecap:butt; stroke-linejoin:round; stroke-width:2; stroke-opacity:0.1; fill:none\" points=\"\n",
       "  1772.51,1486.45 1772.51,47.2441 \n",
       "  \"/>\n",
       "<polyline clip-path=\"url(#clip472)\" style=\"stroke:#000000; stroke-linecap:butt; stroke-linejoin:round; stroke-width:2; stroke-opacity:0.1; fill:none\" points=\"\n",
       "  2290.6,1486.45 2290.6,47.2441 \n",
       "  \"/>\n",
       "<polyline clip-path=\"url(#clip470)\" style=\"stroke:#000000; stroke-linecap:butt; stroke-linejoin:round; stroke-width:4; stroke-opacity:1; fill:none\" points=\"\n",
       "  156.598,1486.45 2352.76,1486.45 \n",
       "  \"/>\n",
       "<polyline clip-path=\"url(#clip470)\" style=\"stroke:#000000; stroke-linecap:butt; stroke-linejoin:round; stroke-width:4; stroke-opacity:1; fill:none\" points=\"\n",
       "  218.232,1486.45 218.232,1467.55 \n",
       "  \"/>\n",
       "<polyline clip-path=\"url(#clip470)\" style=\"stroke:#000000; stroke-linecap:butt; stroke-linejoin:round; stroke-width:4; stroke-opacity:1; fill:none\" points=\"\n",
       "  736.324,1486.45 736.324,1467.55 \n",
       "  \"/>\n",
       "<polyline clip-path=\"url(#clip470)\" style=\"stroke:#000000; stroke-linecap:butt; stroke-linejoin:round; stroke-width:4; stroke-opacity:1; fill:none\" points=\"\n",
       "  1254.42,1486.45 1254.42,1467.55 \n",
       "  \"/>\n",
       "<polyline clip-path=\"url(#clip470)\" style=\"stroke:#000000; stroke-linecap:butt; stroke-linejoin:round; stroke-width:4; stroke-opacity:1; fill:none\" points=\"\n",
       "  1772.51,1486.45 1772.51,1467.55 \n",
       "  \"/>\n",
       "<polyline clip-path=\"url(#clip470)\" style=\"stroke:#000000; stroke-linecap:butt; stroke-linejoin:round; stroke-width:4; stroke-opacity:1; fill:none\" points=\"\n",
       "  2290.6,1486.45 2290.6,1467.55 \n",
       "  \"/>\n",
       "<path clip-path=\"url(#clip470)\" d=\"M170.304 1544.91 L177.943 1544.91 L177.943 1518.55 L169.633 1520.21 L169.633 1515.95 L177.897 1514.29 L182.572 1514.29 L182.572 1544.91 L190.211 1544.91 L190.211 1548.85 L170.304 1548.85 L170.304 1544.91 Z\" fill=\"#000000\" fill-rule=\"evenodd\" fill-opacity=\"1\" /><path clip-path=\"url(#clip470)\" d=\"M199.656 1542.97 L204.54 1542.97 L204.54 1548.85 L199.656 1548.85 L199.656 1542.97 Z\" fill=\"#000000\" fill-rule=\"evenodd\" fill-opacity=\"1\" /><path clip-path=\"url(#clip470)\" d=\"M224.725 1517.37 Q221.114 1517.37 219.285 1520.93 Q217.48 1524.47 217.48 1531.6 Q217.48 1538.71 219.285 1542.27 Q221.114 1545.82 224.725 1545.82 Q228.359 1545.82 230.165 1542.27 Q231.993 1538.71 231.993 1531.6 Q231.993 1524.47 230.165 1520.93 Q228.359 1517.37 224.725 1517.37 M224.725 1513.66 Q230.535 1513.66 233.591 1518.27 Q236.669 1522.85 236.669 1531.6 Q236.669 1540.33 233.591 1544.94 Q230.535 1549.52 224.725 1549.52 Q218.915 1549.52 215.836 1544.94 Q212.781 1540.33 212.781 1531.6 Q212.781 1522.85 215.836 1518.27 Q218.915 1513.66 224.725 1513.66 Z\" fill=\"#000000\" fill-rule=\"evenodd\" fill-opacity=\"1\" /><path clip-path=\"url(#clip470)\" d=\"M254.887 1517.37 Q251.276 1517.37 249.447 1520.93 Q247.642 1524.47 247.642 1531.6 Q247.642 1538.71 249.447 1542.27 Q251.276 1545.82 254.887 1545.82 Q258.521 1545.82 260.327 1542.27 Q262.155 1538.71 262.155 1531.6 Q262.155 1524.47 260.327 1520.93 Q258.521 1517.37 254.887 1517.37 M254.887 1513.66 Q260.697 1513.66 263.753 1518.27 Q266.831 1522.85 266.831 1531.6 Q266.831 1540.33 263.753 1544.94 Q260.697 1549.52 254.887 1549.52 Q249.077 1549.52 245.998 1544.94 Q242.942 1540.33 242.942 1531.6 Q242.942 1522.85 245.998 1518.27 Q249.077 1513.66 254.887 1513.66 Z\" fill=\"#000000\" fill-rule=\"evenodd\" fill-opacity=\"1\" /><path clip-path=\"url(#clip470)\" d=\"M688.894 1544.91 L696.533 1544.91 L696.533 1518.55 L688.223 1520.21 L688.223 1515.95 L696.486 1514.29 L701.162 1514.29 L701.162 1544.91 L708.801 1544.91 L708.801 1548.85 L688.894 1548.85 L688.894 1544.91 Z\" fill=\"#000000\" fill-rule=\"evenodd\" fill-opacity=\"1\" /><path clip-path=\"url(#clip470)\" d=\"M718.245 1542.97 L723.13 1542.97 L723.13 1548.85 L718.245 1548.85 L718.245 1542.97 Z\" fill=\"#000000\" fill-rule=\"evenodd\" fill-opacity=\"1\" /><path clip-path=\"url(#clip470)\" d=\"M743.315 1517.37 Q739.704 1517.37 737.875 1520.93 Q736.069 1524.47 736.069 1531.6 Q736.069 1538.71 737.875 1542.27 Q739.704 1545.82 743.315 1545.82 Q746.949 1545.82 748.755 1542.27 Q750.583 1538.71 750.583 1531.6 Q750.583 1524.47 748.755 1520.93 Q746.949 1517.37 743.315 1517.37 M743.315 1513.66 Q749.125 1513.66 752.18 1518.27 Q755.259 1522.85 755.259 1531.6 Q755.259 1540.33 752.18 1544.94 Q749.125 1549.52 743.315 1549.52 Q737.505 1549.52 734.426 1544.94 Q731.37 1540.33 731.37 1531.6 Q731.37 1522.85 734.426 1518.27 Q737.505 1513.66 743.315 1513.66 Z\" fill=\"#000000\" fill-rule=\"evenodd\" fill-opacity=\"1\" /><path clip-path=\"url(#clip470)\" d=\"M763.523 1514.29 L781.879 1514.29 L781.879 1518.22 L767.805 1518.22 L767.805 1526.7 Q768.824 1526.35 769.842 1526.19 Q770.861 1526 771.879 1526 Q777.666 1526 781.046 1529.17 Q784.426 1532.34 784.426 1537.76 Q784.426 1543.34 780.953 1546.44 Q777.481 1549.52 771.162 1549.52 Q768.986 1549.52 766.717 1549.15 Q764.472 1548.78 762.065 1548.04 L762.065 1543.34 Q764.148 1544.47 766.37 1545.03 Q768.592 1545.58 771.069 1545.58 Q775.074 1545.58 777.412 1543.48 Q779.75 1541.37 779.75 1537.76 Q779.75 1534.15 777.412 1532.04 Q775.074 1529.94 771.069 1529.94 Q769.194 1529.94 767.319 1530.35 Q765.467 1530.77 763.523 1531.65 L763.523 1514.29 Z\" fill=\"#000000\" fill-rule=\"evenodd\" fill-opacity=\"1\" /><path clip-path=\"url(#clip470)\" d=\"M1206.49 1544.91 L1214.13 1544.91 L1214.13 1518.55 L1205.82 1520.21 L1205.82 1515.95 L1214.08 1514.29 L1218.76 1514.29 L1218.76 1544.91 L1226.4 1544.91 L1226.4 1548.85 L1206.49 1548.85 L1206.49 1544.91 Z\" fill=\"#000000\" fill-rule=\"evenodd\" fill-opacity=\"1\" /><path clip-path=\"url(#clip470)\" d=\"M1235.84 1542.97 L1240.72 1542.97 L1240.72 1548.85 L1235.84 1548.85 L1235.84 1542.97 Z\" fill=\"#000000\" fill-rule=\"evenodd\" fill-opacity=\"1\" /><path clip-path=\"url(#clip470)\" d=\"M1251.72 1544.91 L1259.36 1544.91 L1259.36 1518.55 L1251.05 1520.21 L1251.05 1515.95 L1259.31 1514.29 L1263.99 1514.29 L1263.99 1544.91 L1271.63 1544.91 L1271.63 1548.85 L1251.72 1548.85 L1251.72 1544.91 Z\" fill=\"#000000\" fill-rule=\"evenodd\" fill-opacity=\"1\" /><path clip-path=\"url(#clip470)\" d=\"M1291.07 1517.37 Q1287.46 1517.37 1285.63 1520.93 Q1283.83 1524.47 1283.83 1531.6 Q1283.83 1538.71 1285.63 1542.27 Q1287.46 1545.82 1291.07 1545.82 Q1294.71 1545.82 1296.51 1542.27 Q1298.34 1538.71 1298.34 1531.6 Q1298.34 1524.47 1296.51 1520.93 Q1294.71 1517.37 1291.07 1517.37 M1291.07 1513.66 Q1296.88 1513.66 1299.94 1518.27 Q1303.02 1522.85 1303.02 1531.6 Q1303.02 1540.33 1299.94 1544.94 Q1296.88 1549.52 1291.07 1549.52 Q1285.26 1549.52 1282.18 1544.94 Q1279.13 1540.33 1279.13 1531.6 Q1279.13 1522.85 1282.18 1518.27 Q1285.26 1513.66 1291.07 1513.66 Z\" fill=\"#000000\" fill-rule=\"evenodd\" fill-opacity=\"1\" /><path clip-path=\"url(#clip470)\" d=\"M1725.08 1544.91 L1732.72 1544.91 L1732.72 1518.55 L1724.41 1520.21 L1724.41 1515.95 L1732.67 1514.29 L1737.35 1514.29 L1737.35 1544.91 L1744.99 1544.91 L1744.99 1548.85 L1725.08 1548.85 L1725.08 1544.91 Z\" fill=\"#000000\" fill-rule=\"evenodd\" fill-opacity=\"1\" /><path clip-path=\"url(#clip470)\" d=\"M1754.43 1542.97 L1759.31 1542.97 L1759.31 1548.85 L1754.43 1548.85 L1754.43 1542.97 Z\" fill=\"#000000\" fill-rule=\"evenodd\" fill-opacity=\"1\" /><path clip-path=\"url(#clip470)\" d=\"M1770.31 1544.91 L1777.95 1544.91 L1777.95 1518.55 L1769.64 1520.21 L1769.64 1515.95 L1777.9 1514.29 L1782.58 1514.29 L1782.58 1544.91 L1790.22 1544.91 L1790.22 1548.85 L1770.31 1548.85 L1770.31 1544.91 Z\" fill=\"#000000\" fill-rule=\"evenodd\" fill-opacity=\"1\" /><path clip-path=\"url(#clip470)\" d=\"M1799.71 1514.29 L1818.06 1514.29 L1818.06 1518.22 L1803.99 1518.22 L1803.99 1526.7 Q1805.01 1526.35 1806.03 1526.19 Q1807.05 1526 1808.06 1526 Q1813.85 1526 1817.23 1529.17 Q1820.61 1532.34 1820.61 1537.76 Q1820.61 1543.34 1817.14 1546.44 Q1813.67 1549.52 1807.35 1549.52 Q1805.17 1549.52 1802.9 1549.15 Q1800.66 1548.78 1798.25 1548.04 L1798.25 1543.34 Q1800.33 1544.47 1802.55 1545.03 Q1804.78 1545.58 1807.25 1545.58 Q1811.26 1545.58 1813.6 1543.48 Q1815.93 1541.37 1815.93 1537.76 Q1815.93 1534.15 1813.6 1532.04 Q1811.26 1529.94 1807.25 1529.94 Q1805.38 1529.94 1803.5 1530.35 Q1801.65 1530.77 1799.71 1531.65 L1799.71 1514.29 Z\" fill=\"#000000\" fill-rule=\"evenodd\" fill-opacity=\"1\" /><path clip-path=\"url(#clip470)\" d=\"M2242.67 1544.91 L2250.31 1544.91 L2250.31 1518.55 L2242 1520.21 L2242 1515.95 L2250.27 1514.29 L2254.94 1514.29 L2254.94 1544.91 L2262.58 1544.91 L2262.58 1548.85 L2242.67 1548.85 L2242.67 1544.91 Z\" fill=\"#000000\" fill-rule=\"evenodd\" fill-opacity=\"1\" /><path clip-path=\"url(#clip470)\" d=\"M2272.02 1542.97 L2276.91 1542.97 L2276.91 1548.85 L2272.02 1548.85 L2272.02 1542.97 Z\" fill=\"#000000\" fill-rule=\"evenodd\" fill-opacity=\"1\" /><path clip-path=\"url(#clip470)\" d=\"M2291.12 1544.91 L2307.44 1544.91 L2307.44 1548.85 L2285.5 1548.85 L2285.5 1544.91 Q2288.16 1542.16 2292.74 1537.53 Q2297.35 1532.88 2298.53 1531.53 Q2300.77 1529.01 2301.65 1527.27 Q2302.56 1525.51 2302.56 1523.82 Q2302.56 1521.07 2300.61 1519.33 Q2298.69 1517.6 2295.59 1517.6 Q2293.39 1517.6 2290.94 1518.36 Q2288.51 1519.13 2285.73 1520.68 L2285.73 1515.95 Q2288.55 1514.82 2291.01 1514.24 Q2293.46 1513.66 2295.5 1513.66 Q2300.87 1513.66 2304.06 1516.35 Q2307.26 1519.03 2307.26 1523.52 Q2307.26 1525.65 2306.45 1527.57 Q2305.66 1529.47 2303.55 1532.07 Q2302.97 1532.74 2299.87 1535.95 Q2296.77 1539.15 2291.12 1544.91 Z\" fill=\"#000000\" fill-rule=\"evenodd\" fill-opacity=\"1\" /><path clip-path=\"url(#clip470)\" d=\"M2327.26 1517.37 Q2323.64 1517.37 2321.82 1520.93 Q2320.01 1524.47 2320.01 1531.6 Q2320.01 1538.71 2321.82 1542.27 Q2323.64 1545.82 2327.26 1545.82 Q2330.89 1545.82 2332.7 1542.27 Q2334.52 1538.71 2334.52 1531.6 Q2334.52 1524.47 2332.7 1520.93 Q2330.89 1517.37 2327.26 1517.37 M2327.26 1513.66 Q2333.07 1513.66 2336.12 1518.27 Q2339.2 1522.85 2339.2 1531.6 Q2339.2 1540.33 2336.12 1544.94 Q2333.07 1549.52 2327.26 1549.52 Q2321.45 1549.52 2318.37 1544.94 Q2315.31 1540.33 2315.31 1531.6 Q2315.31 1522.85 2318.37 1518.27 Q2321.45 1513.66 2327.26 1513.66 Z\" fill=\"#000000\" fill-rule=\"evenodd\" fill-opacity=\"1\" /><polyline clip-path=\"url(#clip472)\" style=\"stroke:#000000; stroke-linecap:butt; stroke-linejoin:round; stroke-width:2; stroke-opacity:0.1; fill:none\" points=\"\n",
       "  156.598,1306.97 2352.76,1306.97 \n",
       "  \"/>\n",
       "<polyline clip-path=\"url(#clip472)\" style=\"stroke:#000000; stroke-linecap:butt; stroke-linejoin:round; stroke-width:2; stroke-opacity:0.1; fill:none\" points=\"\n",
       "  156.598,1119.43 2352.76,1119.43 \n",
       "  \"/>\n",
       "<polyline clip-path=\"url(#clip472)\" style=\"stroke:#000000; stroke-linecap:butt; stroke-linejoin:round; stroke-width:2; stroke-opacity:0.1; fill:none\" points=\"\n",
       "  156.598,931.894 2352.76,931.894 \n",
       "  \"/>\n",
       "<polyline clip-path=\"url(#clip472)\" style=\"stroke:#000000; stroke-linecap:butt; stroke-linejoin:round; stroke-width:2; stroke-opacity:0.1; fill:none\" points=\"\n",
       "  156.598,744.354 2352.76,744.354 \n",
       "  \"/>\n",
       "<polyline clip-path=\"url(#clip472)\" style=\"stroke:#000000; stroke-linecap:butt; stroke-linejoin:round; stroke-width:2; stroke-opacity:0.1; fill:none\" points=\"\n",
       "  156.598,556.814 2352.76,556.814 \n",
       "  \"/>\n",
       "<polyline clip-path=\"url(#clip472)\" style=\"stroke:#000000; stroke-linecap:butt; stroke-linejoin:round; stroke-width:2; stroke-opacity:0.1; fill:none\" points=\"\n",
       "  156.598,369.274 2352.76,369.274 \n",
       "  \"/>\n",
       "<polyline clip-path=\"url(#clip472)\" style=\"stroke:#000000; stroke-linecap:butt; stroke-linejoin:round; stroke-width:2; stroke-opacity:0.1; fill:none\" points=\"\n",
       "  156.598,181.734 2352.76,181.734 \n",
       "  \"/>\n",
       "<polyline clip-path=\"url(#clip470)\" style=\"stroke:#000000; stroke-linecap:butt; stroke-linejoin:round; stroke-width:4; stroke-opacity:1; fill:none\" points=\"\n",
       "  156.598,1486.45 156.598,47.2441 \n",
       "  \"/>\n",
       "<polyline clip-path=\"url(#clip470)\" style=\"stroke:#000000; stroke-linecap:butt; stroke-linejoin:round; stroke-width:4; stroke-opacity:1; fill:none\" points=\"\n",
       "  156.598,1306.97 175.496,1306.97 \n",
       "  \"/>\n",
       "<polyline clip-path=\"url(#clip470)\" style=\"stroke:#000000; stroke-linecap:butt; stroke-linejoin:round; stroke-width:4; stroke-opacity:1; fill:none\" points=\"\n",
       "  156.598,1119.43 175.496,1119.43 \n",
       "  \"/>\n",
       "<polyline clip-path=\"url(#clip470)\" style=\"stroke:#000000; stroke-linecap:butt; stroke-linejoin:round; stroke-width:4; stroke-opacity:1; fill:none\" points=\"\n",
       "  156.598,931.894 175.496,931.894 \n",
       "  \"/>\n",
       "<polyline clip-path=\"url(#clip470)\" style=\"stroke:#000000; stroke-linecap:butt; stroke-linejoin:round; stroke-width:4; stroke-opacity:1; fill:none\" points=\"\n",
       "  156.598,744.354 175.496,744.354 \n",
       "  \"/>\n",
       "<polyline clip-path=\"url(#clip470)\" style=\"stroke:#000000; stroke-linecap:butt; stroke-linejoin:round; stroke-width:4; stroke-opacity:1; fill:none\" points=\"\n",
       "  156.598,556.814 175.496,556.814 \n",
       "  \"/>\n",
       "<polyline clip-path=\"url(#clip470)\" style=\"stroke:#000000; stroke-linecap:butt; stroke-linejoin:round; stroke-width:4; stroke-opacity:1; fill:none\" points=\"\n",
       "  156.598,369.274 175.496,369.274 \n",
       "  \"/>\n",
       "<polyline clip-path=\"url(#clip470)\" style=\"stroke:#000000; stroke-linecap:butt; stroke-linejoin:round; stroke-width:4; stroke-opacity:1; fill:none\" points=\"\n",
       "  156.598,181.734 175.496,181.734 \n",
       "  \"/>\n",
       "<path clip-path=\"url(#clip470)\" d=\"M63.4226 1292.77 Q59.8115 1292.77 57.9828 1296.34 Q56.1773 1299.88 56.1773 1307.01 Q56.1773 1314.11 57.9828 1317.68 Q59.8115 1321.22 63.4226 1321.22 Q67.0569 1321.22 68.8624 1317.68 Q70.6911 1314.11 70.6911 1307.01 Q70.6911 1299.88 68.8624 1296.34 Q67.0569 1292.77 63.4226 1292.77 M63.4226 1289.07 Q69.2328 1289.07 72.2883 1293.67 Q75.367 1298.26 75.367 1307.01 Q75.367 1315.73 72.2883 1320.34 Q69.2328 1324.92 63.4226 1324.92 Q57.6125 1324.92 54.5338 1320.34 Q51.4782 1315.73 51.4782 1307.01 Q51.4782 1298.26 54.5338 1293.67 Q57.6125 1289.07 63.4226 1289.07 Z\" fill=\"#000000\" fill-rule=\"evenodd\" fill-opacity=\"1\" /><path clip-path=\"url(#clip470)\" d=\"M83.5845 1318.37 L88.4688 1318.37 L88.4688 1324.25 L83.5845 1324.25 L83.5845 1318.37 Z\" fill=\"#000000\" fill-rule=\"evenodd\" fill-opacity=\"1\" /><path clip-path=\"url(#clip470)\" d=\"M108.654 1292.77 Q105.043 1292.77 103.214 1296.34 Q101.409 1299.88 101.409 1307.01 Q101.409 1314.11 103.214 1317.68 Q105.043 1321.22 108.654 1321.22 Q112.288 1321.22 114.094 1317.68 Q115.922 1314.11 115.922 1307.01 Q115.922 1299.88 114.094 1296.34 Q112.288 1292.77 108.654 1292.77 M108.654 1289.07 Q114.464 1289.07 117.52 1293.67 Q120.598 1298.26 120.598 1307.01 Q120.598 1315.73 117.52 1320.34 Q114.464 1324.92 108.654 1324.92 Q102.844 1324.92 99.765 1320.34 Q96.7095 1315.73 96.7095 1307.01 Q96.7095 1298.26 99.765 1293.67 Q102.844 1289.07 108.654 1289.07 Z\" fill=\"#000000\" fill-rule=\"evenodd\" fill-opacity=\"1\" /><path clip-path=\"url(#clip470)\" d=\"M65.0198 1105.23 Q61.4087 1105.23 59.58 1108.8 Q57.7745 1112.34 57.7745 1119.47 Q57.7745 1126.57 59.58 1130.14 Q61.4087 1133.68 65.0198 1133.68 Q68.6541 1133.68 70.4596 1130.14 Q72.2883 1126.57 72.2883 1119.47 Q72.2883 1112.34 70.4596 1108.8 Q68.6541 1105.23 65.0198 1105.23 M65.0198 1101.53 Q70.83 1101.53 73.8855 1106.13 Q76.9642 1110.72 76.9642 1119.47 Q76.9642 1128.19 73.8855 1132.8 Q70.83 1137.38 65.0198 1137.38 Q59.2097 1137.38 56.131 1132.8 Q53.0754 1128.19 53.0754 1119.47 Q53.0754 1110.72 56.131 1106.13 Q59.2097 1101.53 65.0198 1101.53 Z\" fill=\"#000000\" fill-rule=\"evenodd\" fill-opacity=\"1\" /><path clip-path=\"url(#clip470)\" d=\"M85.1818 1130.83 L90.066 1130.83 L90.066 1136.71 L85.1818 1136.71 L85.1818 1130.83 Z\" fill=\"#000000\" fill-rule=\"evenodd\" fill-opacity=\"1\" /><path clip-path=\"url(#clip470)\" d=\"M104.279 1132.78 L120.598 1132.78 L120.598 1136.71 L98.6539 1136.71 L98.6539 1132.78 Q101.316 1130.02 105.899 1125.39 Q110.506 1120.74 111.686 1119.4 Q113.932 1116.88 114.811 1115.14 Q115.714 1113.38 115.714 1111.69 Q115.714 1108.94 113.77 1107.2 Q111.848 1105.46 108.746 1105.46 Q106.547 1105.46 104.094 1106.23 Q101.663 1106.99 98.8854 1108.54 L98.8854 1103.82 Q101.709 1102.69 104.163 1102.11 Q106.617 1101.53 108.654 1101.53 Q114.024 1101.53 117.219 1104.21 Q120.413 1106.9 120.413 1111.39 Q120.413 1113.52 119.603 1115.44 Q118.816 1117.34 116.709 1119.93 Q116.131 1120.6 113.029 1123.82 Q109.927 1127.01 104.279 1132.78 Z\" fill=\"#000000\" fill-rule=\"evenodd\" fill-opacity=\"1\" /><path clip-path=\"url(#clip470)\" d=\"M62.9365 917.692 Q59.3254 917.692 57.4967 921.257 Q55.6912 924.799 55.6912 931.928 Q55.6912 939.035 57.4967 942.599 Q59.3254 946.141 62.9365 946.141 Q66.5707 946.141 68.3763 942.599 Q70.205 939.035 70.205 931.928 Q70.205 924.799 68.3763 921.257 Q66.5707 917.692 62.9365 917.692 M62.9365 913.989 Q68.7467 913.989 71.8022 918.595 Q74.8809 923.178 74.8809 931.928 Q74.8809 940.655 71.8022 945.262 Q68.7467 949.845 62.9365 949.845 Q57.1264 949.845 54.0477 945.262 Q50.9921 940.655 50.9921 931.928 Q50.9921 923.178 54.0477 918.595 Q57.1264 913.989 62.9365 913.989 Z\" fill=\"#000000\" fill-rule=\"evenodd\" fill-opacity=\"1\" /><path clip-path=\"url(#clip470)\" d=\"M83.0984 943.294 L87.9827 943.294 L87.9827 949.174 L83.0984 949.174 L83.0984 943.294 Z\" fill=\"#000000\" fill-rule=\"evenodd\" fill-opacity=\"1\" /><path clip-path=\"url(#clip470)\" d=\"M111.015 918.688 L99.2095 937.137 L111.015 937.137 L111.015 918.688 M109.788 914.614 L115.668 914.614 L115.668 937.137 L120.598 937.137 L120.598 941.025 L115.668 941.025 L115.668 949.174 L111.015 949.174 L111.015 941.025 L95.4132 941.025 L95.4132 936.512 L109.788 914.614 Z\" fill=\"#000000\" fill-rule=\"evenodd\" fill-opacity=\"1\" /><path clip-path=\"url(#clip470)\" d=\"M63.2606 730.152 Q59.6495 730.152 57.8208 733.717 Q56.0152 737.259 56.0152 744.388 Q56.0152 751.495 57.8208 755.06 Q59.6495 758.601 63.2606 758.601 Q66.8948 758.601 68.7004 755.06 Q70.5291 751.495 70.5291 744.388 Q70.5291 737.259 68.7004 733.717 Q66.8948 730.152 63.2606 730.152 M63.2606 726.449 Q69.0707 726.449 72.1263 731.055 Q75.205 735.639 75.205 744.388 Q75.205 753.115 72.1263 757.722 Q69.0707 762.305 63.2606 762.305 Q57.4504 762.305 54.3717 757.722 Q51.3162 753.115 51.3162 744.388 Q51.3162 735.639 54.3717 731.055 Q57.4504 726.449 63.2606 726.449 Z\" fill=\"#000000\" fill-rule=\"evenodd\" fill-opacity=\"1\" /><path clip-path=\"url(#clip470)\" d=\"M83.4225 755.754 L88.3067 755.754 L88.3067 761.634 L83.4225 761.634 L83.4225 755.754 Z\" fill=\"#000000\" fill-rule=\"evenodd\" fill-opacity=\"1\" /><path clip-path=\"url(#clip470)\" d=\"M109.071 742.49 Q105.922 742.49 104.071 744.643 Q102.242 746.796 102.242 750.546 Q102.242 754.273 104.071 756.449 Q105.922 758.601 109.071 758.601 Q112.219 758.601 114.047 756.449 Q115.899 754.273 115.899 750.546 Q115.899 746.796 114.047 744.643 Q112.219 742.49 109.071 742.49 M118.353 727.838 L118.353 732.097 Q116.594 731.264 114.788 730.824 Q113.006 730.384 111.246 730.384 Q106.617 730.384 104.163 733.509 Q101.733 736.634 101.385 742.953 Q102.751 740.939 104.811 739.875 Q106.871 738.787 109.348 738.787 Q114.557 738.787 117.566 741.958 Q120.598 745.106 120.598 750.546 Q120.598 755.87 117.45 759.087 Q114.302 762.305 109.071 762.305 Q103.075 762.305 99.9039 757.722 Q96.7326 753.115 96.7326 744.388 Q96.7326 736.194 100.621 731.333 Q104.51 726.449 111.061 726.449 Q112.82 726.449 114.603 726.796 Q116.408 727.143 118.353 727.838 Z\" fill=\"#000000\" fill-rule=\"evenodd\" fill-opacity=\"1\" /><path clip-path=\"url(#clip470)\" d=\"M63.5152 542.613 Q59.9041 542.613 58.0754 546.177 Q56.2699 549.719 56.2699 556.849 Q56.2699 563.955 58.0754 567.52 Q59.9041 571.062 63.5152 571.062 Q67.1494 571.062 68.955 567.52 Q70.7837 563.955 70.7837 556.849 Q70.7837 549.719 68.955 546.177 Q67.1494 542.613 63.5152 542.613 M63.5152 538.909 Q69.3254 538.909 72.3809 543.515 Q75.4596 548.099 75.4596 556.849 Q75.4596 565.575 72.3809 570.182 Q69.3254 574.765 63.5152 574.765 Q57.7051 574.765 54.6264 570.182 Q51.5708 565.575 51.5708 556.849 Q51.5708 548.099 54.6264 543.515 Q57.7051 538.909 63.5152 538.909 Z\" fill=\"#000000\" fill-rule=\"evenodd\" fill-opacity=\"1\" /><path clip-path=\"url(#clip470)\" d=\"M83.6771 568.214 L88.5614 568.214 L88.5614 574.094 L83.6771 574.094 L83.6771 568.214 Z\" fill=\"#000000\" fill-rule=\"evenodd\" fill-opacity=\"1\" /><path clip-path=\"url(#clip470)\" d=\"M108.746 557.682 Q105.413 557.682 103.492 559.464 Q101.594 561.247 101.594 564.372 Q101.594 567.497 103.492 569.279 Q105.413 571.062 108.746 571.062 Q112.08 571.062 114.001 569.279 Q115.922 567.474 115.922 564.372 Q115.922 561.247 114.001 559.464 Q112.103 557.682 108.746 557.682 M104.071 555.691 Q101.061 554.951 99.3715 552.89 Q97.7048 550.83 97.7048 547.867 Q97.7048 543.724 100.645 541.316 Q103.608 538.909 108.746 538.909 Q113.908 538.909 116.848 541.316 Q119.788 543.724 119.788 547.867 Q119.788 550.83 118.098 552.89 Q116.432 554.951 113.445 555.691 Q116.825 556.478 118.7 558.77 Q120.598 561.062 120.598 564.372 Q120.598 569.395 117.52 572.08 Q114.464 574.765 108.746 574.765 Q103.029 574.765 99.9502 572.08 Q96.8947 569.395 96.8947 564.372 Q96.8947 561.062 98.7928 558.77 Q100.691 556.478 104.071 555.691 M102.358 548.307 Q102.358 550.992 104.024 552.497 Q105.714 554.001 108.746 554.001 Q111.756 554.001 113.445 552.497 Q115.158 550.992 115.158 548.307 Q115.158 545.622 113.445 544.117 Q111.756 542.613 108.746 542.613 Q105.714 542.613 104.024 544.117 Q102.358 545.622 102.358 548.307 Z\" fill=\"#000000\" fill-rule=\"evenodd\" fill-opacity=\"1\" /><path clip-path=\"url(#clip470)\" d=\"M54.2328 382.619 L61.8717 382.619 L61.8717 356.253 L53.5616 357.92 L53.5616 353.661 L61.8254 351.994 L66.5013 351.994 L66.5013 382.619 L74.1402 382.619 L74.1402 386.554 L54.2328 386.554 L54.2328 382.619 Z\" fill=\"#000000\" fill-rule=\"evenodd\" fill-opacity=\"1\" /><path clip-path=\"url(#clip470)\" d=\"M83.5845 380.675 L88.4688 380.675 L88.4688 386.554 L83.5845 386.554 L83.5845 380.675 Z\" fill=\"#000000\" fill-rule=\"evenodd\" fill-opacity=\"1\" /><path clip-path=\"url(#clip470)\" d=\"M108.654 355.073 Q105.043 355.073 103.214 358.638 Q101.409 362.179 101.409 369.309 Q101.409 376.415 103.214 379.98 Q105.043 383.522 108.654 383.522 Q112.288 383.522 114.094 379.98 Q115.922 376.415 115.922 369.309 Q115.922 362.179 114.094 358.638 Q112.288 355.073 108.654 355.073 M108.654 351.369 Q114.464 351.369 117.52 355.976 Q120.598 360.559 120.598 369.309 Q120.598 378.036 117.52 382.642 Q114.464 387.225 108.654 387.225 Q102.844 387.225 99.765 382.642 Q96.7095 378.036 96.7095 369.309 Q96.7095 360.559 99.765 355.976 Q102.844 351.369 108.654 351.369 Z\" fill=\"#000000\" fill-rule=\"evenodd\" fill-opacity=\"1\" /><path clip-path=\"url(#clip470)\" d=\"M55.8301 195.079 L63.4689 195.079 L63.4689 168.714 L55.1588 170.38 L55.1588 166.121 L63.4226 164.454 L68.0985 164.454 L68.0985 195.079 L75.7374 195.079 L75.7374 199.014 L55.8301 199.014 L55.8301 195.079 Z\" fill=\"#000000\" fill-rule=\"evenodd\" fill-opacity=\"1\" /><path clip-path=\"url(#clip470)\" d=\"M85.1818 193.135 L90.066 193.135 L90.066 199.014 L85.1818 199.014 L85.1818 193.135 Z\" fill=\"#000000\" fill-rule=\"evenodd\" fill-opacity=\"1\" /><path clip-path=\"url(#clip470)\" d=\"M104.279 195.079 L120.598 195.079 L120.598 199.014 L98.6539 199.014 L98.6539 195.079 Q101.316 192.325 105.899 187.695 Q110.506 183.042 111.686 181.7 Q113.932 179.177 114.811 177.44 Q115.714 175.681 115.714 173.991 Q115.714 171.237 113.77 169.501 Q111.848 167.765 108.746 167.765 Q106.547 167.765 104.094 168.528 Q101.663 169.292 98.8854 170.843 L98.8854 166.121 Q101.709 164.987 104.163 164.408 Q106.617 163.829 108.654 163.829 Q114.024 163.829 117.219 166.515 Q120.413 169.2 120.413 173.69 Q120.413 175.82 119.603 177.741 Q118.816 179.639 116.709 182.232 Q116.131 182.903 113.029 186.121 Q109.927 189.315 104.279 195.079 Z\" fill=\"#000000\" fill-rule=\"evenodd\" fill-opacity=\"1\" /><polyline clip-path=\"url(#clip472)\" style=\"stroke:#009af9; stroke-linecap:butt; stroke-linejoin:round; stroke-width:4; stroke-opacity:1; fill:none\" points=\"\n",
       "  2290.6,181.734 2288.51,175.787 2282.26,169.864 2271.88,163.988 2257.39,158.184 2238.86,152.475 2216.38,146.884 2190.01,141.433 2159.89,136.144 2126.11,131.039 \n",
       "  2088.82,126.137 2048.18,121.46 2004.34,117.026 1957.48,112.852 1907.78,108.955 1855.46,105.352 1800.72,102.056 1743.78,99.0806 1684.86,96.4383 1624.22,94.1394 \n",
       "  1562.08,92.1933 1498.71,90.6077 1434.35,89.389 1369.27,88.5422 1303.72,88.0707 1237.98,87.9763 1172.3,88.2594 1106.95,88.9189 1042.2,89.9522 978.3,91.355 \n",
       "  915.514,93.1217 854.091,95.2453 794.281,97.7171 736.324,100.527 680.453,103.664 626.893,107.116 575.86,110.868 527.559,114.905 482.185,119.212 439.92,123.77 \n",
       "  400.936,128.561 365.387,133.567 333.419,138.767 305.159,144.139 280.722,149.663 260.205,155.316 243.691,161.076 231.248,166.919 222.924,172.821 218.754,178.759 \n",
       "  218.754,184.709 222.924,190.648 231.248,196.55 243.691,202.393 260.205,208.152 280.722,213.806 305.159,219.33 333.419,224.702 365.387,229.902 400.936,234.908 \n",
       "  439.92,239.699 482.185,244.257 527.559,248.564 575.86,252.601 626.893,256.353 680.453,259.804 736.324,262.941 794.281,265.752 854.091,268.223 915.514,270.347 \n",
       "  978.3,272.114 1042.2,273.517 1106.95,274.55 1172.3,275.209 1237.98,275.492 1303.72,275.398 1369.27,274.926 1434.35,274.08 1498.71,272.861 1562.08,271.275 \n",
       "  1624.22,269.329 1684.86,267.03 1743.78,264.388 1800.72,261.413 1855.46,258.117 1907.78,254.514 1957.48,250.617 2004.34,246.443 2048.18,242.008 2088.82,237.331 \n",
       "  2126.11,232.43 2159.89,227.325 2190.01,222.036 2216.38,216.585 2238.86,210.994 2257.39,205.284 2271.88,199.48 2282.26,193.605 2288.51,187.682 2290.6,181.734 \n",
       "  \n",
       "  \"/>\n",
       "<polyline clip-path=\"url(#clip472)\" style=\"stroke:#e26f46; stroke-linecap:butt; stroke-linejoin:round; stroke-width:4; stroke-opacity:1; fill:none\" points=\"\n",
       "  2290.6,1409.27 2288.51,1403.11 2282.26,1396.57 2271.88,1389.67 2257.39,1382.44 2238.86,1374.9 2216.38,1367.09 2190.01,1359.04 2159.89,1350.77 2126.11,1342.33 \n",
       "  2088.82,1333.75 2048.18,1325.06 2004.34,1316.3 1957.48,1307.5 1907.78,1298.7 1855.46,1289.93 1800.72,1281.23 1743.78,1272.63 1684.86,1264.17 1624.22,1255.89 \n",
       "  1562.08,1247.81 1498.71,1239.96 1434.35,1232.39 1369.27,1225.12 1303.72,1218.18 1237.98,1211.59 1172.3,1205.39 1106.95,1199.6 1042.2,1194.24 978.3,1189.33 \n",
       "  915.514,1184.9 854.091,1180.96 794.281,1177.53 736.324,1174.62 680.453,1172.24 626.893,1170.4 575.86,1169.12 527.559,1168.39 482.185,1168.21 439.92,1168.6 \n",
       "  400.936,1169.54 365.387,1171.04 333.419,1173.08 305.159,1175.67 280.722,1178.78 260.205,1182.4 243.691,1186.53 231.248,1191.15 222.924,1196.23 218.754,1201.76 \n",
       "  218.754,1207.71 222.924,1214.06 231.248,1220.78 243.691,1227.85 260.205,1235.24 280.722,1242.92 305.159,1250.86 333.419,1259.02 365.387,1267.37 400.936,1275.89 \n",
       "  439.92,1284.53 482.185,1293.26 527.559,1302.05 575.86,1310.85 626.893,1319.64 680.453,1328.38 736.324,1337.03 794.281,1345.56 854.091,1353.94 915.514,1362.13 \n",
       "  978.3,1370.09 1042.2,1377.8 1106.95,1385.23 1172.3,1392.34 1237.98,1399.11 1303.72,1405.5 1369.27,1411.5 1434.35,1417.08 1498.71,1422.22 1562.08,1426.89 \n",
       "  1624.22,1431.08 1684.86,1434.76 1743.78,1437.94 1800.72,1440.58 1855.46,1442.69 1907.78,1444.25 1957.48,1445.26 2004.34,1445.72 2048.18,1445.61 2088.82,1444.94 \n",
       "  2126.11,1443.72 2159.89,1441.95 2190.01,1439.64 2216.38,1436.79 2238.86,1433.42 2257.39,1429.54 2271.88,1425.17 2282.26,1420.32 2288.51,1415.01 2290.6,1409.27 \n",
       "  \n",
       "  \"/>\n",
       "<path clip-path=\"url(#clip470)\" d=\"\n",
       "M1983.1 250.738 L2279.55 250.738 L2279.55 95.2176 L1983.1 95.2176  Z\n",
       "  \" fill=\"#ffffff\" fill-rule=\"evenodd\" fill-opacity=\"1\"/>\n",
       "<polyline clip-path=\"url(#clip470)\" style=\"stroke:#000000; stroke-linecap:butt; stroke-linejoin:round; stroke-width:4; stroke-opacity:1; fill:none\" points=\"\n",
       "  1983.1,250.738 2279.55,250.738 2279.55,95.2176 1983.1,95.2176 1983.1,250.738 \n",
       "  \"/>\n",
       "<polyline clip-path=\"url(#clip470)\" style=\"stroke:#009af9; stroke-linecap:butt; stroke-linejoin:round; stroke-width:4; stroke-opacity:1; fill:none\" points=\"\n",
       "  2007.5,147.058 2153.92,147.058 \n",
       "  \"/>\n",
       "<path clip-path=\"url(#clip470)\" d=\"M2192.16 166.745 Q2190.35 171.375 2188.64 172.787 Q2186.93 174.199 2184.06 174.199 L2180.65 174.199 L2180.65 170.634 L2183.15 170.634 Q2184.91 170.634 2185.89 169.8 Q2186.86 168.967 2188.04 165.865 L2188.8 163.921 L2178.32 138.412 L2182.83 138.412 L2190.93 158.689 L2199.03 138.412 L2203.55 138.412 L2192.16 166.745 Z\" fill=\"#000000\" fill-rule=\"evenodd\" fill-opacity=\"1\" /><path clip-path=\"url(#clip470)\" d=\"M2210.84 160.402 L2218.48 160.402 L2218.48 134.037 L2210.17 135.703 L2210.17 131.444 L2218.43 129.778 L2223.11 129.778 L2223.11 160.402 L2230.75 160.402 L2230.75 164.338 L2210.84 164.338 L2210.84 160.402 Z\" fill=\"#000000\" fill-rule=\"evenodd\" fill-opacity=\"1\" /><polyline clip-path=\"url(#clip470)\" style=\"stroke:#e26f46; stroke-linecap:butt; stroke-linejoin:round; stroke-width:4; stroke-opacity:1; fill:none\" points=\"\n",
       "  2007.5,198.898 2153.92,198.898 \n",
       "  \"/>\n",
       "<path clip-path=\"url(#clip470)\" d=\"M2192.16 218.585 Q2190.35 223.215 2188.64 224.627 Q2186.93 226.039 2184.06 226.039 L2180.65 226.039 L2180.65 222.474 L2183.15 222.474 Q2184.91 222.474 2185.89 221.64 Q2186.86 220.807 2188.04 217.705 L2188.8 215.761 L2178.32 190.252 L2182.83 190.252 L2190.93 210.529 L2199.03 190.252 L2203.55 190.252 L2192.16 218.585 Z\" fill=\"#000000\" fill-rule=\"evenodd\" fill-opacity=\"1\" /><path clip-path=\"url(#clip470)\" d=\"M2214.06 212.242 L2230.38 212.242 L2230.38 216.178 L2208.43 216.178 L2208.43 212.242 Q2211.09 209.488 2215.68 204.858 Q2220.28 200.205 2221.46 198.863 Q2223.71 196.34 2224.59 194.604 Q2225.49 192.844 2225.49 191.155 Q2225.49 188.4 2223.55 186.664 Q2221.63 184.928 2218.52 184.928 Q2216.33 184.928 2213.87 185.692 Q2211.44 186.455 2208.66 188.006 L2208.66 183.284 Q2211.49 182.15 2213.94 181.571 Q2216.4 180.993 2218.43 180.993 Q2223.8 180.993 2227 183.678 Q2230.19 186.363 2230.19 190.854 Q2230.19 192.983 2229.38 194.905 Q2228.59 196.803 2226.49 199.395 Q2225.91 200.067 2222.81 203.284 Q2219.71 206.479 2214.06 212.242 Z\" fill=\"#000000\" fill-rule=\"evenodd\" fill-opacity=\"1\" /></svg>\n"
      ]
     },
     "execution_count": 23,
     "metadata": {},
     "output_type": "execute_result"
    }
   ],
   "source": [
    "using Plots\n",
    "function plotmat(a,b,ε,L)\n",
    "    t = range(0, 2π; length=100)\n",
    "    x,y = (a .+ ε*cos.(t), b .+ ε*sin.(t))\n",
    "    plot(x, y)\n",
    "\n",
    "    Lx = zeros(length(x))\n",
    "    Ly = zeros(length(x))\n",
    "\n",
    "    for k=1:length(x)\n",
    "        Lx[k], Ly[k] = L*[x[k], y[k]]\n",
    "    end\n",
    "    plot!(Lx, Ly)\n",
    "end\n",
    "\n",
    "a,b = [1.1, 1.2]\n",
    "\n",
    "L = [1    0;\n",
    "     -b/a 1]\n",
    "\n",
    "ε = 0.1\n",
    "\n",
    "plotmat(a, b, ε, L)"
   ]
  },
  {
   "cell_type": "markdown",
   "metadata": {},
   "source": [
    "As `a` becomes small, this error amplification becomes greater: in the following, we go from \n",
    "knowing the true point with accuracy 0.1 to only knowing it with about accuracy 1:"
   ]
  },
  {
   "cell_type": "code",
   "execution_count": 24,
   "metadata": {
    "execution": {
     "iopub.execute_input": "2022-01-12T08:43:38.025185Z",
     "iopub.status.busy": "2022-01-12T08:43:38.024526Z",
     "iopub.status.idle": "2022-01-12T08:43:38.046252Z",
     "shell.execute_reply": "2022-01-12T08:43:38.045616Z"
    }
   },
   "outputs": [
    {
     "data": {
      "image/svg+xml": [
       "<?xml version=\"1.0\" encoding=\"utf-8\"?>\n",
       "<svg xmlns=\"http://www.w3.org/2000/svg\" xmlns:xlink=\"http://www.w3.org/1999/xlink\" width=\"600\" height=\"400\" viewBox=\"0 0 2400 1600\">\n",
       "<defs>\n",
       "  <clipPath id=\"clip510\">\n",
       "    <rect x=\"0\" y=\"0\" width=\"2400\" height=\"1600\"/>\n",
       "  </clipPath>\n",
       "</defs>\n",
       "<path clip-path=\"url(#clip510)\" d=\"\n",
       "M0 1600 L2400 1600 L2400 0 L0 0  Z\n",
       "  \" fill=\"#ffffff\" fill-rule=\"evenodd\" fill-opacity=\"1\"/>\n",
       "<defs>\n",
       "  <clipPath id=\"clip511\">\n",
       "    <rect x=\"480\" y=\"0\" width=\"1681\" height=\"1600\"/>\n",
       "  </clipPath>\n",
       "</defs>\n",
       "<path clip-path=\"url(#clip510)\" d=\"\n",
       "M193.936 1486.45 L2352.76 1486.45 L2352.76 47.2441 L193.936 47.2441  Z\n",
       "  \" fill=\"#ffffff\" fill-rule=\"evenodd\" fill-opacity=\"1\"/>\n",
       "<defs>\n",
       "  <clipPath id=\"clip512\">\n",
       "    <rect x=\"193\" y=\"47\" width=\"2160\" height=\"1440\"/>\n",
       "  </clipPath>\n",
       "</defs>\n",
       "<polyline clip-path=\"url(#clip512)\" style=\"stroke:#000000; stroke-linecap:butt; stroke-linejoin:round; stroke-width:2; stroke-opacity:0.1; fill:none\" points=\"\n",
       "  509.164,1486.45 509.164,47.2441 \n",
       "  \"/>\n",
       "<polyline clip-path=\"url(#clip512)\" style=\"stroke:#000000; stroke-linecap:butt; stroke-linejoin:round; stroke-width:2; stroke-opacity:0.1; fill:none\" points=\"\n",
       "  1018.45,1486.45 1018.45,47.2441 \n",
       "  \"/>\n",
       "<polyline clip-path=\"url(#clip512)\" style=\"stroke:#000000; stroke-linecap:butt; stroke-linejoin:round; stroke-width:2; stroke-opacity:0.1; fill:none\" points=\"\n",
       "  1527.73,1486.45 1527.73,47.2441 \n",
       "  \"/>\n",
       "<polyline clip-path=\"url(#clip512)\" style=\"stroke:#000000; stroke-linecap:butt; stroke-linejoin:round; stroke-width:2; stroke-opacity:0.1; fill:none\" points=\"\n",
       "  2037.02,1486.45 2037.02,47.2441 \n",
       "  \"/>\n",
       "<polyline clip-path=\"url(#clip510)\" style=\"stroke:#000000; stroke-linecap:butt; stroke-linejoin:round; stroke-width:4; stroke-opacity:1; fill:none\" points=\"\n",
       "  193.936,1486.45 2352.76,1486.45 \n",
       "  \"/>\n",
       "<polyline clip-path=\"url(#clip510)\" style=\"stroke:#000000; stroke-linecap:butt; stroke-linejoin:round; stroke-width:4; stroke-opacity:1; fill:none\" points=\"\n",
       "  509.164,1486.45 509.164,1467.55 \n",
       "  \"/>\n",
       "<polyline clip-path=\"url(#clip510)\" style=\"stroke:#000000; stroke-linecap:butt; stroke-linejoin:round; stroke-width:4; stroke-opacity:1; fill:none\" points=\"\n",
       "  1018.45,1486.45 1018.45,1467.55 \n",
       "  \"/>\n",
       "<polyline clip-path=\"url(#clip510)\" style=\"stroke:#000000; stroke-linecap:butt; stroke-linejoin:round; stroke-width:4; stroke-opacity:1; fill:none\" points=\"\n",
       "  1527.73,1486.45 1527.73,1467.55 \n",
       "  \"/>\n",
       "<polyline clip-path=\"url(#clip510)\" style=\"stroke:#000000; stroke-linecap:butt; stroke-linejoin:round; stroke-width:4; stroke-opacity:1; fill:none\" points=\"\n",
       "  2037.02,1486.45 2037.02,1467.55 \n",
       "  \"/>\n",
       "<path clip-path=\"url(#clip510)\" d=\"M471.965 1517.37 Q468.354 1517.37 466.525 1520.93 Q464.72 1524.47 464.72 1531.6 Q464.72 1538.71 466.525 1542.27 Q468.354 1545.82 471.965 1545.82 Q475.599 1545.82 477.405 1542.27 Q479.233 1538.71 479.233 1531.6 Q479.233 1524.47 477.405 1520.93 Q475.599 1517.37 471.965 1517.37 M471.965 1513.66 Q477.775 1513.66 480.831 1518.27 Q483.909 1522.85 483.909 1531.6 Q483.909 1540.33 480.831 1544.94 Q477.775 1549.52 471.965 1549.52 Q466.155 1549.52 463.076 1544.94 Q460.021 1540.33 460.021 1531.6 Q460.021 1522.85 463.076 1518.27 Q466.155 1513.66 471.965 1513.66 Z\" fill=\"#000000\" fill-rule=\"evenodd\" fill-opacity=\"1\" /><path clip-path=\"url(#clip510)\" d=\"M492.127 1542.97 L497.011 1542.97 L497.011 1548.85 L492.127 1548.85 L492.127 1542.97 Z\" fill=\"#000000\" fill-rule=\"evenodd\" fill-opacity=\"1\" /><path clip-path=\"url(#clip510)\" d=\"M517.196 1517.37 Q513.585 1517.37 511.756 1520.93 Q509.951 1524.47 509.951 1531.6 Q509.951 1538.71 511.756 1542.27 Q513.585 1545.82 517.196 1545.82 Q520.83 1545.82 522.636 1542.27 Q524.465 1538.71 524.465 1531.6 Q524.465 1524.47 522.636 1520.93 Q520.83 1517.37 517.196 1517.37 M517.196 1513.66 Q523.006 1513.66 526.062 1518.27 Q529.141 1522.85 529.141 1531.6 Q529.141 1540.33 526.062 1544.94 Q523.006 1549.52 517.196 1549.52 Q511.386 1549.52 508.307 1544.94 Q505.252 1540.33 505.252 1531.6 Q505.252 1522.85 508.307 1518.27 Q511.386 1513.66 517.196 1513.66 Z\" fill=\"#000000\" fill-rule=\"evenodd\" fill-opacity=\"1\" /><path clip-path=\"url(#clip510)\" d=\"M537.404 1514.29 L555.761 1514.29 L555.761 1518.22 L541.687 1518.22 L541.687 1526.7 Q542.705 1526.35 543.724 1526.19 Q544.742 1526 545.761 1526 Q551.548 1526 554.927 1529.17 Q558.307 1532.34 558.307 1537.76 Q558.307 1543.34 554.835 1546.44 Q551.363 1549.52 545.043 1549.52 Q542.867 1549.52 540.599 1549.15 Q538.353 1548.78 535.946 1548.04 L535.946 1543.34 Q538.029 1544.47 540.252 1545.03 Q542.474 1545.58 544.951 1545.58 Q548.955 1545.58 551.293 1543.48 Q553.631 1541.37 553.631 1537.76 Q553.631 1534.15 551.293 1532.04 Q548.955 1529.94 544.951 1529.94 Q543.076 1529.94 541.201 1530.35 Q539.349 1530.77 537.404 1531.65 L537.404 1514.29 Z\" fill=\"#000000\" fill-rule=\"evenodd\" fill-opacity=\"1\" /><path clip-path=\"url(#clip510)\" d=\"M980.751 1517.37 Q977.14 1517.37 975.311 1520.93 Q973.506 1524.47 973.506 1531.6 Q973.506 1538.71 975.311 1542.27 Q977.14 1545.82 980.751 1545.82 Q984.385 1545.82 986.191 1542.27 Q988.02 1538.71 988.02 1531.6 Q988.02 1524.47 986.191 1520.93 Q984.385 1517.37 980.751 1517.37 M980.751 1513.66 Q986.561 1513.66 989.617 1518.27 Q992.695 1522.85 992.695 1531.6 Q992.695 1540.33 989.617 1544.94 Q986.561 1549.52 980.751 1549.52 Q974.941 1549.52 971.862 1544.94 Q968.807 1540.33 968.807 1531.6 Q968.807 1522.85 971.862 1518.27 Q974.941 1513.66 980.751 1513.66 Z\" fill=\"#000000\" fill-rule=\"evenodd\" fill-opacity=\"1\" /><path clip-path=\"url(#clip510)\" d=\"M1000.91 1542.97 L1005.8 1542.97 L1005.8 1548.85 L1000.91 1548.85 L1000.91 1542.97 Z\" fill=\"#000000\" fill-rule=\"evenodd\" fill-opacity=\"1\" /><path clip-path=\"url(#clip510)\" d=\"M1016.79 1544.91 L1024.43 1544.91 L1024.43 1518.55 L1016.12 1520.21 L1016.12 1515.95 L1024.39 1514.29 L1029.06 1514.29 L1029.06 1544.91 L1036.7 1544.91 L1036.7 1548.85 L1016.79 1548.85 L1016.79 1544.91 Z\" fill=\"#000000\" fill-rule=\"evenodd\" fill-opacity=\"1\" /><path clip-path=\"url(#clip510)\" d=\"M1056.14 1517.37 Q1052.53 1517.37 1050.7 1520.93 Q1048.9 1524.47 1048.9 1531.6 Q1048.9 1538.71 1050.7 1542.27 Q1052.53 1545.82 1056.14 1545.82 Q1059.78 1545.82 1061.58 1542.27 Q1063.41 1538.71 1063.41 1531.6 Q1063.41 1524.47 1061.58 1520.93 Q1059.78 1517.37 1056.14 1517.37 M1056.14 1513.66 Q1061.95 1513.66 1065.01 1518.27 Q1068.09 1522.85 1068.09 1531.6 Q1068.09 1540.33 1065.01 1544.94 Q1061.95 1549.52 1056.14 1549.52 Q1050.33 1549.52 1047.26 1544.94 Q1044.2 1540.33 1044.2 1531.6 Q1044.2 1522.85 1047.26 1518.27 Q1050.33 1513.66 1056.14 1513.66 Z\" fill=\"#000000\" fill-rule=\"evenodd\" fill-opacity=\"1\" /><path clip-path=\"url(#clip510)\" d=\"M1490.53 1517.37 Q1486.92 1517.37 1485.09 1520.93 Q1483.29 1524.47 1483.29 1531.6 Q1483.29 1538.71 1485.09 1542.27 Q1486.92 1545.82 1490.53 1545.82 Q1494.17 1545.82 1495.97 1542.27 Q1497.8 1538.71 1497.8 1531.6 Q1497.8 1524.47 1495.97 1520.93 Q1494.17 1517.37 1490.53 1517.37 M1490.53 1513.66 Q1496.34 1513.66 1499.4 1518.27 Q1502.48 1522.85 1502.48 1531.6 Q1502.48 1540.33 1499.4 1544.94 Q1496.34 1549.52 1490.53 1549.52 Q1484.72 1549.52 1481.64 1544.94 Q1478.59 1540.33 1478.59 1531.6 Q1478.59 1522.85 1481.64 1518.27 Q1484.72 1513.66 1490.53 1513.66 Z\" fill=\"#000000\" fill-rule=\"evenodd\" fill-opacity=\"1\" /><path clip-path=\"url(#clip510)\" d=\"M1510.69 1542.97 L1515.58 1542.97 L1515.58 1548.85 L1510.69 1548.85 L1510.69 1542.97 Z\" fill=\"#000000\" fill-rule=\"evenodd\" fill-opacity=\"1\" /><path clip-path=\"url(#clip510)\" d=\"M1526.57 1544.91 L1534.21 1544.91 L1534.21 1518.55 L1525.9 1520.21 L1525.9 1515.95 L1534.17 1514.29 L1538.84 1514.29 L1538.84 1544.91 L1546.48 1544.91 L1546.48 1548.85 L1526.57 1548.85 L1526.57 1544.91 Z\" fill=\"#000000\" fill-rule=\"evenodd\" fill-opacity=\"1\" /><path clip-path=\"url(#clip510)\" d=\"M1555.97 1514.29 L1574.33 1514.29 L1574.33 1518.22 L1560.25 1518.22 L1560.25 1526.7 Q1561.27 1526.35 1562.29 1526.19 Q1563.31 1526 1564.33 1526 Q1570.12 1526 1573.5 1529.17 Q1576.87 1532.34 1576.87 1537.76 Q1576.87 1543.34 1573.4 1546.44 Q1569.93 1549.52 1563.61 1549.52 Q1561.43 1549.52 1559.17 1549.15 Q1556.92 1548.78 1554.51 1548.04 L1554.51 1543.34 Q1556.6 1544.47 1558.82 1545.03 Q1561.04 1545.58 1563.52 1545.58 Q1567.52 1545.58 1569.86 1543.48 Q1572.2 1541.37 1572.2 1537.76 Q1572.2 1534.15 1569.86 1532.04 Q1567.52 1529.94 1563.52 1529.94 Q1561.64 1529.94 1559.77 1530.35 Q1557.92 1530.77 1555.97 1531.65 L1555.97 1514.29 Z\" fill=\"#000000\" fill-rule=\"evenodd\" fill-opacity=\"1\" /><path clip-path=\"url(#clip510)\" d=\"M1999.32 1517.37 Q1995.71 1517.37 1993.88 1520.93 Q1992.07 1524.47 1992.07 1531.6 Q1992.07 1538.71 1993.88 1542.27 Q1995.71 1545.82 1999.32 1545.82 Q2002.95 1545.82 2004.76 1542.27 Q2006.59 1538.71 2006.59 1531.6 Q2006.59 1524.47 2004.76 1520.93 Q2002.95 1517.37 1999.32 1517.37 M1999.32 1513.66 Q2005.13 1513.66 2008.18 1518.27 Q2011.26 1522.85 2011.26 1531.6 Q2011.26 1540.33 2008.18 1544.94 Q2005.13 1549.52 1999.32 1549.52 Q1993.51 1549.52 1990.43 1544.94 Q1987.37 1540.33 1987.37 1531.6 Q1987.37 1522.85 1990.43 1518.27 Q1993.51 1513.66 1999.32 1513.66 Z\" fill=\"#000000\" fill-rule=\"evenodd\" fill-opacity=\"1\" /><path clip-path=\"url(#clip510)\" d=\"M2019.48 1542.97 L2024.36 1542.97 L2024.36 1548.85 L2019.48 1548.85 L2019.48 1542.97 Z\" fill=\"#000000\" fill-rule=\"evenodd\" fill-opacity=\"1\" /><path clip-path=\"url(#clip510)\" d=\"M2038.58 1544.91 L2054.9 1544.91 L2054.9 1548.85 L2032.95 1548.85 L2032.95 1544.91 Q2035.61 1542.16 2040.2 1537.53 Q2044.8 1532.88 2045.99 1531.53 Q2048.23 1529.01 2049.11 1527.27 Q2050.01 1525.51 2050.01 1523.82 Q2050.01 1521.07 2048.07 1519.33 Q2046.15 1517.6 2043.05 1517.6 Q2040.85 1517.6 2038.39 1518.36 Q2035.96 1519.13 2033.18 1520.68 L2033.18 1515.95 Q2036.01 1514.82 2038.46 1514.24 Q2040.92 1513.66 2042.95 1513.66 Q2048.32 1513.66 2051.52 1516.35 Q2054.71 1519.03 2054.71 1523.52 Q2054.71 1525.65 2053.9 1527.57 Q2053.11 1529.47 2051.01 1532.07 Q2050.43 1532.74 2047.33 1535.95 Q2044.23 1539.15 2038.58 1544.91 Z\" fill=\"#000000\" fill-rule=\"evenodd\" fill-opacity=\"1\" /><path clip-path=\"url(#clip510)\" d=\"M2074.71 1517.37 Q2071.1 1517.37 2069.27 1520.93 Q2067.47 1524.47 2067.47 1531.6 Q2067.47 1538.71 2069.27 1542.27 Q2071.1 1545.82 2074.71 1545.82 Q2078.35 1545.82 2080.15 1542.27 Q2081.98 1538.71 2081.98 1531.6 Q2081.98 1524.47 2080.15 1520.93 Q2078.35 1517.37 2074.71 1517.37 M2074.71 1513.66 Q2080.52 1513.66 2083.58 1518.27 Q2086.66 1522.85 2086.66 1531.6 Q2086.66 1540.33 2083.58 1544.94 Q2080.52 1549.52 2074.71 1549.52 Q2068.9 1549.52 2065.82 1544.94 Q2062.77 1540.33 2062.77 1531.6 Q2062.77 1522.85 2065.82 1518.27 Q2068.9 1513.66 2074.71 1513.66 Z\" fill=\"#000000\" fill-rule=\"evenodd\" fill-opacity=\"1\" /><polyline clip-path=\"url(#clip512)\" style=\"stroke:#000000; stroke-linecap:butt; stroke-linejoin:round; stroke-width:2; stroke-opacity:0.1; fill:none\" points=\"\n",
       "  193.936,1466.74 2352.76,1466.74 \n",
       "  \"/>\n",
       "<polyline clip-path=\"url(#clip512)\" style=\"stroke:#000000; stroke-linecap:butt; stroke-linejoin:round; stroke-width:2; stroke-opacity:0.1; fill:none\" points=\"\n",
       "  193.936,1167 2352.76,1167 \n",
       "  \"/>\n",
       "<polyline clip-path=\"url(#clip512)\" style=\"stroke:#000000; stroke-linecap:butt; stroke-linejoin:round; stroke-width:2; stroke-opacity:0.1; fill:none\" points=\"\n",
       "  193.936,867.272 2352.76,867.272 \n",
       "  \"/>\n",
       "<polyline clip-path=\"url(#clip512)\" style=\"stroke:#000000; stroke-linecap:butt; stroke-linejoin:round; stroke-width:2; stroke-opacity:0.1; fill:none\" points=\"\n",
       "  193.936,567.54 2352.76,567.54 \n",
       "  \"/>\n",
       "<polyline clip-path=\"url(#clip512)\" style=\"stroke:#000000; stroke-linecap:butt; stroke-linejoin:round; stroke-width:2; stroke-opacity:0.1; fill:none\" points=\"\n",
       "  193.936,267.808 2352.76,267.808 \n",
       "  \"/>\n",
       "<polyline clip-path=\"url(#clip510)\" style=\"stroke:#000000; stroke-linecap:butt; stroke-linejoin:round; stroke-width:4; stroke-opacity:1; fill:none\" points=\"\n",
       "  193.936,1486.45 193.936,47.2441 \n",
       "  \"/>\n",
       "<polyline clip-path=\"url(#clip510)\" style=\"stroke:#000000; stroke-linecap:butt; stroke-linejoin:round; stroke-width:4; stroke-opacity:1; fill:none\" points=\"\n",
       "  193.936,1466.74 212.834,1466.74 \n",
       "  \"/>\n",
       "<polyline clip-path=\"url(#clip510)\" style=\"stroke:#000000; stroke-linecap:butt; stroke-linejoin:round; stroke-width:4; stroke-opacity:1; fill:none\" points=\"\n",
       "  193.936,1167 212.834,1167 \n",
       "  \"/>\n",
       "<polyline clip-path=\"url(#clip510)\" style=\"stroke:#000000; stroke-linecap:butt; stroke-linejoin:round; stroke-width:4; stroke-opacity:1; fill:none\" points=\"\n",
       "  193.936,867.272 212.834,867.272 \n",
       "  \"/>\n",
       "<polyline clip-path=\"url(#clip510)\" style=\"stroke:#000000; stroke-linecap:butt; stroke-linejoin:round; stroke-width:4; stroke-opacity:1; fill:none\" points=\"\n",
       "  193.936,567.54 212.834,567.54 \n",
       "  \"/>\n",
       "<polyline clip-path=\"url(#clip510)\" style=\"stroke:#000000; stroke-linecap:butt; stroke-linejoin:round; stroke-width:4; stroke-opacity:1; fill:none\" points=\"\n",
       "  193.936,267.808 212.834,267.808 \n",
       "  \"/>\n",
       "<path clip-path=\"url(#clip510)\" d=\"M50.9921 1467.19 L80.6679 1467.19 L80.6679 1471.12 L50.9921 1471.12 L50.9921 1467.19 Z\" fill=\"#000000\" fill-rule=\"evenodd\" fill-opacity=\"1\" /><path clip-path=\"url(#clip510)\" d=\"M91.5706 1480.08 L99.2095 1480.08 L99.2095 1453.71 L90.8993 1455.38 L90.8993 1451.12 L99.1632 1449.46 L103.839 1449.46 L103.839 1480.08 L111.478 1480.08 L111.478 1484.02 L91.5706 1484.02 L91.5706 1480.08 Z\" fill=\"#000000\" fill-rule=\"evenodd\" fill-opacity=\"1\" /><path clip-path=\"url(#clip510)\" d=\"M120.922 1478.14 L125.807 1478.14 L125.807 1484.02 L120.922 1484.02 L120.922 1478.14 Z\" fill=\"#000000\" fill-rule=\"evenodd\" fill-opacity=\"1\" /><path clip-path=\"url(#clip510)\" d=\"M145.992 1452.53 Q142.381 1452.53 140.552 1456.1 Q138.746 1459.64 138.746 1466.77 Q138.746 1473.88 140.552 1477.44 Q142.381 1480.98 145.992 1480.98 Q149.626 1480.98 151.431 1477.44 Q153.26 1473.88 153.26 1466.77 Q153.26 1459.64 151.431 1456.1 Q149.626 1452.53 145.992 1452.53 M145.992 1448.83 Q151.802 1448.83 154.857 1453.44 Q157.936 1458.02 157.936 1466.77 Q157.936 1475.5 154.857 1480.1 Q151.802 1484.69 145.992 1484.69 Q140.181 1484.69 137.103 1480.1 Q134.047 1475.5 134.047 1466.77 Q134.047 1458.02 137.103 1453.44 Q140.181 1448.83 145.992 1448.83 Z\" fill=\"#000000\" fill-rule=\"evenodd\" fill-opacity=\"1\" /><path clip-path=\"url(#clip510)\" d=\"M51.9875 1167.45 L81.6633 1167.45 L81.6633 1171.39 L51.9875 1171.39 L51.9875 1167.45 Z\" fill=\"#000000\" fill-rule=\"evenodd\" fill-opacity=\"1\" /><path clip-path=\"url(#clip510)\" d=\"M101.756 1152.8 Q98.1447 1152.8 96.316 1156.37 Q94.5104 1159.91 94.5104 1167.04 Q94.5104 1174.14 96.316 1177.71 Q98.1447 1181.25 101.756 1181.25 Q105.39 1181.25 107.196 1177.71 Q109.024 1174.14 109.024 1167.04 Q109.024 1159.91 107.196 1156.37 Q105.39 1152.8 101.756 1152.8 M101.756 1149.1 Q107.566 1149.1 110.621 1153.7 Q113.7 1158.29 113.7 1167.04 Q113.7 1175.77 110.621 1180.37 Q107.566 1184.95 101.756 1184.95 Q95.9456 1184.95 92.8669 1180.37 Q89.8114 1175.77 89.8114 1167.04 Q89.8114 1158.29 92.8669 1153.7 Q95.9456 1149.1 101.756 1149.1 Z\" fill=\"#000000\" fill-rule=\"evenodd\" fill-opacity=\"1\" /><path clip-path=\"url(#clip510)\" d=\"M121.918 1178.4 L126.802 1178.4 L126.802 1184.28 L121.918 1184.28 L121.918 1178.4 Z\" fill=\"#000000\" fill-rule=\"evenodd\" fill-opacity=\"1\" /><path clip-path=\"url(#clip510)\" d=\"M137.033 1149.72 L155.39 1149.72 L155.39 1153.66 L141.316 1153.66 L141.316 1162.13 Q142.334 1161.78 143.353 1161.62 Q144.371 1161.44 145.39 1161.44 Q151.177 1161.44 154.556 1164.61 Q157.936 1167.78 157.936 1173.2 Q157.936 1178.77 154.464 1181.88 Q150.992 1184.95 144.672 1184.95 Q142.496 1184.95 140.228 1184.58 Q137.982 1184.21 135.575 1183.47 L135.575 1178.77 Q137.658 1179.91 139.881 1180.46 Q142.103 1181.02 144.58 1181.02 Q148.584 1181.02 150.922 1178.91 Q153.26 1176.81 153.26 1173.2 Q153.26 1169.58 150.922 1167.48 Q148.584 1165.37 144.58 1165.37 Q142.705 1165.37 140.83 1165.79 Q138.978 1166.2 137.033 1167.08 L137.033 1149.72 Z\" fill=\"#000000\" fill-rule=\"evenodd\" fill-opacity=\"1\" /><path clip-path=\"url(#clip510)\" d=\"M100.76 853.07 Q97.1493 853.07 95.3206 856.635 Q93.515 860.177 93.515 867.306 Q93.515 874.413 95.3206 877.978 Q97.1493 881.519 100.76 881.519 Q104.395 881.519 106.2 877.978 Q108.029 874.413 108.029 867.306 Q108.029 860.177 106.2 856.635 Q104.395 853.07 100.76 853.07 M100.76 849.367 Q106.571 849.367 109.626 853.973 Q112.705 858.556 112.705 867.306 Q112.705 876.033 109.626 880.64 Q106.571 885.223 100.76 885.223 Q94.9502 885.223 91.8715 880.64 Q88.816 876.033 88.816 867.306 Q88.816 858.556 91.8715 853.973 Q94.9502 849.367 100.76 849.367 Z\" fill=\"#000000\" fill-rule=\"evenodd\" fill-opacity=\"1\" /><path clip-path=\"url(#clip510)\" d=\"M120.922 878.672 L125.807 878.672 L125.807 884.552 L120.922 884.552 L120.922 878.672 Z\" fill=\"#000000\" fill-rule=\"evenodd\" fill-opacity=\"1\" /><path clip-path=\"url(#clip510)\" d=\"M145.992 853.07 Q142.381 853.07 140.552 856.635 Q138.746 860.177 138.746 867.306 Q138.746 874.413 140.552 877.978 Q142.381 881.519 145.992 881.519 Q149.626 881.519 151.431 877.978 Q153.26 874.413 153.26 867.306 Q153.26 860.177 151.431 856.635 Q149.626 853.07 145.992 853.07 M145.992 849.367 Q151.802 849.367 154.857 853.973 Q157.936 858.556 157.936 867.306 Q157.936 876.033 154.857 880.64 Q151.802 885.223 145.992 885.223 Q140.181 885.223 137.103 880.64 Q134.047 876.033 134.047 867.306 Q134.047 858.556 137.103 853.973 Q140.181 849.367 145.992 849.367 Z\" fill=\"#000000\" fill-rule=\"evenodd\" fill-opacity=\"1\" /><path clip-path=\"url(#clip510)\" d=\"M101.756 553.338 Q98.1447 553.338 96.316 556.903 Q94.5104 560.445 94.5104 567.574 Q94.5104 574.681 96.316 578.246 Q98.1447 581.787 101.756 581.787 Q105.39 581.787 107.196 578.246 Q109.024 574.681 109.024 567.574 Q109.024 560.445 107.196 556.903 Q105.39 553.338 101.756 553.338 M101.756 549.635 Q107.566 549.635 110.621 554.241 Q113.7 558.825 113.7 567.574 Q113.7 576.301 110.621 580.908 Q107.566 585.491 101.756 585.491 Q95.9456 585.491 92.8669 580.908 Q89.8114 576.301 89.8114 567.574 Q89.8114 558.825 92.8669 554.241 Q95.9456 549.635 101.756 549.635 Z\" fill=\"#000000\" fill-rule=\"evenodd\" fill-opacity=\"1\" /><path clip-path=\"url(#clip510)\" d=\"M121.918 578.94 L126.802 578.94 L126.802 584.82 L121.918 584.82 L121.918 578.94 Z\" fill=\"#000000\" fill-rule=\"evenodd\" fill-opacity=\"1\" /><path clip-path=\"url(#clip510)\" d=\"M137.033 550.26 L155.39 550.26 L155.39 554.195 L141.316 554.195 L141.316 562.667 Q142.334 562.32 143.353 562.158 Q144.371 561.973 145.39 561.973 Q151.177 561.973 154.556 565.144 Q157.936 568.315 157.936 573.732 Q157.936 579.311 154.464 582.412 Q150.992 585.491 144.672 585.491 Q142.496 585.491 140.228 585.121 Q137.982 584.75 135.575 584.01 L135.575 579.311 Q137.658 580.445 139.881 581 Q142.103 581.556 144.58 581.556 Q148.584 581.556 150.922 579.449 Q153.26 577.343 153.26 573.732 Q153.26 570.121 150.922 568.014 Q148.584 565.908 144.58 565.908 Q142.705 565.908 140.83 566.324 Q138.978 566.741 137.033 567.621 L137.033 550.26 Z\" fill=\"#000000\" fill-rule=\"evenodd\" fill-opacity=\"1\" /><path clip-path=\"url(#clip510)\" d=\"M91.5706 281.153 L99.2095 281.153 L99.2095 254.787 L90.8993 256.454 L90.8993 252.195 L99.1632 250.528 L103.839 250.528 L103.839 281.153 L111.478 281.153 L111.478 285.088 L91.5706 285.088 L91.5706 281.153 Z\" fill=\"#000000\" fill-rule=\"evenodd\" fill-opacity=\"1\" /><path clip-path=\"url(#clip510)\" d=\"M120.922 279.208 L125.807 279.208 L125.807 285.088 L120.922 285.088 L120.922 279.208 Z\" fill=\"#000000\" fill-rule=\"evenodd\" fill-opacity=\"1\" /><path clip-path=\"url(#clip510)\" d=\"M145.992 253.607 Q142.381 253.607 140.552 257.171 Q138.746 260.713 138.746 267.843 Q138.746 274.949 140.552 278.514 Q142.381 282.055 145.992 282.055 Q149.626 282.055 151.431 278.514 Q153.26 274.949 153.26 267.843 Q153.26 260.713 151.431 257.171 Q149.626 253.607 145.992 253.607 M145.992 249.903 Q151.802 249.903 154.857 254.509 Q157.936 259.093 157.936 267.843 Q157.936 276.569 154.857 281.176 Q151.802 285.759 145.992 285.759 Q140.181 285.759 137.103 281.176 Q134.047 276.569 134.047 267.843 Q134.047 259.093 137.103 254.509 Q140.181 249.903 145.992 249.903 Z\" fill=\"#000000\" fill-rule=\"evenodd\" fill-opacity=\"1\" /><polyline clip-path=\"url(#clip512)\" style=\"stroke:#009af9; stroke-linecap:butt; stroke-linejoin:round; stroke-width:4; stroke-opacity:1; fill:none\" points=\"\n",
       "  2291.66,147.915 2289.61,144.113 2283.46,140.326 2273.25,136.57 2259.01,132.86 2240.8,129.21 2218.7,125.635 2192.78,122.15 2163.16,118.769 2129.96,115.506 \n",
       "  2093.31,112.372 2053.36,109.382 2010.26,106.547 1964.2,103.879 1915.35,101.388 1863.92,99.0842 1810.1,96.9771 1754.13,95.0752 1696.22,93.386 1636.6,91.9163 \n",
       "  1575.52,90.6722 1513.23,89.6585 1449.96,88.8795 1385.99,88.3381 1321.55,88.0366 1256.93,87.9763 1192.37,88.1573 1128.13,88.5789 1064.48,89.2394 1001.67,90.1363 \n",
       "  939.949,91.2657 879.571,92.6233 820.778,94.2035 763.806,96 708.884,98.0056 656.235,100.212 606.07,102.611 558.59,105.192 513.987,107.945 472.441,110.859 \n",
       "  434.119,113.922 399.175,117.122 367.75,120.446 339.971,123.881 315.949,127.412 295.781,131.026 279.548,134.708 267.316,138.443 259.134,142.217 255.035,146.013 \n",
       "  255.035,149.817 259.134,153.613 267.316,157.387 279.548,161.122 295.781,164.804 315.949,168.418 339.971,171.949 367.75,175.384 399.175,178.708 434.119,181.908 \n",
       "  472.441,184.971 513.987,187.885 558.59,190.639 606.07,193.22 656.235,195.618 708.884,197.825 763.806,199.83 820.778,201.627 879.571,203.207 939.949,204.564 \n",
       "  1001.67,205.694 1064.48,206.591 1128.13,207.251 1192.37,207.673 1256.93,207.854 1321.55,207.794 1385.99,207.492 1449.96,206.951 1513.23,206.172 1575.52,205.158 \n",
       "  1636.6,203.914 1696.22,202.444 1754.13,200.755 1810.1,198.853 1863.92,196.746 1915.35,194.442 1964.2,191.951 2010.26,189.283 2053.36,186.448 2093.31,183.458 \n",
       "  2129.96,180.325 2163.16,177.061 2192.78,173.68 2218.7,170.195 2240.8,166.62 2259.01,162.971 2273.25,159.26 2283.46,155.504 2289.61,151.717 2291.66,147.915 \n",
       "  \n",
       "  \"/>\n",
       "<polyline clip-path=\"url(#clip512)\" style=\"stroke:#e26f46; stroke-linecap:butt; stroke-linejoin:round; stroke-width:4; stroke-opacity:1; fill:none\" points=\"\n",
       "  2291.66,1442.76 2289.61,1437.8 2283.46,1430.54 2273.25,1421.01 2259.01,1409.26 2240.8,1395.32 2218.7,1379.25 2192.78,1361.13 2163.16,1341.01 2129.96,1318.99 \n",
       "  2093.31,1295.15 2053.36,1269.59 2010.26,1242.4 1964.2,1213.71 1915.35,1183.62 1863.92,1152.25 1810.1,1119.74 1754.13,1086.22 1696.22,1051.81 1636.6,1016.66 \n",
       "  1575.52,980.902 1513.23,944.691 1449.96,908.168 1385.99,871.48 1321.55,834.776 1256.93,798.202 1192.37,761.907 1128.13,726.035 1064.48,690.733 1001.67,656.141 \n",
       "  939.949,622.399 879.571,589.644 820.778,558.006 763.806,527.614 708.884,498.589 656.235,471.049 606.07,445.105 558.59,420.86 513.987,398.413 472.441,377.853 \n",
       "  434.119,359.265 399.175,342.722 367.75,328.291 339.971,316.03 315.949,305.99 295.781,298.209 279.548,292.719 267.316,289.544 259.134,288.694 255.035,290.174 \n",
       "  255.035,293.978 259.134,300.091 267.316,308.487 279.548,319.133 295.781,331.986 315.949,346.995 339.971,364.099 367.75,383.229 399.175,404.308 434.119,427.251 \n",
       "  472.441,451.966 513.987,478.353 558.59,506.307 606.07,535.713 656.235,566.455 708.884,598.408 763.806,631.444 820.778,665.429 879.571,700.228 939.949,735.698 \n",
       "  1001.67,771.699 1064.48,808.084 1128.13,844.708 1192.37,881.422 1256.93,918.08 1321.55,954.533 1385.99,990.634 1449.96,1026.24 1513.23,1061.2 1575.52,1095.39 \n",
       "  1636.6,1128.65 1696.22,1160.87 1754.13,1191.9 1810.1,1221.62 1863.92,1249.92 1915.35,1276.67 1964.2,1301.78 2010.26,1325.14 2053.36,1346.65 2093.31,1366.24 \n",
       "  2129.96,1383.81 2163.16,1399.3 2192.78,1412.66 2218.7,1423.81 2240.8,1432.73 2259.01,1439.37 2273.25,1443.7 2283.46,1445.72 2289.61,1445.4 2291.66,1442.76 \n",
       "  \n",
       "  \"/>\n",
       "<path clip-path=\"url(#clip510)\" d=\"\n",
       "M1988.5 250.738 L2280.8 250.738 L2280.8 95.2176 L1988.5 95.2176  Z\n",
       "  \" fill=\"#ffffff\" fill-rule=\"evenodd\" fill-opacity=\"1\"/>\n",
       "<polyline clip-path=\"url(#clip510)\" style=\"stroke:#000000; stroke-linecap:butt; stroke-linejoin:round; stroke-width:4; stroke-opacity:1; fill:none\" points=\"\n",
       "  1988.5,250.738 2280.8,250.738 2280.8,95.2176 1988.5,95.2176 1988.5,250.738 \n",
       "  \"/>\n",
       "<polyline clip-path=\"url(#clip510)\" style=\"stroke:#009af9; stroke-linecap:butt; stroke-linejoin:round; stroke-width:4; stroke-opacity:1; fill:none\" points=\"\n",
       "  2012.48,147.058 2156.4,147.058 \n",
       "  \"/>\n",
       "<path clip-path=\"url(#clip510)\" d=\"M2194.23 166.745 Q2192.43 171.375 2190.72 172.787 Q2189 174.199 2186.13 174.199 L2182.73 174.199 L2182.73 170.634 L2185.23 170.634 Q2186.99 170.634 2187.96 169.8 Q2188.93 168.967 2190.11 165.865 L2190.88 163.921 L2180.39 138.412 L2184.91 138.412 L2193.01 158.689 L2201.11 138.412 L2205.62 138.412 L2194.23 166.745 Z\" fill=\"#000000\" fill-rule=\"evenodd\" fill-opacity=\"1\" /><path clip-path=\"url(#clip510)\" d=\"M2212.91 160.402 L2220.55 160.402 L2220.55 134.037 L2212.24 135.703 L2212.24 131.444 L2220.51 129.778 L2225.18 129.778 L2225.18 160.402 L2232.82 160.402 L2232.82 164.338 L2212.91 164.338 L2212.91 160.402 Z\" fill=\"#000000\" fill-rule=\"evenodd\" fill-opacity=\"1\" /><polyline clip-path=\"url(#clip510)\" style=\"stroke:#e26f46; stroke-linecap:butt; stroke-linejoin:round; stroke-width:4; stroke-opacity:1; fill:none\" points=\"\n",
       "  2012.48,198.898 2156.4,198.898 \n",
       "  \"/>\n",
       "<path clip-path=\"url(#clip510)\" d=\"M2194.23 218.585 Q2192.43 223.215 2190.72 224.627 Q2189 226.039 2186.13 226.039 L2182.73 226.039 L2182.73 222.474 L2185.23 222.474 Q2186.99 222.474 2187.96 221.64 Q2188.93 220.807 2190.11 217.705 L2190.88 215.761 L2180.39 190.252 L2184.91 190.252 L2193.01 210.529 L2201.11 190.252 L2205.62 190.252 L2194.23 218.585 Z\" fill=\"#000000\" fill-rule=\"evenodd\" fill-opacity=\"1\" /><path clip-path=\"url(#clip510)\" d=\"M2216.13 212.242 L2232.45 212.242 L2232.45 216.178 L2210.51 216.178 L2210.51 212.242 Q2213.17 209.488 2217.75 204.858 Q2222.36 200.205 2223.54 198.863 Q2225.78 196.34 2226.66 194.604 Q2227.57 192.844 2227.57 191.155 Q2227.57 188.4 2225.62 186.664 Q2223.7 184.928 2220.6 184.928 Q2218.4 184.928 2215.95 185.692 Q2213.52 186.455 2210.74 188.006 L2210.74 183.284 Q2213.56 182.15 2216.02 181.571 Q2218.47 180.993 2220.51 180.993 Q2225.88 180.993 2229.07 183.678 Q2232.27 186.363 2232.27 190.854 Q2232.27 192.983 2231.46 194.905 Q2230.67 196.803 2228.56 199.395 Q2227.98 200.067 2224.88 203.284 Q2221.78 206.479 2216.13 212.242 Z\" fill=\"#000000\" fill-rule=\"evenodd\" fill-opacity=\"1\" /></svg>\n"
      ]
     },
     "execution_count": 24,
     "metadata": {},
     "output_type": "execute_result"
    }
   ],
   "source": [
    "a,b = [0.125,1.2]\n",
    "\n",
    "L = [1    0;\n",
    "     -b/a 1]\n",
    "\n",
    "ε = 0.1\n",
    "\n",
    "plotmat(a, b, ε, L)"
   ]
  },
  {
   "cell_type": "markdown",
   "metadata": {},
   "source": [
    "Rotations perform much better: the circles are only rotated, and are not magnified at all:"
   ]
  },
  {
   "cell_type": "code",
   "execution_count": 25,
   "metadata": {
    "execution": {
     "iopub.execute_input": "2022-01-12T08:43:38.048782Z",
     "iopub.status.busy": "2022-01-12T08:43:38.048056Z",
     "iopub.status.idle": "2022-01-12T08:43:38.937052Z",
     "shell.execute_reply": "2022-01-12T08:43:38.936622Z"
    }
   },
   "outputs": [
    {
     "ename": "LoadError",
     "evalue": "syntax: invalid keyword argument syntax \"[-5, 5, -5, 5]\" around In[25]:12",
     "output_type": "error",
     "traceback": [
      "syntax: invalid keyword argument syntax \"[-5, 5, -5, 5]\" around In[25]:12",
      "",
      "Stacktrace:",
      " [1] top-level scope",
      "   @ In[25]:12",
      " [2] eval",
      "   @ ./boot.jl:373 [inlined]",
      " [3] include_string(mapexpr::typeof(REPL.softscope), mod::Module, code::String, filename::String)",
      "   @ Base ./loading.jl:1196"
     ]
    }
   ],
   "source": [
    "a,b=[1.1,1.2]\n",
    "\n",
    "θ=-atan(b,a)\n",
    "Q=[cos(θ) -sin(θ);\n",
    "    sin(θ) cos(θ)]\n",
    "\n",
    "ε=0.1\n",
    "\n",
    "plotmat(a,b,ε,Q)\n",
    "plotmat(0,b,ε,Q)\n",
    "\n",
    "plotmat(2a,b,ε,Q; [-5,5,-5,5])"
   ]
  },
  {
   "cell_type": "markdown",
   "metadata": {},
   "source": [
    "### Reflections\n",
    "\n",
    "In addition to rotations, another type of orthognal matrix are reflections:\n",
    "\n",
    "**Definition (reflection matrix)** \n",
    "Given a vector $𝐯$ satisfying $\\|𝐯\\|=1$, the reflection matrix is the orthogonal matrix as\n",
    "$$\n",
    "Q_𝐯 \\triangleq I - 2 𝐯 𝐯^⊤\n",
    "$$\n",
    "\n",
    "These are reflections in the direction of $𝐯$. We can show this as follows:\n",
    "\n",
    "**Proposition** $Q_𝐯$ satisfies:\n",
    "1. Symmetry\n",
    "2. Orthogonality\n",
    "2. $𝐯$ is an eigenvector of $Q_𝐯$ with eigenvalue $-1$\n",
    "4. It is a rank-1 perturbation of $I$\n",
    "3. $\\det Q_𝐯 = -1$\n",
    "\n",
    "\n",
    "**Proof**\n",
    "\n",
    "Property 1 follows immediately. Property 2 follows from\n",
    "$$\n",
    "Q_𝐯^⊤ Q_𝐯 = Q_𝐯^2 = I - 4 𝐯 𝐯^⊤ + 4 𝐯 𝐯^⊤ 𝐯 𝐯^⊤ = I\n",
    "$$\n",
    "Property 3 follows since\n",
    "$$\n",
    "Q_𝐯 𝐯 = -𝐯\n",
    "$$\n",
    "Property 4 follows since $𝐯 𝐯^⊤$ is a rank-1 matrix as all rows are linear combinations of each other.\n",
    "To see property 5, note there is a dimension $n-1$ space $W$ orthogonal to $𝐯$.\n",
    "For $𝐰 \\in W$ we have\n",
    "$$\n",
    "Q_𝐯 𝐰 = 𝐰\n",
    "$$\n",
    "In other words, $1$ is an eigenvalue with multiplicity $n-1$ and $-1$ is an eigenvalue with multiplicity 1,\n",
    "and thus the product of the eigenvalues is $-1$.\n",
    "\n",
    "∎\n",
    "\n",
    "\n",
    "\n",
    "**Example (reflection through 2-vector)** Consider reflection through $𝐱 = [1,2]^\\top$. \n",
    "We first need to normalise $𝐱$:\n",
    "$$\n",
    "𝐯 = {𝐱 \\over \\|𝐱\\|} = \\begin{pmatrix} {1 \\over \\sqrt{5}} \\\\ {2 \\over \\sqrt{5}} \\end{pmatrix}\n",
    "$$\n",
    "Note this indeed has unit norm:\n",
    "$$\n",
    "\\|𝐯\\|^2 = {1 \\over 5} + {4 \\over 5} = 1.\n",
    "$$\n",
    "Thus the reflection matrix is:\n",
    "$$\n",
    "Q_𝐯 = I - 2 𝐯 𝐯^⊤ = \\begin{pmatrix}1 \\\\ & 1 \\end{pmatrix} - {2 \\over 5} \\begin{pmatrix} 1 & 2 \\\\ 2 & 4 \\end{pmatrix}\n",
    " =  {1 \\over 5} \\begin{pmatrix} 3 & -4 \\\\ -4 & -3 \\end{pmatrix}\n",
    "$$\n",
    "Indeed it is symmetric, and orthogonal. It sends $𝐱$ to $-𝐱$:\n",
    "$$\n",
    "Q_𝐯 𝐱 = {1 \\over 5} \\begin{pmatrix}3 - 8 \\\\ -4 - 6 \\end{pmatrix} = -𝐱\n",
    "$$\n",
    "Ant vector orthogonal to $𝐱$, like $𝐲 = [-2,1]^\\top$, is left fixed:\n",
    "$$\n",
    "Q_𝐯 𝐲 = {1 \\over 5} \\begin{pmatrix}-6 -4 \\\\ 8 - 3 \\end{pmatrix} = 𝐲\n",
    "$$"
   ]
  }
 ],
 "metadata": {
  "kernelspec": {
   "display_name": "Julia 1.7.0",
   "language": "julia",
   "name": "julia-1.7"
  },
  "language_info": {
   "file_extension": ".jl",
   "mimetype": "application/julia",
   "name": "julia",
   "version": "1.7.0"
  }
 },
 "nbformat": 4,
 "nbformat_minor": 2
}
