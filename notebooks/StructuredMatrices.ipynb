{
 "cells": [
  {
   "cell_type": "markdown",
   "metadata": {},
   "source": [
    "# Structured Matrices\n",
    "\n",
    "We have seen how algebraic operations (`+`, `-`, `*`, `/`) are\n",
    "well-defined for floating point numbers. Now we see how this allows us\n",
    "to do (approximate) linear algebra operations on structured matrices. That is,\n",
    "we consider the following structures:\n",
    "\n",
    "\n",
    "1. _Dense_: This can be considered unstructured, where we need to store all entries in a\n",
    "vector or matrix. Matrix multiplication reduces directly to standard algebraic operations. \n",
    "Solving linear systems with dense matrices will be discussed later.\n",
    "2. _Triangular_: If a matrix is upper or lower triangular, we can immediately invert using\n",
    "back-substitution. In practice we store a dense matrix and ignore the upper/lower entries.\n",
    "3. _Banded_: If a matrix is zero apart from entries a fixed distance from  the diagonal it is\n",
    "called banded and this allows for more efficient algorithms. We discuss diagonal, \n",
    "tridiagonal and bidiagonal matrices.\n",
    "3. _Permutation_: A permutation matrix permutes the rows of a vector. \n",
    "4. _Orthogonal_: An orthogonal matrix $Q$ satisfies $Q^⊤ Q = I$, in other words, they are\n",
    "very easy to invert. We discuss the special casesrotations and reflections."
   ]
  },
  {
   "cell_type": "code",
   "execution_count": 1,
   "metadata": {
    "execution": {
     "iopub.execute_input": "2022-01-18T11:00:14.464370Z",
     "iopub.status.busy": "2022-01-18T11:00:13.975527Z",
     "iopub.status.idle": "2022-01-18T11:00:20.132529Z",
     "shell.execute_reply": "2022-01-18T11:00:20.130829Z"
    }
   },
   "outputs": [],
   "source": [
    "using LinearAlgebra, Plots"
   ]
  },
  {
   "cell_type": "markdown",
   "metadata": {},
   "source": [
    "## 1. Dense vectors and matrices\n",
    "\n",
    "A `Vector` of a primitive type (like `Int` or `Float64`) is stored\n",
    "consecutively in memory. E.g. if we have a `Vector{Int8}` of length\n",
    "`n` then it is stored as `8n` bits (`n` bytes) in a row.\n",
    "A  `Matrix` is stored consecutively in memory, going down column-by-\n",
    "column. That is,"
   ]
  },
  {
   "cell_type": "code",
   "execution_count": 2,
   "metadata": {
    "execution": {
     "iopub.execute_input": "2022-01-18T11:00:21.701769Z",
     "iopub.status.busy": "2022-01-18T11:00:20.135576Z",
     "iopub.status.idle": "2022-01-18T11:00:23.336781Z",
     "shell.execute_reply": "2022-01-18T11:00:23.335366Z"
    }
   },
   "outputs": [
    {
     "data": {
      "text/plain": [
       "3×2 Matrix{Int64}:\n",
       " 1  2\n",
       " 3  4\n",
       " 5  6"
      ]
     },
     "execution_count": 2,
     "metadata": {},
     "output_type": "execute_result"
    }
   ],
   "source": [
    "A = [1 2; 3 4; 5 6]"
   ]
  },
  {
   "cell_type": "markdown",
   "metadata": {},
   "source": [
    "Is actually stored equivalently to a length `6` vector:"
   ]
  },
  {
   "cell_type": "code",
   "execution_count": 3,
   "metadata": {
    "execution": {
     "iopub.execute_input": "2022-01-18T11:00:23.342433Z",
     "iopub.status.busy": "2022-01-18T11:00:23.340784Z",
     "iopub.status.idle": "2022-01-18T11:00:23.876060Z",
     "shell.execute_reply": "2022-01-18T11:00:23.875526Z"
    }
   },
   "outputs": [
    {
     "data": {
      "text/plain": [
       "6-element Vector{Int64}:\n",
       " 1\n",
       " 3\n",
       " 5\n",
       " 2\n",
       " 4\n",
       " 6"
      ]
     },
     "execution_count": 3,
     "metadata": {},
     "output_type": "execute_result"
    }
   ],
   "source": [
    "vec(A)"
   ]
  },
  {
   "cell_type": "markdown",
   "metadata": {},
   "source": [
    "This is known as _column-major_ format.\n",
    "\n",
    "**Remark** Note that transposing `A` is done lazyily and so `A'`\n",
    "stores the entries by row. That is, `A'` is stored in \n",
    "_row-major_ format.\n",
    "\n",
    "\n",
    "Matrix-vector multiplication works as expected:"
   ]
  },
  {
   "cell_type": "code",
   "execution_count": 4,
   "metadata": {
    "execution": {
     "iopub.execute_input": "2022-01-18T11:00:23.878481Z",
     "iopub.status.busy": "2022-01-18T11:00:23.877641Z",
     "iopub.status.idle": "2022-01-18T11:00:23.973327Z",
     "shell.execute_reply": "2022-01-18T11:00:23.972900Z"
    }
   },
   "outputs": [
    {
     "data": {
      "text/plain": [
       "3-element Vector{Int64}:\n",
       " 23\n",
       " 53\n",
       " 83"
      ]
     },
     "execution_count": 4,
     "metadata": {},
     "output_type": "execute_result"
    }
   ],
   "source": [
    "x = [7, 8]\n",
    "A*x"
   ]
  },
  {
   "cell_type": "markdown",
   "metadata": {},
   "source": [
    "Note there are two ways this can be implemented: either the traditional definition,\n",
    "going row-by-row:\n",
    "$$\n",
    "\\begin{bmatrix} \\sum_{j=1}^n a_{1,j} x_j \\\\ \\vdots \\\\ \\sum_{j=1}^n a_{m,j} x_j \\end{bmatrix}\n",
    "$$\n",
    "or going column-by-column:\n",
    "$$\n",
    "x_1 𝐚_1  + \\cdots + x_n 𝐚_n\n",
    "$$\n",
    "It is easy to implement either version of matrix-multiplication in terms of the algebraic operations \n",
    "we have learned, in this case just using integer arithmetic:"
   ]
  },
  {
   "cell_type": "code",
   "execution_count": 5,
   "metadata": {
    "execution": {
     "iopub.execute_input": "2022-01-18T11:00:23.976132Z",
     "iopub.status.busy": "2022-01-18T11:00:23.975453Z",
     "iopub.status.idle": "2022-01-18T11:00:24.380470Z",
     "shell.execute_reply": "2022-01-18T11:00:24.378922Z"
    }
   },
   "outputs": [
    {
     "data": {
      "text/plain": [
       "([23, 53, 83], [23, 53, 83])"
      ]
     },
     "execution_count": 5,
     "metadata": {},
     "output_type": "execute_result"
    }
   ],
   "source": [
    "# go row-by-row\n",
    "function mul_rows(A, x)\n",
    "    m,n = size(A)\n",
    "    c = zeros(eltype(x), m) # eltype is the type of the elements of a vector/matrix\n",
    "    for k = 1:m, j = 1:n\n",
    "        c[k] += A[k, j] * x[j]\n",
    "    end\n",
    "    c\n",
    "end\n",
    "\n",
    "# go column-by-column\n",
    "function mul(A, x)\n",
    "    m,n = size(A)\n",
    "    c = zeros(eltype(x), m) # eltype is the type of the elements of a vector/matrix\n",
    "    for j = 1:n, k = 1:m\n",
    "        c[k] += A[k, j] * x[j]\n",
    "    end\n",
    "    c\n",
    "end\n",
    "\n",
    "mul_rows(A, x), mul(A, x)"
   ]
  },
  {
   "cell_type": "markdown",
   "metadata": {},
   "source": [
    "Either implementation will be $O(mn)$ operations. However, the implementation \n",
    "`mul` accesses the entries of `A` going down the column,\n",
    "which happens to be _significantly faster_ than `mul_rows`, due to accessing\n",
    "memory of `A` in order. \n",
    "\n",
    "\n",
    "\n",
    "\n",
    "Note that the rules of arithmetic apply here: matrix multiplication with floats\n",
    "will incur round-off error (the precise details of which are subject to the implementation):"
   ]
  },
  {
   "cell_type": "code",
   "execution_count": 6,
   "metadata": {
    "execution": {
     "iopub.execute_input": "2022-01-18T11:00:24.386448Z",
     "iopub.status.busy": "2022-01-18T11:00:24.383381Z",
     "iopub.status.idle": "2022-01-18T11:00:25.290017Z",
     "shell.execute_reply": "2022-01-18T11:00:25.289575Z"
    }
   },
   "outputs": [
    {
     "data": {
      "text/plain": [
       "2-element Vector{Float64}:\n",
       " 0.9999999999999999\n",
       " 1.5"
      ]
     },
     "execution_count": 6,
     "metadata": {},
     "output_type": "execute_result"
    }
   ],
   "source": [
    "A = [1.4 0.4;\n",
    "     2.0 1/2]\n",
    "A * [1, -1] # First entry has round-off error, but 2nd entry is exact"
   ]
  },
  {
   "cell_type": "markdown",
   "metadata": {},
   "source": [
    "And integer arithmetic will be prone to overflow:"
   ]
  },
  {
   "cell_type": "code",
   "execution_count": 7,
   "metadata": {
    "execution": {
     "iopub.execute_input": "2022-01-18T11:00:25.292557Z",
     "iopub.status.busy": "2022-01-18T11:00:25.291786Z",
     "iopub.status.idle": "2022-01-18T11:00:26.286208Z",
     "shell.execute_reply": "2022-01-18T11:00:26.284668Z"
    }
   },
   "outputs": [
    {
     "data": {
      "text/plain": [
       "2-element Vector{Int8}:\n",
       " -128\n",
       " -128"
      ]
     },
     "execution_count": 7,
     "metadata": {},
     "output_type": "execute_result"
    }
   ],
   "source": [
    "A = fill(Int8(2^6), 2, 2) # make a matrix whose entries are all equal to 2^6\n",
    "A * Int8[1,1] # we have overflowed and get a negative number -2^7"
   ]
  },
  {
   "cell_type": "markdown",
   "metadata": {},
   "source": [
    "**Remark (advanced)** For floating point types, `A*x` is implemented in BLAS which is generally multi-threaded\n",
    "and is not identical to `mul(A,x)`, that is, some inputs will differ in how the computations\n",
    "are rounded.\n",
    "\n",
    "Solving a linear system is done using `\\`:"
   ]
  },
  {
   "cell_type": "code",
   "execution_count": 8,
   "metadata": {
    "execution": {
     "iopub.execute_input": "2022-01-18T11:00:26.289358Z",
     "iopub.status.busy": "2022-01-18T11:00:26.288498Z",
     "iopub.status.idle": "2022-01-18T11:00:27.797144Z",
     "shell.execute_reply": "2022-01-18T11:00:27.796575Z"
    }
   },
   "outputs": [
    {
     "data": {
      "text/plain": [
       "3-element Vector{Float64}:\n",
       "  41.000000000000036\n",
       " -17.000000000000014\n",
       "   1.0"
      ]
     },
     "execution_count": 8,
     "metadata": {},
     "output_type": "execute_result"
    }
   ],
   "source": [
    "A = [1 2 3;\n",
    "     1 2 4;\n",
    "     3 7 8]\n",
    "b = [10; 11; 12]\n",
    "A \\ b"
   ]
  },
  {
   "cell_type": "markdown",
   "metadata": {},
   "source": [
    "Despite the answer being integer-valued, \n",
    "here we see that it resorted to using floating point arithmetic,\n",
    "incurring rounding error. \n",
    "But it is \"accurate to (roughly) 16-digits\".\n",
    "As we shall see, the way solving a linear system works is we first write `A` as a\n",
    "product of simpler matrices, e.g., a product of triangular matrices.\n",
    "\n",
    "**Remark (advanced)** For floating point types, `A \\ x` is implemented in LAPACK, which\n",
    "like BLAS is generally multi-threaded and in fact different machines may round differently.\n",
    "\n",
    "\n",
    "## 2. Triangular matrices\n",
    "\n",
    "Triangular matrices are represented by dense square matrices where the entries below the\n",
    "diagonal\n",
    "are ignored:"
   ]
  },
  {
   "cell_type": "code",
   "execution_count": 9,
   "metadata": {
    "execution": {
     "iopub.execute_input": "2022-01-18T11:00:27.800558Z",
     "iopub.status.busy": "2022-01-18T11:00:27.799419Z",
     "iopub.status.idle": "2022-01-18T11:00:28.274234Z",
     "shell.execute_reply": "2022-01-18T11:00:28.273804Z"
    }
   },
   "outputs": [
    {
     "data": {
      "text/plain": [
       "3×3 UpperTriangular{Int64, Matrix{Int64}}:\n",
       " 1  2  3\n",
       " ⋅  5  6\n",
       " ⋅  ⋅  9"
      ]
     },
     "execution_count": 9,
     "metadata": {},
     "output_type": "execute_result"
    }
   ],
   "source": [
    "A = [1 2 3;\n",
    "     4 5 6;\n",
    "     7 8 9]\n",
    "U = UpperTriangular(A)"
   ]
  },
  {
   "cell_type": "markdown",
   "metadata": {},
   "source": [
    "We can see that `U` is storing all the entries of `A`:"
   ]
  },
  {
   "cell_type": "code",
   "execution_count": 10,
   "metadata": {
    "execution": {
     "iopub.execute_input": "2022-01-18T11:00:28.276661Z",
     "iopub.status.busy": "2022-01-18T11:00:28.276100Z",
     "iopub.status.idle": "2022-01-18T11:00:28.283831Z",
     "shell.execute_reply": "2022-01-18T11:00:28.283387Z"
    }
   },
   "outputs": [
    {
     "data": {
      "text/plain": [
       "3×3 Matrix{Int64}:\n",
       " 1  2  3\n",
       " 4  5  6\n",
       " 7  8  9"
      ]
     },
     "execution_count": 10,
     "metadata": {},
     "output_type": "execute_result"
    }
   ],
   "source": [
    "U.data"
   ]
  },
  {
   "cell_type": "markdown",
   "metadata": {},
   "source": [
    "Similarly we can create a lower triangular matrix by ignoring the entries above the diagonal:"
   ]
  },
  {
   "cell_type": "code",
   "execution_count": 11,
   "metadata": {
    "execution": {
     "iopub.execute_input": "2022-01-18T11:00:28.286111Z",
     "iopub.status.busy": "2022-01-18T11:00:28.285462Z",
     "iopub.status.idle": "2022-01-18T11:00:28.946992Z",
     "shell.execute_reply": "2022-01-18T11:00:28.946209Z"
    }
   },
   "outputs": [
    {
     "data": {
      "text/plain": [
       "3×3 LowerTriangular{Int64, Matrix{Int64}}:\n",
       " 1  ⋅  ⋅\n",
       " 4  5  ⋅\n",
       " 7  8  9"
      ]
     },
     "execution_count": 11,
     "metadata": {},
     "output_type": "execute_result"
    }
   ],
   "source": [
    "L = LowerTriangular(A)"
   ]
  },
  {
   "cell_type": "markdown",
   "metadata": {},
   "source": [
    "If we know a matrix is triangular we can do matrix-vector multiplication in roughly half\n",
    "the number of operations. \n",
    "Moreover, we can easily invert matrices. \n",
    "Consider a simple 3×3 example, which can be solved with `\\`:"
   ]
  },
  {
   "cell_type": "code",
   "execution_count": 12,
   "metadata": {
    "execution": {
     "iopub.execute_input": "2022-01-18T11:00:28.949435Z",
     "iopub.status.busy": "2022-01-18T11:00:28.948865Z",
     "iopub.status.idle": "2022-01-18T11:00:28.952194Z",
     "shell.execute_reply": "2022-01-18T11:00:28.951741Z"
    }
   },
   "outputs": [
    {
     "data": {
      "text/plain": [
       "3-element Vector{Float64}:\n",
       " 2.1333333333333333\n",
       " 0.2666666666666666\n",
       " 0.7777777777777778"
      ]
     },
     "execution_count": 12,
     "metadata": {},
     "output_type": "execute_result"
    }
   ],
   "source": [
    "b = [5,6,7]\n",
    "x = U \\ b"
   ]
  },
  {
   "cell_type": "markdown",
   "metadata": {},
   "source": [
    "Behind the seens, `\\` is doing back-substitution: considering the last row, we have all\n",
    "zeros apart from the last column so we know that `x[3]` must be equal to:"
   ]
  },
  {
   "cell_type": "code",
   "execution_count": 13,
   "metadata": {
    "execution": {
     "iopub.execute_input": "2022-01-18T11:00:28.954529Z",
     "iopub.status.busy": "2022-01-18T11:00:28.953923Z",
     "iopub.status.idle": "2022-01-18T11:00:29.184965Z",
     "shell.execute_reply": "2022-01-18T11:00:29.184506Z"
    }
   },
   "outputs": [
    {
     "data": {
      "text/plain": [
       "0.7777777777777778"
      ]
     },
     "execution_count": 13,
     "metadata": {},
     "output_type": "execute_result"
    }
   ],
   "source": [
    "b[3] / U[3,3]"
   ]
  },
  {
   "cell_type": "markdown",
   "metadata": {},
   "source": [
    "Once we know `x[3]`, the second row states `U[2,2]*x[2] + U[2,3]*x[3] == b[2]`, rearranging\n",
    "we get that `x[2]` must be:"
   ]
  },
  {
   "cell_type": "code",
   "execution_count": 14,
   "metadata": {
    "execution": {
     "iopub.execute_input": "2022-01-18T11:00:29.187261Z",
     "iopub.status.busy": "2022-01-18T11:00:29.186604Z",
     "iopub.status.idle": "2022-01-18T11:00:29.202842Z",
     "shell.execute_reply": "2022-01-18T11:00:29.202394Z"
    }
   },
   "outputs": [
    {
     "data": {
      "text/plain": [
       "0.2666666666666666"
      ]
     },
     "execution_count": 14,
     "metadata": {},
     "output_type": "execute_result"
    }
   ],
   "source": [
    "(b[2] - U[2,3]*x[3])/U[2,2]"
   ]
  },
  {
   "cell_type": "markdown",
   "metadata": {},
   "source": [
    "Finally, the first row states `U[1,1]*x[1] + U[1,2]*x[2] + U[1,3]*x[3] == b[1]` i.e.\n",
    "`x[1]` is equal to"
   ]
  },
  {
   "cell_type": "code",
   "execution_count": 15,
   "metadata": {
    "execution": {
     "iopub.execute_input": "2022-01-18T11:00:29.205292Z",
     "iopub.status.busy": "2022-01-18T11:00:29.204624Z",
     "iopub.status.idle": "2022-01-18T11:00:29.208103Z",
     "shell.execute_reply": "2022-01-18T11:00:29.207119Z"
    }
   },
   "outputs": [
    {
     "data": {
      "text/plain": [
       "2.1333333333333333"
      ]
     },
     "execution_count": 15,
     "metadata": {},
     "output_type": "execute_result"
    }
   ],
   "source": [
    "(b[1] - U[1,2]*x[2] - U[1,3]*x[3])/U[1,1]"
   ]
  },
  {
   "cell_type": "markdown",
   "metadata": {},
   "source": [
    "More generally, we can solve the upper-triangular system\n",
    "$$\n",
    "\\begin{bmatrix}\n",
    "u_{11} & \\cdots & u_{1n} \\\\ & \\ddots & \\vdots \\\\ && u_{nn}\n",
    "\\end{bmatrix} \\begin{bmatrix} x_1 \\\\ \\vdots \\\\ x_n \\end{bmatrix} = \n",
    "\\begin{bmatrix} b_1 \\\\ \\vdots \\\\ b_n \\end{bmatrix}\n",
    "$$\n",
    "by computing $x_n, x_{n-1}, \\ldots, x_1$ by the back-substitution formula:\n",
    "$$\n",
    "x_k = {b_k - \\sum_{j=k+1}^n u_{kj} x_j \\over u_{kk}\n",
    "$$\n",
    "\n",
    "\n",
    "\n",
    "The problem sheet will explore implementing this method, as well\n",
    "as forward substitution for inverting lower triangular matrices. The cost of multiplying and solving linear systems with a\n",
    "triangular matrix is $O(n^2)$.\n",
    "\n",
    "\n",
    "## 3. Banded matrices\n",
    "\n",
    "A _banded matrix_ is zero off a prescribed number of diagonals. \n",
    "We call the number of (potentially) non-zero diagonals the _bandwidths_:\n",
    "\n",
    "\n",
    "**Definition (bandwidths)** A matrix $A$ has _lower-bandwidth_ $l$ if \n",
    "$A[k,j] = 0$ for all $k-j > l$ and _upper-bandwidth_ $u$ if\n",
    "$A[k,j] = 0$ for all $j-k > u$. We say that it has _strictly lower-bandwidth_ $l$\n",
    "if it has lower-bandwidth $l$ and there exists a $j$ such that $A[j+l,j] \\neq 0$.\n",
    "We say that it has _strictly upper-bandwidth_ $u$\n",
    "if it has upper-bandwidth $u$ and there exists a $k$ such that $A[k,k+u] \\neq 0$.\n",
    "\n",
    "\n",
    "### Diagonal\n",
    "\n",
    "**Definition (Diagonal)** _Diagonal matrices_ are square matrices with bandwidths $l = u = 0$.\n",
    "\n",
    "\n",
    "Diagonal matrices in Julia are stored as a vector containing the diagonal entries:"
   ]
  },
  {
   "cell_type": "code",
   "execution_count": 16,
   "metadata": {
    "execution": {
     "iopub.execute_input": "2022-01-18T11:00:29.211013Z",
     "iopub.status.busy": "2022-01-18T11:00:29.210391Z",
     "iopub.status.idle": "2022-01-18T11:00:29.649760Z",
     "shell.execute_reply": "2022-01-18T11:00:29.649316Z"
    }
   },
   "outputs": [
    {
     "data": {
      "text/plain": [
       "3×3 Diagonal{Int64, Vector{Int64}}:\n",
       " 1  ⋅  ⋅\n",
       " ⋅  2  ⋅\n",
       " ⋅  ⋅  3"
      ]
     },
     "execution_count": 16,
     "metadata": {},
     "output_type": "execute_result"
    }
   ],
   "source": [
    "x = [1,2,3]\n",
    "D = Diagonal(x)"
   ]
  },
  {
   "cell_type": "markdown",
   "metadata": {},
   "source": [
    "It is clear that we can perform diagonal-vector multiplications and solve linear systems involving diagonal matrices efficiently\n",
    "(in $O(n)$ operations).\n",
    "\n",
    "### Bidiagonal\n",
    "\n",
    "**Definition (Bidiagonal)** If a square matrix has bandwidths $(l,u) = (1,0)$ it is _lower-bidiagonal_ and\n",
    "if it has bandwidths $(l,u) = (0,1)$ it is _upper-bidiagonal_. \n",
    "\n",
    "We can create Bidiagonal matrices in Julia by specifying the diagonal and off-diagonal:"
   ]
  },
  {
   "cell_type": "code",
   "execution_count": 17,
   "metadata": {
    "execution": {
     "iopub.execute_input": "2022-01-18T11:00:29.652124Z",
     "iopub.status.busy": "2022-01-18T11:00:29.651491Z",
     "iopub.status.idle": "2022-01-18T11:00:30.269795Z",
     "shell.execute_reply": "2022-01-18T11:00:30.269347Z"
    }
   },
   "outputs": [
    {
     "data": {
      "text/plain": [
       "3×3 Bidiagonal{Int64, Vector{Int64}}:\n",
       " 1  ⋅  ⋅\n",
       " 4  2  ⋅\n",
       " ⋅  5  3"
      ]
     },
     "execution_count": 17,
     "metadata": {},
     "output_type": "execute_result"
    }
   ],
   "source": [
    "Bidiagonal([1,2,3], [4,5], :L)"
   ]
  },
  {
   "cell_type": "code",
   "execution_count": 18,
   "metadata": {
    "execution": {
     "iopub.execute_input": "2022-01-18T11:00:30.271875Z",
     "iopub.status.busy": "2022-01-18T11:00:30.271306Z",
     "iopub.status.idle": "2022-01-18T11:00:30.274825Z",
     "shell.execute_reply": "2022-01-18T11:00:30.274363Z"
    }
   },
   "outputs": [
    {
     "data": {
      "text/plain": [
       "3×3 Bidiagonal{Int64, Vector{Int64}}:\n",
       " 1  4  ⋅\n",
       " ⋅  2  5\n",
       " ⋅  ⋅  3"
      ]
     },
     "execution_count": 18,
     "metadata": {},
     "output_type": "execute_result"
    }
   ],
   "source": [
    "Bidiagonal([1,2,3], [4,5], :U)"
   ]
  },
  {
   "cell_type": "markdown",
   "metadata": {},
   "source": [
    "Multiplication and solving linear systems with Bidiagonal systems is also $O(n)$ operations, using the standard\n",
    "multiplications/back-substituion algorithms but being careful in the loops to only access the non-zero entries. \n",
    "\n",
    "\n",
    "### Tridiagonal\n",
    "\n",
    "**Definition (Tridiagonal)** If a square matrix has bandwidths $l = u = 1$ it is _tridiagonal_.\n",
    "\n",
    "Julia has a type `Tridiagonal` for representing a tridiagonal matrix from its sub-diagonal, diagonal, and super-diagonal:"
   ]
  },
  {
   "cell_type": "code",
   "execution_count": 19,
   "metadata": {
    "execution": {
     "iopub.execute_input": "2022-01-18T11:00:30.276888Z",
     "iopub.status.busy": "2022-01-18T11:00:30.276292Z",
     "iopub.status.idle": "2022-01-18T11:00:30.706198Z",
     "shell.execute_reply": "2022-01-18T11:00:30.705757Z"
    }
   },
   "outputs": [
    {
     "data": {
      "text/plain": [
       "3×3 Tridiagonal{Int64, Vector{Int64}}:\n",
       " 3  6  ⋅\n",
       " 1  4  7\n",
       " ⋅  2  5"
      ]
     },
     "execution_count": 19,
     "metadata": {},
     "output_type": "execute_result"
    }
   ],
   "source": [
    "Tridiagonal([1,2], [3,4,5], [6,7])"
   ]
  },
  {
   "cell_type": "markdown",
   "metadata": {},
   "source": [
    "Tridiagonal matrices will come up in second-order differential equations and orthogonal polynomials.\n",
    "We will later see how linear systems involving tridiagonal matrices can be solved in $O(n)$ operations.\n",
    "\n",
    "## 4. Permutation Matrices\n",
    "\n",
    "Permutation matrices are matrices that represent the action of permuting the entries of a vector,\n",
    "that is, matrix representations of the symmetric group $S_n$, acting on $ℝ^n$.\n",
    "Recall every $σ \\in S_n$ is a bisection between $\\{1,2,\\ldots,n\\}$.\n",
    "We can write a permutation $σ$ in _Cauchy notation_:\n",
    "$$\n",
    "\\begin{bmatrix}\n",
    " 1 & 2 & 3 & \\cdots & n \\cr\n",
    " σ_1 & σ_2 & σ_3 & \\cdots & σ_n\n",
    " \\end{bmatrix}\n",
    "$$\n",
    "where $\\{σ_1,\\ldots,σ_n\\} = \\{1,2,\\ldots,n\\}$ (that is, each integer appears precisely once).\n",
    "We denote the _inverse permutation_ by $σ^{-1}$, which can be constructed by swapping the rows of\n",
    "the Cauchy notation and reordering.\n",
    "\n",
    "We can encode a permutation in vector $\\mathbf σ = [σ_1,\\ldots,σ_n]^⊤$. \n",
    "This induces an action on a vector (using indexing notation)\n",
    "$$\n",
    "𝐯[\\mathbf σ] = \\begin{bmatrix}v_{σ_1}\\\\ \\vdots \\\\ v_{σ_n} \\end{bmatrix}\n",
    "$$\n",
    "\n",
    "\n",
    "**Example (permutation of a vector)** \n",
    "Consider the permutation $σ$ given by\n",
    "$$\n",
    "\\begin{bmatrix}\n",
    " 1 & 2 & 3 & 4 & 5 \\cr\n",
    " 1 & 4 & 2 & 5 & 3\n",
    " \\end{bmatrix}\n",
    "$$\n",
    "We can apply it to a vector of the first 5 letter:"
   ]
  },
  {
   "cell_type": "code",
   "execution_count": 20,
   "metadata": {
    "execution": {
     "iopub.execute_input": "2022-01-18T11:00:30.708166Z",
     "iopub.status.busy": "2022-01-18T11:00:30.707599Z",
     "iopub.status.idle": "2022-01-18T11:00:30.726219Z",
     "shell.execute_reply": "2022-01-18T11:00:30.725659Z"
    }
   },
   "outputs": [
    {
     "data": {
      "text/plain": [
       "5-element Vector{Int64}:\n",
       "  6\n",
       "  9\n",
       "  7\n",
       " 10\n",
       "  8"
      ]
     },
     "execution_count": 20,
     "metadata": {},
     "output_type": "execute_result"
    }
   ],
   "source": [
    "σ = [1, 4, 2, 5, 3]\n",
    "v = [6, 7, 8, 9, 10]\n",
    "v[σ] # we permutate entries of v"
   ]
  },
  {
   "cell_type": "markdown",
   "metadata": {},
   "source": [
    "Its inverse permutation $σ^{-1}$ has Cauchy notation coming from swapping the rows of\n",
    "the Cauchy notation of $σ$ and sorting:\n",
    "$$\n",
    "\\begin{bmatrix}\n",
    " 1 & 4 & 2 & 5 & 3 \\cr\n",
    " 1 & 2 & 3 & 4 & 5\n",
    " \\end{bmatrix} \\rightarrow \\begin{bmatrix}\n",
    " 1 & 2 & 4 & 3 & 5 \\cr\n",
    " 1 & 3 & 2 & 5 & 4\n",
    " \\end{bmatrix} \n",
    "$$\n",
    "Julia has the function `invperm` for computing the vector that encodes\n",
    "the inverse permutation:\n",
    "And indeed:"
   ]
  },
  {
   "cell_type": "code",
   "execution_count": 21,
   "metadata": {
    "execution": {
     "iopub.execute_input": "2022-01-18T11:00:30.729476Z",
     "iopub.status.busy": "2022-01-18T11:00:30.728714Z",
     "iopub.status.idle": "2022-01-18T11:00:30.733136Z",
     "shell.execute_reply": "2022-01-18T11:00:30.732659Z"
    }
   },
   "outputs": [
    {
     "data": {
      "text/plain": [
       "5-element Vector{Int64}:\n",
       " 1\n",
       " 3\n",
       " 5\n",
       " 2\n",
       " 4"
      ]
     },
     "execution_count": 21,
     "metadata": {},
     "output_type": "execute_result"
    }
   ],
   "source": [
    "σ⁻¹ = invperm(σ) # note that ⁻¹ are just unicode characters in the variable name"
   ]
  },
  {
   "cell_type": "markdown",
   "metadata": {},
   "source": [
    "And indeed permuting the entries by `σ` and then by `σ⁻¹` returns us\n",
    "to our original vector:"
   ]
  },
  {
   "cell_type": "code",
   "execution_count": 22,
   "metadata": {
    "execution": {
     "iopub.execute_input": "2022-01-18T11:00:30.735201Z",
     "iopub.status.busy": "2022-01-18T11:00:30.734625Z",
     "iopub.status.idle": "2022-01-18T11:00:30.737995Z",
     "shell.execute_reply": "2022-01-18T11:00:30.737503Z"
    }
   },
   "outputs": [
    {
     "data": {
      "text/plain": [
       "5-element Vector{Int64}:\n",
       "  6\n",
       "  7\n",
       "  8\n",
       "  9\n",
       " 10"
      ]
     },
     "execution_count": 22,
     "metadata": {},
     "output_type": "execute_result"
    }
   ],
   "source": [
    "v[σ][σ⁻¹] # permuting by σ and then σⁱ gets us back"
   ]
  },
  {
   "cell_type": "markdown",
   "metadata": {},
   "source": [
    "Note that the operator\n",
    "$$\n",
    "P_σ(𝐯) = 𝐯[\\mathbf σ]\n",
    "$$\n",
    "is linear in $𝐯$, therefore, we can identify it with a matrix whose action is:\n",
    "$$\n",
    "P_σ \\begin{bmatrix} v_1\\\\ \\vdots \\\\ v_n \\end{bmatrix} = \\begin{bmatrix}v_{σ_1} \\\\ \\vdots \\\\ v_{σ_n}  \\end{bmatrix}.\n",
    "$$\n",
    "The entries of this matrix are\n",
    "$$\n",
    "P_σ[k,j] = 𝐞_k^⊤ P_σ 𝐞_j = 𝐞_k^⊤ 𝐞_{σ^{-1}_j} = δ_{k,σ^{-1}_j} = δ_{σ_k,j}\n",
    "$$\n",
    "where $δ_{k,j}$ is the _Kronecker delta_:\n",
    "$$\n",
    "δ_{k,j} := \\begin{cases} 1 & k = j \\\\\n",
    "                        0 & \\hbox{otherwise}\n",
    "                        \\end{cases}.\n",
    "$$\n",
    "\n",
    "\n",
    "This construction motivates the following definition:\n",
    "\n",
    "**Definition (permutation matrix)** $P \\in ℝ^{n × n}$ is a permutation matrix if it is equal to\n",
    "the identity matrix with its rows permuted.\n",
    "\n",
    "**Example (5×5 permutation matrix)**\n",
    "We can construct the permutation representation for $σ$ as above as follows:"
   ]
  },
  {
   "cell_type": "code",
   "execution_count": 23,
   "metadata": {
    "execution": {
     "iopub.execute_input": "2022-01-18T11:00:30.739980Z",
     "iopub.status.busy": "2022-01-18T11:00:30.739424Z",
     "iopub.status.idle": "2022-01-18T11:00:31.705888Z",
     "shell.execute_reply": "2022-01-18T11:00:31.705420Z"
    }
   },
   "outputs": [
    {
     "data": {
      "text/plain": [
       "5×5 SparseMatrixCSC{Bool, Int64} with 5 stored entries:\n",
       " 1  ⋅  ⋅  ⋅  ⋅\n",
       " ⋅  ⋅  ⋅  1  ⋅\n",
       " ⋅  1  ⋅  ⋅  ⋅\n",
       " ⋅  ⋅  ⋅  ⋅  1\n",
       " ⋅  ⋅  1  ⋅  ⋅"
      ]
     },
     "execution_count": 23,
     "metadata": {},
     "output_type": "execute_result"
    }
   ],
   "source": [
    "P = I(5)[σ,:]"
   ]
  },
  {
   "cell_type": "markdown",
   "metadata": {},
   "source": [
    "And indeed, we see its action is as expected:"
   ]
  },
  {
   "cell_type": "code",
   "execution_count": 24,
   "metadata": {
    "execution": {
     "iopub.execute_input": "2022-01-18T11:00:31.707929Z",
     "iopub.status.busy": "2022-01-18T11:00:31.707366Z",
     "iopub.status.idle": "2022-01-18T11:00:31.745752Z",
     "shell.execute_reply": "2022-01-18T11:00:31.745324Z"
    }
   },
   "outputs": [
    {
     "data": {
      "text/plain": [
       "5-element Vector{Int64}:\n",
       "  6\n",
       "  9\n",
       "  7\n",
       " 10\n",
       "  8"
      ]
     },
     "execution_count": 24,
     "metadata": {},
     "output_type": "execute_result"
    }
   ],
   "source": [
    "P * v"
   ]
  },
  {
   "cell_type": "markdown",
   "metadata": {},
   "source": [
    "**Remark (advanced)** Note that `P` is a special type `SparseMatrixCSC`. This is used\n",
    "to represent a matrix by storing only the non-zero entries as well as their location.\n",
    "This is an important data type in high-performance scientific computing, but we will not\n",
    "be using general sparse matrices in this module.\n",
    "\n",
    "**Proposition (permutation matrix inverse)** \n",
    "Let $P_σ$ be a permutation matrix corresponding to the permutation $σ$. Then\n",
    "$$\n",
    "P_σ^⊤ = P_{σ^{-1}} = P_σ^{-1}\n",
    "$$\n",
    "That is, $P_σ$ is _orthogonal_:\n",
    "$$\n",
    "P_σ^⊤ P_σ = P_σ P_σ^⊤ = I.\n",
    "$$\n",
    "\n",
    "**Proof**\n",
    "\n",
    "We prove orthogonality via:\n",
    "$$\n",
    "𝐞_k^⊤ P_σ^⊤ P_σ 𝐞_j = (P_σ 𝐞_k)^⊤ P_σ 𝐞_j = 𝐞_{σ^{-1}_k}^⊤ 𝐞_{σ^{-1}_j} = δ_{k,j}\n",
    "$$\n",
    "This shows $P_σ^⊤ P_σ = I$ and hence $P_σ^{-1} = P_σ^⊤$. \n",
    "\n",
    "∎\n",
    "\n",
    "\n",
    "Permutation matrices are examples of sparse matrices that can be very easily inverted. \n",
    "\n",
    "\n",
    "\n",
    "## 4. Orthogonal matrices\n",
    "\n",
    "\n",
    "**Definition (orthogonal matrix)** A square matrix is _orthogonal_ if its inverse is its transpose:\n",
    "$$\n",
    "Q^⊤ Q = QQ^⊤ = I.\n",
    "$$\n",
    "\n",
    "We have already seen an example of an orthogonal matrices (permutation matrices). \n",
    "\n",
    "**Proposition (norm-preserving)** Orthogonal matrices preserve the 2-norm of vectors:\n",
    "$$\n",
    "\\|Q 𝐯\\|^2 = \\|𝐯\\|.\n",
    "$$\n",
    "\n",
    "**Proof**\n",
    "$$\n",
    "\\|Q 𝐯\\|^2 = (Q 𝐯)^⊤ Q 𝐯 = 𝐯^⊤ Q^⊤ Q 𝐯 = 𝐯^⊤  𝐯 = \\|𝐯\\|^2\n",
    "$$\n",
    "∎\n",
    "\n",
    "Here we discuss two important special cases: simple rotations and reflections.\n",
    "\n",
    "### Simple rotations\n",
    "\n",
    "\n",
    "**Definition (simple rotation)**\n",
    "A 2×2 _rotation matrix_ through angle $θ$ is\n",
    "$$\n",
    "Q_θ := \\begin{bmatrix} \\cos \\theta & -\\sin \\theta \\cr \\sin \\theta & \\cos \\theta \\end{bmatrix}\n",
    "$$\n",
    "\n",
    "In what follows we use the following for writing the angle of a vector:\n",
    "\n",
    "**Definition (two-arg arctan)** The two-argument arctan function gives the angle `θ` through the point\n",
    "$[a,b]^\\top$, i.e., \n",
    "$$\n",
    "\\sqrt{a^2 + b^2} \\begin{bmatrix} \\cos θ \\\\ \\sin θ \\end{bmatrix} =  \\begin{bmatrix} a \\\\ b \\end{bmatrix}\n",
    "$$\n",
    "It can be defined in terms of the standard arctan as follows:\n",
    "$$\n",
    "{\\rm atan}(b,a) := \\begin{cases} {\\rm atan}{b \\over a} & a > 0 \\\\\n",
    "                            {\\rm atan}{b \\over a} + π & a < 0\\hbox{ and }b >0 \\\\\n",
    "                            {\\rm atan}{b \\over a} + π & a < 0\\hbox{ and }b < 0 \\\\\n",
    "                            π/2 & a = 0\\hbox{ and }b >0 \\\\\n",
    "                            -π/2 & a = 0\\hbox{ and }b < 0 \n",
    "                            \\end{cases}\n",
    "$$ \n",
    "\n",
    "This is available in Julia:"
   ]
  },
  {
   "cell_type": "code",
   "execution_count": 25,
   "metadata": {
    "execution": {
     "iopub.execute_input": "2022-01-18T11:00:31.748098Z",
     "iopub.status.busy": "2022-01-18T11:00:31.747443Z",
     "iopub.status.idle": "2022-01-18T11:00:31.792718Z",
     "shell.execute_reply": "2022-01-18T11:00:31.792224Z"
    }
   },
   "outputs": [
    {
     "data": {
      "text/plain": [
       "-2.677945044588987"
      ]
     },
     "execution_count": 25,
     "metadata": {},
     "output_type": "execute_result"
    }
   ],
   "source": [
    "atan(-1,-2) # angle through [-2,-1]"
   ]
  },
  {
   "cell_type": "markdown",
   "metadata": {},
   "source": [
    "We can rotate an arbitrary vector to the unit axis. Interestingly it only requires\n",
    "basic algebraic functions (no trigonometric functions):\n",
    "\n",
    "\n",
    "\n",
    "**Proposition (rotation of a vector)** \n",
    "The matrix\n",
    "$$Q = {1 \\over \\sqrt{a^2 + b^2}}\\begin{bmatrix}\n",
    " a & b \\cr -b & a\n",
    "\\end{bmatrix}\n",
    "$$\n",
    "is a rotation matrix satisfying\n",
    "$$\n",
    "Q \\begin{bmatrix} a \\\\ b \\end{bmatrix} = \\sqrt{a^2 + b^2} \\begin{bmatrix} 1 \\\\ 0 \\end{bmatrix}\n",
    "$$\n",
    "\n",
    "**Proof** \n",
    "\n",
    "The last equation is trivial so the only question is that is a a rotation matrix.\n",
    "Define $θ = -{\\rm atan}(b, a)$. By definition of the two-arg arctan we have\n",
    "$$\n",
    "\\begin{bmatrix}\n",
    "\\cos θ & -\\sin θ \\\\\n",
    "\\sin θ &\\cos θ\n",
    "\\end{bmatrix} = \\begin{bmatrix}\n",
    "\\cos(-θ) & \\sin(-θ) \\\\\n",
    "-\\sin(-θ) & \\cos(-θ)\n",
    "\\end{bmatrix} = {1\\over \\sqrt{a^2 + b^2}} \\begin{bmatrix} a  & b \\\\ -b &a \\end{bmatrix}.\n",
    "$$\n",
    "\n",
    "∎\n",
    "\n",
    "\n",
    "\n",
    "\n",
    "### Reflections\n",
    "\n",
    "In addition to rotations, another type of orthognal matrix are reflections:\n",
    "\n",
    "**Definition (reflection matrix)** \n",
    "Given a vector $𝐯$ satisfying $\\|𝐯\\|=1$, the reflection matrix is the orthogonal matrix as\n",
    "$$\n",
    "Q_𝐯 \\triangleq I - 2 𝐯 𝐯^⊤\n",
    "$$\n",
    "\n",
    "These are reflections in the direction of $𝐯$. We can show this as follows:\n",
    "\n",
    "**Proposition** $Q_𝐯$ satisfies:\n",
    "1. Symmetry\n",
    "2. Orthogonality\n",
    "2. $𝐯$ is an eigenvector of $Q_𝐯$ with eigenvalue $-1$\n",
    "4. It is a rank-1 perturbation of $I$\n",
    "3. $\\det Q_𝐯 = -1$\n",
    "\n",
    "\n",
    "**Proof**\n",
    "\n",
    "Property 1 follows immediately. Property 2 follows from\n",
    "$$\n",
    "Q_𝐯^⊤ Q_𝐯 = Q_𝐯^2 = I - 4 𝐯 𝐯^⊤ + 4 𝐯 𝐯^⊤ 𝐯 𝐯^⊤ = I\n",
    "$$\n",
    "Property 3 follows since\n",
    "$$\n",
    "Q_𝐯 𝐯 = -𝐯\n",
    "$$\n",
    "Property 4 follows since $𝐯 𝐯^⊤$ is a rank-1 matrix as all rows are linear combinations of each other.\n",
    "To see property 5, note there is a dimension $n-1$ space $W$ orthogonal to $𝐯$.\n",
    "For $𝐰 \\in W$ we have\n",
    "$$\n",
    "Q_𝐯 𝐰 = 𝐰\n",
    "$$\n",
    "In other words, $1$ is an eigenvalue with multiplicity $n-1$ and $-1$ is an eigenvalue with multiplicity 1,\n",
    "and thus the product of the eigenvalues is $-1$.\n",
    "\n",
    "∎\n",
    "\n",
    "\n",
    "\n",
    "**Example (reflection through 2-vector)** Consider reflection through $𝐱 = [1,2]^\\top$. \n",
    "We first need to normalise $𝐱$:\n",
    "$$\n",
    "𝐯 = {𝐱 \\over \\|𝐱\\|} = \\begin{bmatrix} {1 \\over \\sqrt{5}} \\\\ {2 \\over \\sqrt{5}} \\end{bmatrix}\n",
    "$$\n",
    "Note this indeed has unit norm:\n",
    "$$\n",
    "\\|𝐯\\|^2 = {1 \\over 5} + {4 \\over 5} = 1.\n",
    "$$\n",
    "Thus the reflection matrix is:\n",
    "$$\n",
    "Q_𝐯 = I - 2 𝐯 𝐯^⊤ = \\begin{bmatrix}1 \\\\ & 1 \\end{bmatrix} - {2 \\over 5} \\begin{bmatrix} 1 & 2 \\\\ 2 & 4 \\end{bmatrix}\n",
    " =  {1 \\over 5} \\begin{bmatrix} 3 & -4 \\\\ -4 & -3 \\end{bmatrix}\n",
    "$$\n",
    "Indeed it is symmetric, and orthogonal. It sends $𝐱$ to $-𝐱$:\n",
    "$$\n",
    "Q_𝐯 𝐱 = {1 \\over 5} \\begin{bmatrix}3 - 8 \\\\ -4 - 6 \\end{bmatrix} = -𝐱\n",
    "$$\n",
    "Ant vector orthogonal to $𝐱$, like $𝐲 = [-2,1]^\\top$, is left fixed:\n",
    "$$\n",
    "Q_𝐯 𝐲 = {1 \\over 5} \\begin{bmatrix}-6 -4 \\\\ 8 - 3 \\end{bmatrix} = 𝐲\n",
    "$$\n",
    "\n",
    "\n",
    "\n",
    "Just as rotations can be used to rotate vectors to be aligned with coordinate axis, so can reflections:\n",
    "\n",
    "**Lemma (Householder reflection)** Define $𝐲 = ±\\|𝐱\\| 𝐞_1 + 𝐱$ and $𝐯 = {𝐲 \\over \\|𝐲\\|}$. Then\n",
    "$$\n",
    "Q_𝐯 𝐱 = \\|𝐱\\| 𝐞_1\n",
    "$$\n",
    "\n",
    "**Proof**\n",
    "$$\n",
    "Q_𝐯 𝐱  =  (I - 2 𝐯 𝐯^⊤) 𝐱 = 𝐱 - 2 {𝐲  \\|𝐱\\|  \\over \\|𝐲\\|^2} (\\|𝐱\\|±x_1) = 𝐱 - 𝐲 =  ∓\\|𝐱\\| 𝐞_1.\n",
    "$$\n",
    "\n",
    "∎"
   ]
  }
 ],
 "metadata": {
  "kernelspec": {
   "display_name": "Julia 1.7.0",
   "language": "julia",
   "name": "julia-1.7"
  },
  "language_info": {
   "file_extension": ".jl",
   "mimetype": "application/julia",
   "name": "julia",
   "version": "1.7.0"
  }
 },
 "nbformat": 4,
 "nbformat_minor": 2
}
